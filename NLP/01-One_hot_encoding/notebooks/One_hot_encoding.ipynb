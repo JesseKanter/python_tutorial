{
  "nbformat": 4,
  "nbformat_minor": 0,
  "metadata": {
    "colab": {
      "name": "One_hot_encoding.ipynb",
      "version": "0.3.2",
      "views": {},
      "default_view": {},
      "provenance": []
    },
    "kernelspec": {
      "name": "python3",
      "display_name": "Python 3"
    }
  },
  "cells": [
    {
      "metadata": {
        "id": "9mJYEZDwvGOC",
        "colab_type": "text"
      },
      "cell_type": "markdown",
      "source": [
        "# One Hot Encoding Tutorial -- Introduction to natural language processing:\n",
        "\n",
        "## Author: [Dr. Rahul Remanan](https://linkedin.com/in/rahulremanan)\n",
        "\n",
        "### CEO and Chief Imagination Officer, [Moad Computer](https://www.moad.computer)\n",
        "\n",
        "### This notebook is a modified fork from [Machine Learning Mastery blog](http://machinelearningmastery.com/how-to-one-hot-encode-sequence-data-in-python/). "
      ]
    },
    {
      "metadata": {
        "id": "UvSQ4-Up3GoQ",
        "colab_type": "text"
      },
      "cell_type": "markdown",
      "source": [
        "### Part 01 -- Basics of one-hot encoding:"
      ]
    },
    {
      "metadata": {
        "id": "DMx5WOq3vjPL",
        "colab_type": "text"
      },
      "cell_type": "markdown",
      "source": [
        "#### Importing dependent libraries:"
      ]
    },
    {
      "metadata": {
        "id": "OVgyMi0avfvO",
        "colab_type": "code",
        "colab": {
          "autoexec": {
            "startup": false,
            "wait_interval": 0
          }
        }
      },
      "cell_type": "code",
      "source": [
        "import numpy as np"
      ],
      "execution_count": 0,
      "outputs": []
    },
    {
      "metadata": {
        "id": "VP8fPhRDvt_J",
        "colab_type": "text"
      },
      "cell_type": "markdown",
      "source": [
        "#### Define the input string:"
      ]
    },
    {
      "metadata": {
        "id": "DjtL-o5HvrOy",
        "colab_type": "code",
        "colab": {
          "autoexec": {
            "startup": false,
            "wait_interval": 0
          },
          "base_uri": "https://localhost:8080/",
          "height": 35
        },
        "outputId": "415553d0-0815-4762-958c-1b741f4f8896",
        "executionInfo": {
          "status": "ok",
          "timestamp": 1528936998801,
          "user_tz": 240,
          "elapsed": 311,
          "user": {
            "displayName": "Moad Computer",
            "photoUrl": "//lh5.googleusercontent.com/-Ic6_gWlgQXo/AAAAAAAAAAI/AAAAAAAAABA/KunqdqgBsx4/s50-c-k-no/photo.jpg",
            "userId": "105137350204760020224"
          }
        }
      },
      "cell_type": "code",
      "source": [
        "data = 'hello world'\n",
        "print(data)"
      ],
      "execution_count": 2,
      "outputs": [
        {
          "output_type": "stream",
          "text": [
            "hello world\n"
          ],
          "name": "stdout"
        }
      ]
    },
    {
      "metadata": {
        "id": "Dj2Aqh3Iv6Jq",
        "colab_type": "text"
      },
      "cell_type": "markdown",
      "source": [
        "#### Define universe of possible input values:"
      ]
    },
    {
      "metadata": {
        "id": "lNr2EH4nv2hp",
        "colab_type": "code",
        "colab": {
          "autoexec": {
            "startup": false,
            "wait_interval": 0
          }
        }
      },
      "cell_type": "code",
      "source": [
        "alphabet = 'abcdefghijklmnopqrstuvwxyz '"
      ],
      "execution_count": 0,
      "outputs": []
    },
    {
      "metadata": {
        "id": "1vHluOaowE9U",
        "colab_type": "text"
      },
      "cell_type": "markdown",
      "source": [
        "#### Define a mapping of characters to corresponding integers:"
      ]
    },
    {
      "metadata": {
        "id": "ZPoBO9wiwBbw",
        "colab_type": "code",
        "colab": {
          "autoexec": {
            "startup": false,
            "wait_interval": 0
          }
        }
      },
      "cell_type": "code",
      "source": [
        "char_to_int = dict((c, i) for i, c in enumerate(alphabet))\n",
        "int_to_char = dict((i, c) for i, c in enumerate(alphabet))"
      ],
      "execution_count": 0,
      "outputs": []
    },
    {
      "metadata": {
        "id": "iOEKp4n-wRsO",
        "colab_type": "text"
      },
      "cell_type": "markdown",
      "source": [
        "#### Integer encoding of the input data:"
      ]
    },
    {
      "metadata": {
        "id": "rd_Ju2cIvcXb",
        "colab_type": "code",
        "colab": {
          "autoexec": {
            "startup": false,
            "wait_interval": 0
          },
          "base_uri": "https://localhost:8080/",
          "height": 35
        },
        "outputId": "78cdb2f6-342b-43c9-dd18-eb4ed083102e",
        "executionInfo": {
          "status": "ok",
          "timestamp": 1528937157113,
          "user_tz": 240,
          "elapsed": 341,
          "user": {
            "displayName": "Moad Computer",
            "photoUrl": "//lh5.googleusercontent.com/-Ic6_gWlgQXo/AAAAAAAAAAI/AAAAAAAAABA/KunqdqgBsx4/s50-c-k-no/photo.jpg",
            "userId": "105137350204760020224"
          }
        }
      },
      "cell_type": "code",
      "source": [
        "integer_encoded = [char_to_int[char] for char in data]\n",
        "print(integer_encoded)"
      ],
      "execution_count": 5,
      "outputs": [
        {
          "output_type": "stream",
          "text": [
            "[7, 4, 11, 11, 14, 26, 22, 14, 17, 11, 3]\n"
          ],
          "name": "stdout"
        }
      ]
    },
    {
      "metadata": {
        "id": "RVzgpYgvylCI",
        "colab_type": "text"
      },
      "cell_type": "markdown",
      "source": [
        "#### One hot encoding:"
      ]
    },
    {
      "metadata": {
        "id": "G-KW0bF3yYN6",
        "colab_type": "code",
        "colab": {
          "autoexec": {
            "startup": false,
            "wait_interval": 0
          }
        }
      },
      "cell_type": "code",
      "source": [
        "onehot_encoded = list()\n",
        "for value in integer_encoded:\n",
        "\tletter = [0 for _ in range(len(alphabet))]\n",
        "\tletter[value] = 1\n",
        "\tonehot_encoded.append(letter)"
      ],
      "execution_count": 0,
      "outputs": []
    },
    {
      "metadata": {
        "id": "IesXUQnEys7N",
        "colab_type": "code",
        "colab": {
          "autoexec": {
            "startup": false,
            "wait_interval": 0
          },
          "base_uri": "https://localhost:8080/",
          "height": 55
        },
        "outputId": "3362e70f-e52b-47ff-a243-eb8616e588d0",
        "executionInfo": {
          "status": "ok",
          "timestamp": 1528937767364,
          "user_tz": 240,
          "elapsed": 280,
          "user": {
            "displayName": "Moad Computer",
            "photoUrl": "//lh5.googleusercontent.com/-Ic6_gWlgQXo/AAAAAAAAAAI/AAAAAAAAABA/KunqdqgBsx4/s50-c-k-no/photo.jpg",
            "userId": "105137350204760020224"
          }
        }
      },
      "cell_type": "code",
      "source": [
        "print(onehot_encoded)"
      ],
      "execution_count": 7,
      "outputs": [
        {
          "output_type": "stream",
          "text": [
            "[[0, 0, 0, 0, 0, 0, 0, 1, 0, 0, 0, 0, 0, 0, 0, 0, 0, 0, 0, 0, 0, 0, 0, 0, 0, 0, 0], [0, 0, 0, 0, 1, 0, 0, 0, 0, 0, 0, 0, 0, 0, 0, 0, 0, 0, 0, 0, 0, 0, 0, 0, 0, 0, 0], [0, 0, 0, 0, 0, 0, 0, 0, 0, 0, 0, 1, 0, 0, 0, 0, 0, 0, 0, 0, 0, 0, 0, 0, 0, 0, 0], [0, 0, 0, 0, 0, 0, 0, 0, 0, 0, 0, 1, 0, 0, 0, 0, 0, 0, 0, 0, 0, 0, 0, 0, 0, 0, 0], [0, 0, 0, 0, 0, 0, 0, 0, 0, 0, 0, 0, 0, 0, 1, 0, 0, 0, 0, 0, 0, 0, 0, 0, 0, 0, 0], [0, 0, 0, 0, 0, 0, 0, 0, 0, 0, 0, 0, 0, 0, 0, 0, 0, 0, 0, 0, 0, 0, 0, 0, 0, 0, 1], [0, 0, 0, 0, 0, 0, 0, 0, 0, 0, 0, 0, 0, 0, 0, 0, 0, 0, 0, 0, 0, 0, 1, 0, 0, 0, 0], [0, 0, 0, 0, 0, 0, 0, 0, 0, 0, 0, 0, 0, 0, 1, 0, 0, 0, 0, 0, 0, 0, 0, 0, 0, 0, 0], [0, 0, 0, 0, 0, 0, 0, 0, 0, 0, 0, 0, 0, 0, 0, 0, 0, 1, 0, 0, 0, 0, 0, 0, 0, 0, 0], [0, 0, 0, 0, 0, 0, 0, 0, 0, 0, 0, 1, 0, 0, 0, 0, 0, 0, 0, 0, 0, 0, 0, 0, 0, 0, 0], [0, 0, 0, 1, 0, 0, 0, 0, 0, 0, 0, 0, 0, 0, 0, 0, 0, 0, 0, 0, 0, 0, 0, 0, 0, 0, 0]]\n"
          ],
          "name": "stdout"
        }
      ]
    },
    {
      "metadata": {
        "id": "Mhtj7weczD5Q",
        "colab_type": "text"
      },
      "cell_type": "markdown",
      "source": [
        "#### Dencoding one hot encoded data -- First character:"
      ]
    },
    {
      "metadata": {
        "id": "ubhyQsrozBDZ",
        "colab_type": "code",
        "colab": {
          "autoexec": {
            "startup": false,
            "wait_interval": 0
          },
          "base_uri": "https://localhost:8080/",
          "height": 35
        },
        "outputId": "8ceb8108-83c0-4a93-cf8e-743aab1b89e7",
        "executionInfo": {
          "status": "ok",
          "timestamp": 1528937918590,
          "user_tz": 240,
          "elapsed": 615,
          "user": {
            "displayName": "Moad Computer",
            "photoUrl": "//lh5.googleusercontent.com/-Ic6_gWlgQXo/AAAAAAAAAAI/AAAAAAAAABA/KunqdqgBsx4/s50-c-k-no/photo.jpg",
            "userId": "105137350204760020224"
          }
        }
      },
      "cell_type": "code",
      "source": [
        "inverted = int_to_char[np.argmax(onehot_encoded[0])]\n",
        "print(inverted)"
      ],
      "execution_count": 10,
      "outputs": [
        {
          "output_type": "stream",
          "text": [
            "h\n"
          ],
          "name": "stdout"
        }
      ]
    },
    {
      "metadata": {
        "id": "DQL1yuVvzXjw",
        "colab_type": "text"
      },
      "cell_type": "markdown",
      "source": [
        "#### Dencoding one hot encoded data -- Entire one-hot encoded input:"
      ]
    },
    {
      "metadata": {
        "id": "kj5n83-1zWkm",
        "colab_type": "code",
        "colab": {
          "autoexec": {
            "startup": false,
            "wait_interval": 0
          }
        }
      },
      "cell_type": "code",
      "source": [
        "decoded = list()\n",
        "for i in range(len(onehot_encoded)):\n",
        "  decoded_char = int_to_char[np.argmax(onehot_encoded[i])]\n",
        "  decoded.append(decoded_char)"
      ],
      "execution_count": 0,
      "outputs": []
    },
    {
      "metadata": {
        "id": "x5mb_sDW0cB3",
        "colab_type": "code",
        "colab": {
          "autoexec": {
            "startup": false,
            "wait_interval": 0
          },
          "base_uri": "https://localhost:8080/",
          "height": 35
        },
        "outputId": "ec926041-1728-4ddc-cc77-58b0734c0c01",
        "executionInfo": {
          "status": "ok",
          "timestamp": 1528938834378,
          "user_tz": 240,
          "elapsed": 330,
          "user": {
            "displayName": "Moad Computer",
            "photoUrl": "//lh5.googleusercontent.com/-Ic6_gWlgQXo/AAAAAAAAAAI/AAAAAAAAABA/KunqdqgBsx4/s50-c-k-no/photo.jpg",
            "userId": "105137350204760020224"
          }
        }
      },
      "cell_type": "code",
      "source": [
        "print (''.join([str(item) for item in decoded]))"
      ],
      "execution_count": 20,
      "outputs": [
        {
          "output_type": "stream",
          "text": [
            "hello world\n"
          ],
          "name": "stdout"
        }
      ]
    },
    {
      "metadata": {
        "id": "2Jhavbjq24f7",
        "colab_type": "text"
      },
      "cell_type": "markdown",
      "source": [
        "### Part 02a -- One hot encoding using sci-kit learn:"
      ]
    },
    {
      "metadata": {
        "id": "dLaWB1D82FgB",
        "colab_type": "code",
        "colab": {
          "autoexec": {
            "startup": false,
            "wait_interval": 0
          },
          "base_uri": "https://localhost:8080/",
          "height": 307
        },
        "outputId": "5eff5fc8-5328-40e2-dd40-d77bb88c1cc2",
        "executionInfo": {
          "status": "ok",
          "timestamp": 1528938958311,
          "user_tz": 240,
          "elapsed": 247,
          "user": {
            "displayName": "Moad Computer",
            "photoUrl": "//lh5.googleusercontent.com/-Ic6_gWlgQXo/AAAAAAAAAAI/AAAAAAAAABA/KunqdqgBsx4/s50-c-k-no/photo.jpg",
            "userId": "105137350204760020224"
          }
        }
      },
      "cell_type": "code",
      "source": [
        "from numpy import array\n",
        "from numpy import argmax\n",
        "from sklearn.preprocessing import LabelEncoder\n",
        "from sklearn.preprocessing import OneHotEncoder\n",
        "# define example\n",
        "data = ['cold', 'cold', 'warm', 'cold', 'hot', 'hot', 'warm', 'cold', 'warm', 'hot']\n",
        "values = array(data)\n",
        "print(values)\n",
        "# integer encode\n",
        "label_encoder = LabelEncoder()\n",
        "label_encoded = label_encoder.fit_transform(values)\n",
        "print(label_encoded)\n",
        "# binary encode\n",
        "onehot_encoder = OneHotEncoder(sparse=False)\n",
        "label_encoded = label_encoded.reshape(len(label_encoded), 1)\n",
        "onehot_encoded = onehot_encoder.fit_transform(label_encoded)\n",
        "print(onehot_encoded)\n",
        "# invert first example\n",
        "inverted = label_encoder.inverse_transform([argmax(onehot_encoded[0, :])])\n",
        "print(inverted)"
      ],
      "execution_count": 21,
      "outputs": [
        {
          "output_type": "stream",
          "text": [
            "['cold' 'cold' 'warm' 'cold' 'hot' 'hot' 'warm' 'cold' 'warm' 'hot']\n",
            "[0 0 2 0 1 1 2 0 2 1]\n",
            "[[1. 0. 0.]\n",
            " [1. 0. 0.]\n",
            " [0. 0. 1.]\n",
            " [1. 0. 0.]\n",
            " [0. 1. 0.]\n",
            " [0. 1. 0.]\n",
            " [0. 0. 1.]\n",
            " [1. 0. 0.]\n",
            " [0. 0. 1.]\n",
            " [0. 1. 0.]]\n",
            "['cold']\n"
          ],
          "name": "stdout"
        },
        {
          "output_type": "stream",
          "text": [
            "/usr/local/lib/python3.6/dist-packages/sklearn/preprocessing/label.py:151: DeprecationWarning: The truth value of an empty array is ambiguous. Returning False, but in future this will result in an error. Use `array.size > 0` to check that an array is not empty.\n",
            "  if diff:\n"
          ],
          "name": "stderr"
        }
      ]
    },
    {
      "metadata": {
        "id": "lMfE_hKH3eF_",
        "colab_type": "text"
      },
      "cell_type": "markdown",
      "source": [
        "### Part 02b -- One-hot encode using keras"
      ]
    },
    {
      "metadata": {
        "id": "chAT4G2E3m74",
        "colab_type": "code",
        "colab": {
          "autoexec": {
            "startup": false,
            "wait_interval": 0
          },
          "base_uri": "https://localhost:8080/",
          "height": 325
        },
        "outputId": "fc93c138-4001-4179-aae0-cb91d471e123",
        "executionInfo": {
          "status": "ok",
          "timestamp": 1528939054422,
          "user_tz": 240,
          "elapsed": 2139,
          "user": {
            "displayName": "Moad Computer",
            "photoUrl": "//lh5.googleusercontent.com/-Ic6_gWlgQXo/AAAAAAAAAAI/AAAAAAAAABA/KunqdqgBsx4/s50-c-k-no/photo.jpg",
            "userId": "105137350204760020224"
          }
        }
      },
      "cell_type": "code",
      "source": [
        "from numpy import array\n",
        "from numpy import argmax\n",
        "from sklearn.preprocessing import LabelEncoder\n",
        "from sklearn.preprocessing import OneHotEncoder\n",
        "from keras.utils import to_categorical\n",
        "# define example\n",
        "data = ['cold', 'cold', 'warm', 'cold', 'hot', 'hot', 'warm', 'cold', 'warm', 'hot']\n",
        "values = array(data)\n",
        "print(values)\n",
        "# integer encode\n",
        "label_encoder = LabelEncoder()\n",
        "label_encoded = label_encoder.fit_transform(values)\n",
        "print(label_encoded)\n",
        "# one hot encode\n",
        "encoded = to_categorical(label_encoded)\n",
        "print(encoded)\n",
        "# invert encoding\n",
        "label_encoded = argmax(encoded[0])\n",
        "inverted = label_encoder.inverse_transform(label_encoded)\n",
        "print(inverted)"
      ],
      "execution_count": 22,
      "outputs": [
        {
          "output_type": "stream",
          "text": [
            "Using TensorFlow backend.\n"
          ],
          "name": "stderr"
        },
        {
          "output_type": "stream",
          "text": [
            "['cold' 'cold' 'warm' 'cold' 'hot' 'hot' 'warm' 'cold' 'warm' 'hot']\n",
            "[0 0 2 0 1 1 2 0 2 1]\n",
            "[[1. 0. 0.]\n",
            " [1. 0. 0.]\n",
            " [0. 0. 1.]\n",
            " [1. 0. 0.]\n",
            " [0. 1. 0.]\n",
            " [0. 1. 0.]\n",
            " [0. 0. 1.]\n",
            " [1. 0. 0.]\n",
            " [0. 0. 1.]\n",
            " [0. 1. 0.]]\n",
            "cold\n"
          ],
          "name": "stdout"
        },
        {
          "output_type": "stream",
          "text": [
            "/usr/local/lib/python3.6/dist-packages/sklearn/preprocessing/label.py:151: DeprecationWarning: The truth value of an empty array is ambiguous. Returning False, but in future this will result in an error. Use `array.size > 0` to check that an array is not empty.\n",
            "  if diff:\n"
          ],
          "name": "stderr"
        }
      ]
    },
    {
      "metadata": {
        "id": "7zU-Ah3G3uwl",
        "colab_type": "text"
      },
      "cell_type": "markdown",
      "source": [
        "### Part 02c -- One-hot encode using keras for numerical categories:"
      ]
    },
    {
      "metadata": {
        "id": "S0V4wgPXuxJA",
        "colab_type": "code",
        "colab": {
          "autoexec": {
            "startup": false,
            "wait_interval": 0
          },
          "base_uri": "https://localhost:8080/",
          "height": 233
        },
        "outputId": "d7bf12aa-b85a-46f7-d578-496b3f22ed81",
        "executionInfo": {
          "status": "ok",
          "timestamp": 1528939105100,
          "user_tz": 240,
          "elapsed": 317,
          "user": {
            "displayName": "Moad Computer",
            "photoUrl": "//lh5.googleusercontent.com/-Ic6_gWlgQXo/AAAAAAAAAAI/AAAAAAAAABA/KunqdqgBsx4/s50-c-k-no/photo.jpg",
            "userId": "105137350204760020224"
          }
        }
      },
      "cell_type": "code",
      "source": [
        "from numpy import array\n",
        "from numpy import argmax\n",
        "from keras.utils import to_categorical\n",
        "# define example\n",
        "data = [1, 3, 2, 0, 3, 2, 2, 1, 0, 1]\n",
        "data = array(data)\n",
        "print(data)\n",
        "# one hot encode\n",
        "encoded = to_categorical(data)\n",
        "print(encoded)\n",
        "# invert encoding\n",
        "inverted = argmax(encoded[0])\n",
        "print(inverted)"
      ],
      "execution_count": 23,
      "outputs": [
        {
          "output_type": "stream",
          "text": [
            "[1 3 2 0 3 2 2 1 0 1]\n",
            "[[0. 1. 0. 0.]\n",
            " [0. 0. 0. 1.]\n",
            " [0. 0. 1. 0.]\n",
            " [1. 0. 0. 0.]\n",
            " [0. 0. 0. 1.]\n",
            " [0. 0. 1. 0.]\n",
            " [0. 0. 1. 0.]\n",
            " [0. 1. 0. 0.]\n",
            " [1. 0. 0. 0.]\n",
            " [0. 1. 0. 0.]]\n",
            "1\n"
          ],
          "name": "stdout"
        }
      ]
    },
    {
      "metadata": {
        "id": "M4Xroo1L30kn",
        "colab_type": "code",
        "colab": {
          "autoexec": {
            "startup": false,
            "wait_interval": 0
          }
        }
      },
      "cell_type": "code",
      "source": [
        ""
      ],
      "execution_count": 0,
      "outputs": []
    }
  ]
}