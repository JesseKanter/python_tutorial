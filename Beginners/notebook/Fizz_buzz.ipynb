{
 "cells": [
  {
   "cell_type": "code",
   "execution_count": 1,
   "metadata": {},
   "outputs": [
    {
     "name": "stdout",
     "output_type": "stream",
     "text": [
      "Give me a start number :42\n",
      "Give me an end number :56\n"
     ]
    }
   ],
   "source": [
    "#!/usr/bin/python3\n",
    "start = int(input(\"Give me a start number :\"))\n",
    "end = int(input(\"Give me an end number :\"))"
   ]
  },
  {
   "cell_type": "code",
   "execution_count": 2,
   "metadata": {
    "collapsed": true
   },
   "outputs": [],
   "source": [
    "def fizz_buzz(start, end):\n",
    "    fb_state = []\n",
    "    for num in range(start, end +1):\n",
    "        if num % 3 == 0 and num % 5 == 0:\n",
    "            output = {\"number\": num, \"fizz buzz state\": \"fizzbuzz\"}\n",
    "            fb_state.append(output)\n",
    "        elif num % 3 ==0:\n",
    "            output = {\"number\": num, \"fizz buzz state\": \"fizz\"}\n",
    "            fb_state.append(output)\n",
    "        elif num % 5 ==0:\n",
    "            output = {\"number\": num, \"fizz buzz state\": \"buzz\"}\n",
    "            fb_state.append(output)\n",
    "        else:\n",
    "            output = {\"number\": num, \"fizz buzz state\": \"none\"}\n",
    "            fb_state.append(output)\n",
    "    return (fb_state)\n",
    "\n"
   ]
  },
  {
   "cell_type": "code",
   "execution_count": 3,
   "metadata": {},
   "outputs": [
    {
     "name": "stdout",
     "output_type": "stream",
     "text": [
      "[{'number': 42, 'fizz buzz state': 'fizz'}, {'number': 43, 'fizz buzz state': 'none'}, {'number': 44, 'fizz buzz state': 'none'}, {'number': 45, 'fizz buzz state': 'fizzbuzz'}, {'number': 46, 'fizz buzz state': 'none'}, {'number': 47, 'fizz buzz state': 'none'}, {'number': 48, 'fizz buzz state': 'fizz'}, {'number': 49, 'fizz buzz state': 'none'}, {'number': 50, 'fizz buzz state': 'buzz'}, {'number': 51, 'fizz buzz state': 'fizz'}, {'number': 52, 'fizz buzz state': 'none'}, {'number': 53, 'fizz buzz state': 'none'}, {'number': 54, 'fizz buzz state': 'fizz'}, {'number': 55, 'fizz buzz state': 'buzz'}, {'number': 56, 'fizz buzz state': 'none'}]\n"
     ]
    }
   ],
   "source": [
    "fb = (fizz_buzz(start, end))\n",
    "print (fb)"
   ]
  },
  {
   "cell_type": "code",
   "execution_count": 4,
   "metadata": {},
   "outputs": [
    {
     "name": "stdout",
     "output_type": "stream",
     "text": [
      "Number =  42 ; fizz buzz state =  fizz\n",
      "Number =  43 ; fizz buzz state =  none\n",
      "Number =  44 ; fizz buzz state =  none\n",
      "Number =  45 ; fizz buzz state =  fizzbuzz\n",
      "Number =  46 ; fizz buzz state =  none\n",
      "Number =  47 ; fizz buzz state =  none\n",
      "Number =  48 ; fizz buzz state =  fizz\n",
      "Number =  49 ; fizz buzz state =  none\n",
      "Number =  50 ; fizz buzz state =  buzz\n",
      "Number =  51 ; fizz buzz state =  fizz\n",
      "Number =  52 ; fizz buzz state =  none\n",
      "Number =  53 ; fizz buzz state =  none\n",
      "Number =  54 ; fizz buzz state =  fizz\n",
      "Number =  55 ; fizz buzz state =  buzz\n",
      "Number =  56 ; fizz buzz state =  none\n"
     ]
    }
   ],
   "source": [
    "for item in fb:\n",
    "    print (\"Number = \", item[\"number\"], \"; fizz buzz state = \", item[\"fizz buzz state\"])"
   ]
  },
  {
   "cell_type": "code",
   "execution_count": null,
   "metadata": {
    "collapsed": true
   },
   "outputs": [],
   "source": []
  }
 ],
 "metadata": {
  "kernelspec": {
   "display_name": "Python 3",
   "language": "python",
   "name": "python3"
  },
  "language_info": {
   "codemirror_mode": {
    "name": "ipython",
    "version": 3
   },
   "file_extension": ".py",
   "mimetype": "text/x-python",
   "name": "python",
   "nbconvert_exporter": "python",
   "pygments_lexer": "ipython3",
   "version": "3.6.1"
  }
 },
 "nbformat": 4,
 "nbformat_minor": 2
}
