{
 "cells": [
  {
   "cell_type": "code",
   "execution_count": 1,
   "metadata": {
    "collapsed": true
   },
   "outputs": [],
   "source": [
    "#!/usr/bin/python3\n",
    "\n",
    "grocery_list = {'Fish in kilograms': [{\"Salmon\": 10, \"Cuttle Fish\": 10, \"Tuna\": 10}],\n",
    "                'Apples in counts': [{\"California Red Apple\" : 100, \"Granny Smith\" : 100}],\n",
    "                'Milk in liters': [{\"Low Fat Milk\": 500, \"Whole Milk\": 500, \"Low Fat Milk -- Lactaid\": 150, \"Whole Milk -- Lactaid\": 150}],\n",
    "                'Eggs in counts': [{\"Organic White Eggs\": 100, \"Organic Brown Eggs\": 100}],\n",
    "                'Chicken in kilograms': [{\"Organic Whole Chicken\": 50, \"Deboned Chicken\": 50}]}"
   ]
  },
  {
   "cell_type": "code",
   "execution_count": 2,
   "metadata": {},
   "outputs": [
    {
     "name": "stdout",
     "output_type": "stream",
     "text": [
      "Fish in kilograms\n",
      "{'Salmon': 10, 'Cuttle Fish': 10, 'Tuna': 10}\n",
      "Item : Salmon Value : 10\n",
      "Item : Cuttle Fish Value : 10\n",
      "Item : Tuna Value : 10\n",
      "Apples in counts\n",
      "{'California Red Apple': 100, 'Granny Smith': 100}\n",
      "Item : California Red Apple Value : 100\n",
      "Item : Granny Smith Value : 100\n",
      "Milk in liters\n",
      "{'Low Fat Milk': 500, 'Whole Milk': 500, 'Low Fat Milk -- Lactaid': 150, 'Whole Milk -- Lactaid': 150}\n",
      "Item : Low Fat Milk Value : 500\n",
      "Item : Whole Milk Value : 500\n",
      "Item : Low Fat Milk -- Lactaid Value : 150\n",
      "Item : Whole Milk -- Lactaid Value : 150\n",
      "Eggs in counts\n",
      "{'Organic White Eggs': 100, 'Organic Brown Eggs': 100}\n",
      "Item : Organic White Eggs Value : 100\n",
      "Item : Organic Brown Eggs Value : 100\n",
      "Chicken in kilograms\n",
      "{'Organic Whole Chicken': 50, 'Deboned Chicken': 50}\n",
      "Item : Organic Whole Chicken Value : 50\n",
      "Item : Deboned Chicken Value : 50\n"
     ]
    }
   ],
   "source": [
    "for item in grocery_list:\n",
    "    print (item)\n",
    "    for g in grocery_list[item]:\n",
    "        print (g)\n",
    "        for i in g:\n",
    "            print(\"Item :\", i, \"Value :\", g[i])"
   ]
  },
  {
   "cell_type": "code",
   "execution_count": null,
   "metadata": {
    "collapsed": true
   },
   "outputs": [],
   "source": []
  }
 ],
 "metadata": {
  "kernelspec": {
   "display_name": "Python 3",
   "language": "python",
   "name": "python3"
  },
  "language_info": {
   "codemirror_mode": {
    "name": "ipython",
    "version": 3
   },
   "file_extension": ".py",
   "mimetype": "text/x-python",
   "name": "python",
   "nbconvert_exporter": "python",
   "pygments_lexer": "ipython3",
   "version": "3.6.1"
  }
 },
 "nbformat": 4,
 "nbformat_minor": 2
}
