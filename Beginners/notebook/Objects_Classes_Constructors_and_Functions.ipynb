{
  "nbformat": 4,
  "nbformat_minor": 0,
  "metadata": {
    "colab": {
      "name": "Objects_Classes_Constructors_and_Functions.ipynb",
      "version": "0.3.2",
      "views": {},
      "default_view": {},
      "provenance": [],
      "collapsed_sections": []
    },
    "kernelspec": {
      "name": "python3",
      "display_name": "Python 3"
    }
  },
  "cells": [
    {
      "metadata": {
        "id": "occgZpjUrxRH",
        "colab_type": "text"
      },
      "cell_type": "markdown",
      "source": [
        "# Object oriented programming in python:\n",
        "\n",
        "- Objects are an encapsulation of variables and functions into a single entity. \n",
        "- Objects get their variables and functions from classes. \n",
        "- Classes are essentially a template to create your objects."
      ]
    },
    {
      "metadata": {
        "id": "ZoJ2R0yarzGU",
        "colab_type": "text"
      },
      "cell_type": "markdown",
      "source": [
        "### A very basic python function:\n",
        "\n",
        "- A function to add two numbers.\n",
        "- Uses positional argument."
      ]
    },
    {
      "metadata": {
        "id": "1wQiVmjMryGg",
        "colab_type": "code",
        "colab": {
          "autoexec": {
            "startup": false,
            "wait_interval": 0
          }
        }
      },
      "cell_type": "code",
      "source": [
        "def add_function(a,b):\n",
        "  return (a+b) "
      ],
      "execution_count": 0,
      "outputs": []
    },
    {
      "metadata": {
        "id": "wVBepSuZtOzC",
        "colab_type": "code",
        "colab": {
          "autoexec": {
            "startup": false,
            "wait_interval": 0
          }
        }
      },
      "cell_type": "code",
      "source": [
        "a = int(input())\n",
        "b = int(input())"
      ],
      "execution_count": 0,
      "outputs": []
    },
    {
      "metadata": {
        "id": "Z3P9XzoutPFS",
        "colab_type": "code",
        "colab": {
          "autoexec": {
            "startup": false,
            "wait_interval": 0
          }
        }
      },
      "cell_type": "code",
      "source": [
        "result = add_function(a, b)"
      ],
      "execution_count": 0,
      "outputs": []
    },
    {
      "metadata": {
        "id": "AACMMGQauofM",
        "colab_type": "code",
        "colab": {
          "autoexec": {
            "startup": false,
            "wait_interval": 0
          }
        }
      },
      "cell_type": "code",
      "source": [
        "print (result)"
      ],
      "execution_count": 0,
      "outputs": []
    },
    {
      "metadata": {
        "id": "9dUgwU-Kv0vY",
        "colab_type": "text"
      },
      "cell_type": "markdown",
      "source": [
        "### Another basic python function:\n",
        "- A function to add two numbers.\n",
        "- Uses keyword argument instead of positional argument."
      ]
    },
    {
      "metadata": {
        "id": "aThmbdwLuvvD",
        "colab_type": "code",
        "colab": {
          "autoexec": {
            "startup": false,
            "wait_interval": 0
          }
        }
      },
      "cell_type": "code",
      "source": [
        "def add_function(input_1=None, input_2=None):\n",
        "  print ('Calculating the sum of: ' + str(input_1) + \" , \" + str(input_2))\n",
        "  return (a+b) "
      ],
      "execution_count": 0,
      "outputs": []
    },
    {
      "metadata": {
        "id": "oB5qYCGyu1lt",
        "colab_type": "code",
        "colab": {
          "autoexec": {
            "startup": false,
            "wait_interval": 0
          }
        }
      },
      "cell_type": "code",
      "source": [
        "a = int(input())\n",
        "b = int(input())"
      ],
      "execution_count": 0,
      "outputs": []
    },
    {
      "metadata": {
        "id": "0N2BGn2rvEEP",
        "colab_type": "code",
        "colab": {
          "autoexec": {
            "startup": false,
            "wait_interval": 0
          }
        }
      },
      "cell_type": "code",
      "source": [
        "result = add_function(input_1=a, input_2=b)"
      ],
      "execution_count": 0,
      "outputs": []
    },
    {
      "metadata": {
        "id": "4KF5oYFXvUYv",
        "colab_type": "code",
        "colab": {
          "autoexec": {
            "startup": false,
            "wait_interval": 0
          }
        }
      },
      "cell_type": "code",
      "source": [
        "print (result)"
      ],
      "execution_count": 0,
      "outputs": []
    },
    {
      "metadata": {
        "id": "YVtvy4oRr9Vy",
        "colab_type": "text"
      },
      "cell_type": "markdown",
      "source": [
        "### Let us define a very basic class in python:"
      ]
    },
    {
      "metadata": {
        "id": "NGfTgWAVrDqi",
        "colab_type": "code",
        "colab": {
          "autoexec": {
            "startup": false,
            "wait_interval": 0
          }
        }
      },
      "cell_type": "code",
      "source": [
        "class Some_Class:\n",
        "    variable = \"Some string inside python class.\"\n",
        "    def Some_Function(self):\n",
        "        print(\"This is a message inside the class.\")"
      ],
      "execution_count": 0,
      "outputs": []
    },
    {
      "metadata": {
        "id": "ifav8vLEsR-p",
        "colab_type": "text"
      },
      "cell_type": "markdown",
      "source": [
        "### Assign an object to the class:\n",
        "\n",
        "- To assign the above class(template) to an object(variable), do the following:"
      ]
    },
    {
      "metadata": {
        "id": "IiEXYb7frkJh",
        "colab_type": "code",
        "colab": {
          "autoexec": {
            "startup": false,
            "wait_interval": 0
          }
        }
      },
      "cell_type": "code",
      "source": [
        "Some_obect = Some_Class()"
      ],
      "execution_count": 0,
      "outputs": []
    },
    {
      "metadata": {
        "id": "pVY6dJfms5lt",
        "colab_type": "text"
      },
      "cell_type": "markdown",
      "source": [
        "### Accessing object variables:\n",
        "\n",
        "- To access the variable inside of the newly created object:"
      ]
    },
    {
      "metadata": {
        "id": "_sHfeX4atJ3_",
        "colab_type": "code",
        "colab": {
          "autoexec": {
            "startup": false,
            "wait_interval": 0
          }
        }
      },
      "cell_type": "code",
      "source": [
        "print(Some_Class.variable)"
      ],
      "execution_count": 0,
      "outputs": []
    },
    {
      "metadata": {
        "id": "LtMnO_3kvzHy",
        "colab_type": "text"
      },
      "cell_type": "markdown",
      "source": [
        "### Importance of object oriented programing:\n",
        "- Object oriented programing helps create multiple different objects.\n",
        "- They are of the same class with the same variables and functions defined. \n",
        "- Each object contains independent copies of the variables defined in the class. \n",
        "- If another object with the \"Some_Class\" class is defined, then the string in the variable can be changed as follows:"
      ]
    },
    {
      "metadata": {
        "id": "bYDMoKwqwkmP",
        "colab_type": "code",
        "colab": {
          "autoexec": {
            "startup": false,
            "wait_interval": 0
          }
        }
      },
      "cell_type": "code",
      "source": [
        "first_object = Some_Class()\n",
        "second_object = Some_Class()"
      ],
      "execution_count": 0,
      "outputs": []
    },
    {
      "metadata": {
        "id": "e7_8gQNWwxV3",
        "colab_type": "code",
        "colab": {
          "autoexec": {
            "startup": false,
            "wait_interval": 0
          }
        }
      },
      "cell_type": "code",
      "source": [
        "second_object.variable = \"The modified variable string.\""
      ],
      "execution_count": 0,
      "outputs": []
    },
    {
      "metadata": {
        "id": "4DcudAziw7R8",
        "colab_type": "code",
        "colab": {
          "autoexec": {
            "startup": false,
            "wait_interval": 0
          }
        }
      },
      "cell_type": "code",
      "source": [
        "print(first_object.variable)\n",
        "print(second_object.variable)"
      ],
      "execution_count": 0,
      "outputs": []
    },
    {
      "metadata": {
        "id": "8J5E25WKxS8V",
        "colab_type": "text"
      },
      "cell_type": "markdown",
      "source": [
        "### Accessing object functions: \n",
        "\n",
        "- To access a function inside of an object in python, the notation similar to accessing a variable."
      ]
    },
    {
      "metadata": {
        "id": "hOthk54_xSFy",
        "colab_type": "code",
        "colab": {
          "autoexec": {
            "startup": false,
            "wait_interval": 0
          }
        }
      },
      "cell_type": "code",
      "source": [
        "first_object.Some_Function()"
      ],
      "execution_count": 0,
      "outputs": []
    },
    {
      "metadata": {
        "id": "BxuQr4ftz6vD",
        "colab_type": "text"
      },
      "cell_type": "markdown",
      "source": [
        "### [Constructor or initializer in python](https://stackoverflow.com/questions/8609153/why-do-we-use-init-in-python-classes):\n",
        "\n",
        "- The __init__ function is called a constructor, or initializer.\n",
        "- It is automatically called when you create a new instance of a class.\n",
        "-  __init__ doesn't initialize a class, it initializes an instance of a class or an object. "
      ]
    },
    {
      "metadata": {
        "id": "iXpmur8a08cA",
        "colab_type": "text"
      },
      "cell_type": "markdown",
      "source": [
        "### A slightly more complex example of object oriented programing:\n",
        "\n",
        "- Uses a constructor for variables \"name\" and \"type\".\n",
        "- Uses a class variable, \"kind\".\n",
        "- Has a object function, \"color\"."
      ]
    },
    {
      "metadata": {
        "id": "-rhWDZqmeJ3p",
        "colab_type": "code",
        "colab": {
          "autoexec": {
            "startup": false,
            "wait_interval": 0
          }
        }
      },
      "cell_type": "code",
      "source": [
        "class Dog:\n",
        "  kind = 'I am a dog. According to scientists, I belong to a species called Canis lupus, under the sub-species familiaris.'\n",
        "  \n",
        "  def __init__(self, name =  None, type = None):\n",
        "    self.name = name\n",
        "    self.type = type\n",
        "    \n",
        "  def color(self, color = None):    \n",
        "    color = color.lower()\n",
        "    if color == ('pink'):\n",
        "      print (\"Your dog \" + str(self.name) + \"'s \" + color + \" color is so cute ...\")\n",
        "    elif color == ('blue'):\n",
        "      print (\"Your dog \" + str(self.name) + \"'s \" + color + \" color makes it look like a smurf ...\")\n",
        "    else:\n",
        "      print (\"Your dog: \" + str(self.name) + \"'s \" + \"color is: \" + color + \".\")"
      ],
      "execution_count": 0,
      "outputs": []
    },
    {
      "metadata": {
        "id": "B6JVs7zOeUzH",
        "colab_type": "code",
        "colab": {
          "autoexec": {
            "startup": false,
            "wait_interval": 0
          }
        }
      },
      "cell_type": "code",
      "source": [
        "my_dog = Dog(name = 'Puppy', type = 'Maltese')"
      ],
      "execution_count": 0,
      "outputs": []
    },
    {
      "metadata": {
        "id": "liNvoYvv5mAp",
        "colab_type": "code",
        "colab": {
          "autoexec": {
            "startup": false,
            "wait_interval": 0
          }
        }
      },
      "cell_type": "code",
      "source": [
        "print(my_dog)"
      ],
      "execution_count": 0,
      "outputs": []
    },
    {
      "metadata": {
        "id": "x52VLJToeeNb",
        "colab_type": "code",
        "colab": {
          "autoexec": {
            "startup": false,
            "wait_interval": 0
          }
        }
      },
      "cell_type": "code",
      "source": [
        "print(my_dog.name)"
      ],
      "execution_count": 0,
      "outputs": []
    },
    {
      "metadata": {
        "id": "HN6_MQjne8sb",
        "colab_type": "code",
        "colab": {
          "autoexec": {
            "startup": false,
            "wait_interval": 0
          }
        }
      },
      "cell_type": "code",
      "source": [
        "print(my_dog.kind)"
      ],
      "execution_count": 0,
      "outputs": []
    },
    {
      "metadata": {
        "id": "DQAgQAj3fdxv",
        "colab_type": "code",
        "colab": {
          "autoexec": {
            "startup": false,
            "wait_interval": 0
          }
        }
      },
      "cell_type": "code",
      "source": [
        "print(my_dog.type)"
      ],
      "execution_count": 0,
      "outputs": []
    },
    {
      "metadata": {
        "id": "iwuUh9P5geD0",
        "colab_type": "code",
        "colab": {
          "autoexec": {
            "startup": false,
            "wait_interval": 0
          }
        }
      },
      "cell_type": "code",
      "source": [
        "my_dog.color(color='Pink')"
      ],
      "execution_count": 0,
      "outputs": []
    },
    {
      "metadata": {
        "id": "Pu8RGX67hUY5",
        "colab_type": "code",
        "colab": {
          "autoexec": {
            "startup": false,
            "wait_interval": 0
          }
        }
      },
      "cell_type": "code",
      "source": [
        "my_dog.color(color='Blue')"
      ],
      "execution_count": 0,
      "outputs": []
    },
    {
      "metadata": {
        "id": "oGjtF6gZ5Yvs",
        "colab_type": "text"
      },
      "cell_type": "markdown",
      "source": [
        "### Change the values of a variable in an object:"
      ]
    },
    {
      "metadata": {
        "id": "IeiUUW-djj3t",
        "colab_type": "code",
        "colab": {
          "autoexec": {
            "startup": false,
            "wait_interval": 0
          }
        }
      },
      "cell_type": "code",
      "source": [
        "my_dog.name = \"Cute Puppy\""
      ],
      "execution_count": 0,
      "outputs": []
    },
    {
      "metadata": {
        "id": "q_2I7UNzzNMK",
        "colab_type": "code",
        "colab": {
          "autoexec": {
            "startup": false,
            "wait_interval": 0
          }
        }
      },
      "cell_type": "code",
      "source": [
        "my_dog.color(color='Black')"
      ],
      "execution_count": 0,
      "outputs": []
    }
  ]
}