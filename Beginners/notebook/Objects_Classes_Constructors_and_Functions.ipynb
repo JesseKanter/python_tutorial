{
 "cells": [
  {
   "cell_type": "markdown",
   "metadata": {
    "colab_type": "text",
    "id": "occgZpjUrxRH"
   },
   "source": [
    "# Object oriented programming in python:\n",
    "\n",
    "### Author: Dr. Rahul Remanan\n",
    "#### CEO and Chief Imagination Officer\n",
    "#### [Moad Computer](https://www.moad.computer)\n",
    "\n",
    "- Objects are an encapsulation of variables and functions into a single entity. \n",
    "- Objects get their variables and functions from classes. \n",
    "- Classes are essentially a template to create your objects."
   ]
  },
  {
   "cell_type": "markdown",
   "metadata": {
    "colab_type": "text",
    "id": "lBYmI-k1Mib5"
   },
   "source": [
    "## Part 01 -- Functions in python:"
   ]
  },
  {
   "cell_type": "markdown",
   "metadata": {
    "colab_type": "text",
    "id": "xpVGsjVH3yGO"
   },
   "source": [
    "### Just add two numbers:"
   ]
  },
  {
   "cell_type": "code",
   "execution_count": 1,
   "metadata": {
    "colab": {
     "autoexec": {
      "startup": false,
      "wait_interval": 0
     },
     "base_uri": "https://localhost:8080/",
     "height": 53
    },
    "colab_type": "code",
    "executionInfo": {
     "elapsed": 4132,
     "status": "ok",
     "timestamp": 1529192029850,
     "user": {
      "displayName": "Moad Computer",
      "photoUrl": "//lh5.googleusercontent.com/-Ic6_gWlgQXo/AAAAAAAAAAI/AAAAAAAAABA/KunqdqgBsx4/s50-c-k-no/photo.jpg",
      "userId": "105137350204760020224"
     },
     "user_tz": 240
    },
    "id": "Sk1O-TnJ4Sxr",
    "outputId": "d019c63c-785f-40e6-fbb0-d53db4e120ab"
   },
   "outputs": [
    {
     "name": "stdout",
     "output_type": "stream",
     "text": [
      "56\n",
      "65\n"
     ]
    }
   ],
   "source": [
    "a = int(input())\n",
    "b = int(input())"
   ]
  },
  {
   "cell_type": "code",
   "execution_count": 2,
   "metadata": {
    "colab": {
     "autoexec": {
      "startup": false,
      "wait_interval": 0
     },
     "base_uri": "https://localhost:8080/",
     "height": 35
    },
    "colab_type": "code",
    "executionInfo": {
     "elapsed": 491,
     "status": "ok",
     "timestamp": 1529192035641,
     "user": {
      "displayName": "Moad Computer",
      "photoUrl": "//lh5.googleusercontent.com/-Ic6_gWlgQXo/AAAAAAAAAAI/AAAAAAAAABA/KunqdqgBsx4/s50-c-k-no/photo.jpg",
      "userId": "105137350204760020224"
     },
     "user_tz": 240
    },
    "id": "PEPxXD_m4Zmu",
    "outputId": "4d63c170-feb4-4bbc-874a-54f5e9f2199e"
   },
   "outputs": [
    {
     "name": "stdout",
     "output_type": "stream",
     "text": [
      "121\n"
     ]
    }
   ],
   "source": [
    "print (a+b)"
   ]
  },
  {
   "cell_type": "markdown",
   "metadata": {
    "colab_type": "text",
    "id": "npRL-1mX6mLK"
   },
   "source": [
    "### Explicitly calling garbage collection to free-up working memory:"
   ]
  },
  {
   "cell_type": "code",
   "execution_count": 3,
   "metadata": {
    "colab": {
     "autoexec": {
      "startup": false,
      "wait_interval": 0
     },
     "base_uri": "https://localhost:8080/",
     "height": 35
    },
    "colab_type": "code",
    "executionInfo": {
     "elapsed": 414,
     "status": "ok",
     "timestamp": 1529192038559,
     "user": {
      "displayName": "Moad Computer",
      "photoUrl": "//lh5.googleusercontent.com/-Ic6_gWlgQXo/AAAAAAAAAAI/AAAAAAAAABA/KunqdqgBsx4/s50-c-k-no/photo.jpg",
      "userId": "105137350204760020224"
     },
     "user_tz": 240
    },
    "id": "xvf6zbxx5pmn",
    "outputId": "90f9c967-2f7d-4eaa-8ed8-f6c20f44dc61"
   },
   "outputs": [
    {
     "data": {
      "text/plain": [
       "221"
      ]
     },
     "execution_count": 3,
     "metadata": {},
     "output_type": "execute_result"
    }
   ],
   "source": [
    "import gc\n",
    "\n",
    "del a\n",
    "del b\n",
    "gc.collect()"
   ]
  },
  {
   "cell_type": "markdown",
   "metadata": {
    "colab_type": "text",
    "id": "ZoJ2R0yarzGU"
   },
   "source": [
    "### A very basic python function:\n",
    "\n",
    "- A function to add two numbers.\n",
    "- Uses positional argument."
   ]
  },
  {
   "cell_type": "code",
   "execution_count": 4,
   "metadata": {
    "colab": {
     "autoexec": {
      "startup": false,
      "wait_interval": 0
     }
    },
    "colab_type": "code",
    "collapsed": true,
    "id": "1wQiVmjMryGg"
   },
   "outputs": [],
   "source": [
    "def add_function(a,b):\n",
    "  print ('Calculating the sum of: ' + str(a) + \" , \" + str(b))\n",
    "  return (a+b) "
   ]
  },
  {
   "cell_type": "markdown",
   "metadata": {
    "colab_type": "text",
    "id": "yJau1sJrzesw"
   },
   "source": [
    "- The input() helps user pass an input value."
   ]
  },
  {
   "cell_type": "code",
   "execution_count": 5,
   "metadata": {
    "colab": {
     "autoexec": {
      "startup": false,
      "wait_interval": 0
     },
     "base_uri": "https://localhost:8080/",
     "height": 53
    },
    "colab_type": "code",
    "executionInfo": {
     "elapsed": 5066,
     "status": "ok",
     "timestamp": 1529192053387,
     "user": {
      "displayName": "Moad Computer",
      "photoUrl": "//lh5.googleusercontent.com/-Ic6_gWlgQXo/AAAAAAAAAAI/AAAAAAAAABA/KunqdqgBsx4/s50-c-k-no/photo.jpg",
      "userId": "105137350204760020224"
     },
     "user_tz": 240
    },
    "id": "wVBepSuZtOzC",
    "outputId": "03787909-647d-4833-9ff7-66d33e555682"
   },
   "outputs": [
    {
     "name": "stdout",
     "output_type": "stream",
     "text": [
      "56\n",
      "65\n"
     ]
    }
   ],
   "source": [
    "input_1 = int(input())\n",
    "input_2 = int(input())"
   ]
  },
  {
   "cell_type": "code",
   "execution_count": 6,
   "metadata": {
    "colab": {
     "autoexec": {
      "startup": false,
      "wait_interval": 0
     },
     "base_uri": "https://localhost:8080/",
     "height": 35
    },
    "colab_type": "code",
    "executionInfo": {
     "elapsed": 466,
     "status": "ok",
     "timestamp": 1529192056764,
     "user": {
      "displayName": "Moad Computer",
      "photoUrl": "//lh5.googleusercontent.com/-Ic6_gWlgQXo/AAAAAAAAAAI/AAAAAAAAABA/KunqdqgBsx4/s50-c-k-no/photo.jpg",
      "userId": "105137350204760020224"
     },
     "user_tz": 240
    },
    "id": "Z3P9XzoutPFS",
    "outputId": "2803c69d-6cf2-431d-ee69-bdda6388a263"
   },
   "outputs": [
    {
     "name": "stdout",
     "output_type": "stream",
     "text": [
      "Calculating the sum of: 56 , 65\n"
     ]
    }
   ],
   "source": [
    "result = add_function(input_1, input_2)"
   ]
  },
  {
   "cell_type": "code",
   "execution_count": 7,
   "metadata": {
    "colab": {
     "autoexec": {
      "startup": false,
      "wait_interval": 0
     },
     "base_uri": "https://localhost:8080/",
     "height": 35
    },
    "colab_type": "code",
    "executionInfo": {
     "elapsed": 352,
     "status": "ok",
     "timestamp": 1529192058781,
     "user": {
      "displayName": "Moad Computer",
      "photoUrl": "//lh5.googleusercontent.com/-Ic6_gWlgQXo/AAAAAAAAAAI/AAAAAAAAABA/KunqdqgBsx4/s50-c-k-no/photo.jpg",
      "userId": "105137350204760020224"
     },
     "user_tz": 240
    },
    "id": "AACMMGQauofM",
    "outputId": "0f133dd0-e7f1-47ab-897e-851a300823da"
   },
   "outputs": [
    {
     "name": "stdout",
     "output_type": "stream",
     "text": [
      "121\n"
     ]
    }
   ],
   "source": [
    "print (result)"
   ]
  },
  {
   "cell_type": "markdown",
   "metadata": {
    "colab_type": "text",
    "id": "Cp_UULic7BLx"
   },
   "source": [
    "### Explicitly freeing-up working memory and calling garbage collector:\n",
    "- Object oriented programing is memory efficient."
   ]
  },
  {
   "cell_type": "code",
   "execution_count": 8,
   "metadata": {
    "colab": {
     "autoexec": {
      "startup": false,
      "wait_interval": 0
     },
     "base_uri": "https://localhost:8080/",
     "height": 35
    },
    "colab_type": "code",
    "executionInfo": {
     "elapsed": 369,
     "status": "ok",
     "timestamp": 1529192064916,
     "user": {
      "displayName": "Moad Computer",
      "photoUrl": "//lh5.googleusercontent.com/-Ic6_gWlgQXo/AAAAAAAAAAI/AAAAAAAAABA/KunqdqgBsx4/s50-c-k-no/photo.jpg",
      "userId": "105137350204760020224"
     },
     "user_tz": 240
    },
    "id": "FgvUFG3H5Tsy",
    "outputId": "36f09ec0-f063-400d-df96-06160c4fba31"
   },
   "outputs": [
    {
     "data": {
      "text/plain": [
       "115"
      ]
     },
     "execution_count": 8,
     "metadata": {},
     "output_type": "execute_result"
    }
   ],
   "source": [
    "import gc\n",
    "\n",
    "del input_1\n",
    "del input_2\n",
    "del result\n",
    "\n",
    "gc.collect()"
   ]
  },
  {
   "cell_type": "markdown",
   "metadata": {
    "colab_type": "text",
    "id": "9dUgwU-Kv0vY"
   },
   "source": [
    "### Another basic python function:\n",
    "- This is a function to add two numbers.\n",
    "- Uses keyword arguments instead of positional arguments.\n",
    "- The function takes two decimal values instead of two integer values in the function above.\n",
    "- Explicit error messages."
   ]
  },
  {
   "cell_type": "code",
   "execution_count": 9,
   "metadata": {
    "colab": {
     "autoexec": {
      "startup": false,
      "wait_interval": 0
     }
    },
    "colab_type": "code",
    "collapsed": true,
    "id": "aThmbdwLuvvD"
   },
   "outputs": [],
   "source": [
    "def add_function(input_1=None, input_2=None):\n",
    "  if input_1 and input_2 !=None:\n",
    "    print ('Calculating the sum of: ' + str(input_1) + \" , \" + str(input_2))\n",
    "    return (a+b)\n",
    "  else:\n",
    "    print ('Nothing to do here ...')\n",
    "    print ('Ensure add_function passes two keyword variables: input_1 and input_2 ...')"
   ]
  },
  {
   "cell_type": "code",
   "execution_count": 10,
   "metadata": {
    "colab": {
     "autoexec": {
      "startup": false,
      "wait_interval": 0
     },
     "base_uri": "https://localhost:8080/",
     "height": 53
    },
    "colab_type": "code",
    "executionInfo": {
     "elapsed": 6013,
     "status": "ok",
     "timestamp": 1529192481464,
     "user": {
      "displayName": "Moad Computer",
      "photoUrl": "//lh5.googleusercontent.com/-Ic6_gWlgQXo/AAAAAAAAAAI/AAAAAAAAABA/KunqdqgBsx4/s50-c-k-no/photo.jpg",
      "userId": "105137350204760020224"
     },
     "user_tz": 240
    },
    "id": "oB5qYCGyu1lt",
    "outputId": "dea53365-c8a0-4d31-ca9c-9debcd5a9889"
   },
   "outputs": [
    {
     "name": "stdout",
     "output_type": "stream",
     "text": [
      "3.14\n",
      "5.65\n"
     ]
    }
   ],
   "source": [
    "a = float(input())\n",
    "b = float(input())"
   ]
  },
  {
   "cell_type": "code",
   "execution_count": 11,
   "metadata": {
    "colab": {
     "autoexec": {
      "startup": false,
      "wait_interval": 0
     },
     "base_uri": "https://localhost:8080/",
     "height": 35
    },
    "colab_type": "code",
    "executionInfo": {
     "elapsed": 466,
     "status": "ok",
     "timestamp": 1529192485070,
     "user": {
      "displayName": "Moad Computer",
      "photoUrl": "//lh5.googleusercontent.com/-Ic6_gWlgQXo/AAAAAAAAAAI/AAAAAAAAABA/KunqdqgBsx4/s50-c-k-no/photo.jpg",
      "userId": "105137350204760020224"
     },
     "user_tz": 240
    },
    "id": "0N2BGn2rvEEP",
    "outputId": "83549fc5-f8fe-451b-d380-fb0615c5e836"
   },
   "outputs": [
    {
     "name": "stdout",
     "output_type": "stream",
     "text": [
      "Calculating the sum of: 3.14 , 5.65\n"
     ]
    }
   ],
   "source": [
    "result = add_function(input_2=b, input_1=a)"
   ]
  },
  {
   "cell_type": "code",
   "execution_count": 12,
   "metadata": {
    "colab": {
     "autoexec": {
      "startup": false,
      "wait_interval": 0
     },
     "base_uri": "https://localhost:8080/",
     "height": 35
    },
    "colab_type": "code",
    "executionInfo": {
     "elapsed": 527,
     "status": "ok",
     "timestamp": 1529192486943,
     "user": {
      "displayName": "Moad Computer",
      "photoUrl": "//lh5.googleusercontent.com/-Ic6_gWlgQXo/AAAAAAAAAAI/AAAAAAAAABA/KunqdqgBsx4/s50-c-k-no/photo.jpg",
      "userId": "105137350204760020224"
     },
     "user_tz": 240
    },
    "id": "4KF5oYFXvUYv",
    "outputId": "26c1417e-00eb-4df1-9e7f-662bf2a149dc"
   },
   "outputs": [
    {
     "name": "stdout",
     "output_type": "stream",
     "text": [
      "8.790000000000001\n"
     ]
    }
   ],
   "source": [
    "print (result)"
   ]
  },
  {
   "cell_type": "markdown",
   "metadata": {
    "colab_type": "text",
    "id": "aPMJd4nc-lsq"
   },
   "source": [
    "### Explicit error message looks like this:"
   ]
  },
  {
   "cell_type": "code",
   "execution_count": 13,
   "metadata": {
    "colab": {
     "autoexec": {
      "startup": false,
      "wait_interval": 0
     },
     "base_uri": "https://localhost:8080/",
     "height": 53
    },
    "colab_type": "code",
    "executionInfo": {
     "elapsed": 356,
     "status": "ok",
     "timestamp": 1529192489020,
     "user": {
      "displayName": "Moad Computer",
      "photoUrl": "//lh5.googleusercontent.com/-Ic6_gWlgQXo/AAAAAAAAAAI/AAAAAAAAABA/KunqdqgBsx4/s50-c-k-no/photo.jpg",
      "userId": "105137350204760020224"
     },
     "user_tz": 240
    },
    "id": "AFgOqvBv91Zk",
    "outputId": "b38add7f-51ee-4abe-be9d-adda2174c5b6"
   },
   "outputs": [
    {
     "name": "stdout",
     "output_type": "stream",
     "text": [
      "Nothing to do here ...\n",
      "Ensure add_function passes two keyword variables: input_1 and input_2 ...\n"
     ]
    }
   ],
   "source": [
    "result = add_function(input_1=a)"
   ]
  },
  {
   "cell_type": "markdown",
   "metadata": {
    "colab_type": "text",
    "id": "r9LsGA7C-_az"
   },
   "source": [
    "## Part 02 -- [Classes in python](https://www.hackerearth.com/practice/python/object-oriented-programming/classes-and-objects-i/tutorial/):\n",
    "\n",
    "Python is an “object-oriented programming language.” This means almost all the code is implemented using a special construct called classes. Programmers use classes to keep related things together. This is done using the keyword “class,” which is a grouping of object-oriented constructs."
   ]
  },
  {
   "cell_type": "markdown",
   "metadata": {
    "colab_type": "text",
    "id": "YVtvy4oRr9Vy"
   },
   "source": [
    "### Define a very basic class in python:\n",
    "- Contains a variable called \"some_variable\".\n",
    "- Contains a function called \"some_function\"."
   ]
  },
  {
   "cell_type": "code",
   "execution_count": 14,
   "metadata": {
    "colab": {
     "autoexec": {
      "startup": false,
      "wait_interval": 0
     }
    },
    "colab_type": "code",
    "collapsed": true,
    "id": "NGfTgWAVrDqi"
   },
   "outputs": [],
   "source": [
    "class some_class:\n",
    "    some_variable = \"Some string inside python class.\"\n",
    "    def some_function(self):\n",
    "        return (\"This is a message inside the class.\")"
   ]
  },
  {
   "cell_type": "markdown",
   "metadata": {
    "colab_type": "text",
    "id": "ifav8vLEsR-p"
   },
   "source": [
    "### Assign an object to the class:\n",
    "\n",
    "- To assign the above class(template) to an object(variable), do the following:"
   ]
  },
  {
   "cell_type": "code",
   "execution_count": 15,
   "metadata": {
    "colab": {
     "autoexec": {
      "startup": false,
      "wait_interval": 0
     }
    },
    "colab_type": "code",
    "collapsed": true,
    "id": "IiEXYb7frkJh"
   },
   "outputs": [],
   "source": [
    "some_object = some_class()"
   ]
  },
  {
   "cell_type": "markdown",
   "metadata": {
    "colab_type": "text",
    "id": "pVY6dJfms5lt"
   },
   "source": [
    "### Accessing object variables:\n",
    "\n",
    "- To access the variable inside of the newly created object object_name.variable_name."
   ]
  },
  {
   "cell_type": "code",
   "execution_count": 16,
   "metadata": {
    "colab": {
     "autoexec": {
      "startup": false,
      "wait_interval": 0
     },
     "base_uri": "https://localhost:8080/",
     "height": 35
    },
    "colab_type": "code",
    "executionInfo": {
     "elapsed": 394,
     "status": "ok",
     "timestamp": 1529193454997,
     "user": {
      "displayName": "Moad Computer",
      "photoUrl": "//lh5.googleusercontent.com/-Ic6_gWlgQXo/AAAAAAAAAAI/AAAAAAAAABA/KunqdqgBsx4/s50-c-k-no/photo.jpg",
      "userId": "105137350204760020224"
     },
     "user_tz": 240
    },
    "id": "_sHfeX4atJ3_",
    "outputId": "1a31d319-acd4-43f0-8ed2-c4ce78f200bb"
   },
   "outputs": [
    {
     "name": "stdout",
     "output_type": "stream",
     "text": [
      "Some string inside python class.\n"
     ]
    }
   ],
   "source": [
    "print(some_class.some_variable)"
   ]
  },
  {
   "cell_type": "code",
   "execution_count": 17,
   "metadata": {
    "colab": {
     "autoexec": {
      "startup": false,
      "wait_interval": 0
     },
     "base_uri": "https://localhost:8080/",
     "height": 35
    },
    "colab_type": "code",
    "executionInfo": {
     "elapsed": 490,
     "status": "ok",
     "timestamp": 1529193456746,
     "user": {
      "displayName": "Moad Computer",
      "photoUrl": "//lh5.googleusercontent.com/-Ic6_gWlgQXo/AAAAAAAAAAI/AAAAAAAAABA/KunqdqgBsx4/s50-c-k-no/photo.jpg",
      "userId": "105137350204760020224"
     },
     "user_tz": 240
    },
    "id": "_II54dYtBeCd",
    "outputId": "41181e92-b657-4df1-aaef-96ad6a4251e6"
   },
   "outputs": [
    {
     "name": "stdout",
     "output_type": "stream",
     "text": [
      "Some string inside python class.\n"
     ]
    }
   ],
   "source": [
    "print(some_object.some_variable)"
   ]
  },
  {
   "cell_type": "code",
   "execution_count": 18,
   "metadata": {
    "colab": {
     "autoexec": {
      "startup": false,
      "wait_interval": 0
     }
    },
    "colab_type": "code",
    "collapsed": true,
    "id": "N4W9fBAgBnFk"
   },
   "outputs": [],
   "source": [
    "some_object.some_variable = 'This is the modified variable.'"
   ]
  },
  {
   "cell_type": "code",
   "execution_count": 19,
   "metadata": {
    "colab": {
     "autoexec": {
      "startup": false,
      "wait_interval": 0
     },
     "base_uri": "https://localhost:8080/",
     "height": 35
    },
    "colab_type": "code",
    "executionInfo": {
     "elapsed": 495,
     "status": "ok",
     "timestamp": 1529193460802,
     "user": {
      "displayName": "Moad Computer",
      "photoUrl": "//lh5.googleusercontent.com/-Ic6_gWlgQXo/AAAAAAAAAAI/AAAAAAAAABA/KunqdqgBsx4/s50-c-k-no/photo.jpg",
      "userId": "105137350204760020224"
     },
     "user_tz": 240
    },
    "id": "DmS19gHbB1AT",
    "outputId": "a3426123-4c9b-4d6b-fe96-8e92437df87d"
   },
   "outputs": [
    {
     "name": "stdout",
     "output_type": "stream",
     "text": [
      "This is the modified variable.\n"
     ]
    }
   ],
   "source": [
    "print (some_object.some_variable)"
   ]
  },
  {
   "cell_type": "markdown",
   "metadata": {
    "colab_type": "text",
    "id": "QzRPQN2TDOap"
   },
   "source": [
    "### Accessing object functions:\n",
    "\n",
    "- To access the function inside the newly created object the syntax is: object_name.function_name()."
   ]
  },
  {
   "cell_type": "code",
   "execution_count": 20,
   "metadata": {
    "colab": {
     "autoexec": {
      "startup": false,
      "wait_interval": 0
     },
     "base_uri": "https://localhost:8080/",
     "height": 35
    },
    "colab_type": "code",
    "executionInfo": {
     "elapsed": 311,
     "status": "ok",
     "timestamp": 1529193474720,
     "user": {
      "displayName": "Moad Computer",
      "photoUrl": "//lh5.googleusercontent.com/-Ic6_gWlgQXo/AAAAAAAAAAI/AAAAAAAAABA/KunqdqgBsx4/s50-c-k-no/photo.jpg",
      "userId": "105137350204760020224"
     },
     "user_tz": 240
    },
    "id": "gL1HUKX7BILZ",
    "outputId": "72a0ea02-6bfc-404e-a25a-b72711ba5d4f"
   },
   "outputs": [
    {
     "name": "stdout",
     "output_type": "stream",
     "text": [
      "This is a message inside the class.\n"
     ]
    }
   ],
   "source": [
    "print(some_object.some_function())"
   ]
  },
  {
   "cell_type": "markdown",
   "metadata": {
    "colab_type": "text",
    "id": "LtMnO_3kvzHy"
   },
   "source": [
    "### Importance of object oriented programing:\n",
    "- Object oriented programing helps create multiple different objects.\n",
    "- They are of the same class with the same variables and functions defined. \n",
    "- Each of those objects contain independent copies of the variables defined in the class. \n",
    "- If another object with the \"some_class\" class is defined, then the string in the variable can be changed as follows:"
   ]
  },
  {
   "cell_type": "code",
   "execution_count": 21,
   "metadata": {
    "colab": {
     "autoexec": {
      "startup": false,
      "wait_interval": 0
     }
    },
    "colab_type": "code",
    "collapsed": true,
    "id": "bYDMoKwqwkmP"
   },
   "outputs": [],
   "source": [
    "first_object = some_class()\n",
    "second_object = some_class()"
   ]
  },
  {
   "cell_type": "code",
   "execution_count": 22,
   "metadata": {
    "colab": {
     "autoexec": {
      "startup": false,
      "wait_interval": 0
     }
    },
    "colab_type": "code",
    "collapsed": true,
    "id": "e7_8gQNWwxV3"
   },
   "outputs": [],
   "source": [
    "second_object.some_variable = \"Modified variable string for some_class.\""
   ]
  },
  {
   "cell_type": "code",
   "execution_count": 23,
   "metadata": {
    "colab": {
     "autoexec": {
      "startup": false,
      "wait_interval": 0
     },
     "base_uri": "https://localhost:8080/",
     "height": 53
    },
    "colab_type": "code",
    "executionInfo": {
     "elapsed": 622,
     "status": "ok",
     "timestamp": 1529194139625,
     "user": {
      "displayName": "Moad Computer",
      "photoUrl": "//lh5.googleusercontent.com/-Ic6_gWlgQXo/AAAAAAAAAAI/AAAAAAAAABA/KunqdqgBsx4/s50-c-k-no/photo.jpg",
      "userId": "105137350204760020224"
     },
     "user_tz": 240
    },
    "id": "4DcudAziw7R8",
    "outputId": "b82b2a9a-411c-4f3a-ca1c-c410bf30e295"
   },
   "outputs": [
    {
     "name": "stdout",
     "output_type": "stream",
     "text": [
      "Some string inside python class.\n",
      "Modified variable string for some_class.\n"
     ]
    }
   ],
   "source": [
    "print(first_object.some_variable)\n",
    "print(second_object.some_variable)"
   ]
  },
  {
   "cell_type": "markdown",
   "metadata": {
    "colab_type": "text",
    "id": "8J5E25WKxS8V"
   },
   "source": [
    "### Accessing object functions: \n",
    "\n",
    "- To access a function inside of an object in python, the notation similar to accessing a variable."
   ]
  },
  {
   "cell_type": "code",
   "execution_count": 24,
   "metadata": {
    "colab": {
     "autoexec": {
      "startup": false,
      "wait_interval": 0
     },
     "base_uri": "https://localhost:8080/",
     "height": 35
    },
    "colab_type": "code",
    "executionInfo": {
     "elapsed": 355,
     "status": "ok",
     "timestamp": 1529194208399,
     "user": {
      "displayName": "Moad Computer",
      "photoUrl": "//lh5.googleusercontent.com/-Ic6_gWlgQXo/AAAAAAAAAAI/AAAAAAAAABA/KunqdqgBsx4/s50-c-k-no/photo.jpg",
      "userId": "105137350204760020224"
     },
     "user_tz": 240
    },
    "id": "hOthk54_xSFy",
    "outputId": "ef6b6a3b-5a45-4520-b8e6-d8cbc540612a"
   },
   "outputs": [
    {
     "name": "stdout",
     "output_type": "stream",
     "text": [
      "This is a message inside the class.\n"
     ]
    }
   ],
   "source": [
    "print(first_object.some_function())"
   ]
  },
  {
   "cell_type": "markdown",
   "metadata": {
    "colab_type": "text",
    "id": "BxuQr4ftz6vD"
   },
   "source": [
    "## Part 03 -- [Constructor or initializer in python](https://stackoverflow.com/questions/8609153/why-do-we-use-init-in-python-classes):\n",
    "\n",
    "- The __init__ function is called a constructor, or initializer.\n",
    "- Construcor or initializer is automatically called when you create a new instance of a class.\n",
    "-  __init__ doesn't initialize a class, it initializes an instance of a class or an object. "
   ]
  },
  {
   "cell_type": "markdown",
   "metadata": {
    "colab_type": "text",
    "id": "iXpmur8a08cA"
   },
   "source": [
    "### A slightly more complex example of object oriented programing:\n",
    "\n",
    "- Uses a constructor for variables \"name\" and \"type\".\n",
    "- Uses a class variable, \"kind\".\n",
    "- Has an object function, \"color\"."
   ]
  },
  {
   "cell_type": "code",
   "execution_count": 25,
   "metadata": {
    "colab": {
     "autoexec": {
      "startup": false,
      "wait_interval": 0
     }
    },
    "colab_type": "code",
    "collapsed": true,
    "id": "-rhWDZqmeJ3p"
   },
   "outputs": [],
   "source": [
    "class Dog:\n",
    "  kind = 'I am a dog. According to scientists, I belong to a species called Canis lupus, under the sub-species familiaris.'\n",
    "  \n",
    "  def __init__(self, name =  None, type = None):\n",
    "    self.name = name\n",
    "    self.type = type\n",
    "\n",
    "  def dog_color(self, color = None):\n",
    "    if color and self.name and self.type != None:\n",
    "      color = color.lower()\n",
    "      if color == ('pink'):\n",
    "        print (\"Your dog \" + str(self.name) + \"'s \" + color + \" color is so cute ...\")\n",
    "      elif color == ('blue'):\n",
    "        print (\"Your dog \" + str(self.name) + \"'s \" + color + \" color makes it look like a smurf ...\")\n",
    "      else:\n",
    "        print (\"Your dog: \" + str(self.name) + \"'s \" + \"color is: \" + color + \".\")\n",
    "    else:\n",
    "      print (\"Nothing to do here ...\")\n",
    "      \n",
    "  def my_dog(self):\n",
    "    if self.name and self.type != None:\n",
    "      print (\"Your dog \" + str(self.name) + \" is: \" + str(self.type))\n",
    "    else:\n",
    "      print (\"Nothing to do here ...\")"
   ]
  },
  {
   "cell_type": "code",
   "execution_count": 26,
   "metadata": {
    "colab": {
     "autoexec": {
      "startup": false,
      "wait_interval": 0
     }
    },
    "colab_type": "code",
    "collapsed": true,
    "id": "B6JVs7zOeUzH"
   },
   "outputs": [],
   "source": [
    "my_dog = Dog()"
   ]
  },
  {
   "cell_type": "code",
   "execution_count": 27,
   "metadata": {
    "colab": {
     "autoexec": {
      "startup": false,
      "wait_interval": 0
     }
    },
    "colab_type": "code",
    "collapsed": true,
    "id": "vh1TsT8xGwHS"
   },
   "outputs": [],
   "source": [
    "my_dog.name = 'Puppy'"
   ]
  },
  {
   "cell_type": "code",
   "execution_count": 28,
   "metadata": {
    "colab": {
     "autoexec": {
      "startup": false,
      "wait_interval": 0
     }
    },
    "colab_type": "code",
    "collapsed": true,
    "id": "G_6mqw3QG1AT"
   },
   "outputs": [],
   "source": [
    "my_dog.type = 'Maltese'"
   ]
  },
  {
   "cell_type": "code",
   "execution_count": 29,
   "metadata": {
    "colab": {
     "autoexec": {
      "startup": false,
      "wait_interval": 0
     },
     "base_uri": "https://localhost:8080/",
     "height": 35
    },
    "colab_type": "code",
    "executionInfo": {
     "elapsed": 483,
     "status": "ok",
     "timestamp": 1529195861613,
     "user": {
      "displayName": "Moad Computer",
      "photoUrl": "//lh5.googleusercontent.com/-Ic6_gWlgQXo/AAAAAAAAAAI/AAAAAAAAABA/KunqdqgBsx4/s50-c-k-no/photo.jpg",
      "userId": "105137350204760020224"
     },
     "user_tz": 240
    },
    "id": "liNvoYvv5mAp",
    "outputId": "a156ae34-a426-4e2d-907c-4d67d347a3de"
   },
   "outputs": [
    {
     "name": "stdout",
     "output_type": "stream",
     "text": [
      "<__main__.Dog object at 0x03D8FF10>\n"
     ]
    }
   ],
   "source": [
    "print(my_dog)"
   ]
  },
  {
   "cell_type": "code",
   "execution_count": 30,
   "metadata": {
    "colab": {
     "autoexec": {
      "startup": false,
      "wait_interval": 0
     },
     "base_uri": "https://localhost:8080/",
     "height": 35
    },
    "colab_type": "code",
    "executionInfo": {
     "elapsed": 374,
     "status": "ok",
     "timestamp": 1529195879508,
     "user": {
      "displayName": "Moad Computer",
      "photoUrl": "//lh5.googleusercontent.com/-Ic6_gWlgQXo/AAAAAAAAAAI/AAAAAAAAABA/KunqdqgBsx4/s50-c-k-no/photo.jpg",
      "userId": "105137350204760020224"
     },
     "user_tz": 240
    },
    "id": "x52VLJToeeNb",
    "outputId": "0657d670-895d-449f-b720-f4a9624cca6e"
   },
   "outputs": [
    {
     "name": "stdout",
     "output_type": "stream",
     "text": [
      "Puppy\n"
     ]
    }
   ],
   "source": [
    "print(my_dog.name)"
   ]
  },
  {
   "cell_type": "code",
   "execution_count": 31,
   "metadata": {
    "colab": {
     "autoexec": {
      "startup": false,
      "wait_interval": 0
     },
     "base_uri": "https://localhost:8080/",
     "height": 35
    },
    "colab_type": "code",
    "executionInfo": {
     "elapsed": 620,
     "status": "ok",
     "timestamp": 1529195881461,
     "user": {
      "displayName": "Moad Computer",
      "photoUrl": "//lh5.googleusercontent.com/-Ic6_gWlgQXo/AAAAAAAAAAI/AAAAAAAAABA/KunqdqgBsx4/s50-c-k-no/photo.jpg",
      "userId": "105137350204760020224"
     },
     "user_tz": 240
    },
    "id": "HN6_MQjne8sb",
    "outputId": "d24adf8d-bbc6-4330-cdaf-24fafb93c502"
   },
   "outputs": [
    {
     "name": "stdout",
     "output_type": "stream",
     "text": [
      "I am a dog. According to scientists, I belong to a species called Canis lupus, under the sub-species familiaris.\n"
     ]
    }
   ],
   "source": [
    "print(my_dog.kind)"
   ]
  },
  {
   "cell_type": "code",
   "execution_count": 32,
   "metadata": {
    "colab": {
     "autoexec": {
      "startup": false,
      "wait_interval": 0
     },
     "base_uri": "https://localhost:8080/",
     "height": 35
    },
    "colab_type": "code",
    "executionInfo": {
     "elapsed": 534,
     "status": "ok",
     "timestamp": 1529195883209,
     "user": {
      "displayName": "Moad Computer",
      "photoUrl": "//lh5.googleusercontent.com/-Ic6_gWlgQXo/AAAAAAAAAAI/AAAAAAAAABA/KunqdqgBsx4/s50-c-k-no/photo.jpg",
      "userId": "105137350204760020224"
     },
     "user_tz": 240
    },
    "id": "DQAgQAj3fdxv",
    "outputId": "ce7935ee-4626-4f10-d394-23abc65c36e2"
   },
   "outputs": [
    {
     "name": "stdout",
     "output_type": "stream",
     "text": [
      "Maltese\n"
     ]
    }
   ],
   "source": [
    "print(my_dog.type)"
   ]
  },
  {
   "cell_type": "code",
   "execution_count": 33,
   "metadata": {
    "colab": {
     "autoexec": {
      "startup": false,
      "wait_interval": 0
     }
    },
    "colab_type": "code",
    "collapsed": true,
    "id": "8pyHBwiWHYlY"
   },
   "outputs": [],
   "source": [
    "my_dog = Dog(name = 'Puppy', type = 'Maltese')"
   ]
  },
  {
   "cell_type": "code",
   "execution_count": 34,
   "metadata": {
    "colab": {
     "autoexec": {
      "startup": false,
      "wait_interval": 0
     },
     "base_uri": "https://localhost:8080/",
     "height": 35
    },
    "colab_type": "code",
    "executionInfo": {
     "elapsed": 302,
     "status": "ok",
     "timestamp": 1529195886512,
     "user": {
      "displayName": "Moad Computer",
      "photoUrl": "//lh5.googleusercontent.com/-Ic6_gWlgQXo/AAAAAAAAAAI/AAAAAAAAABA/KunqdqgBsx4/s50-c-k-no/photo.jpg",
      "userId": "105137350204760020224"
     },
     "user_tz": 240
    },
    "id": "tCjMIu4xLJQE",
    "outputId": "59130d87-bec8-4e83-be5c-dd677866ad1a"
   },
   "outputs": [
    {
     "name": "stdout",
     "output_type": "stream",
     "text": [
      "Your dog Puppy is: Maltese\n"
     ]
    }
   ],
   "source": [
    "my_dog.my_dog()"
   ]
  },
  {
   "cell_type": "markdown",
   "metadata": {
    "colab_type": "text",
    "id": "nmqZPOzhLvzI"
   },
   "source": [
    "### An object can store any random variable:\n",
    "- An object can store any variables, not necessarily those sepcified in the class."
   ]
  },
  {
   "cell_type": "code",
   "execution_count": 35,
   "metadata": {
    "colab": {
     "autoexec": {
      "startup": false,
      "wait_interval": 0
     }
    },
    "colab_type": "code",
    "collapsed": true,
    "id": "4GnW4RMULZmL"
   },
   "outputs": [],
   "source": [
    "my_dog.hello_world = \"Hello World\""
   ]
  },
  {
   "cell_type": "code",
   "execution_count": 36,
   "metadata": {
    "colab": {
     "autoexec": {
      "startup": false,
      "wait_interval": 0
     },
     "base_uri": "https://localhost:8080/",
     "height": 35
    },
    "colab_type": "code",
    "executionInfo": {
     "elapsed": 327,
     "status": "ok",
     "timestamp": 1529196047113,
     "user": {
      "displayName": "Moad Computer",
      "photoUrl": "//lh5.googleusercontent.com/-Ic6_gWlgQXo/AAAAAAAAAAI/AAAAAAAAABA/KunqdqgBsx4/s50-c-k-no/photo.jpg",
      "userId": "105137350204760020224"
     },
     "user_tz": 240
    },
    "id": "vvE9YZl1LqnM",
    "outputId": "d25a7026-2f7e-45b9-9e4f-b7fe8959d5fc"
   },
   "outputs": [
    {
     "data": {
      "text/plain": [
       "'Hello World'"
      ]
     },
     "execution_count": 36,
     "metadata": {},
     "output_type": "execute_result"
    }
   ],
   "source": [
    "my_dog.hello_world"
   ]
  },
  {
   "cell_type": "markdown",
   "metadata": {},
   "source": [
    "### Accessing an object function that also takes a keyword argument:"
   ]
  },
  {
   "cell_type": "code",
   "execution_count": 37,
   "metadata": {
    "colab": {
     "autoexec": {
      "startup": false,
      "wait_interval": 0
     },
     "base_uri": "https://localhost:8080/",
     "height": 35
    },
    "colab_type": "code",
    "executionInfo": {
     "elapsed": 316,
     "status": "ok",
     "timestamp": 1529196048826,
     "user": {
      "displayName": "Moad Computer",
      "photoUrl": "//lh5.googleusercontent.com/-Ic6_gWlgQXo/AAAAAAAAAAI/AAAAAAAAABA/KunqdqgBsx4/s50-c-k-no/photo.jpg",
      "userId": "105137350204760020224"
     },
     "user_tz": 240
    },
    "id": "iwuUh9P5geD0",
    "outputId": "b5a7c3a8-7a16-443c-86af-8e371164bcbe"
   },
   "outputs": [
    {
     "name": "stdout",
     "output_type": "stream",
     "text": [
      "Your dog Puppy's pink color is so cute ...\n"
     ]
    }
   ],
   "source": [
    "my_dog.dog_color(color = 'Pink')"
   ]
  },
  {
   "cell_type": "code",
   "execution_count": 38,
   "metadata": {
    "colab": {
     "autoexec": {
      "startup": false,
      "wait_interval": 0
     },
     "base_uri": "https://localhost:8080/",
     "height": 35
    },
    "colab_type": "code",
    "executionInfo": {
     "elapsed": 301,
     "status": "ok",
     "timestamp": 1529196064276,
     "user": {
      "displayName": "Moad Computer",
      "photoUrl": "//lh5.googleusercontent.com/-Ic6_gWlgQXo/AAAAAAAAAAI/AAAAAAAAABA/KunqdqgBsx4/s50-c-k-no/photo.jpg",
      "userId": "105137350204760020224"
     },
     "user_tz": 240
    },
    "id": "Pu8RGX67hUY5",
    "outputId": "b41563fe-ab3b-4492-edd0-d4cbee8403f5"
   },
   "outputs": [
    {
     "name": "stdout",
     "output_type": "stream",
     "text": [
      "Your dog Puppy's blue color makes it look like a smurf ...\n"
     ]
    }
   ],
   "source": [
    "my_dog.dog_color(color='Blue')"
   ]
  },
  {
   "cell_type": "markdown",
   "metadata": {
    "colab_type": "text",
    "id": "oGjtF6gZ5Yvs"
   },
   "source": [
    "### Change the values of a variable in an object:"
   ]
  },
  {
   "cell_type": "code",
   "execution_count": 39,
   "metadata": {
    "colab": {
     "autoexec": {
      "startup": false,
      "wait_interval": 0
     }
    },
    "colab_type": "code",
    "collapsed": true,
    "id": "IeiUUW-djj3t"
   },
   "outputs": [],
   "source": [
    "my_dog.name = \"Cute Puppy\""
   ]
  },
  {
   "cell_type": "code",
   "execution_count": 40,
   "metadata": {
    "colab": {
     "autoexec": {
      "startup": false,
      "wait_interval": 0
     },
     "base_uri": "https://localhost:8080/",
     "height": 35
    },
    "colab_type": "code",
    "executionInfo": {
     "elapsed": 413,
     "status": "ok",
     "timestamp": 1529196105834,
     "user": {
      "displayName": "Moad Computer",
      "photoUrl": "//lh5.googleusercontent.com/-Ic6_gWlgQXo/AAAAAAAAAAI/AAAAAAAAABA/KunqdqgBsx4/s50-c-k-no/photo.jpg",
      "userId": "105137350204760020224"
     },
     "user_tz": 240
    },
    "id": "6nh8zKkdMHCB",
    "outputId": "a7c82384-c0c8-4793-f5fd-9470b6d7df4a"
   },
   "outputs": [
    {
     "name": "stdout",
     "output_type": "stream",
     "text": [
      "Your dog Cute Puppy is: Maltese\n"
     ]
    }
   ],
   "source": [
    "my_dog.my_dog()"
   ]
  },
  {
   "cell_type": "code",
   "execution_count": 41,
   "metadata": {
    "colab": {
     "autoexec": {
      "startup": false,
      "wait_interval": 0
     },
     "base_uri": "https://localhost:8080/",
     "height": 35
    },
    "colab_type": "code",
    "executionInfo": {
     "elapsed": 453,
     "status": "ok",
     "timestamp": 1529196088729,
     "user": {
      "displayName": "Moad Computer",
      "photoUrl": "//lh5.googleusercontent.com/-Ic6_gWlgQXo/AAAAAAAAAAI/AAAAAAAAABA/KunqdqgBsx4/s50-c-k-no/photo.jpg",
      "userId": "105137350204760020224"
     },
     "user_tz": 240
    },
    "id": "q_2I7UNzzNMK",
    "outputId": "9a114b30-20e9-4534-c82c-5f3129ebb281"
   },
   "outputs": [
    {
     "name": "stdout",
     "output_type": "stream",
     "text": [
      "Your dog: Cute Puppy's color is: black.\n"
     ]
    }
   ],
   "source": [
    "my_dog.dog_color(color='Black')"
   ]
  }
 ],
 "metadata": {
  "colab": {
   "collapsed_sections": [],
   "default_view": {},
   "name": "Objects_Classes_Constructors_and_Functions.ipynb",
   "provenance": [],
   "version": "0.3.2",
   "views": {}
  },
  "kernelspec": {
   "display_name": "Python 3",
   "language": "python",
   "name": "python3"
  },
  "language_info": {
   "codemirror_mode": {
    "name": "ipython",
    "version": 3
   },
   "file_extension": ".py",
   "mimetype": "text/x-python",
   "name": "python",
   "nbconvert_exporter": "python",
   "pygments_lexer": "ipython3",
   "version": "3.6.1"
  }
 },
 "nbformat": 4,
 "nbformat_minor": 1
}
