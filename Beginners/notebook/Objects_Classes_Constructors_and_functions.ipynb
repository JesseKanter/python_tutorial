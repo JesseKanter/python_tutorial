{
  "nbformat": 4,
  "nbformat_minor": 0,
  "metadata": {
    "colab": {
      "name": "Objects_Classes_Constructors_and_functions.ipynb",
      "version": "0.3.2",
      "views": {},
      "default_view": {},
      "provenance": []
    },
    "kernelspec": {
      "name": "python3",
      "display_name": "Python 3"
    }
  },
  "cells": [
    {
      "metadata": {
        "id": "occgZpjUrxRH",
        "colab_type": "text"
      },
      "cell_type": "markdown",
      "source": [
        "# Object oriented programming in python:\n",
        "\n",
        "- Objects are an encapsulation of variables and functions into a single entity. \n",
        "- Objects get their variables and functions from classes. \n",
        "- Classes are essentially a template to create your objects."
      ]
    },
    {
      "metadata": {
        "id": "YVtvy4oRr9Vy",
        "colab_type": "text"
      },
      "cell_type": "markdown",
      "source": [
        "### Let us define a very basic class in python:"
      ]
    },
    {
      "metadata": {
        "id": "NGfTgWAVrDqi",
        "colab_type": "code",
        "colab": {
          "autoexec": {
            "startup": false,
            "wait_interval": 0
          }
        }
      },
      "cell_type": "code",
      "source": [
        "class Some_Class:\n",
        "    variable = \"Some string inside python class.\"\n",
        "\n",
        "    def Some_Function(self):\n",
        "        print(\"This is a message inside the class.\")"
      ],
      "execution_count": 0,
      "outputs": []
    },
    {
      "metadata": {
        "id": "ifav8vLEsR-p",
        "colab_type": "text"
      },
      "cell_type": "markdown",
      "source": [
        "### Assign an object to the class:\n",
        "\n",
        "- To assign the above class(template) to an object(variable), do the following:"
      ]
    },
    {
      "metadata": {
        "id": "IiEXYb7frkJh",
        "colab_type": "code",
        "colab": {
          "autoexec": {
            "startup": false,
            "wait_interval": 0
          }
        }
      },
      "cell_type": "code",
      "source": [
        "Some_obect = Some_Class()"
      ],
      "execution_count": 0,
      "outputs": []
    },
    {
      "metadata": {
        "id": "pVY6dJfms5lt",
        "colab_type": "text"
      },
      "cell_type": "markdown",
      "source": [
        "### Accessing object variables:\n",
        "\n",
        "- To access the variable inside of the newly created object:"
      ]
    },
    {
      "metadata": {
        "id": "_sHfeX4atJ3_",
        "colab_type": "code",
        "colab": {
          "autoexec": {
            "startup": false,
            "wait_interval": 0
          },
          "base_uri": "https://localhost:8080/",
          "height": 35
        },
        "outputId": "41ae8ee0-9ad9-4419-9a4a-68fd0b1665ed",
        "executionInfo": {
          "status": "ok",
          "timestamp": 1529040770464,
          "user_tz": 240,
          "elapsed": 261,
          "user": {
            "displayName": "Moad Computer",
            "photoUrl": "//lh5.googleusercontent.com/-Ic6_gWlgQXo/AAAAAAAAAAI/AAAAAAAAABA/KunqdqgBsx4/s50-c-k-no/photo.jpg",
            "userId": "105137350204760020224"
          }
        }
      },
      "cell_type": "code",
      "source": [
        "print(Some_Class.variable)"
      ],
      "execution_count": 3,
      "outputs": [
        {
          "output_type": "stream",
          "text": [
            "Some string inside python class.\n"
          ],
          "name": "stdout"
        }
      ]
    },
    {
      "metadata": {
        "id": "LtMnO_3kvzHy",
        "colab_type": "text"
      },
      "cell_type": "markdown",
      "source": [
        "### Importance of object oriented programing:\n",
        "- Object oriented programing helps create multiple different objects.\n",
        "- They are of the same class with the same variables and functions defined. \n",
        "- Each object contains independent copies of the variables defined in the class. \n",
        "- If another object with the \"Some_Class\" class is defined, then the string in the variable can be changed as follows:"
      ]
    },
    {
      "metadata": {
        "id": "bYDMoKwqwkmP",
        "colab_type": "code",
        "colab": {
          "autoexec": {
            "startup": false,
            "wait_interval": 0
          }
        }
      },
      "cell_type": "code",
      "source": [
        "first_object = Some_Class()\n",
        "second_object = Some_Class()"
      ],
      "execution_count": 0,
      "outputs": []
    },
    {
      "metadata": {
        "id": "e7_8gQNWwxV3",
        "colab_type": "code",
        "colab": {
          "autoexec": {
            "startup": false,
            "wait_interval": 0
          }
        }
      },
      "cell_type": "code",
      "source": [
        "second_object.variable = \"The modified variable string.\""
      ],
      "execution_count": 0,
      "outputs": []
    },
    {
      "metadata": {
        "id": "4DcudAziw7R8",
        "colab_type": "code",
        "colab": {
          "autoexec": {
            "startup": false,
            "wait_interval": 0
          },
          "base_uri": "https://localhost:8080/",
          "height": 53
        },
        "outputId": "bdf81af5-5e88-4ff9-9bda-eb20db97d93b",
        "executionInfo": {
          "status": "ok",
          "timestamp": 1529040772784,
          "user_tz": 240,
          "elapsed": 622,
          "user": {
            "displayName": "Moad Computer",
            "photoUrl": "//lh5.googleusercontent.com/-Ic6_gWlgQXo/AAAAAAAAAAI/AAAAAAAAABA/KunqdqgBsx4/s50-c-k-no/photo.jpg",
            "userId": "105137350204760020224"
          }
        }
      },
      "cell_type": "code",
      "source": [
        "print(first_object.variable)\n",
        "print(second_object.variable)"
      ],
      "execution_count": 6,
      "outputs": [
        {
          "output_type": "stream",
          "text": [
            "Some string inside python class.\n",
            "The modified variable string.\n"
          ],
          "name": "stdout"
        }
      ]
    },
    {
      "metadata": {
        "id": "8J5E25WKxS8V",
        "colab_type": "text"
      },
      "cell_type": "markdown",
      "source": [
        "### Accessing object functions: \n",
        "\n",
        "- To access a function inside of an object in python, the notation similar to accessing a variable.\n",
        "\n",
        "-"
      ]
    },
    {
      "metadata": {
        "id": "hOthk54_xSFy",
        "colab_type": "code",
        "colab": {
          "autoexec": {
            "startup": false,
            "wait_interval": 0
          },
          "base_uri": "https://localhost:8080/",
          "height": 35
        },
        "outputId": "3b0106a2-90ad-454d-880e-23cc6d2ba5e2",
        "executionInfo": {
          "status": "ok",
          "timestamp": 1529040773575,
          "user_tz": 240,
          "elapsed": 468,
          "user": {
            "displayName": "Moad Computer",
            "photoUrl": "//lh5.googleusercontent.com/-Ic6_gWlgQXo/AAAAAAAAAAI/AAAAAAAAABA/KunqdqgBsx4/s50-c-k-no/photo.jpg",
            "userId": "105137350204760020224"
          }
        }
      },
      "cell_type": "code",
      "source": [
        "first_object.Some_Function()"
      ],
      "execution_count": 7,
      "outputs": [
        {
          "output_type": "stream",
          "text": [
            "This is a message inside the class.\n"
          ],
          "name": "stdout"
        }
      ]
    },
    {
      "metadata": {
        "id": "BxuQr4ftz6vD",
        "colab_type": "text"
      },
      "cell_type": "markdown",
      "source": [
        "### [Constructor or initializer in python](https://stackoverflow.com/questions/8609153/why-do-we-use-init-in-python-classes):\n",
        "\n",
        "- The __init__ function is called a constructor, or initializer.\n",
        "- It is automatically called when you create a new instance of a class.\n",
        "-  __init__ doesn't initialize a class, it initializes an instance of a class or an object. "
      ]
    },
    {
      "metadata": {
        "id": "iXpmur8a08cA",
        "colab_type": "text"
      },
      "cell_type": "markdown",
      "source": [
        "### A slightly more complex example of object oriented programing:\n",
        "\n",
        "- Uses a constructor for variables \"name\" and \"type\".\n",
        "- Uses a class variable, \"kind\".\n",
        "- Has a object function, \"color\"."
      ]
    },
    {
      "metadata": {
        "id": "-rhWDZqmeJ3p",
        "colab_type": "code",
        "colab": {
          "autoexec": {
            "startup": false,
            "wait_interval": 0
          }
        }
      },
      "cell_type": "code",
      "source": [
        "class Dog:\n",
        "  kind = 'I am a dog. According to scientists, I belong to a species called Canis lupus, under the sub-species familiaris.'\n",
        "  \n",
        "  def __init__(self, name =  None, type = None):\n",
        "    self.name = name\n",
        "    self.type = type\n",
        "    \n",
        "  def color(self, color = None):    \n",
        "    color = color.lower()\n",
        "    if color == ('pink'):\n",
        "      print (\"Your dog \" + str(self.name) + \"'s \" + color + \" color is so cute ...\")\n",
        "    elif color == ('blue'):\n",
        "      print (\"Your dog \" + str(self.name) + \"'s \" + color + \" color makes it look like a smurf ...\")\n",
        "    else:\n",
        "      print (\"Your dog: \" + str(self.name) + \"'s \" + \"color is: \" + color + \".\")"
      ],
      "execution_count": 0,
      "outputs": []
    },
    {
      "metadata": {
        "id": "B6JVs7zOeUzH",
        "colab_type": "code",
        "colab": {
          "autoexec": {
            "startup": false,
            "wait_interval": 0
          }
        }
      },
      "cell_type": "code",
      "source": [
        "my_dog = Dog(name = 'Puppy', type = 'Maltese')"
      ],
      "execution_count": 0,
      "outputs": []
    },
    {
      "metadata": {
        "id": "liNvoYvv5mAp",
        "colab_type": "code",
        "colab": {
          "autoexec": {
            "startup": false,
            "wait_interval": 0
          },
          "base_uri": "https://localhost:8080/",
          "height": 35
        },
        "outputId": "24348813-0899-4fa4-c307-6065247f934c",
        "executionInfo": {
          "status": "ok",
          "timestamp": 1529040775465,
          "user_tz": 240,
          "elapsed": 744,
          "user": {
            "displayName": "Moad Computer",
            "photoUrl": "//lh5.googleusercontent.com/-Ic6_gWlgQXo/AAAAAAAAAAI/AAAAAAAAABA/KunqdqgBsx4/s50-c-k-no/photo.jpg",
            "userId": "105137350204760020224"
          }
        }
      },
      "cell_type": "code",
      "source": [
        "print(my_dog)"
      ],
      "execution_count": 10,
      "outputs": [
        {
          "output_type": "stream",
          "text": [
            "<__main__.Dog object at 0x7f1259126eb8>\n"
          ],
          "name": "stdout"
        }
      ]
    },
    {
      "metadata": {
        "id": "x52VLJToeeNb",
        "colab_type": "code",
        "colab": {
          "autoexec": {
            "startup": false,
            "wait_interval": 0
          },
          "base_uri": "https://localhost:8080/",
          "height": 35
        },
        "outputId": "a25c1a64-d11f-42f3-eeb9-096e4f3d301c",
        "executionInfo": {
          "status": "ok",
          "timestamp": 1529040776175,
          "user_tz": 240,
          "elapsed": 413,
          "user": {
            "displayName": "Moad Computer",
            "photoUrl": "//lh5.googleusercontent.com/-Ic6_gWlgQXo/AAAAAAAAAAI/AAAAAAAAABA/KunqdqgBsx4/s50-c-k-no/photo.jpg",
            "userId": "105137350204760020224"
          }
        }
      },
      "cell_type": "code",
      "source": [
        "print(my_dog.name)"
      ],
      "execution_count": 11,
      "outputs": [
        {
          "output_type": "stream",
          "text": [
            "Puppy\n"
          ],
          "name": "stdout"
        }
      ]
    },
    {
      "metadata": {
        "id": "HN6_MQjne8sb",
        "colab_type": "code",
        "colab": {
          "autoexec": {
            "startup": false,
            "wait_interval": 0
          },
          "base_uri": "https://localhost:8080/",
          "height": 35
        },
        "outputId": "bb1de00e-762d-4bda-fc52-dfc01b220646",
        "executionInfo": {
          "status": "ok",
          "timestamp": 1529040777330,
          "user_tz": 240,
          "elapsed": 868,
          "user": {
            "displayName": "Moad Computer",
            "photoUrl": "//lh5.googleusercontent.com/-Ic6_gWlgQXo/AAAAAAAAAAI/AAAAAAAAABA/KunqdqgBsx4/s50-c-k-no/photo.jpg",
            "userId": "105137350204760020224"
          }
        }
      },
      "cell_type": "code",
      "source": [
        "print(my_dog.kind)"
      ],
      "execution_count": 12,
      "outputs": [
        {
          "output_type": "stream",
          "text": [
            "I am a dog. According to scientists, I belong to a species called Canis lupus, under the sub-species familiaris.\n"
          ],
          "name": "stdout"
        }
      ]
    },
    {
      "metadata": {
        "id": "DQAgQAj3fdxv",
        "colab_type": "code",
        "colab": {
          "autoexec": {
            "startup": false,
            "wait_interval": 0
          },
          "base_uri": "https://localhost:8080/",
          "height": 35
        },
        "outputId": "ef06bcb9-6e96-4148-c40c-16e5fca4bd49",
        "executionInfo": {
          "status": "ok",
          "timestamp": 1529040778135,
          "user_tz": 240,
          "elapsed": 499,
          "user": {
            "displayName": "Moad Computer",
            "photoUrl": "//lh5.googleusercontent.com/-Ic6_gWlgQXo/AAAAAAAAAAI/AAAAAAAAABA/KunqdqgBsx4/s50-c-k-no/photo.jpg",
            "userId": "105137350204760020224"
          }
        }
      },
      "cell_type": "code",
      "source": [
        "print(my_dog.type)"
      ],
      "execution_count": 13,
      "outputs": [
        {
          "output_type": "stream",
          "text": [
            "Maltese\n"
          ],
          "name": "stdout"
        }
      ]
    },
    {
      "metadata": {
        "id": "iwuUh9P5geD0",
        "colab_type": "code",
        "colab": {
          "autoexec": {
            "startup": false,
            "wait_interval": 0
          },
          "base_uri": "https://localhost:8080/",
          "height": 35
        },
        "outputId": "ee97fe8b-f774-45df-89a9-2ab03d19bedf",
        "executionInfo": {
          "status": "ok",
          "timestamp": 1529040778947,
          "user_tz": 240,
          "elapsed": 494,
          "user": {
            "displayName": "Moad Computer",
            "photoUrl": "//lh5.googleusercontent.com/-Ic6_gWlgQXo/AAAAAAAAAAI/AAAAAAAAABA/KunqdqgBsx4/s50-c-k-no/photo.jpg",
            "userId": "105137350204760020224"
          }
        }
      },
      "cell_type": "code",
      "source": [
        "my_dog.color(color='Pink')"
      ],
      "execution_count": 14,
      "outputs": [
        {
          "output_type": "stream",
          "text": [
            "Your dog Puppy's pink color is so cute ...\n"
          ],
          "name": "stdout"
        }
      ]
    },
    {
      "metadata": {
        "id": "Pu8RGX67hUY5",
        "colab_type": "code",
        "colab": {
          "autoexec": {
            "startup": false,
            "wait_interval": 0
          },
          "base_uri": "https://localhost:8080/",
          "height": 35
        },
        "outputId": "3d6105da-2371-4716-b160-9ec47fe87ece",
        "executionInfo": {
          "status": "ok",
          "timestamp": 1529040779496,
          "user_tz": 240,
          "elapsed": 310,
          "user": {
            "displayName": "Moad Computer",
            "photoUrl": "//lh5.googleusercontent.com/-Ic6_gWlgQXo/AAAAAAAAAAI/AAAAAAAAABA/KunqdqgBsx4/s50-c-k-no/photo.jpg",
            "userId": "105137350204760020224"
          }
        }
      },
      "cell_type": "code",
      "source": [
        "my_dog.color(color='Blue')"
      ],
      "execution_count": 15,
      "outputs": [
        {
          "output_type": "stream",
          "text": [
            "Your dog Puppy's blue color makes it look like a smurf ...\n"
          ],
          "name": "stdout"
        }
      ]
    },
    {
      "metadata": {
        "id": "oGjtF6gZ5Yvs",
        "colab_type": "text"
      },
      "cell_type": "markdown",
      "source": [
        "### Change the values of a variable in an object:"
      ]
    },
    {
      "metadata": {
        "id": "IeiUUW-djj3t",
        "colab_type": "code",
        "colab": {
          "autoexec": {
            "startup": false,
            "wait_interval": 0
          }
        }
      },
      "cell_type": "code",
      "source": [
        "my_dog.name = \"Cute Puppy\""
      ],
      "execution_count": 0,
      "outputs": []
    },
    {
      "metadata": {
        "id": "q_2I7UNzzNMK",
        "colab_type": "code",
        "colab": {
          "autoexec": {
            "startup": false,
            "wait_interval": 0
          },
          "base_uri": "https://localhost:8080/",
          "height": 35
        },
        "outputId": "a43f294e-8e52-480f-8b68-c210272252c0",
        "executionInfo": {
          "status": "ok",
          "timestamp": 1529040780703,
          "user_tz": 240,
          "elapsed": 310,
          "user": {
            "displayName": "Moad Computer",
            "photoUrl": "//lh5.googleusercontent.com/-Ic6_gWlgQXo/AAAAAAAAAAI/AAAAAAAAABA/KunqdqgBsx4/s50-c-k-no/photo.jpg",
            "userId": "105137350204760020224"
          }
        }
      },
      "cell_type": "code",
      "source": [
        "my_dog.color(color='Black')"
      ],
      "execution_count": 17,
      "outputs": [
        {
          "output_type": "stream",
          "text": [
            "Your dog: Cute Puppy's color is: black.\n"
          ],
          "name": "stdout"
        }
      ]
    },
    {
      "metadata": {
        "id": "DgTrp5z3zTmP",
        "colab_type": "code",
        "colab": {
          "autoexec": {
            "startup": false,
            "wait_interval": 0
          }
        }
      },
      "cell_type": "code",
      "source": [
        ""
      ],
      "execution_count": 0,
      "outputs": []
    }
  ]
}