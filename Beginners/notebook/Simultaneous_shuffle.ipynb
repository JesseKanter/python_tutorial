{
 "cells": [
  {
   "cell_type": "markdown",
   "metadata": {},
   "source": [
    "# Simultaneous shuffling"
   ]
  },
  {
   "cell_type": "markdown",
   "metadata": {},
   "source": [
    "### Implementation using numpy"
   ]
  },
  {
   "cell_type": "code",
   "execution_count": 1,
   "metadata": {},
   "outputs": [],
   "source": [
    "import numpy as np\n",
    "import gc"
   ]
  },
  {
   "cell_type": "code",
   "execution_count": 2,
   "metadata": {},
   "outputs": [],
   "source": [
    "def simultaneous_shuffle(X, Y):\n",
    "    merged_data = list(zip(X, Y))\n",
    "    np.random.shuffle(merged_data)\n",
    "    X, Y = zip(*merged_data)\n",
    "    del merged_data\n",
    "    gc.collect()\n",
    "    return np.asarray(X), np.asarray(Y)"
   ]
  },
  {
   "cell_type": "code",
   "execution_count": 3,
   "metadata": {},
   "outputs": [],
   "source": [
    "X = [[1, 5], [6, 7], [4,2]]\n",
    "Y = [[0, 0], [1, 0], [1,1]]"
   ]
  },
  {
   "cell_type": "code",
   "execution_count": 4,
   "metadata": {},
   "outputs": [
    {
     "name": "stdout",
     "output_type": "stream",
     "text": [
      "(array([[4, 2],\n",
      "       [1, 5],\n",
      "       [6, 7]]), array([[1, 1],\n",
      "       [0, 0],\n",
      "       [1, 0]]))\n"
     ]
    }
   ],
   "source": [
    "print(simultaneous_shuffle(X, Y))"
   ]
  },
  {
   "cell_type": "markdown",
   "metadata": {},
   "source": [
    "### Implementation using scikit learn"
   ]
  },
  {
   "cell_type": "code",
   "execution_count": 5,
   "metadata": {},
   "outputs": [],
   "source": [
    "from sklearn.utils import shuffle"
   ]
  },
  {
   "cell_type": "code",
   "execution_count": 6,
   "metadata": {},
   "outputs": [
    {
     "name": "stdout",
     "output_type": "stream",
     "text": [
      "[[[1, 5], [4, 2], [6, 7]], [[0, 0], [1, 1], [1, 0]]]\n"
     ]
    }
   ],
   "source": [
    "print(shuffle(X, Y, random_state=1024))"
   ]
  },
  {
   "cell_type": "markdown",
   "metadata": {},
   "source": [
    "### Independent shuffle"
   ]
  },
  {
   "cell_type": "code",
   "execution_count": 7,
   "metadata": {},
   "outputs": [
    {
     "name": "stdout",
     "output_type": "stream",
     "text": [
      "X =  [[1, 5], [6, 7], [4, 2]]\n",
      "Y =  [[0, 0], [1, 0], [1, 1]]\n",
      "Shuffled X =  [[6, 7], [1, 5], [4, 2]]\n",
      "Shuffled Y =  [[0, 0], [1, 1], [1, 0]]\n"
     ]
    }
   ],
   "source": [
    "print (\"X = \", X)\n",
    "print (\"Y = \", Y)\n",
    "np.random.shuffle(X)\n",
    "np.random.shuffle(Y)\n",
    "print (\"Shuffled X = \",X)\n",
    "print (\"Shuffled Y = \",Y)"
   ]
  },
  {
   "cell_type": "code",
   "execution_count": null,
   "metadata": {},
   "outputs": [],
   "source": []
  }
 ],
 "metadata": {
  "kernelspec": {
   "display_name": "Python 3 (Intel, 2018 update 2)",
   "language": "python",
   "name": "intel_distribution_of_python_3_2018u2"
  },
  "language_info": {
   "codemirror_mode": {
    "name": "ipython",
    "version": 3
   },
   "file_extension": ".py",
   "mimetype": "text/x-python",
   "name": "python",
   "nbconvert_exporter": "python",
   "pygments_lexer": "ipython3",
   "version": "3.6.3"
  }
 },
 "nbformat": 4,
 "nbformat_minor": 2
}
