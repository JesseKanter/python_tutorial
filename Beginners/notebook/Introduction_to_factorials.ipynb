{
 "cells": [
  {
   "cell_type": "markdown",
   "metadata": {},
   "source": [
    "# Introduction to factorials"
   ]
  },
  {
   "cell_type": "markdown",
   "metadata": {},
   "source": [
    "### Author: \n",
    "* Dr. Rahul Remanan [<rahul@moad.computer>]\n",
    "\n",
    "This notebook is inspired by an [old website from UC Berkley on Hamiltonian paths](http://www.ieor.berkeley.edu/~faridani/python.htm). The code examples described here are updated to Python 3."
   ]
  },
  {
   "cell_type": "markdown",
   "metadata": {},
   "source": [
    "## Part 01 -- Some basic math"
   ]
  },
  {
   "cell_type": "markdown",
   "metadata": {},
   "source": [
    "### [Factorial -- Computing n!](https://en.wikipedia.org/wiki/Factorial)\n",
    "\n",
    "In mathematics, the factorial of a non-negative integer $n$, denoted by $n!$, is the product of all positive integers less than or equal to n. \n",
    "\n",
    "For example:\n",
    "* $5! = (1 \\times 2 \\times 3 \\times 4 \\times 5$)\n",
    "\n",
    "Using python 3 [reduce function](http://book.pythontips.com/en/latest/map_filter.html), the $n!$ can be computed efficiently."
   ]
  },
  {
   "cell_type": "code",
   "execution_count": 1,
   "metadata": {
    "collapsed": true
   },
   "outputs": [],
   "source": [
    "from functools import reduce"
   ]
  },
  {
   "cell_type": "code",
   "execution_count": 2,
   "metadata": {},
   "outputs": [
    {
     "data": {
      "text/plain": [
       "120"
      ]
     },
     "execution_count": 2,
     "metadata": {},
     "output_type": "execute_result"
    }
   ],
   "source": [
    "k=5\n",
    "reduce(lambda i,j : i*j, range(1,k+1))"
   ]
  },
  {
   "cell_type": "markdown",
   "metadata": {},
   "source": [
    "### [Combination -- Math behind selections from a collection](https://en.wikipedia.org/wiki/Combination)\n",
    "\n",
    "Let us consider a small thought experiment involving picking types of fruits. For example, given three fruits, say an apple, an orange and a pear. We are allowed to pick two fruits from this basket. The possible outcome for choices can be computed by simply listing all the combinations. Here, there will be three combinations of two fruits that can be drawn from this set: an apple and a pear; an apple and an orange; or a pear and an orange.\n",
    "\n",
    "But, when the problem of selecting items involves a much larger sample size, it becomes impractial to write down a complete list of combinations. A great example for this is a poker hand. It can be described as a 5-combination $(k = 5)$ of cards from a 52 card deck $(n = 52)$. The 5 cards of the hand are all distinct, and the order of cards in the hand does not matter. There are 2,598,960 such combinations, and the chance of drawing any one hand at random is $\\frac{1}{2,598,960}$.\n",
    "\n",
    "One important concept to note here is that the set from where we are picking the elements from are all unique. \n",
    "\n",
    "Mathematically, a k-combination of a set S is a subset of $k$ distinct elements of S. If the set has $n$ distinct elements, the number of k-combinations is equal to the binomial coefficient.\n",
    "\n",
    "It can be expressed as:\n",
    "\n",
    "${\\binom {n}{k}} = \\frac {n(n-1)...(n-k+1)} {k(k-1)...1}$\n",
    "\n",
    "Alternatively, the formula above can be expressed using fatorials as:\n",
    "\n",
    "${\\binom {n}{k}} = \\frac {n!} {k!(n-k!)}$\n",
    "\n",
    "The expression: ${\\binom {n}{k}}$ is often read as \"$n$ choose $k$\".\n",
    "\n",
    "One of the challenges of designing a python function that computes combination is the efficiency of the computations involved and the ability to handle the unusal scenarios where the formula above can involve division by $0$ or $\\frac {\\infty}{\\infty}$.\n",
    "\n",
    "#### Special cases:\n",
    "\n",
    "If the sample sizes of $n$ (the set from which the distinct elements are drawn from) and $k$ (the set that receives the selected items) satisfy the condition, $n=k$, then there is only one possible outcome combination available.\n",
    "\n",
    "If $n$ and $k$ satisfy the condition, $n>0$ and $k=0$ or when $n=k$ then there is only one possible combination available.\n",
    "\n",
    "If $n$ and $k$ satisfy the condition, $n>0$ and $n<k$ then the result will be zero.\n",
    "\n",
    "If $n$ and $k$ satisfy the condition, $n=0$ and $k=0$, then the number of possible outcome combinations are undefined, due to $\\frac{0}{0}$."
   ]
  },
  {
   "cell_type": "code",
   "execution_count": 3,
   "metadata": {},
   "outputs": [],
   "source": [
    "def combination(n,k):    \n",
    "    \"\"\"\n",
    "    This function computes the combination of two integers, n and c, given by the formula using factorials:\n",
    "\n",
    "      n!\n",
    "    -------\n",
    "    k! (n-k)!\n",
    "\n",
    "    Params: n, k -- Both should be non-negative, integers.\n",
    "    \"\"\"\n",
    "    if not isinstance(n, int) or not isinstance(k, int):\n",
    "        raise ValueError(\"To compute combination of n and k, both n and k must be non-negative integers.\")\n",
    "    elif n==0 and k==0:\n",
    "        raise ValueError(\"To compute combination of n and k, both n and k cannot be zero. Result is zero divided by zero, which is undefined.\")\n",
    "    elif n==k:\n",
    "        return 1\n",
    "    elif k==0:\n",
    "        return 1\n",
    "    elif n<k:\n",
    "        return 0\n",
    "    elif n>0 and k>0 and n>k:\n",
    "        return int((reduce(lambda i,j : i*j, range(1,n+1)))/((reduce(lambda i,j : i*j, range(1,k+1)))*(reduce(lambda i,j : i*j, range(1,n-k+1)))))\n",
    "    else:\n",
    "        raise ValueError(\"To compute combination of n and k, both n and k must be non-negative integers.\")"
   ]
  },
  {
   "cell_type": "code",
   "execution_count": 4,
   "metadata": {},
   "outputs": [
    {
     "name": "stdout",
     "output_type": "stream",
     "text": [
      "2598960\n"
     ]
    }
   ],
   "source": [
    "print (combination(52,5))"
   ]
  },
  {
   "cell_type": "code",
   "execution_count": 5,
   "metadata": {},
   "outputs": [
    {
     "name": "stdout",
     "output_type": "stream",
     "text": [
      "1\n"
     ]
    }
   ],
   "source": [
    "print (combination(52,0))"
   ]
  },
  {
   "cell_type": "code",
   "execution_count": 6,
   "metadata": {},
   "outputs": [
    {
     "name": "stdout",
     "output_type": "stream",
     "text": [
      "1\n"
     ]
    }
   ],
   "source": [
    "print (combination(52,52))"
   ]
  },
  {
   "cell_type": "code",
   "execution_count": 7,
   "metadata": {},
   "outputs": [
    {
     "name": "stdout",
     "output_type": "stream",
     "text": [
      "0\n"
     ]
    }
   ],
   "source": [
    "print (combination(52,56))"
   ]
  },
  {
   "cell_type": "code",
   "execution_count": 8,
   "metadata": {},
   "outputs": [
    {
     "ename": "ValueError",
     "evalue": "To compute combination of n and k, both n and k cannot be zero. Result is zero divided by zero, which is undefined.",
     "output_type": "error",
     "traceback": [
      "\u001b[1;31m---------------------------------------------------------------------------\u001b[0m",
      "\u001b[1;31mValueError\u001b[0m                                Traceback (most recent call last)",
      "\u001b[1;32m<ipython-input-8-a43ee2be6db0>\u001b[0m in \u001b[0;36m<module>\u001b[1;34m()\u001b[0m\n\u001b[1;32m----> 1\u001b[1;33m \u001b[0mprint\u001b[0m \u001b[1;33m(\u001b[0m\u001b[0mcombination\u001b[0m\u001b[1;33m(\u001b[0m\u001b[1;36m0\u001b[0m\u001b[1;33m,\u001b[0m\u001b[1;36m0\u001b[0m\u001b[1;33m)\u001b[0m\u001b[1;33m)\u001b[0m\u001b[1;33m\u001b[0m\u001b[0m\n\u001b[0m",
      "\u001b[1;32m<ipython-input-3-96a4bf77dfff>\u001b[0m in \u001b[0;36mcombination\u001b[1;34m(n, k)\u001b[0m\n\u001b[0;32m     12\u001b[0m         \u001b[1;32mraise\u001b[0m \u001b[0mValueError\u001b[0m\u001b[1;33m(\u001b[0m\u001b[1;34m\"To compute combination of n and k, both n and k must be non-negative integers.\"\u001b[0m\u001b[1;33m)\u001b[0m\u001b[1;33m\u001b[0m\u001b[0m\n\u001b[0;32m     13\u001b[0m     \u001b[1;32melif\u001b[0m \u001b[0mn\u001b[0m\u001b[1;33m==\u001b[0m\u001b[1;36m0\u001b[0m \u001b[1;32mand\u001b[0m \u001b[0mk\u001b[0m\u001b[1;33m==\u001b[0m\u001b[1;36m0\u001b[0m\u001b[1;33m:\u001b[0m\u001b[1;33m\u001b[0m\u001b[0m\n\u001b[1;32m---> 14\u001b[1;33m         \u001b[1;32mraise\u001b[0m \u001b[0mValueError\u001b[0m\u001b[1;33m(\u001b[0m\u001b[1;34m\"To compute combination of n and k, both n and k cannot be zero. Result is zero divided by zero, which is undefined.\"\u001b[0m\u001b[1;33m)\u001b[0m\u001b[1;33m\u001b[0m\u001b[0m\n\u001b[0m\u001b[0;32m     15\u001b[0m     \u001b[1;32melif\u001b[0m \u001b[0mn\u001b[0m\u001b[1;33m==\u001b[0m\u001b[0mk\u001b[0m\u001b[1;33m:\u001b[0m\u001b[1;33m\u001b[0m\u001b[0m\n\u001b[0;32m     16\u001b[0m         \u001b[1;32mreturn\u001b[0m \u001b[1;36m1\u001b[0m\u001b[1;33m\u001b[0m\u001b[0m\n",
      "\u001b[1;31mValueError\u001b[0m: To compute combination of n and k, both n and k cannot be zero. Result is zero divided by zero, which is undefined."
     ]
    }
   ],
   "source": [
    "print (combination(0,0))"
   ]
  },
  {
   "cell_type": "code",
   "execution_count": 9,
   "metadata": {},
   "outputs": [
    {
     "name": "stdout",
     "output_type": "stream",
     "text": [
      "1\n"
     ]
    }
   ],
   "source": [
    "print (combination(52,0))"
   ]
  },
  {
   "cell_type": "code",
   "execution_count": 10,
   "metadata": {},
   "outputs": [
    {
     "ename": "ValueError",
     "evalue": "To compute combination of n and k, both n and k must be non-negative integers.",
     "output_type": "error",
     "traceback": [
      "\u001b[1;31m---------------------------------------------------------------------------\u001b[0m",
      "\u001b[1;31mValueError\u001b[0m                                Traceback (most recent call last)",
      "\u001b[1;32m<ipython-input-10-b7b58b8dcdda>\u001b[0m in \u001b[0;36m<module>\u001b[1;34m()\u001b[0m\n\u001b[1;32m----> 1\u001b[1;33m \u001b[0mprint\u001b[0m \u001b[1;33m(\u001b[0m\u001b[0mcombination\u001b[0m\u001b[1;33m(\u001b[0m\u001b[1;36m52\u001b[0m\u001b[1;33m,\u001b[0m\u001b[1;36m2.5\u001b[0m\u001b[1;33m)\u001b[0m\u001b[1;33m)\u001b[0m\u001b[1;33m\u001b[0m\u001b[0m\n\u001b[0m",
      "\u001b[1;32m<ipython-input-3-96a4bf77dfff>\u001b[0m in \u001b[0;36mcombination\u001b[1;34m(n, k)\u001b[0m\n\u001b[0;32m     10\u001b[0m     \"\"\"\n\u001b[0;32m     11\u001b[0m     \u001b[1;32mif\u001b[0m \u001b[1;32mnot\u001b[0m \u001b[0misinstance\u001b[0m\u001b[1;33m(\u001b[0m\u001b[0mn\u001b[0m\u001b[1;33m,\u001b[0m \u001b[0mint\u001b[0m\u001b[1;33m)\u001b[0m \u001b[1;32mor\u001b[0m \u001b[1;32mnot\u001b[0m \u001b[0misinstance\u001b[0m\u001b[1;33m(\u001b[0m\u001b[0mk\u001b[0m\u001b[1;33m,\u001b[0m \u001b[0mint\u001b[0m\u001b[1;33m)\u001b[0m\u001b[1;33m:\u001b[0m\u001b[1;33m\u001b[0m\u001b[0m\n\u001b[1;32m---> 12\u001b[1;33m         \u001b[1;32mraise\u001b[0m \u001b[0mValueError\u001b[0m\u001b[1;33m(\u001b[0m\u001b[1;34m\"To compute combination of n and k, both n and k must be non-negative integers.\"\u001b[0m\u001b[1;33m)\u001b[0m\u001b[1;33m\u001b[0m\u001b[0m\n\u001b[0m\u001b[0;32m     13\u001b[0m     \u001b[1;32melif\u001b[0m \u001b[0mn\u001b[0m\u001b[1;33m==\u001b[0m\u001b[1;36m0\u001b[0m \u001b[1;32mand\u001b[0m \u001b[0mk\u001b[0m\u001b[1;33m==\u001b[0m\u001b[1;36m0\u001b[0m\u001b[1;33m:\u001b[0m\u001b[1;33m\u001b[0m\u001b[0m\n\u001b[0;32m     14\u001b[0m         \u001b[1;32mraise\u001b[0m \u001b[0mValueError\u001b[0m\u001b[1;33m(\u001b[0m\u001b[1;34m\"To compute combination of n and k, both n and k cannot be zero. Result is zero divided by zero, which is undefined.\"\u001b[0m\u001b[1;33m)\u001b[0m\u001b[1;33m\u001b[0m\u001b[0m\n",
      "\u001b[1;31mValueError\u001b[0m: To compute combination of n and k, both n and k must be non-negative integers."
     ]
    }
   ],
   "source": [
    "print (combination(52,2.5))"
   ]
  },
  {
   "cell_type": "code",
   "execution_count": null,
   "metadata": {
    "collapsed": true
   },
   "outputs": [],
   "source": []
  }
 ],
 "metadata": {
  "kernelspec": {
   "display_name": "Python 3",
   "language": "python",
   "name": "python3"
  },
  "language_info": {
   "codemirror_mode": {
    "name": "ipython",
    "version": 3
   },
   "file_extension": ".py",
   "mimetype": "text/x-python",
   "name": "python",
   "nbconvert_exporter": "python",
   "pygments_lexer": "ipython3",
   "version": "3.6.1"
  }
 },
 "nbformat": 4,
 "nbformat_minor": 2
}
