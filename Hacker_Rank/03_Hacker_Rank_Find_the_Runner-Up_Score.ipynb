{
 "cells": [
  {
   "cell_type": "markdown",
   "metadata": {},
   "source": [
    "## Find the Runner-Up Score:\n",
    "\n",
    "Given the participants' score sheet for your University Sports Day, you are required to find the runner-up score. You are given n scores. Store them in a list and find the score of the runner-up.\n",
    "\n",
    "## Input Format:\n",
    "\n",
    "The first line contains n. The second line contains an array A[] of n integers each separated by a space.\n",
    "\n",
    "## Constraints:\n",
    "\n",
    "* 2<=n<=10\n",
    "* -100<=A[i]<=100\n",
    "\n",
    "## Output Format:\n",
    "\n",
    "Print the runner-up score.\n",
    "\n",
    "## Sample Input 0:\n",
    "\n",
    "5\n",
    "2 3 6 6 5\n",
    "\n",
    "Sample Output 0\n",
    "\n",
    "5\n",
    "\n",
    "## Explanation 0:\n",
    "\n",
    "Given list is [2,3,6,6,5]. The maximum score is 6,second maximum is 5. Hence, we print 5 as the runner-up score. "
   ]
  },
  {
   "cell_type": "markdown",
   "metadata": {},
   "source": [
    "## Solution:"
   ]
  },
  {
   "cell_type": "code",
   "execution_count": 3,
   "metadata": {},
   "outputs": [
    {
     "name": "stdout",
     "output_type": "stream",
     "text": [
      "5\n",
      "2 4 4 5 6\n",
      "5\n"
     ]
    }
   ],
   "source": [
    "if __name__ == '__main__':\n",
    "    n = int(input())\n",
    "    if 2<=n<=10:\n",
    "        scores = list(map(int, input().split()))\n",
    "        if (len(list(scores))) == n:\n",
    "            attempt = 0\n",
    "            for i in scores:\n",
    "                if -100<=i<=100:\n",
    "                    if attempt ==0:\n",
    "                        attempt = attempt+1\n",
    "                        try:\n",
    "                            print (sorted(list(set(scores)))[-2])\n",
    "                        except:\n",
    "                            try:\n",
    "                                print (sorted(list(set(scores)))[-1])\n",
    "                            except:\n",
    "                                try:\n",
    "                                    print (sorted(list(set(scores)))[0])\n",
    "                                except:\n",
    "                                    exit(0)\n",
    "                        else:\n",
    "                            exit(0)\n",
    "                    else:\n",
    "                        exit(0)\n",
    "                else:\n",
    "                    exit(0)\n",
    "        else:\n",
    "            exit(0)\n",
    "    else:\n",
    "        exit(0)"
   ]
  }
 ],
 "metadata": {
  "kernelspec": {
   "display_name": "Python 3",
   "language": "python",
   "name": "python3"
  },
  "language_info": {
   "codemirror_mode": {
    "name": "ipython",
    "version": 3
   },
   "file_extension": ".py",
   "mimetype": "text/x-python",
   "name": "python",
   "nbconvert_exporter": "python",
   "pygments_lexer": "ipython3",
   "version": "3.6.1"
  }
 },
 "nbformat": 4,
 "nbformat_minor": 2
}
