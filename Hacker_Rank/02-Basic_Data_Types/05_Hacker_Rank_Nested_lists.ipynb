{
 "cells": [
  {
   "cell_type": "markdown",
   "metadata": {},
   "source": [
    "## Problem:\n",
    "\n",
    "Given the names and grades for each student in a Physics class of N students, store them in a nested list and print the name(s) of any student(s) having the second lowest grade.\n",
    "\n",
    "Note: If there are multiple students with the same grade, order their names alphabetically and print each name on a new line.\n",
    "\n",
    "### Input Format:\n",
    "\n",
    "The first line contains an integer, N, the number of students.\n",
    "The 2N subsequent lines describe each student over 2 lines; the first line contains a student's name, and the second line contains their grade.\n",
    "\n",
    "### Constraints:\n",
    "\n",
    "* 2<=N<=5\n",
    "\n",
    "* There will always be one or more students having the second lowest grade.\n",
    "\n",
    "Output Format\n",
    "\n",
    "Print the name(s) of any student(s) having the second lowest grade in Physics; if there are multiple students, order their names alphabetically and print each one on a new line.\n",
    "\n",
    "### Sample Input: \n",
    "\n",
    "5\n",
    "Harry\n",
    "37.21\n",
    "Berry\n",
    "37.21\n",
    "Tina\n",
    "37.2\n",
    "Akriti\n",
    "41\n",
    "Harsh\n",
    "39\n",
    "\n",
    "### Sample Output:\n",
    "\n",
    "Berry\n",
    "Harry\n",
    "\n",
    "### Explanation:\n",
    "\n",
    "There are 5 students in this class whose names and grades are assembled to build the following list:\n",
    "\n",
    "students = [['Harry', 37.21], ['Berry', 37.21], ['Tina', 37.2], ['Akriti', 41], ['Harsh', 39]]\n",
    "\n",
    "The lowest grade of 37.2 belongs to Tina. The second lowest grade of 37.21 belongs to both Harry and Berry, so we order their names alphabetically and print each name on a new line."
   ]
  },
  {
   "cell_type": "markdown",
   "metadata": {},
   "source": [
    "## Solution:"
   ]
  },
  {
   "cell_type": "code",
   "execution_count": 1,
   "metadata": {},
   "outputs": [
    {
     "name": "stdout",
     "output_type": "stream",
     "text": [
      "5\n",
      "A\n",
      "2\n",
      "B\n",
      "3\n",
      "C\n",
      "4\n",
      "D\n",
      "2\n",
      "E\n",
      "3\n",
      "B\n",
      "E\n"
     ]
    }
   ],
   "source": [
    "if __name__ == '__main__':\n",
    "    n = int(input())\n",
    "    class_score = [[input(), float(input())] for _ in range(n)]\n",
    "    second_highest = sorted(list(set([score for name, score in class_score])))[1]\n",
    "    print('\\n'.join([a for a,b in sorted(class_score) if b == second_highest]))      "
   ]
  },
  {
   "cell_type": "code",
   "execution_count": null,
   "metadata": {
    "collapsed": true
   },
   "outputs": [],
   "source": []
  },
  {
   "cell_type": "code",
   "execution_count": null,
   "metadata": {
    "collapsed": true
   },
   "outputs": [],
   "source": []
  }
 ],
 "metadata": {
  "kernelspec": {
   "display_name": "Python 3",
   "language": "python",
   "name": "python3"
  },
  "language_info": {
   "codemirror_mode": {
    "name": "ipython",
    "version": 3
   },
   "file_extension": ".py",
   "mimetype": "text/x-python",
   "name": "python",
   "nbconvert_exporter": "python",
   "pygments_lexer": "ipython3",
   "version": "3.6.1"
  }
 },
 "nbformat": 4,
 "nbformat_minor": 2
}
