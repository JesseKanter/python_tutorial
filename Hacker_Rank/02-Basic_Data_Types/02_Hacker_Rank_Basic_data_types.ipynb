{
 "cells": [
  {
   "cell_type": "markdown",
   "metadata": {},
   "source": [
    "# Basic Data Types:\n",
    "\n",
    "## Task 1 -- Lists:\n",
    "\n",
    "## Python List Examples – Insert, Append, Length, Index, Remove, Pop\n",
    "\n",
    "Consider a list (list = []). You can perform the following commands:\n",
    "\n",
    "1) insert i e: Insert integer  at position .\n",
    "2) print: Print the list.\n",
    "3) remove e: Delete the first occurrence of integer .\n",
    "4) append e: Insert integer  at the end of the list.\n",
    "5) sort: Sort the list.\n",
    "6) pop: Pop the last element from the list.\n",
    "7) reverse: Reverse the list.\n",
    "\n",
    "Initialize your list and read in the value of  followed by  lines of commands where each command will be of the types listed above. Iterate through each command in order and perform the corresponding operation on your list.\n",
    "\n",
    "Input Format\n",
    "\n",
    "The first line contains an integer, , denoting the number of commands. \n",
    "Each line  of the  subsequent lines contains one of the commands described above.\n",
    "\n",
    "Constraints\n",
    "\n",
    "The elements added to the list must be integers.\n",
    "Output Format\n",
    "\n",
    "For each command of type print, print the list on a new line.\n",
    "\n",
    "### Sample Input\n",
    "\n",
    "12\n",
    "\n",
    "insert 0 5\n",
    "\n",
    "insert 1 10\n",
    "\n",
    "insert 0 6\n",
    "\n",
    "print \n",
    "\n",
    "remove 6\n",
    "\n",
    "append 9\n",
    "\n",
    "append 1\n",
    "\n",
    "sort \n",
    "\n",
    "print\n",
    "\n",
    "pop\n",
    "\n",
    "reverse\n",
    "\n",
    "print\n",
    "\n",
    "### Sample Output\n",
    "\n",
    "[6, 5, 10]\n",
    "\n",
    "[1, 5, 9, 10]\n",
    "\n",
    "[9, 5, 1]"
   ]
  },
  {
   "cell_type": "markdown",
   "metadata": {},
   "source": [
    "### Answer:"
   ]
  },
  {
   "cell_type": "code",
   "execution_count": 4,
   "metadata": {},
   "outputs": [
    {
     "name": "stdout",
     "output_type": "stream",
     "text": [
      "12\n",
      "insert 0 5\n",
      "insert 1 10\n",
      "insert 0 6\n",
      "print\n",
      "[6, 5, 10]\n",
      "remove 6\n",
      "append 9\n",
      "append 1\n",
      "sort\n",
      "print\n",
      "[1, 5, 9, 10]\n",
      "pop\n",
      "reverse\n",
      "print\n",
      "[9, 5, 1]\n"
     ]
    }
   ],
   "source": [
    "if __name__ == '__main__':\n",
    "    N = int(input())\n",
    "    L = []\n",
    "    for _ in range(0, N):\n",
    "        user_input = input().split(' ')\n",
    "        command = user_input.pop(0)\n",
    "        if len(user_input) > 0:\n",
    "            if 'insert' == command:\n",
    "                eval(\"L.{0}({1}, {2})\".format(command, user_input[0], user_input[1]))\n",
    "            else:\n",
    "                eval(\"L.{0}({1})\".format(command, user_input[0]))\n",
    "        elif command == 'print':\n",
    "            print (L)\n",
    "        else:\n",
    "            eval(\"L.{0}()\".format(command))"
   ]
  },
  {
   "cell_type": "markdown",
   "metadata": {},
   "source": [
    "## Task 2 -- Tuples:\n",
    "### Task \n",
    "\n",
    "Given an integer, , and  space-separated integers as input, create a tuple, , of those  integers. Then compute and print the result of .\n",
    "\n",
    "Note: hash() is one of the functions in the __builtins__ module, so it need not be imported.\n",
    "\n",
    "### Input Format:\n",
    "\n",
    "The first line contains an integer, , denoting the number of elements in the tuple. \n",
    "The second line contains  space-separated integers describing the elements in tuple .\n",
    "\n",
    "### Output Format:\n",
    "\n",
    "Print the result of hash(t).\n",
    "\n",
    "### Sample Input:\n",
    "\n",
    "2\n",
    "\n",
    "1 2\n",
    "\n",
    "### Sample Output:\n",
    "\n",
    "3713081631934410656"
   ]
  },
  {
   "cell_type": "markdown",
   "metadata": {},
   "source": [
    "### Answer:"
   ]
  },
  {
   "cell_type": "code",
   "execution_count": 15,
   "metadata": {},
   "outputs": [
    {
     "name": "stdout",
     "output_type": "stream",
     "text": [
      "2\n",
      "1 2\n",
      "1299869600\n"
     ]
    }
   ],
   "source": [
    "if __name__ == '__main__':\n",
    "    n = int(input())\n",
    "    integer_list = map(int, input().split())\n",
    "    t = (tuple(integer_list))\n",
    "    if len(t) == n:\n",
    "        print (hash(t))     "
   ]
  },
  {
   "cell_type": "markdown",
   "metadata": {},
   "source": [
    "## Task 3 -- List Comprehensions:\n",
    "\n",
    "Let's learn about list comprehensions! You are given three integers  X, Y and Z representing the dimensions of a cuboid along with an integer N. You have to print a list of all possible coordinates given by  (i,j,k) on a 3D grid where the sum of  i+j+k is not equal to N. Here: 0<=i<=X; 0<=j<=Y; 0<=k<=Z \n",
    "\n",
    "### Input Format:\n",
    "\n",
    "Four integers  X, Y, Z and N  each on four separate lines, respectively.\n",
    "\n",
    "### Constraints:\n",
    "\n",
    "Print the list in lexicographic increasing order.\n",
    "\n",
    "### Sample Input:\n",
    "\n",
    "1\n",
    "\n",
    "1\n",
    "\n",
    "1\n",
    "\n",
    "2\n",
    "\n",
    "### Sample Output:\n",
    "\n",
    "[[0, 0, 0], [0, 0, 1], [0, 1, 0], [1, 0, 0], [1, 1, 1]] \n",
    "\n",
    "### Explanation:\n",
    "\n",
    "### Concept:\n",
    "\n",
    "You have already used lists in previous hacks. List comprehensions are an elegant way to build a list without having to use different for loops to append values one by one. This example might help.\n",
    "\n",
    "### Example: \n",
    "\n",
    "You are given two integers x and y . You need to find out the ordered pairs ( i , j ) , such that ( i + j ) is not equal to n and print them in lexicographic order.( 0 <= i <= x ) and ( 0 <= j <= y).\n",
    "\n",
    "Below are two code examples for the problem above, first; without using list comprehensions and second; using list comprehensions."
   ]
  },
  {
   "cell_type": "code",
   "execution_count": 4,
   "metadata": {},
   "outputs": [
    {
     "name": "stdout",
     "output_type": "stream",
     "text": [
      "1\n",
      "1\n",
      "2\n",
      "[[0, 0], [0, 1], [1, 0]]\n"
     ]
    }
   ],
   "source": [
    "# Without using list comprehnsions:\n",
    "x = int ( input())\n",
    "y = int ( input())\n",
    "n = int ( input())\n",
    "ar = []\n",
    "p = 0\n",
    "for i in range ( x + 1 ) :\n",
    "    for j in range( y + 1):\n",
    "        if i+j != n:\n",
    "            ar.append([])\n",
    "            ar[p] = [ i , j ]\n",
    "            p+=1\n",
    "print (ar)    "
   ]
  },
  {
   "cell_type": "code",
   "execution_count": 3,
   "metadata": {},
   "outputs": [
    {
     "name": "stdout",
     "output_type": "stream",
     "text": [
      "1\n",
      "1\n",
      "2\n",
      "[[0, 0], [0, 1], [1, 0]]\n"
     ]
    }
   ],
   "source": [
    "# Using list comprehensions:\n",
    "x, y, n = (int(input()) for _ in range(3))\n",
    "print ([[i, j] for i in range(x+1) for j in range(y+1) if((i+j)!= n)])"
   ]
  },
  {
   "cell_type": "markdown",
   "metadata": {},
   "source": [
    "### Answer:"
   ]
  },
  {
   "cell_type": "code",
   "execution_count": 4,
   "metadata": {},
   "outputs": [
    {
     "name": "stdout",
     "output_type": "stream",
     "text": [
      "1\n",
      "1\n",
      "1\n",
      "2\n",
      "[[0, 0, 0], [0, 0, 1], [0, 1, 0], [1, 0, 0], [1, 1, 1]]\n"
     ]
    }
   ],
   "source": [
    "x, y, z, n = (int(input()) for _ in range(4)) \n",
    "print ([[i,j,k] for i in range(0,x+1) for j in range(0,y+1) for k in range(0,z+1) if i + j + k != n ])"
   ]
  },
  {
   "cell_type": "code",
   "execution_count": null,
   "metadata": {
    "collapsed": true
   },
   "outputs": [],
   "source": []
  }
 ],
 "metadata": {
  "kernelspec": {
   "display_name": "Python 3",
   "language": "python",
   "name": "python3"
  },
  "language_info": {
   "codemirror_mode": {
    "name": "ipython",
    "version": 3
   },
   "file_extension": ".py",
   "mimetype": "text/x-python",
   "name": "python",
   "nbconvert_exporter": "python",
   "pygments_lexer": "ipython3",
   "version": "3.6.1"
  }
 },
 "nbformat": 4,
 "nbformat_minor": 2
}
