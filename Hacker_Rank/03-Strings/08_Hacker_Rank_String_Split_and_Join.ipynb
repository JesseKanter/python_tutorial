{
 "cells": [
  {
   "cell_type": "markdown",
   "metadata": {},
   "source": [
    "## Problem:\n",
    "\n",
    "In Python, a string can be split on a delimiter.\n",
    "\n",
    "### Example:\n",
    "\n",
    "#### >>> a = \"this is a string\"\n",
    "#### >>> a = a.split(\" \") # a is converted to a list of strings. \n",
    "#### >>> print a\n",
    "#### ['this', 'is', 'a', 'string']\n",
    "\n",
    "### Joining a string is simple:\n",
    "\n",
    "#### >>> a = \"-\".join(a)\n",
    "#### >>> print a\n",
    "#### this-is-a-string \n",
    "\n",
    "### Task:\n",
    "You are given a string. Split the string on a \" \" (space) delimiter and join using a - hyphen.\n",
    "\n",
    "### Input Format:\n",
    "The first line contains a string consisting of space separated words.\n",
    "\n",
    "### Output Format:\n",
    "Print the formatted string as explained above.\n",
    "\n",
    "### Sample Input:\n",
    "\n",
    "this is a string   \n",
    "\n",
    "### Sample Output:\n",
    "\n",
    "this-is-a-string\n"
   ]
  },
  {
   "cell_type": "markdown",
   "metadata": {},
   "source": [
    "## Solution:"
   ]
  },
  {
   "cell_type": "code",
   "execution_count": null,
   "metadata": {
    "collapsed": true
   },
   "outputs": [],
   "source": [
    "def split_and_join(line):\n",
    "    e = line.split(\" \")\n",
    "    h = \"-\".join(e)\n",
    "    return h "
   ]
  }
 ],
 "metadata": {
  "kernelspec": {
   "display_name": "Python 3",
   "language": "python",
   "name": "python3"
  },
  "language_info": {
   "codemirror_mode": {
    "name": "ipython",
    "version": 3
   },
   "file_extension": ".py",
   "mimetype": "text/x-python",
   "name": "python",
   "nbconvert_exporter": "python",
   "pygments_lexer": "ipython3",
   "version": "3.6.1"
  }
 },
 "nbformat": 4,
 "nbformat_minor": 2
}
