{
 "cells": [
  {
   "cell_type": "markdown",
   "metadata": {
    "colab_type": "text",
    "id": "AYqL7rEeoQFf"
   },
   "source": [
    "# Find a string:\n",
    "\n",
    "In this challenge, the user enters a string and a substring. You have to print the number of times that the substring occurs in the given string. String traversal will take place from left to right, not from right to left. \n",
    "\n",
    " __NOTE__: String letters are case-sensitive.\n",
    " \n",
    " \n",
    "- __Input Format:__\n",
    "\n",
    "The first line of input contains the original string. The next line contains the substring.\n",
    "\n",
    "- __Constraints:__\n",
    "\n",
    "1 ≤ len(string) ≤ 200\n",
    "\n",
    "Each character in the string is an ascii character. \n",
    "\n",
    "- __Output Format:__\n",
    "\n",
    "Output the integer number indicating the total number of occurrences of the substring in the original string. \n",
    "\n",
    "- __Sample Input:__\n",
    "\n",
    "ABCDCDC\n",
    "\n",
    "CDC\n",
    "\n",
    "- __Sample Output:__\n",
    "\n",
    "2\n",
    "\n",
    "- __Concept:__\n",
    "\n",
    "Some string processing examples, such as these, might be useful.\n",
    "There are a couple of new concepts:\n",
    "In Python, the length of a string is found by the function len(s), where _s_ is the string.\n",
    "To traverse through the length of a string, use a for loop:\n",
    "\n",
    "- for i in range(0, len(s)):\n",
    "\n",
    "        print (s[i])\n",
    "\n",
    "A range function is used to loop over some length:\n",
    "\n",
    "range (0, 5)\n",
    "\n",
    "Here, the range loops over 0 to 4 and 5 is excluded."
   ]
  },
  {
   "cell_type": "markdown",
   "metadata": {},
   "source": [
    "## Workbook:"
   ]
  },
  {
   "cell_type": "code",
   "execution_count": 1,
   "metadata": {
    "collapsed": true
   },
   "outputs": [],
   "source": [
    "s = 'ABCD'"
   ]
  },
  {
   "cell_type": "code",
   "execution_count": 2,
   "metadata": {
    "colab": {
     "autoexec": {
      "startup": false,
      "wait_interval": 0
     }
    },
    "colab_type": "code",
    "id": "atIZLITnoLbE"
   },
   "outputs": [
    {
     "name": "stdout",
     "output_type": "stream",
     "text": [
      "A\n",
      "B\n",
      "C\n",
      "D\n"
     ]
    }
   ],
   "source": [
    "for i in range(0, len(s)):\n",
    "    print (s[i])"
   ]
  },
  {
   "cell_type": "code",
   "execution_count": 3,
   "metadata": {
    "collapsed": true
   },
   "outputs": [],
   "source": [
    "string = 'ABCABDEABCF'\n",
    "sub_string = 'ABC'"
   ]
  },
  {
   "cell_type": "code",
   "execution_count": 4,
   "metadata": {},
   "outputs": [
    {
     "data": {
      "text/plain": [
       "'DE'"
      ]
     },
     "execution_count": 4,
     "metadata": {},
     "output_type": "execute_result"
    }
   ],
   "source": [
    "string[5:7]"
   ]
  },
  {
   "cell_type": "code",
   "execution_count": 5,
   "metadata": {
    "collapsed": true
   },
   "outputs": [],
   "source": [
    "def output_substring(string, sub_string):\n",
    "    for i in range(0, len(string)-len(sub_string)+1):\n",
    "        n = i\n",
    "        print (string[n:(n+len(sub_string))])"
   ]
  },
  {
   "cell_type": "code",
   "execution_count": 6,
   "metadata": {},
   "outputs": [
    {
     "name": "stdout",
     "output_type": "stream",
     "text": [
      "ABC\n",
      "BCA\n",
      "CAB\n",
      "ABD\n",
      "BDE\n",
      "DEA\n",
      "EAB\n",
      "ABC\n",
      "BCF\n"
     ]
    }
   ],
   "source": [
    "output_substring(string, sub_string)"
   ]
  },
  {
   "cell_type": "markdown",
   "metadata": {},
   "source": [
    "### Implement a basic sub-string counter:"
   ]
  },
  {
   "cell_type": "code",
   "execution_count": 7,
   "metadata": {
    "collapsed": true
   },
   "outputs": [],
   "source": [
    "def count_substring(string, sub_string):\n",
    "    count = 0\n",
    "    for i in range(0, len(string)-len(sub_string)+1):\n",
    "        if (string[i:(i+len(sub_string))]) == sub_string:\n",
    "            count+=1\n",
    "    return count"
   ]
  },
  {
   "cell_type": "code",
   "execution_count": 8,
   "metadata": {},
   "outputs": [
    {
     "data": {
      "text/plain": [
       "2"
      ]
     },
     "execution_count": 8,
     "metadata": {},
     "output_type": "execute_result"
    }
   ],
   "source": [
    "count_substring(string, sub_string)"
   ]
  },
  {
   "cell_type": "markdown",
   "metadata": {},
   "source": [
    "### [Check if a string is ascii encoded](https://stackoverflow.com/questions/196345/how-to-check-if-a-string-in-python-is-in-ascii):"
   ]
  },
  {
   "cell_type": "code",
   "execution_count": 9,
   "metadata": {},
   "outputs": [
    {
     "name": "stdout",
     "output_type": "stream",
     "text": [
      "This string is ascii ...\n"
     ]
    }
   ],
   "source": [
    "try:\n",
    "    string.encode('ascii')\n",
    "    print ('This string is ascii ...')\n",
    "except:\n",
    "    print ('This string is not ascii encoded ...')"
   ]
  },
  {
   "cell_type": "markdown",
   "metadata": {},
   "source": [
    "### Solution:"
   ]
  },
  {
   "cell_type": "code",
   "execution_count": 10,
   "metadata": {
    "collapsed": true
   },
   "outputs": [],
   "source": [
    "def count_substring(string, \n",
    "                    sub_string, \n",
    "                    verbose = False, \n",
    "                    min_string_len =1, \n",
    "                    max_string_len=200):\n",
    "    ascii_encoding = False\n",
    "    try:\n",
    "        string.encode('ascii')\n",
    "        sub_string.encode('ascii')\n",
    "        ascii_encoding = True\n",
    "        if verbose: \n",
    "            print ('This string is ascii ...')\n",
    "    except:\n",
    "        if verbose:\n",
    "            print ('This string is not ascii encoded ...')\n",
    "    if len(string)>= min_string_len and len(string)<=max_string_len and ascii_encoding:\n",
    "        count = 0\n",
    "        for i in range(0, len(string)-len(sub_string)+1):\n",
    "            if (string[i:(i+len(sub_string))]) == sub_string:\n",
    "                count+=1\n",
    "    return count"
   ]
  },
  {
   "cell_type": "code",
   "execution_count": 11,
   "metadata": {},
   "outputs": [
    {
     "data": {
      "text/plain": [
       "2"
      ]
     },
     "execution_count": 11,
     "metadata": {},
     "output_type": "execute_result"
    }
   ],
   "source": [
    "count_substring(string, sub_string)"
   ]
  }
 ],
 "metadata": {
  "colab": {
   "default_view": {},
   "name": "11_Find_a_string.ipynb",
   "provenance": [],
   "version": "0.3.2",
   "views": {}
  },
  "kernelspec": {
   "display_name": "Python 3",
   "language": "python",
   "name": "python3"
  },
  "language_info": {
   "codemirror_mode": {
    "name": "ipython",
    "version": 3
   },
   "file_extension": ".py",
   "mimetype": "text/x-python",
   "name": "python",
   "nbconvert_exporter": "python",
   "pygments_lexer": "ipython3",
   "version": "3.6.1"
  }
 },
 "nbformat": 4,
 "nbformat_minor": 1
}
