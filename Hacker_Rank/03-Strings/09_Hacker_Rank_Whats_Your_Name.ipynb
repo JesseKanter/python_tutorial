{
 "cells": [
  {
   "cell_type": "markdown",
   "metadata": {},
   "source": [
    "## Problem:\n",
    "\n",
    "You are given the firstname and lastname of a person on two different lines. Your task is to read them and print the following:\n",
    "\n",
    "|   Hello firstname lastname! You just delved into python.\n",
    "\n",
    "### Input Format:\n",
    "\n",
    "The first line contains the first name, and the second line contains the last name.\n",
    "\n",
    "### Constraints:\n",
    "\n",
    "The length of the first and last name ≤ 10.\n",
    "\n",
    "### Output Format:\n",
    "\n",
    "Print the output as mentioned above.\n",
    "\n",
    "### Sample Input:\n",
    "\n",
    "Guido\n",
    "Rossum\n",
    "\n",
    "### Sample Output:\n",
    "\n",
    "Hello Guido Rossum! You just delved into python.\n",
    "\n",
    "### Explanation:\n",
    "\n",
    "The input read by the program is stored as a string data type. A string is a collection of characters.\n",
    "\n",
    "## Solution:"
   ]
  },
  {
   "cell_type": "code",
   "execution_count": null,
   "metadata": {
    "collapsed": true
   },
   "outputs": [],
   "source": [
    "def print_full_name(first_name, last_name):\n",
    "    if len(first_name)<=10 and len(last_name)<=10:\n",
    "        print(\"Hello \" + str(first_name) +\" \" + str(last_name)+ \"! You just delved into python.\")"
   ]
  }
 ],
 "metadata": {
  "kernelspec": {
   "display_name": "Python 3",
   "language": "python",
   "name": "python3"
  },
  "language_info": {
   "codemirror_mode": {
    "name": "ipython",
    "version": 3
   },
   "file_extension": ".py",
   "mimetype": "text/x-python",
   "name": "python",
   "nbconvert_exporter": "python",
   "pygments_lexer": "ipython3",
   "version": "3.6.1"
  }
 },
 "nbformat": 4,
 "nbformat_minor": 2
}
