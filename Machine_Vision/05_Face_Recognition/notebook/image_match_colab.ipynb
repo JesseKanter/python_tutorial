{
  "nbformat": 4,
  "nbformat_minor": 0,
  "metadata": {
    "colab": {
      "name": "face_recognition.ipynb",
      "version": "0.3.2",
      "views": {},
      "default_view": {},
      "provenance": []
    },
    "kernelspec": {
      "name": "python3",
      "display_name": "Python 3"
    },
    "accelerator": "GPU"
  },
  "cells": [
    {
      "metadata": {
        "id": "Drl8Qf6jevJ9",
        "colab_type": "code",
        "colab": {
          "autoexec": {
            "startup": false,
            "wait_interval": 0
          }
        }
      },
      "cell_type": "code",
      "source": [
        "! rm -r datalab"
      ],
      "execution_count": 0,
      "outputs": []
    },
    {
      "metadata": {
        "id": "lm9sKc1_bsds",
        "colab_type": "code",
        "colab": {
          "autoexec": {
            "startup": false,
            "wait_interval": 0
          }
        }
      },
      "cell_type": "code",
      "source": [
        "! mkdir boost\n",
        "! apt-get install -y build-essential g++ python-dev autotools-dev libicu-dev build-essential libbz2-dev python3-dev"
      ],
      "execution_count": 0,
      "outputs": []
    },
    {
      "metadata": {
        "id": "xpg4-WRCdtfA",
        "colab_type": "code",
        "colab": {
          "autoexec": {
            "startup": false,
            "wait_interval": 0
          }
        }
      },
      "cell_type": "code",
      "source": [
        "! ls ./boost"
      ],
      "execution_count": 0,
      "outputs": []
    },
    {
      "metadata": {
        "id": "vvfRfEo4bxVs",
        "colab_type": "code",
        "colab": {
          "autoexec": {
            "startup": false,
            "wait_interval": 0
          }
        }
      },
      "cell_type": "code",
      "source": [
        "! cd ./boost; wget https://dl.bintray.com/boostorg/release/1.67.0/source/boost_1_67_0.tar.gz"
      ],
      "execution_count": 0,
      "outputs": []
    },
    {
      "metadata": {
        "id": "yWWja-Z_dN37",
        "colab_type": "code",
        "colab": {
          "autoexec": {
            "startup": false,
            "wait_interval": 0
          }
        }
      },
      "cell_type": "code",
      "source": [
        "! cd ./boost/; tar -xvf boost_1_67_0.tar.gz"
      ],
      "execution_count": 0,
      "outputs": []
    },
    {
      "metadata": {
        "id": "rkdblNmLe_N-",
        "colab_type": "code",
        "colab": {
          "autoexec": {
            "startup": false,
            "wait_interval": 0
          }
        }
      },
      "cell_type": "code",
      "source": [
        "! cd ./boost/boost_1_67_0/ ; ./bootstrap.sh --prefix=/usr/ --with-python=/usr/bin/python3; ./b2 -a --with-python --buildid=3; n=`cat /proc/cpuinfo | grep \"cpu cores\" | uniq | awk '{print $NF}'`; ./b2 -a --with=all -j $n install"
      ],
      "execution_count": 0,
      "outputs": []
    },
    {
      "metadata": {
        "id": "dcFmVRwttscd",
        "colab_type": "code",
        "colab": {
          "autoexec": {
            "startup": false,
            "wait_interval": 0
          },
          "base_uri": "https://localhost:8080/",
          "height": 935
        },
        "outputId": "5740dc98-f5b8-464e-d4a6-a25a7435a8d2",
        "executionInfo": {
          "status": "ok",
          "timestamp": 1529433669232,
          "user_tz": 240,
          "elapsed": 7774,
          "user": {
            "displayName": "Rahul Remanan",
            "photoUrl": "//lh6.googleusercontent.com/-JV7tr1e65Qo/AAAAAAAAAAI/AAAAAAAAAAw/bjlFLKJeoJw/s50-c-k-no/photo.jpg",
            "userId": "117023126961214813918"
          }
        }
      },
      "cell_type": "code",
      "source": [
        "! apt-get install cmake"
      ],
      "execution_count": 7,
      "outputs": [
        {
          "output_type": "stream",
          "text": [
            "Reading package lists... Done\n",
            "Building dependency tree       \n",
            "Reading state information... Done\n",
            "The following additional packages will be installed:\n",
            "  cmake-data libarchive13 libjsoncpp1 liblzo2-2 librhash0 libuv1\n",
            "Suggested packages:\n",
            "  ninja-build lrzip\n",
            "The following NEW packages will be installed:\n",
            "  cmake cmake-data libarchive13 libjsoncpp1 liblzo2-2 librhash0 libuv1\n",
            "0 upgraded, 7 newly installed, 0 to remove and 5 not upgraded.\n",
            "Need to get 4,930 kB of archives.\n",
            "After this operation, 25.1 MB of additional disk space will be used.\n",
            "Get:1 http://archive.ubuntu.com/ubuntu artful/main amd64 cmake-data all 3.9.1-1 [1,276 kB]\n",
            "Get:2 http://archive.ubuntu.com/ubuntu artful/main amd64 liblzo2-2 amd64 2.08-1.2 [48.7 kB]\n",
            "Get:3 http://archive.ubuntu.com/ubuntu artful/main amd64 libarchive13 amd64 3.2.2-3.1 [289 kB]\n",
            "Get:4 http://archive.ubuntu.com/ubuntu artful/main amd64 libjsoncpp1 amd64 1.7.4-3 [73.6 kB]\n",
            "Get:5 http://archive.ubuntu.com/ubuntu artful/main amd64 librhash0 amd64 1.3.4-3 [77.0 kB]\n",
            "Get:6 http://archive.ubuntu.com/ubuntu artful/main amd64 libuv1 amd64 1.9.1-3 [58.6 kB]\n",
            "Get:7 http://archive.ubuntu.com/ubuntu artful/main amd64 cmake amd64 3.9.1-1 [3,107 kB]\n",
            "Fetched 4,930 kB in 1s (2,866 kB/s)\n",
            "Selecting previously unselected package cmake-data.\n",
            "(Reading database ... 18327 files and directories currently installed.)\n",
            "Preparing to unpack .../0-cmake-data_3.9.1-1_all.deb ...\n",
            "Unpacking cmake-data (3.9.1-1) ...\n",
            "Selecting previously unselected package liblzo2-2:amd64.\n",
            "Preparing to unpack .../1-liblzo2-2_2.08-1.2_amd64.deb ...\n",
            "Unpacking liblzo2-2:amd64 (2.08-1.2) ...\n",
            "Selecting previously unselected package libarchive13:amd64.\n",
            "Preparing to unpack .../2-libarchive13_3.2.2-3.1_amd64.deb ...\n",
            "Unpacking libarchive13:amd64 (3.2.2-3.1) ...\n",
            "Selecting previously unselected package libjsoncpp1:amd64.\n",
            "Preparing to unpack .../3-libjsoncpp1_1.7.4-3_amd64.deb ...\n",
            "Unpacking libjsoncpp1:amd64 (1.7.4-3) ...\n",
            "Selecting previously unselected package librhash0.\n",
            "Preparing to unpack .../4-librhash0_1.3.4-3_amd64.deb ...\n",
            "Unpacking librhash0 (1.3.4-3) ...\n",
            "Selecting previously unselected package libuv1:amd64.\n",
            "Preparing to unpack .../5-libuv1_1.9.1-3_amd64.deb ...\n",
            "Unpacking libuv1:amd64 (1.9.1-3) ...\n",
            "Selecting previously unselected package cmake.\n",
            "Preparing to unpack .../6-cmake_3.9.1-1_amd64.deb ...\n",
            "Unpacking cmake (3.9.1-1) ...\n",
            "Setting up libuv1:amd64 (1.9.1-3) ...\n",
            "Setting up cmake-data (3.9.1-1) ...\n",
            "Setting up librhash0 (1.3.4-3) ...\n",
            "Processing triggers for libc-bin (2.26-0ubuntu2.1) ...\n",
            "Setting up liblzo2-2:amd64 (2.08-1.2) ...\n",
            "Setting up libjsoncpp1:amd64 (1.7.4-3) ...\n",
            "Setting up libarchive13:amd64 (3.2.2-3.1) ...\n",
            "Setting up cmake (3.9.1-1) ...\n",
            "Processing triggers for libc-bin (2.26-0ubuntu2.1) ...\n"
          ],
          "name": "stdout"
        }
      ]
    },
    {
      "metadata": {
        "id": "9a8uZtBNzP98",
        "colab_type": "code",
        "colab": {
          "autoexec": {
            "startup": false,
            "wait_interval": 0
          },
          "base_uri": "https://localhost:8080/",
          "height": 107
        },
        "outputId": "c96e0b94-da42-4093-d298-412bb08e93de",
        "executionInfo": {
          "status": "ok",
          "timestamp": 1529433678388,
          "user_tz": 240,
          "elapsed": 1475,
          "user": {
            "displayName": "Rahul Remanan",
            "photoUrl": "//lh6.googleusercontent.com/-JV7tr1e65Qo/AAAAAAAAAAI/AAAAAAAAAAw/bjlFLKJeoJw/s50-c-k-no/photo.jpg",
            "userId": "117023126961214813918"
          }
        }
      },
      "cell_type": "code",
      "source": [
        "! gcc --version"
      ],
      "execution_count": 8,
      "outputs": [
        {
          "output_type": "stream",
          "text": [
            "gcc (Ubuntu 7.2.0-8ubuntu3.2) 7.2.0\r\n",
            "Copyright (C) 2017 Free Software Foundation, Inc.\r\n",
            "This is free software; see the source for copying conditions.  There is NO\r\n",
            "warranty; not even for MERCHANTABILITY or FITNESS FOR A PARTICULAR PURPOSE.\r\n",
            "\r\n"
          ],
          "name": "stdout"
        }
      ]
    },
    {
      "metadata": {
        "id": "Wd5wxH5s1Apo",
        "colab_type": "code",
        "colab": {
          "autoexec": {
            "startup": false,
            "wait_interval": 0
          },
          "base_uri": "https://localhost:8080/",
          "height": 485
        },
        "outputId": "ac673a8f-56ff-4669-d3fe-c81758a8562d",
        "executionInfo": {
          "status": "ok",
          "timestamp": 1529433685238,
          "user_tz": 240,
          "elapsed": 5281,
          "user": {
            "displayName": "Rahul Remanan",
            "photoUrl": "//lh6.googleusercontent.com/-JV7tr1e65Qo/AAAAAAAAAAI/AAAAAAAAAAw/bjlFLKJeoJw/s50-c-k-no/photo.jpg",
            "userId": "117023126961214813918"
          }
        }
      },
      "cell_type": "code",
      "source": [
        "! apt-get install libblas-dev liblapack-dev libatlas-base-dev"
      ],
      "execution_count": 9,
      "outputs": [
        {
          "output_type": "stream",
          "text": [
            "Reading package lists... Done\n",
            "Building dependency tree       \n",
            "Reading state information... Done\n",
            "liblapack-dev is already the newest version (3.7.1-3ubuntu2).\n",
            "libatlas-base-dev is already the newest version (3.10.3-5).\n",
            "The following additional packages will be installed:\n",
            "  libblas3\n",
            "Suggested packages:\n",
            "  liblapack-doc\n",
            "The following NEW packages will be installed:\n",
            "  libblas-dev libblas3\n",
            "0 upgraded, 2 newly installed, 0 to remove and 5 not upgraded.\n",
            "Need to get 283 kB of archives.\n",
            "After this operation, 1,538 kB of additional disk space will be used.\n",
            "Get:1 http://archive.ubuntu.com/ubuntu artful/main amd64 libblas3 amd64 3.7.1-3ubuntu2 [140 kB]\n",
            "Get:2 http://archive.ubuntu.com/ubuntu artful/main amd64 libblas-dev amd64 3.7.1-3ubuntu2 [143 kB]\n",
            "Fetched 283 kB in 1s (274 kB/s)\n",
            "Selecting previously unselected package libblas3:amd64.\n",
            "(Reading database ... 20674 files and directories currently installed.)\n",
            "Preparing to unpack .../libblas3_3.7.1-3ubuntu2_amd64.deb ...\n",
            "Unpacking libblas3:amd64 (3.7.1-3ubuntu2) ...\n",
            "Selecting previously unselected package libblas-dev:amd64.\n",
            "Preparing to unpack .../libblas-dev_3.7.1-3ubuntu2_amd64.deb ...\n",
            "Unpacking libblas-dev:amd64 (3.7.1-3ubuntu2) ...\n",
            "Setting up libblas3:amd64 (3.7.1-3ubuntu2) ...\n",
            "Setting up libblas-dev:amd64 (3.7.1-3ubuntu2) ...\n"
          ],
          "name": "stdout"
        }
      ]
    },
    {
      "metadata": {
        "id": "ya-LQX9G4CtA",
        "colab_type": "code",
        "colab": {
          "autoexec": {
            "startup": false,
            "wait_interval": 0
          },
          "base_uri": "https://localhost:8080/",
          "height": 179
        },
        "outputId": "c23cf75d-fb81-4f2a-ee00-97223ade3fff",
        "executionInfo": {
          "status": "ok",
          "timestamp": 1529434283973,
          "user_tz": 240,
          "elapsed": 595666,
          "user": {
            "displayName": "Rahul Remanan",
            "photoUrl": "//lh6.googleusercontent.com/-JV7tr1e65Qo/AAAAAAAAAAI/AAAAAAAAAAw/bjlFLKJeoJw/s50-c-k-no/photo.jpg",
            "userId": "117023126961214813918"
          }
        }
      },
      "cell_type": "code",
      "source": [
        "! pip3 install dlib"
      ],
      "execution_count": 10,
      "outputs": [
        {
          "output_type": "stream",
          "text": [
            "Collecting dlib\n",
            "\u001b[?25l  Downloading https://files.pythonhosted.org/packages/d5/5c/aa64510aa354d562ecba7edecd500b020280741140e5d91ff5ec1c6f8289/dlib-19.13.1.tar.gz (3.3MB)\n",
            "\u001b[K    100% |████████████████████████████████| 3.3MB 10.1MB/s \n",
            "\u001b[?25hBuilding wheels for collected packages: dlib\n",
            "  Running setup.py bdist_wheel for dlib ... \u001b[?25l-\b \b\\\b \b|\b \b/\b \b-\b \b\\\b \b|\b \b/\b \b-\b \b\\\b \b|\b \b/\b \b-\b \b\\\b \b|\b \b/\b \b-\b \b\\\b \b|\b \b/\b \b-\b \b\\\b \b|\b \b/\b \b-\b \b\\\b \b|\b \b/\b \b-\b \b\\\b \b|\b \b/\b \b-\b \b\\\b \b|\b \b/\b \b-\b \b\\\b \b|\b \b/\b \b-\b \b\\\b \b|\b \b/\b \b-\b \b\\\b \b|\b \b/\b \b-\b \b\\\b \b|\b \b/\b \b-\b \b\\\b \b|\b \b/\b \b-\b \b\\\b \b|\b \b/\b \b-\b \b\\\b \b|\b \b/\b \b-\b \b\\\b \b|\b \b/\b \b-\b \b\\\b \b|\b \b/\b \b-\b \b\\\b \b|\b \b/\b \b-\b \b\\\b \b|\b \b/\b \b-\b \b\\\b \b|\b \b/\b \b-\b \b\\\b \b|\b \b/\b \b-\b \b\\\b \b|\b \b/\b \b-\b \b\\\b \b|\b \b/\b \b-\b \b\\\b \b|\b \b/\b \b-\b \b\\\b \b|\b \b/\b \b-\b \b\\\b \b|\b \b/\b \bdone\n",
            "\u001b[?25h  Stored in directory: /content/.cache/pip/wheels/df/c1/5b/42d688c523f80cd0d4e5d3224fd39ec451de54583d22487c3c\n",
            "Successfully built dlib\n",
            "Installing collected packages: dlib\n",
            "Successfully installed dlib-19.13.1\n"
          ],
          "name": "stdout"
        }
      ]
    },
    {
      "metadata": {
        "id": "dUsnxv5Rz9zg",
        "colab_type": "code",
        "colab": {
          "autoexec": {
            "startup": false,
            "wait_interval": 0
          }
        }
      },
      "cell_type": "code",
      "source": [
        "from dlib import shape_predictor"
      ],
      "execution_count": 0,
      "outputs": []
    },
    {
      "metadata": {
        "id": "-TWE9wUSvZdc",
        "colab_type": "code",
        "colab": {
          "autoexec": {
            "startup": false,
            "wait_interval": 0
          },
          "base_uri": "https://localhost:8080/",
          "height": 397
        },
        "outputId": "93efa8c6-9181-4d1c-d207-747705e65bb5",
        "executionInfo": {
          "status": "ok",
          "timestamp": 1529435099237,
          "user_tz": 240,
          "elapsed": 38065,
          "user": {
            "displayName": "Rahul Remanan",
            "photoUrl": "//lh6.googleusercontent.com/-JV7tr1e65Qo/AAAAAAAAAAI/AAAAAAAAAAw/bjlFLKJeoJw/s50-c-k-no/photo.jpg",
            "userId": "117023126961214813918"
          }
        }
      },
      "cell_type": "code",
      "source": [
        "! pip3 install git+https://github.com/ageitgey/face_recognition"
      ],
      "execution_count": 12,
      "outputs": [
        {
          "output_type": "stream",
          "text": [
            "Collecting git+https://github.com/ageitgey/face_recognition\r\n",
            "  Cloning https://github.com/ageitgey/face_recognition to /tmp/pip-req-build-fgn8of83\n",
            "Collecting face_recognition_models>=0.3.0 (from face-recognition==1.2.2)\n",
            "\u001b[?25l  Downloading https://files.pythonhosted.org/packages/cf/3b/4fd8c534f6c0d1b80ce0973d01331525538045084c73c153ee6df20224cf/face_recognition_models-0.3.0.tar.gz (100.1MB)\n",
            "\u001b[K    100% |████████████████████████████████| 100.2MB 314kB/s \n",
            "\u001b[?25hCollecting Click>=6.0 (from face-recognition==1.2.2)\n",
            "\u001b[?25l  Downloading https://files.pythonhosted.org/packages/34/c1/8806f99713ddb993c5366c362b2f908f18269f8d792aff1abfd700775a77/click-6.7-py2.py3-none-any.whl (71kB)\n",
            "\u001b[K    100% |████████████████████████████████| 71kB 18.2MB/s \n",
            "\u001b[?25hRequirement already satisfied: dlib>=19.7 in /usr/local/lib/python3.6/dist-packages (from face-recognition==1.2.2) (19.13.1)\n",
            "Requirement already satisfied: numpy in /usr/local/lib/python3.6/dist-packages (from face-recognition==1.2.2) (1.14.5)\n",
            "Requirement already satisfied: Pillow in /usr/local/lib/python3.6/dist-packages (from face-recognition==1.2.2) (4.0.0)\n",
            "Requirement already satisfied: olefile in /usr/local/lib/python3.6/dist-packages (from Pillow->face-recognition==1.2.2) (0.45.1)\n",
            "Building wheels for collected packages: face-recognition, face-recognition-models\n",
            "  Running setup.py bdist_wheel for face-recognition ... \u001b[?25l-\b \b\\\b \bdone\n",
            "\u001b[?25h  Stored in directory: /tmp/pip-ephem-wheel-cache-at9oc9t0/wheels/8e/87/d6/0e9e823857d205de891fded60ba691ef03fb792ff959332f17\n",
            "  Running setup.py bdist_wheel for face-recognition-models ... \u001b[?25l-\b \b\\\b \b|\b \b/\b \b-\b \b\\\b \b|\b \b/\b \bdone\n",
            "\u001b[?25h  Stored in directory: /content/.cache/pip/wheels/d2/99/18/59c6c8f01e39810415c0e63f5bede7d83dfb0ffc039865465f\n",
            "Successfully built face-recognition face-recognition-models\n",
            "Installing collected packages: face-recognition-models, Click, face-recognition\n",
            "Successfully installed Click-6.7 face-recognition-1.2.2 face-recognition-models-0.3.0\n"
          ],
          "name": "stdout"
        }
      ]
    },
    {
      "metadata": {
        "id": "z6YW59u87eC2",
        "colab_type": "code",
        "colab": {
          "autoexec": {
            "startup": false,
            "wait_interval": 0
          },
          "base_uri": "https://localhost:8080/",
          "height": 163
        },
        "outputId": "fd8bcaa1-c336-4a4e-97b6-007108714cb8",
        "executionInfo": {
          "status": "ok",
          "timestamp": 1529435162767,
          "user_tz": 240,
          "elapsed": 3229,
          "user": {
            "displayName": "Rahul Remanan",
            "photoUrl": "//lh6.googleusercontent.com/-JV7tr1e65Qo/AAAAAAAAAAI/AAAAAAAAAAw/bjlFLKJeoJw/s50-c-k-no/photo.jpg",
            "userId": "117023126961214813918"
          }
        }
      },
      "cell_type": "code",
      "source": [
        "! pip3 install scikit-video"
      ],
      "execution_count": 13,
      "outputs": [
        {
          "output_type": "stream",
          "text": [
            "Collecting scikit-video\n",
            "\u001b[?25l  Downloading https://files.pythonhosted.org/packages/45/e8/2aeec50c37bf7be3ac72b74cf9a1a615fb20de01277408fbef9e5ef2855e/scikit_video-1.1.10-py2.py3-none-any.whl (2.3MB)\n",
            "\u001b[K    100% |████████████████████████████████| 2.3MB 7.4MB/s \n",
            "\u001b[?25hRequirement already satisfied: numpy in /usr/local/lib/python3.6/dist-packages (from scikit-video) (1.14.5)\n",
            "Requirement already satisfied: scipy in /usr/local/lib/python3.6/dist-packages (from scikit-video) (0.19.1)\n",
            "Installing collected packages: scikit-video\n",
            "Successfully installed scikit-video-1.1.10\n"
          ],
          "name": "stdout"
        }
      ]
    },
    {
      "metadata": {
        "id": "FH27EfYW7rL6",
        "colab_type": "code",
        "colab": {
          "autoexec": {
            "startup": false,
            "wait_interval": 0
          }
        }
      },
      "cell_type": "code",
      "source": [
        "!pip install -U -q PyDrive\n",
        "\n",
        "from pydrive.auth import GoogleAuth\n",
        "from pydrive.drive import GoogleDrive\n",
        "from google.colab import auth\n",
        "from oauth2client.client import GoogleCredentials"
      ],
      "execution_count": 0,
      "outputs": []
    },
    {
      "metadata": {
        "id": "NU6UOUicAYDR",
        "colab_type": "code",
        "colab": {
          "autoexec": {
            "startup": false,
            "wait_interval": 0
          }
        }
      },
      "cell_type": "code",
      "source": [
        "auth.authenticate_user()\n",
        "gauth = GoogleAuth()\n",
        "gauth.credentials = GoogleCredentials.get_application_default()\n",
        "drive = GoogleDrive(gauth)"
      ],
      "execution_count": 0,
      "outputs": []
    },
    {
      "metadata": {
        "id": "gCZ3cVJHAcDI",
        "colab_type": "code",
        "colab": {
          "autoexec": {
            "startup": false,
            "wait_interval": 0
          }
        }
      },
      "cell_type": "code",
      "source": [
        "file = drive.CreateFile({'id': '10WhyxbKWS50dnr_sT2eG29dbtFKYRW_a'})\n",
        "file.GetContentFile('trained_weights.model')"
      ],
      "execution_count": 0,
      "outputs": []
    },
    {
      "metadata": {
        "id": "UnXGKOewBCRe",
        "colab_type": "code",
        "colab": {
          "autoexec": {
            "startup": false,
            "wait_interval": 0
          }
        }
      },
      "cell_type": "code",
      "source": [
        "! mkdir ./model/\n",
        "! mv *.model ./model/"
      ],
      "execution_count": 0,
      "outputs": []
    },
    {
      "metadata": {
        "id": "l9uD0VemBLmk",
        "colab_type": "code",
        "colab": {
          "autoexec": {
            "startup": false,
            "wait_interval": 0
          },
          "base_uri": "https://localhost:8080/",
          "height": 413
        },
        "outputId": "6163f028-3ab3-458d-df0c-7e492ecc2b8a",
        "executionInfo": {
          "status": "ok",
          "timestamp": 1529435224836,
          "user_tz": 240,
          "elapsed": 2909,
          "user": {
            "displayName": "Rahul Remanan",
            "photoUrl": "//lh6.googleusercontent.com/-JV7tr1e65Qo/AAAAAAAAAAI/AAAAAAAAAAw/bjlFLKJeoJw/s50-c-k-no/photo.jpg",
            "userId": "117023126961214813918"
          }
        }
      },
      "cell_type": "code",
      "source": [
        "! wget https://raw.githubusercontent.com/rahulremanan/python_tutorial/master/Machine_Vision/05_Face_Recognition/model/trained_config.json\n",
        "! wget https://raw.githubusercontent.com/rahulremanan/python_tutorial/master/Machine_Vision/05_Face_Recognition/model/trained_labels.json"
      ],
      "execution_count": 18,
      "outputs": [
        {
          "output_type": "stream",
          "text": [
            "--2018-06-19 19:07:03--  https://raw.githubusercontent.com/rahulremanan/python_tutorial/master/Machine_Vision/05_Face_Recognition/model/trained_config.json\r\n",
            "Resolving raw.githubusercontent.com (raw.githubusercontent.com)... 151.101.0.133, 151.101.64.133, 151.101.128.133, ...\r\n",
            "Connecting to raw.githubusercontent.com (raw.githubusercontent.com)|151.101.0.133|:443... connected.\n",
            "HTTP request sent, awaiting response... 200 OK\n",
            "Length: 158079 (154K) [text/plain]\n",
            "Saving to: ‘trained_config.json’\n",
            "\n",
            "trained_config.json 100%[===================>] 154.37K  --.-KB/s    in 0.03s   \n",
            "\n",
            "2018-06-19 19:07:03 (5.41 MB/s) - ‘trained_config.json’ saved [158079/158079]\n",
            "\n",
            "--2018-06-19 19:07:04--  https://raw.githubusercontent.com/rahulremanan/python_tutorial/master/Machine_Vision/05_Face_Recognition/model/trained_labels.json\n",
            "Resolving raw.githubusercontent.com (raw.githubusercontent.com)... 151.101.0.133, 151.101.64.133, 151.101.128.133, ...\n",
            "Connecting to raw.githubusercontent.com (raw.githubusercontent.com)|151.101.0.133|:443... connected.\n",
            "HTTP request sent, awaiting response... 200 OK\n",
            "Length: 75 [text/plain]\n",
            "Saving to: ‘trained_labels.json’\n",
            "\n",
            "trained_labels.json 100%[===================>]      75  --.-KB/s    in 0s      \n",
            "\n",
            "2018-06-19 19:07:04 (8.74 MB/s) - ‘trained_labels.json’ saved [75/75]\n",
            "\n"
          ],
          "name": "stdout"
        }
      ]
    },
    {
      "metadata": {
        "id": "uBDpGuTpBe_P",
        "colab_type": "code",
        "colab": {
          "autoexec": {
            "startup": false,
            "wait_interval": 0
          }
        }
      },
      "cell_type": "code",
      "source": [
        "! mv ./*.json ./model/"
      ],
      "execution_count": 0,
      "outputs": []
    },
    {
      "metadata": {
        "id": "E9rlx5SQBjl5",
        "colab_type": "code",
        "colab": {
          "autoexec": {
            "startup": false,
            "wait_interval": 0
          }
        }
      },
      "cell_type": "code",
      "source": [
        "file = drive.CreateFile({'id': '1j1cAzYAfHdw53Z4Qq2vpbiCy8E7mWiX9'})\n",
        "file.GetContentFile('One_Direction-Drag_Me_Down.mp4')"
      ],
      "execution_count": 0,
      "outputs": []
    },
    {
      "metadata": {
        "id": "jVXHOuIGCAu7",
        "colab_type": "code",
        "colab": {
          "autoexec": {
            "startup": false,
            "wait_interval": 0
          }
        }
      },
      "cell_type": "code",
      "source": [
        "! mkdir ./video/\n",
        "! mv *.mp4 ./video/"
      ],
      "execution_count": 0,
      "outputs": []
    },
    {
      "metadata": {
        "id": "6zFbItVxC4iV",
        "colab_type": "code",
        "colab": {
          "autoexec": {
            "startup": false,
            "wait_interval": 0
          }
        }
      },
      "cell_type": "code",
      "source": [
        "! mkdir ./ref_img/"
      ],
      "execution_count": 0,
      "outputs": []
    },
    {
      "metadata": {
        "id": "DKM_bUYMCnUU",
        "colab_type": "code",
        "colab": {
          "autoexec": {
            "startup": false,
            "wait_interval": 0
          }
        }
      },
      "cell_type": "code",
      "source": [
        "! mkdir ./output/"
      ],
      "execution_count": 0,
      "outputs": []
    },
    {
      "metadata": {
        "id": "BVa6BySvC7_o",
        "colab_type": "code",
        "colab": {
          "autoexec": {
            "startup": false,
            "wait_interval": 0
          },
          "base_uri": "https://localhost:8080/",
          "height": 305
        },
        "outputId": "50cec039-86d6-4770-fc77-adc2e396857b",
        "executionInfo": {
          "status": "ok",
          "timestamp": 1529435243998,
          "user_tz": 240,
          "elapsed": 1934,
          "user": {
            "displayName": "Rahul Remanan",
            "photoUrl": "//lh6.googleusercontent.com/-JV7tr1e65Qo/AAAAAAAAAAI/AAAAAAAAAAw/bjlFLKJeoJw/s50-c-k-no/photo.jpg",
            "userId": "117023126961214813918"
          }
        }
      },
      "cell_type": "code",
      "source": [
        "! wget https://github.com/rahulremanan/python_tutorial/raw/master/Machine_Vision/05_Face_Recognition/ref_img/harry-styles.jpg"
      ],
      "execution_count": 24,
      "outputs": [
        {
          "output_type": "stream",
          "text": [
            "--2018-06-19 19:07:23--  https://github.com/rahulremanan/python_tutorial/raw/master/Machine_Vision/05_Face_Recognition/ref_img/harry-styles.jpg\r\n",
            "Resolving github.com (github.com)... 192.30.255.112, 192.30.255.113\r\n",
            "Connecting to github.com (github.com)|192.30.255.112|:443... connected.\n",
            "HTTP request sent, awaiting response... 302 Found\n",
            "Location: https://raw.githubusercontent.com/rahulremanan/python_tutorial/master/Machine_Vision/05_Face_Recognition/ref_img/harry-styles.jpg [following]\n",
            "--2018-06-19 19:07:23--  https://raw.githubusercontent.com/rahulremanan/python_tutorial/master/Machine_Vision/05_Face_Recognition/ref_img/harry-styles.jpg\n",
            "Resolving raw.githubusercontent.com (raw.githubusercontent.com)... 151.101.52.133\n",
            "Connecting to raw.githubusercontent.com (raw.githubusercontent.com)|151.101.52.133|:443... connected.\n",
            "HTTP request sent, awaiting response... 200 OK\n",
            "Length: 933939 (912K) [image/jpeg]\n",
            "Saving to: ‘harry-styles.jpg’\n",
            "\n",
            "harry-styles.jpg    100%[===================>] 912.05K  --.-KB/s    in 0.05s   \n",
            "\n",
            "2018-06-19 19:07:23 (19.7 MB/s) - ‘harry-styles.jpg’ saved [933939/933939]\n",
            "\n"
          ],
          "name": "stdout"
        }
      ]
    },
    {
      "metadata": {
        "id": "MUKRUHhQDEqD",
        "colab_type": "code",
        "colab": {
          "autoexec": {
            "startup": false,
            "wait_interval": 0
          }
        }
      },
      "cell_type": "code",
      "source": [
        "! mv ./*.jpg ./ref_img/"
      ],
      "execution_count": 0,
      "outputs": []
    },
    {
      "metadata": {
        "id": "ObAklau36ygD",
        "colab_type": "code",
        "colab": {
          "autoexec": {
            "startup": false,
            "wait_interval": 0
          },
          "base_uri": "https://localhost:8080/",
          "height": 35
        },
        "outputId": "54edb6df-58ba-4ba3-a19d-250decab5fc8",
        "executionInfo": {
          "status": "ok",
          "timestamp": 1529435256000,
          "user_tz": 240,
          "elapsed": 8201,
          "user": {
            "displayName": "Rahul Remanan",
            "photoUrl": "//lh6.googleusercontent.com/-JV7tr1e65Qo/AAAAAAAAAAI/AAAAAAAAAAw/bjlFLKJeoJw/s50-c-k-no/photo.jpg",
            "userId": "117023126961214813918"
          }
        }
      },
      "cell_type": "code",
      "source": [
        "import cv2\n",
        "\n",
        "import os\n",
        "from os.path import basename\n",
        "import glob\n",
        "import sys\n",
        "import types\n",
        "import subprocess\n",
        "from random import randint\n",
        "import json\n",
        "import gc\n",
        "\n",
        "import skvideo.io\n",
        "import numpy as np\n",
        "import scipy.misc\n",
        "from skimage.transform import rescale, resize, downscale_local_mean\n",
        "\n",
        "import PIL\n",
        "\n",
        "\n",
        "import keras\n",
        "from  keras.preprocessing import image\n",
        "from keras.models import model_from_json\n",
        "from keras.optimizers import SGD, RMSprop, Adagrad\n",
        "from keras.applications.inception_v3 import preprocess_input"
      ],
      "execution_count": 26,
      "outputs": [
        {
          "output_type": "stream",
          "text": [
            "Using TensorFlow backend.\n"
          ],
          "name": "stderr"
        }
      ]
    },
    {
      "metadata": {
        "id": "XDP3yZSJ0CBL",
        "colab_type": "code",
        "colab": {
          "autoexec": {
            "startup": false,
            "wait_interval": 0
          }
        }
      },
      "cell_type": "code",
      "source": [
        "import face_recognition"
      ],
      "execution_count": 0,
      "outputs": []
    },
    {
      "metadata": {
        "id": "yrc83HFg7a4n",
        "colab_type": "code",
        "colab": {
          "autoexec": {
            "startup": false,
            "wait_interval": 0
          }
        }
      },
      "cell_type": "code",
      "source": [
        "(major_ver, minor_ver, subminor_ver) = (cv2.__version__).split('.')\n",
        "\n",
        "if int(major_ver)  < 3 :\n",
        "    print (\"Update OpenCV ...\")\n",
        "    sys.exit(1)"
      ],
      "execution_count": 0,
      "outputs": []
    },
    {
      "metadata": {
        "id": "s0aV6LetCPiq",
        "colab_type": "code",
        "colab": {
          "autoexec": {
            "startup": false,
            "wait_interval": 0
          }
        }
      },
      "cell_type": "code",
      "source": [
        "source = './video/One_Direction-Drag_Me_Down.mp4'"
      ],
      "execution_count": 0,
      "outputs": []
    },
    {
      "metadata": {
        "id": "jtHPhXcpCXgq",
        "colab_type": "code",
        "colab": {
          "autoexec": {
            "startup": false,
            "wait_interval": 0
          },
          "base_uri": "https://localhost:8080/",
          "height": 35
        },
        "outputId": "158d8358-c039-47cf-bbd4-736838068bad",
        "executionInfo": {
          "status": "ok",
          "timestamp": 1529435263159,
          "user_tz": 240,
          "elapsed": 554,
          "user": {
            "displayName": "Rahul Remanan",
            "photoUrl": "//lh6.googleusercontent.com/-JV7tr1e65Qo/AAAAAAAAAAI/AAAAAAAAAAw/bjlFLKJeoJw/s50-c-k-no/photo.jpg",
            "userId": "117023126961214813918"
          }
        }
      },
      "cell_type": "code",
      "source": [
        "try:\n",
        "    video_capture = cv2.VideoCapture(source)\n",
        "    print (\"Imported video using OpenCV ...\")\n",
        "except:\n",
        "    video_capture =  skvideo.io.vread(source)\n",
        "    print (\"Imported video using sci-kit video ...\")"
      ],
      "execution_count": 30,
      "outputs": [
        {
          "output_type": "stream",
          "text": [
            "Imported video using OpenCV ...\n"
          ],
          "name": "stdout"
        }
      ]
    },
    {
      "metadata": {
        "id": "JBJxvt-YCZ7B",
        "colab_type": "code",
        "colab": {
          "autoexec": {
            "startup": false,
            "wait_interval": 0
          }
        }
      },
      "cell_type": "code",
      "source": [
        "sgd = SGD(lr=1e-7, decay=0.5, momentum=1, nesterov=True)\n",
        "rms = RMSprop(lr=1e-7, rho=0.9, epsilon=1e-08, decay=0.0)\n",
        "ada = Adagrad(lr=1e-7, epsilon=1e-08, decay=0.0)\n",
        "optimizer = sgd\n",
        "IMG_HEIGHT = 299\n",
        "IMG_WIDTH = 299"
      ],
      "execution_count": 0,
      "outputs": []
    },
    {
      "metadata": {
        "id": "B2ciPsRhCg2N",
        "colab_type": "code",
        "colab": {
          "autoexec": {
            "startup": false,
            "wait_interval": 0
          }
        }
      },
      "cell_type": "code",
      "source": [
        "length = int(video_capture.get(cv2.CAP_PROP_FRAME_COUNT))"
      ],
      "execution_count": 0,
      "outputs": []
    },
    {
      "metadata": {
        "id": "EWDvZY1vCjYY",
        "colab_type": "code",
        "colab": {
          "autoexec": {
            "startup": false,
            "wait_interval": 0
          }
        }
      },
      "cell_type": "code",
      "source": [
        "save_path = \"./proc_vid.mp4\"\n",
        "save_audio = \"./audio.wav\"\n",
        "save_path_w_audio = \"./proc_vid_audio.mp4\"\n",
        "output_dir = './output/'"
      ],
      "execution_count": 0,
      "outputs": []
    },
    {
      "metadata": {
        "id": "TpRx25qECsYQ",
        "colab_type": "code",
        "colab": {
          "autoexec": {
            "startup": false,
            "wait_interval": 0
          }
        }
      },
      "cell_type": "code",
      "source": [
        "face_locations = []\n",
        "face_encodings = []\n",
        "face_names = []\n",
        "frame_number = 0\n",
        "face_count = 0"
      ],
      "execution_count": 0,
      "outputs": []
    },
    {
      "metadata": {
        "id": "9KFzimLFCvwx",
        "colab_type": "code",
        "colab": {
          "autoexec": {
            "startup": false,
            "wait_interval": 0
          },
          "base_uri": "https://localhost:8080/",
          "height": 71
        },
        "outputId": "9b946164-83a6-42a3-e4d3-306afe1b9197",
        "executionInfo": {
          "status": "ok",
          "timestamp": 1529435269159,
          "user_tz": 240,
          "elapsed": 314,
          "user": {
            "displayName": "Rahul Remanan",
            "photoUrl": "//lh6.googleusercontent.com/-JV7tr1e65Qo/AAAAAAAAAAI/AAAAAAAAAAw/bjlFLKJeoJw/s50-c-k-no/photo.jpg",
            "userId": "117023126961214813918"
          }
        }
      },
      "cell_type": "code",
      "source": [
        "w, h = int(video_capture.get(3)),int(video_capture.get(4))\n",
        "print (\"Source image width: \"+ str(w))\n",
        "print (\"Source image height: \"+ str(h))\n",
        "\n",
        "fps = video_capture.get(cv2.CAP_PROP_FPS)\n",
        "print (\"Frames per second using video.get(cv2.CAP_PROP_FPS) : {0}\".format(fps))"
      ],
      "execution_count": 35,
      "outputs": [
        {
          "output_type": "stream",
          "text": [
            "Source image width: 1280\n",
            "Source image height: 720\n",
            "Frames per second using video.get(cv2.CAP_PROP_FPS) : 23.976025018098067\n"
          ],
          "name": "stdout"
        }
      ]
    },
    {
      "metadata": {
        "id": "tH8p6WQMC0V6",
        "colab_type": "code",
        "colab": {
          "autoexec": {
            "startup": false,
            "wait_interval": 0
          }
        }
      },
      "cell_type": "code",
      "source": [
        "fourcc = cv2.VideoWriter_fourcc(*'XVID')\n",
        "video_writer = cv2.VideoWriter(save_path, fourcc, fps, (w,h), True)"
      ],
      "execution_count": 0,
      "outputs": []
    },
    {
      "metadata": {
        "id": "yjclN4lqDIPY",
        "colab_type": "code",
        "colab": {
          "autoexec": {
            "startup": false,
            "wait_interval": 0
          }
        }
      },
      "cell_type": "code",
      "source": [
        "reference_image_path = \"./ref_img/\"\n",
        "file_list = glob.glob(reference_image_path + '/*.jpg')"
      ],
      "execution_count": 0,
      "outputs": []
    },
    {
      "metadata": {
        "id": "DWz3bTdbDLih",
        "colab_type": "code",
        "colab": {
          "autoexec": {
            "startup": false,
            "wait_interval": 0
          }
        }
      },
      "cell_type": "code",
      "source": [
        "n_proc_frames = length\n",
        "resize_img = False\n",
        "verbose = True\n",
        "gen_train_img = True\n",
        "interleaved = False\n",
        "use_deep_learning = True\n",
        "annotate = True\n",
        "process_this_frame = True\n",
        "inverse_scale_factor = 1"
      ],
      "execution_count": 0,
      "outputs": []
    },
    {
      "metadata": {
        "id": "BRwf6xywDNqR",
        "colab_type": "code",
        "colab": {
          "autoexec": {
            "startup": false,
            "wait_interval": 0
          }
        }
      },
      "cell_type": "code",
      "source": [
        "def compile_model(model):\n",
        "    model.compile(optimizer=optimizer, \n",
        "                  loss='categorical_crossentropy', \n",
        "                  metrics=['accuracy'])"
      ],
      "execution_count": 0,
      "outputs": []
    },
    {
      "metadata": {
        "id": "2QFvgvIADULQ",
        "colab_type": "code",
        "colab": {
          "autoexec": {
            "startup": false,
            "wait_interval": 0
          }
        }
      },
      "cell_type": "code",
      "source": [
        "def load_prediction_model(args):\n",
        "    try:\n",
        "        with open(args.config_file[0]) as json_file:\n",
        "              model_json = json_file.read()\n",
        "        model = model_from_json(model_json)\n",
        "    except:\n",
        "          print (\"Please specify a model configuration file ...\")\n",
        "          sys.exit(1)\n",
        "    try:\n",
        "          model.load_weights(args.weights_file[0])\n",
        "          print (\"Loaded model weights from: \" + \n",
        "                 str(args.weights_file[0]))\n",
        "    except:\n",
        "          print (\"Error loading model weights ...\")\n",
        "          sys.exit(1)\n",
        "    try:\n",
        "        with open(args.labels_file[0]) as json_file:\n",
        "            labels = json.load(json_file)\n",
        "        print (\"Loaded labels from: \" + \n",
        "               str(args.labels_file[0]))\n",
        "    except:\n",
        "        print (\"No labels loaded ...\")\n",
        "        sys.exit(1)\n",
        "    return model, labels"
      ],
      "execution_count": 0,
      "outputs": []
    },
    {
      "metadata": {
        "id": "ZIALXLpjDauI",
        "colab_type": "code",
        "colab": {
          "autoexec": {
            "startup": false,
            "wait_interval": 0
          }
        }
      },
      "cell_type": "code",
      "source": [
        "def gen_predict(model):\n",
        "    try:\n",
        "        compile_model(model)\n",
        "        print (\"Model successfully compiled ...\")\n",
        "    except:\n",
        "        print (\"Model failed to compile ...\")\n",
        "\n",
        "    print (\"Compiling predictor function ...\")                                          # to avoid the delay during video capture.\n",
        "    _ = model.predict(np.zeros((1, n, n, 3), \n",
        "                               dtype=np.float32), \n",
        "                      batch_size=1)\n",
        "    print (\"Compilation completed ...\")"
      ],
      "execution_count": 0,
      "outputs": []
    },
    {
      "metadata": {
        "id": "Jlx_n7TzDg8H",
        "colab_type": "code",
        "colab": {
          "autoexec": {
            "startup": false,
            "wait_interval": 0
          }
        }
      },
      "cell_type": "code",
      "source": [
        "args = types.SimpleNamespace()\n",
        "args.config_file = ['./model/trained_config.json']\n",
        "args.weights_file = ['./model/trained_weights.model']\n",
        "args.labels_file = ['./model/trained_labels.json']\n",
        "args.output_dir = ['./output/']"
      ],
      "execution_count": 0,
      "outputs": []
    },
    {
      "metadata": {
        "id": "UbSt-zUZDmQm",
        "colab_type": "code",
        "colab": {
          "autoexec": {
            "startup": false,
            "wait_interval": 0
          },
          "base_uri": "https://localhost:8080/",
          "height": 53
        },
        "outputId": "4a6278eb-0384-41a4-b428-215844ac5ae1",
        "executionInfo": {
          "status": "ok",
          "timestamp": 1529435295833,
          "user_tz": 240,
          "elapsed": 17377,
          "user": {
            "displayName": "Rahul Remanan",
            "photoUrl": "//lh6.googleusercontent.com/-JV7tr1e65Qo/AAAAAAAAAAI/AAAAAAAAAAw/bjlFLKJeoJw/s50-c-k-no/photo.jpg",
            "userId": "117023126961214813918"
          }
        }
      },
      "cell_type": "code",
      "source": [
        "model, labels = load_prediction_model(args)"
      ],
      "execution_count": 43,
      "outputs": [
        {
          "output_type": "stream",
          "text": [
            "Loaded model weights from: ./model/trained_weights.model\n",
            "Loaded labels from: ./model/trained_labels.json\n"
          ],
          "name": "stdout"
        }
      ]
    },
    {
      "metadata": {
        "id": "f-S6SYPhDo7e",
        "colab_type": "code",
        "colab": {
          "autoexec": {
            "startup": false,
            "wait_interval": 0
          },
          "base_uri": "https://localhost:8080/",
          "height": 13085
        },
        "outputId": "f9834f9f-9143-4622-a0d2-a77d07ddc29d"
      },
      "cell_type": "code",
      "source": [
        "while (video_capture.isOpened()):    \n",
        "    ret, frame = video_capture.read() # Grab a single frame of video\n",
        "    \n",
        "    frame_number += 1\n",
        "    \n",
        "    if resize_img ==True:\n",
        "        isf = inverse_scale_factor\n",
        "        small_frame = cv2.resize(frame, (0, 0), fx=(1/isf), fy=(1/isf)) # Resize frame of video to 1/inverse_scale_factor size for faster processing\n",
        "    else:\n",
        "        isf = 1\n",
        "        small_frame = frame\n",
        "    if frame_number <=n_proc_frames:\n",
        "        if ret ==True:\n",
        "            if process_this_frame:\n",
        "                face_locations = face_recognition.face_locations(small_frame) # Find all the faces and face encodings in the current frame of video\n",
        "                face_encodings = face_recognition.face_encodings(small_frame, face_locations)\n",
        "                face_names = []\n",
        "                if annotate == True or gen_train_img == True:\n",
        "                    for face_encoding in face_encodings:\n",
        "                        for file_path in file_list:\n",
        "                            reference_image = face_recognition.load_image_file(file_path)\n",
        "                            try:\n",
        "                                reference_face_encoding = face_recognition.face_encodings(reference_image)[0]\n",
        "                                if verbose == True:\n",
        "                                    print (\"Processed face encodings ...\")\n",
        "                                else:\n",
        "                                    pass\n",
        "                            except:\n",
        "                                if verbose == True:\n",
        "                                    print(\"Failed processing face encodings ...\")\n",
        "                                else:\n",
        "                                    pass\n",
        "                            if annotate == True:\n",
        "                                name_ID = (os.path.splitext(basename(file_path))[0])\n",
        "                                name_ID = name_ID.replace(\"_\", \" \")\n",
        "                                match = face_recognition.compare_faces([reference_face_encoding], face_encoding) # See if the face is a match for the known face(s)\n",
        "                                name = \"Unknown\"\n",
        "                                if match[0]:\n",
        "                                    name = name_ID\n",
        "                                face_names.append(name)\n",
        "                            else:\n",
        "                                pass\n",
        "                else:\n",
        "                    if verbose == True:\n",
        "                        print (\"Skipping face recognition mode ...\")\n",
        "                    else:\n",
        "                        pass\n",
        "            else:\n",
        "                if verbose == True:\n",
        "                    print (\"Skipping frame ...\")\n",
        "                else:\n",
        "                    pass\n",
        "            if interleaved == True:\n",
        "                process_this_frame = not process_this_frame # Only process every other frame of video to save time\n",
        "            else:\n",
        "                process_this_frame = process_this_frame\n",
        "\n",
        "            # Display the results\n",
        "            for (top, right, bottom, left), name in zip(face_locations, face_names):\n",
        "                # Scale back up face locations since the frame we detected in was scaled to scaling factor size\n",
        "                top *= int(isf)\n",
        "                right *= int(isf)\n",
        "                bottom *= int(isf)\n",
        "                left *= int(isf)\n",
        "                # Draw an ellipse around the face\n",
        "                ex = left\n",
        "                ey = top\n",
        "                ew = int(abs(right - ex))\n",
        "                eh = int(abs(bottom - ey))\n",
        "                p1 = int(ew/2 + ex)\n",
        "                p2 = int(eh/2 + ey)\n",
        "                h1 = int(ew/2)\n",
        "                h2 = int(eh/2)\n",
        "                square = frame[max((ey-eh//2,0)):ey+3*eh//2, max((ex-ew//2,0)):ex+3*ew//2]\n",
        "                if use_deep_learning == True and annotate == True:\n",
        "                    preds_square = cv2.resize(square.astype(np.float32),    \\\n",
        "                                        dsize=(IMG_WIDTH, IMG_HEIGHT),\\\n",
        "                                        interpolation = cv2.INTER_CUBIC)\n",
        "                    try:\n",
        "                        _X_ = image.img_to_array(preds_square)\n",
        "                        del (preds_square)\n",
        "                        _X_ = np.expand_dims(_X_, axis=0)\n",
        "                        _X_ = preprocess_input(_X_)\n",
        "                        probabilities = model.predict(_X_, batch_size=1).flatten()\n",
        "                        del (_X_)\n",
        "                        prediction = labels[np.argmax(probabilities)]\n",
        "                        name = (str(prediction)).replace(\"_\", \" \")\n",
        "                        print (\"Face recognition using deep-learning ...\")\n",
        "                        print (prediction + \"\\t\" + \"\\t\".join(map(lambda x: \"%.2f\" % x, probabilities)))\n",
        "                        print (str(prediction))\n",
        "                        del (prediction)\n",
        "                        gc.collect()\n",
        "                    except:\n",
        "                        print (\"Failed to create a prediction ...\")         \n",
        "                else:\n",
        "                    pass\n",
        "                if gen_train_img == True:\n",
        "                    random_number = randint(10000000, 99999999)\n",
        "                    random_number = str(random_number)\n",
        "                    cv2.imwrite(os.path.join(output_dir + \"//\" + \n",
        "                                             str(name.replace(\"\", \"_\")) +\"_\" + \n",
        "                                             str(random_number) +\n",
        "                                             \"_loc_\" + str(p1) + \"_\" + \n",
        "                                             str(p2) + \"_\" +\n",
        "                                             str(h1) + \"_\" +\n",
        "                                             str(h2) + \"_\" +\n",
        "                                             \"_frame_%d.jpg\" % face_count), square)\n",
        "                    \n",
        "                    if verbose == True:\n",
        "                        print (\"Saved frame: \"+ str(face_count)+\" with face detected ...\" )\n",
        "                        if name != \"Unknown\":\n",
        "                            print (\"Possible match for detected face: \" + str(name))\n",
        "                        else:\n",
        "                            pass\n",
        "                    else:\n",
        "                        pass\n",
        "                    cv2.ellipse(frame, (p1, p2), (h1,h2), 0,0,360, (0,255,0), 2)\n",
        "                    del (square)\n",
        "                    face_count += 1\n",
        "                else:\n",
        "                    pass\n",
        "                if annotate == True:\n",
        "                    font = cv2.FONT_HERSHEY_DUPLEX\n",
        "                    cv2.rectangle(frame, (p1 - 100, bottom - 2), (p1 + 100, bottom + 33), (0, 0, 255), cv2.FILLED) \n",
        "                    cv2.putText(frame, name, (p1  - 94, bottom + 23 ), font, 0.75, (255, 255, 255), 1) # Draw a label with a name below the face\n",
        "                else:\n",
        "                    if verbose == True:\n",
        "                        print (\"No identifiers to annotate. Try setting annotate flag to True ...\")\n",
        "                    else:\n",
        "                        pass\n",
        "            try:\n",
        "                video_writer.write(frame)\n",
        "                if verbose == True:\n",
        "                    print(\"Processed frame {} / {}\".format(frame_number, length))\n",
        "                else:\n",
        "                    pass\n",
        "            except:\n",
        "                if verbose == True:\n",
        "                    print(\"Failed writing frame {} / {}\".format(frame_number, length))\n",
        "                else:\n",
        "                    pass\n",
        "        else:\n",
        "            if verbose == True:\n",
        "                print(\"No frame to process ...\")\n",
        "            else:\n",
        "                pass\n",
        "    else:\n",
        "        if verbose == True:\n",
        "            print (\"Processed \"+ str(n_proc_frames) + \" frames\")\n",
        "            print (\"Detected \" + str(face_count) + \" faces\" )\n",
        "        else:\n",
        "            print (\"Detected \" + str(face_count) + \" faces\" )\n",
        "        break"
      ],
      "execution_count": 0,
      "outputs": [
        {
          "output_type": "stream",
          "text": [
            "Processed frame 1 / 4597\n",
            "Processed frame 2 / 4597\n",
            "Processed frame 3 / 4597\n",
            "Processed frame 4 / 4597\n",
            "Processed frame 5 / 4597\n",
            "Processed frame 6 / 4597\n",
            "Processed frame 7 / 4597\n",
            "Processed frame 8 / 4597\n",
            "Processed frame 9 / 4597\n",
            "Processed frame 10 / 4597\n",
            "Processed frame 11 / 4597\n",
            "Processed frame 12 / 4597\n",
            "Processed frame 13 / 4597\n",
            "Processed frame 14 / 4597\n",
            "Processed frame 15 / 4597\n",
            "Processed frame 16 / 4597\n",
            "Processed frame 17 / 4597\n",
            "Processed frame 18 / 4597\n",
            "Processed frame 19 / 4597\n",
            "Processed frame 20 / 4597\n",
            "Processed frame 21 / 4597\n",
            "Processed frame 22 / 4597\n",
            "Processed frame 23 / 4597\n",
            "Processed frame 24 / 4597\n",
            "Processed frame 25 / 4597\n",
            "Processed frame 26 / 4597\n",
            "Processed frame 27 / 4597\n",
            "Processed face encodings ...\n",
            "Face recognition using deep-learning ...\n",
            "Niall_Horan\t0.07\t0.32\t0.09\t0.44\t0.08\n",
            "Niall_Horan\n",
            "Saved frame: 0 with face detected ...\n",
            "Possible match for detected face: Niall Horan\n",
            "Processed frame 28 / 4597\n",
            "Processed face encodings ...\n",
            "Face recognition using deep-learning ...\n",
            "Liam_Payne\t0.05\t0.63\t0.07\t0.22\t0.02\n",
            "Liam_Payne\n",
            "Saved frame: 1 with face detected ...\n",
            "Possible match for detected face: Liam Payne\n",
            "Processed frame 29 / 4597\n",
            "Processed face encodings ...\n",
            "Face recognition using deep-learning ...\n",
            "Liam_Payne\t0.02\t0.91\t0.03\t0.03\t0.01\n",
            "Liam_Payne\n",
            "Saved frame: 2 with face detected ...\n",
            "Possible match for detected face: Liam Payne\n",
            "Processed frame 30 / 4597\n",
            "Processed face encodings ...\n",
            "Face recognition using deep-learning ...\n",
            "Niall_Horan\t0.04\t0.16\t0.03\t0.77\t0.01\n",
            "Niall_Horan\n",
            "Saved frame: 3 with face detected ...\n",
            "Possible match for detected face: Niall Horan\n",
            "Processed frame 31 / 4597\n",
            "Processed face encodings ...\n",
            "Processed face encodings ...\n",
            "Face recognition using deep-learning ...\n",
            "Niall_Horan\t0.06\t0.02\t0.02\t0.89\t0.01\n",
            "Niall_Horan\n",
            "Saved frame: 4 with face detected ...\n",
            "Possible match for detected face: Niall Horan\n",
            "Face recognition using deep-learning ...\n",
            "Niall_Horan\t0.01\t0.12\t0.04\t0.75\t0.08\n",
            "Niall_Horan\n",
            "Saved frame: 5 with face detected ...\n",
            "Possible match for detected face: Niall Horan\n",
            "Processed frame 32 / 4597\n",
            "Processed face encodings ...\n",
            "Processed face encodings ...\n",
            "Processed face encodings ...\n",
            "Face recognition using deep-learning ...\n",
            "Niall_Horan\t0.05\t0.04\t0.02\t0.87\t0.02\n",
            "Niall_Horan\n",
            "Saved frame: 6 with face detected ...\n",
            "Possible match for detected face: Niall Horan\n",
            "Face recognition using deep-learning ...\n",
            "Niall_Horan\t0.02\t0.16\t0.06\t0.56\t0.21\n",
            "Niall_Horan\n",
            "Saved frame: 7 with face detected ...\n",
            "Possible match for detected face: Niall Horan\n",
            "Face recognition using deep-learning ...\n",
            "Niall_Horan\t0.09\t0.05\t0.28\t0.57\t0.02\n",
            "Niall_Horan\n",
            "Saved frame: 8 with face detected ...\n",
            "Possible match for detected face: Niall Horan\n",
            "Processed frame 33 / 4597\n",
            "Processed face encodings ...\n",
            "Processed face encodings ...\n",
            "Processed face encodings ...\n",
            "Face recognition using deep-learning ...\n",
            "Niall_Horan\t0.03\t0.11\t0.04\t0.77\t0.06\n",
            "Niall_Horan\n",
            "Saved frame: 9 with face detected ...\n",
            "Possible match for detected face: Niall Horan\n",
            "Face recognition using deep-learning ...\n",
            "Niall_Horan\t0.17\t0.01\t0.15\t0.66\t0.01\n",
            "Niall_Horan\n",
            "Saved frame: 10 with face detected ...\n",
            "Possible match for detected face: Niall Horan\n",
            "Face recognition using deep-learning ...\n",
            "Niall_Horan\t0.01\t0.10\t0.04\t0.76\t0.09\n",
            "Niall_Horan\n",
            "Saved frame: 11 with face detected ...\n",
            "Possible match for detected face: Niall Horan\n",
            "Processed frame 34 / 4597\n",
            "Processed face encodings ...\n",
            "Processed face encodings ...\n",
            "Processed face encodings ...\n",
            "Face recognition using deep-learning ...\n",
            "Niall_Horan\t0.00\t0.03\t0.03\t0.93\t0.01\n",
            "Niall_Horan\n",
            "Saved frame: 12 with face detected ...\n",
            "Possible match for detected face: Niall Horan\n",
            "Face recognition using deep-learning ...\n",
            "Niall_Horan\t0.08\t0.02\t0.23\t0.65\t0.02\n",
            "Niall_Horan\n",
            "Saved frame: 13 with face detected ...\n",
            "Possible match for detected face: Niall Horan\n",
            "Face recognition using deep-learning ...\n",
            "Niall_Horan\t0.01\t0.10\t0.08\t0.75\t0.05\n",
            "Niall_Horan\n",
            "Saved frame: 14 with face detected ...\n",
            "Possible match for detected face: Niall Horan\n",
            "Processed frame 35 / 4597\n",
            "Processed face encodings ...\n",
            "Processed face encodings ...\n",
            "Processed face encodings ...\n",
            "Face recognition using deep-learning ...\n",
            "Niall_Horan\t0.02\t0.28\t0.06\t0.57\t0.06\n",
            "Niall_Horan\n",
            "Saved frame: 15 with face detected ...\n",
            "Possible match for detected face: Niall Horan\n",
            "Face recognition using deep-learning ...\n",
            "Niall_Horan\t0.03\t0.03\t0.21\t0.71\t0.02\n",
            "Niall_Horan\n",
            "Saved frame: 16 with face detected ...\n",
            "Possible match for detected face: Niall Horan\n",
            "Face recognition using deep-learning ...\n",
            "Niall_Horan\t0.00\t0.26\t0.12\t0.60\t0.02\n",
            "Niall_Horan\n"
          ],
          "name": "stdout"
        },
        {
          "output_type": "stream",
          "text": [
            "Saved frame: 17 with face detected ...\n",
            "Possible match for detected face: Niall Horan\n",
            "Processed frame 36 / 4597\n",
            "Processed face encodings ...\n",
            "Processed face encodings ...\n",
            "Processed face encodings ...\n",
            "Face recognition using deep-learning ...\n",
            "Niall_Horan\t0.00\t0.04\t0.02\t0.92\t0.01\n",
            "Niall_Horan\n",
            "Saved frame: 18 with face detected ...\n",
            "Possible match for detected face: Niall Horan\n",
            "Face recognition using deep-learning ...\n",
            "Niall_Horan\t0.04\t0.07\t0.27\t0.51\t0.12\n",
            "Niall_Horan\n",
            "Saved frame: 19 with face detected ...\n",
            "Possible match for detected face: Niall Horan\n",
            "Face recognition using deep-learning ...\n",
            "Liam_Payne\t0.02\t0.46\t0.16\t0.28\t0.08\n",
            "Liam_Payne\n",
            "Saved frame: 20 with face detected ...\n",
            "Possible match for detected face: Liam Payne\n",
            "Processed frame 37 / 4597\n",
            "Processed face encodings ...\n",
            "Processed face encodings ...\n",
            "Processed face encodings ...\n",
            "Face recognition using deep-learning ...\n",
            "Niall_Horan\t0.00\t0.06\t0.05\t0.88\t0.01\n",
            "Niall_Horan\n",
            "Saved frame: 21 with face detected ...\n",
            "Possible match for detected face: Niall Horan\n",
            "Face recognition using deep-learning ...\n",
            "Niall_Horan\t0.01\t0.08\t0.18\t0.57\t0.16\n",
            "Niall_Horan\n",
            "Saved frame: 22 with face detected ...\n",
            "Possible match for detected face: Niall Horan\n",
            "Face recognition using deep-learning ...\n",
            "Liam_Payne\t0.03\t0.52\t0.13\t0.30\t0.02\n",
            "Liam_Payne\n",
            "Saved frame: 23 with face detected ...\n",
            "Possible match for detected face: Liam Payne\n",
            "Processed frame 38 / 4597\n",
            "Processed face encodings ...\n",
            "Processed face encodings ...\n",
            "Processed face encodings ...\n",
            "Face recognition using deep-learning ...\n",
            "Niall_Horan\t0.01\t0.02\t0.03\t0.93\t0.01\n",
            "Niall_Horan\n",
            "Saved frame: 24 with face detected ...\n",
            "Possible match for detected face: Niall Horan\n",
            "Face recognition using deep-learning ...\n",
            "Niall_Horan\t0.04\t0.08\t0.35\t0.45\t0.09\n",
            "Niall_Horan\n",
            "Saved frame: 25 with face detected ...\n",
            "Possible match for detected face: Niall Horan\n",
            "Face recognition using deep-learning ...\n",
            "Liam_Payne\t0.03\t0.43\t0.15\t0.35\t0.04\n",
            "Liam_Payne\n",
            "Saved frame: 26 with face detected ...\n",
            "Possible match for detected face: Liam Payne\n",
            "Processed frame 39 / 4597\n",
            "Processed face encodings ...\n",
            "Processed face encodings ...\n",
            "Processed face encodings ...\n",
            "Face recognition using deep-learning ...\n",
            "Niall_Horan\t0.06\t0.03\t0.03\t0.85\t0.04\n",
            "Niall_Horan\n",
            "Saved frame: 27 with face detected ...\n",
            "Possible match for detected face: Niall Horan\n",
            "Face recognition using deep-learning ...\n",
            "Louis_Tomlinson\t0.01\t0.12\t0.57\t0.27\t0.03\n",
            "Louis_Tomlinson\n",
            "Saved frame: 28 with face detected ...\n",
            "Possible match for detected face: Louis Tomlinson\n",
            "Face recognition using deep-learning ...\n",
            "Liam_Payne\t0.03\t0.42\t0.11\t0.40\t0.04\n",
            "Liam_Payne\n",
            "Saved frame: 29 with face detected ...\n",
            "Possible match for detected face: Liam Payne\n",
            "Processed frame 40 / 4597\n",
            "Processed face encodings ...\n",
            "Processed face encodings ...\n",
            "Processed face encodings ...\n",
            "Face recognition using deep-learning ...\n",
            "Niall_Horan\t0.02\t0.01\t0.02\t0.94\t0.01\n",
            "Niall_Horan\n",
            "Saved frame: 30 with face detected ...\n",
            "Possible match for detected face: Niall Horan\n",
            "Face recognition using deep-learning ...\n",
            "Louis_Tomlinson\t0.05\t0.29\t0.48\t0.14\t0.05\n",
            "Louis_Tomlinson\n",
            "Saved frame: 31 with face detected ...\n",
            "Possible match for detected face: Louis Tomlinson\n",
            "Face recognition using deep-learning ...\n",
            "Liam_Payne\t0.03\t0.58\t0.16\t0.21\t0.03\n",
            "Liam_Payne\n",
            "Saved frame: 32 with face detected ...\n",
            "Possible match for detected face: Liam Payne\n",
            "Processed frame 41 / 4597\n",
            "Processed face encodings ...\n",
            "Processed face encodings ...\n",
            "Processed face encodings ...\n",
            "Face recognition using deep-learning ...\n",
            "Niall_Horan\t0.01\t0.01\t0.01\t0.97\t0.00\n",
            "Niall_Horan\n",
            "Saved frame: 33 with face detected ...\n",
            "Possible match for detected face: Niall Horan\n",
            "Face recognition using deep-learning ...\n",
            "Louis_Tomlinson\t0.00\t0.11\t0.79\t0.09\t0.00\n",
            "Louis_Tomlinson\n",
            "Saved frame: 34 with face detected ...\n",
            "Possible match for detected face: Louis Tomlinson\n",
            "Face recognition using deep-learning ...\n",
            "Niall_Horan\t0.02\t0.29\t0.09\t0.56\t0.05\n",
            "Niall_Horan\n",
            "Saved frame: 35 with face detected ...\n",
            "Possible match for detected face: Niall Horan\n",
            "Processed frame 42 / 4597\n",
            "Processed face encodings ...\n",
            "Processed face encodings ...\n",
            "Processed face encodings ...\n",
            "Face recognition using deep-learning ...\n",
            "Niall_Horan\t0.02\t0.01\t0.01\t0.96\t0.00\n",
            "Niall_Horan\n",
            "Saved frame: 36 with face detected ...\n",
            "Possible match for detected face: Niall Horan\n",
            "Face recognition using deep-learning ...\n",
            "Louis_Tomlinson\t0.01\t0.13\t0.77\t0.09\t0.01\n",
            "Louis_Tomlinson\n",
            "Saved frame: 37 with face detected ...\n",
            "Possible match for detected face: Louis Tomlinson\n",
            "Face recognition using deep-learning ...\n",
            "Niall_Horan\t0.02\t0.26\t0.10\t0.57\t0.06\n",
            "Niall_Horan\n",
            "Saved frame: 38 with face detected ...\n",
            "Possible match for detected face: Niall Horan\n",
            "Processed frame 43 / 4597\n"
          ],
          "name": "stdout"
        },
        {
          "output_type": "stream",
          "text": [
            "Processed face encodings ...\n",
            "Processed face encodings ...\n",
            "Processed face encodings ...\n",
            "Face recognition using deep-learning ...\n",
            "Niall_Horan\t0.02\t0.01\t0.01\t0.96\t0.01\n",
            "Niall_Horan\n",
            "Saved frame: 39 with face detected ...\n",
            "Possible match for detected face: Niall Horan\n",
            "Face recognition using deep-learning ...\n",
            "Niall_Horan\t0.08\t0.13\t0.06\t0.67\t0.06\n",
            "Niall_Horan\n",
            "Saved frame: 40 with face detected ...\n",
            "Possible match for detected face: Niall Horan\n",
            "Face recognition using deep-learning ...\n",
            "Louis_Tomlinson\t0.01\t0.05\t0.80\t0.13\t0.01\n",
            "Louis_Tomlinson\n",
            "Saved frame: 41 with face detected ...\n",
            "Possible match for detected face: Louis Tomlinson\n",
            "Processed frame 44 / 4597\n",
            "Processed face encodings ...\n",
            "Processed face encodings ...\n",
            "Processed face encodings ...\n",
            "Face recognition using deep-learning ...\n",
            "Niall_Horan\t0.00\t0.00\t0.00\t0.99\t0.00\n",
            "Niall_Horan\n",
            "Saved frame: 42 with face detected ...\n",
            "Possible match for detected face: Niall Horan\n",
            "Face recognition using deep-learning ...\n",
            "Niall_Horan\t0.09\t0.34\t0.09\t0.46\t0.02\n",
            "Niall_Horan\n",
            "Saved frame: 43 with face detected ...\n",
            "Possible match for detected face: Niall Horan\n",
            "Face recognition using deep-learning ...\n",
            "Louis_Tomlinson\t0.02\t0.15\t0.67\t0.13\t0.04\n",
            "Louis_Tomlinson\n",
            "Saved frame: 44 with face detected ...\n",
            "Possible match for detected face: Louis Tomlinson\n",
            "Processed frame 45 / 4597\n",
            "Processed face encodings ...\n",
            "Processed face encodings ...\n",
            "Processed face encodings ...\n",
            "Face recognition using deep-learning ...\n",
            "Niall_Horan\t0.00\t0.00\t0.00\t1.00\t0.00\n",
            "Niall_Horan\n",
            "Saved frame: 45 with face detected ...\n",
            "Possible match for detected face: Niall Horan\n",
            "Face recognition using deep-learning ...\n",
            "Liam_Payne\t0.03\t0.67\t0.13\t0.17\t0.01\n",
            "Liam_Payne\n",
            "Saved frame: 46 with face detected ...\n",
            "Possible match for detected face: Liam Payne\n",
            "Face recognition using deep-learning ...\n",
            "Louis_Tomlinson\t0.04\t0.12\t0.59\t0.11\t0.14\n",
            "Louis_Tomlinson\n",
            "Saved frame: 47 with face detected ...\n",
            "Possible match for detected face: Louis Tomlinson\n",
            "Processed frame 46 / 4597\n",
            "Processed face encodings ...\n",
            "Processed face encodings ...\n",
            "Processed face encodings ...\n",
            "Face recognition using deep-learning ...\n",
            "Niall_Horan\t0.00\t0.00\t0.00\t1.00\t0.00\n",
            "Niall_Horan\n",
            "Saved frame: 48 with face detected ...\n",
            "Possible match for detected face: Niall Horan\n",
            "Face recognition using deep-learning ...\n",
            "Louis_Tomlinson\t0.01\t0.23\t0.61\t0.06\t0.09\n",
            "Louis_Tomlinson\n",
            "Saved frame: 49 with face detected ...\n",
            "Possible match for detected face: Louis Tomlinson\n",
            "Face recognition using deep-learning ...\n",
            "Liam_Payne\t0.01\t0.74\t0.13\t0.09\t0.03\n",
            "Liam_Payne\n",
            "Saved frame: 50 with face detected ...\n",
            "Possible match for detected face: Liam Payne\n",
            "Processed frame 47 / 4597\n",
            "Processed face encodings ...\n",
            "Processed face encodings ...\n",
            "Processed face encodings ...\n",
            "Face recognition using deep-learning ...\n",
            "Niall_Horan\t0.00\t0.00\t0.00\t1.00\t0.00\n",
            "Niall_Horan\n",
            "Saved frame: 51 with face detected ...\n",
            "Possible match for detected face: Niall Horan\n",
            "Face recognition using deep-learning ...\n",
            "Louis_Tomlinson\t0.03\t0.23\t0.53\t0.15\t0.05\n",
            "Louis_Tomlinson\n",
            "Saved frame: 52 with face detected ...\n",
            "Possible match for detected face: Louis Tomlinson\n",
            "Face recognition using deep-learning ...\n",
            "Liam_Payne\t0.02\t0.67\t0.15\t0.14\t0.02\n",
            "Liam_Payne\n",
            "Saved frame: 53 with face detected ...\n",
            "Possible match for detected face: Liam Payne\n",
            "Processed frame 48 / 4597\n",
            "Processed face encodings ...\n",
            "Processed face encodings ...\n",
            "Processed face encodings ...\n",
            "Face recognition using deep-learning ...\n",
            "Niall_Horan\t0.00\t0.00\t0.00\t0.99\t0.00\n",
            "Niall_Horan\n",
            "Saved frame: 54 with face detected ...\n",
            "Possible match for detected face: Niall Horan\n",
            "Face recognition using deep-learning ...\n",
            "Liam_Payne\t0.01\t0.80\t0.10\t0.08\t0.00\n",
            "Liam_Payne\n",
            "Saved frame: 55 with face detected ...\n",
            "Possible match for detected face: Liam Payne\n",
            "Face recognition using deep-learning ...\n",
            "Louis_Tomlinson\t0.02\t0.20\t0.35\t0.17\t0.25\n",
            "Louis_Tomlinson\n",
            "Saved frame: 56 with face detected ...\n",
            "Possible match for detected face: Louis Tomlinson\n",
            "Processed frame 49 / 4597\n",
            "Processed face encodings ...\n",
            "Processed face encodings ...\n",
            "Processed face encodings ...\n",
            "Processed face encodings ...\n",
            "Face recognition using deep-learning ...\n",
            "Niall_Horan\t0.00\t0.00\t0.00\t1.00\t0.00\n",
            "Niall_Horan\n",
            "Saved frame: 57 with face detected ...\n",
            "Possible match for detected face: Niall Horan\n",
            "Face recognition using deep-learning ...\n",
            "Liam_Payne\t0.00\t0.88\t0.08\t0.03\t0.01\n",
            "Liam_Payne\n",
            "Saved frame: 58 with face detected ...\n",
            "Possible match for detected face: Liam Payne\n",
            "Face recognition using deep-learning ...\n",
            "Louis_Tomlinson\t0.01\t0.28\t0.42\t0.20\t0.09\n",
            "Louis_Tomlinson\n",
            "Saved frame: 59 with face detected ...\n",
            "Possible match for detected face: Louis Tomlinson\n",
            "Face recognition using deep-learning ...\n",
            "Harry_Styles\t0.90\t0.02\t0.04\t0.02\t0.02\n",
            "Harry_Styles\n"
          ],
          "name": "stdout"
        },
        {
          "output_type": "stream",
          "text": [
            "Saved frame: 60 with face detected ...\n",
            "Possible match for detected face: Harry Styles\n",
            "Processed frame 50 / 4597\n",
            "Processed face encodings ...\n",
            "Processed face encodings ...\n",
            "Processed face encodings ...\n",
            "Face recognition using deep-learning ...\n",
            "Niall_Horan\t0.00\t0.00\t0.00\t1.00\t0.00\n",
            "Niall_Horan\n",
            "Saved frame: 61 with face detected ...\n",
            "Possible match for detected face: Niall Horan\n",
            "Face recognition using deep-learning ...\n",
            "Liam_Payne\t0.00\t0.86\t0.07\t0.06\t0.00\n",
            "Liam_Payne\n",
            "Saved frame: 62 with face detected ...\n",
            "Possible match for detected face: Liam Payne\n",
            "Face recognition using deep-learning ...\n",
            "Louis_Tomlinson\t0.02\t0.26\t0.42\t0.20\t0.10\n",
            "Louis_Tomlinson\n",
            "Saved frame: 63 with face detected ...\n",
            "Possible match for detected face: Louis Tomlinson\n",
            "Processed frame 51 / 4597\n",
            "Processed face encodings ...\n",
            "Processed face encodings ...\n",
            "Processed face encodings ...\n",
            "Face recognition using deep-learning ...\n",
            "Niall_Horan\t0.00\t0.00\t0.00\t1.00\t0.00\n",
            "Niall_Horan\n",
            "Saved frame: 64 with face detected ...\n",
            "Possible match for detected face: Niall Horan\n",
            "Face recognition using deep-learning ...\n",
            "Liam_Payne\t0.05\t0.67\t0.07\t0.20\t0.01\n",
            "Liam_Payne\n",
            "Saved frame: 65 with face detected ...\n",
            "Possible match for detected face: Liam Payne\n",
            "Face recognition using deep-learning ...\n",
            "Louis_Tomlinson\t0.01\t0.28\t0.47\t0.16\t0.08\n",
            "Louis_Tomlinson\n",
            "Saved frame: 66 with face detected ...\n",
            "Possible match for detected face: Louis Tomlinson\n",
            "Processed frame 52 / 4597\n",
            "Processed face encodings ...\n",
            "Processed face encodings ...\n",
            "Processed face encodings ...\n",
            "Face recognition using deep-learning ...\n",
            "Niall_Horan\t0.00\t0.00\t0.00\t1.00\t0.00\n",
            "Niall_Horan\n",
            "Saved frame: 67 with face detected ...\n",
            "Possible match for detected face: Niall Horan\n",
            "Face recognition using deep-learning ...\n",
            "Liam_Payne\t0.02\t0.87\t0.05\t0.05\t0.00\n",
            "Liam_Payne\n",
            "Saved frame: 68 with face detected ...\n",
            "Possible match for detected face: Liam Payne\n",
            "Face recognition using deep-learning ...\n",
            "Louis_Tomlinson\t0.01\t0.24\t0.57\t0.12\t0.06\n",
            "Louis_Tomlinson\n",
            "Saved frame: 69 with face detected ...\n",
            "Possible match for detected face: Louis Tomlinson\n",
            "Processed frame 53 / 4597\n",
            "Processed face encodings ...\n",
            "Processed face encodings ...\n",
            "Processed face encodings ...\n",
            "Face recognition using deep-learning ...\n",
            "Liam_Payne\t0.01\t0.91\t0.04\t0.04\t0.00\n",
            "Liam_Payne\n",
            "Saved frame: 70 with face detected ...\n",
            "Possible match for detected face: Liam Payne\n",
            "Face recognition using deep-learning ...\n",
            "Niall_Horan\t0.00\t0.00\t0.00\t1.00\t0.00\n",
            "Niall_Horan\n",
            "Saved frame: 71 with face detected ...\n",
            "Possible match for detected face: Niall Horan\n",
            "Face recognition using deep-learning ...\n",
            "Louis_Tomlinson\t0.00\t0.16\t0.71\t0.09\t0.04\n",
            "Louis_Tomlinson\n",
            "Saved frame: 72 with face detected ...\n",
            "Possible match for detected face: Louis Tomlinson\n",
            "Processed frame 54 / 4597\n",
            "Processed face encodings ...\n",
            "Processed face encodings ...\n",
            "Processed face encodings ...\n",
            "Face recognition using deep-learning ...\n",
            "Liam_Payne\t0.03\t0.71\t0.05\t0.20\t0.00\n",
            "Liam_Payne\n",
            "Saved frame: 73 with face detected ...\n",
            "Possible match for detected face: Liam Payne\n",
            "Face recognition using deep-learning ...\n",
            "Niall_Horan\t0.00\t0.00\t0.00\t1.00\t0.00\n",
            "Niall_Horan\n",
            "Saved frame: 74 with face detected ...\n",
            "Possible match for detected face: Niall Horan\n",
            "Face recognition using deep-learning ...\n",
            "Louis_Tomlinson\t0.01\t0.33\t0.43\t0.16\t0.07\n",
            "Louis_Tomlinson\n",
            "Saved frame: 75 with face detected ...\n",
            "Possible match for detected face: Louis Tomlinson\n",
            "Processed frame 55 / 4597\n",
            "Processed face encodings ...\n",
            "Processed face encodings ...\n",
            "Processed face encodings ...\n",
            "Face recognition using deep-learning ...\n",
            "Louis_Tomlinson\t0.01\t0.35\t0.48\t0.09\t0.07\n",
            "Louis_Tomlinson\n",
            "Saved frame: 76 with face detected ...\n",
            "Possible match for detected face: Louis Tomlinson\n",
            "Face recognition using deep-learning ...\n",
            "Liam_Payne\t0.12\t0.64\t0.05\t0.18\t0.01\n",
            "Liam_Payne\n",
            "Saved frame: 77 with face detected ...\n",
            "Possible match for detected face: Liam Payne\n",
            "Face recognition using deep-learning ...\n",
            "Niall_Horan\t0.00\t0.00\t0.00\t0.99\t0.00\n",
            "Niall_Horan\n",
            "Saved frame: 78 with face detected ...\n",
            "Possible match for detected face: Niall Horan\n",
            "Processed frame 56 / 4597\n",
            "Processed face encodings ...\n",
            "Processed face encodings ...\n",
            "Processed face encodings ...\n",
            "Face recognition using deep-learning ...\n",
            "Louis_Tomlinson\t0.03\t0.23\t0.43\t0.17\t0.13\n",
            "Louis_Tomlinson\n",
            "Saved frame: 79 with face detected ...\n",
            "Possible match for detected face: Louis Tomlinson\n",
            "Face recognition using deep-learning ...\n",
            "Harry_Styles\t0.35\t0.34\t0.03\t0.28\t0.01\n",
            "Harry_Styles\n",
            "Saved frame: 80 with face detected ...\n",
            "Possible match for detected face: Harry Styles\n",
            "Face recognition using deep-learning ...\n",
            "Niall_Horan\t0.00\t0.00\t0.00\t1.00\t0.00\n",
            "Niall_Horan\n",
            "Saved frame: 81 with face detected ...\n",
            "Possible match for detected face: Niall Horan\n",
            "Processed frame 57 / 4597\n"
          ],
          "name": "stdout"
        },
        {
          "output_type": "stream",
          "text": [
            "Processed face encodings ...\n",
            "Processed face encodings ...\n",
            "Processed face encodings ...\n",
            "Face recognition using deep-learning ...\n",
            "Louis_Tomlinson\t0.03\t0.18\t0.66\t0.11\t0.03\n",
            "Louis_Tomlinson\n",
            "Saved frame: 82 with face detected ...\n",
            "Possible match for detected face: Louis Tomlinson\n",
            "Face recognition using deep-learning ...\n",
            "Niall_Horan\t0.00\t0.00\t0.00\t1.00\t0.00\n",
            "Niall_Horan\n",
            "Saved frame: 83 with face detected ...\n",
            "Possible match for detected face: Niall Horan\n",
            "Face recognition using deep-learning ...\n",
            "Liam_Payne\t0.12\t0.71\t0.03\t0.13\t0.01\n",
            "Liam_Payne\n",
            "Saved frame: 84 with face detected ...\n",
            "Possible match for detected face: Liam Payne\n",
            "Processed frame 58 / 4597\n",
            "Processed face encodings ...\n",
            "Processed face encodings ...\n",
            "Processed face encodings ...\n",
            "Face recognition using deep-learning ...\n",
            "Louis_Tomlinson\t0.01\t0.03\t0.90\t0.05\t0.01\n",
            "Louis_Tomlinson\n",
            "Saved frame: 85 with face detected ...\n",
            "Possible match for detected face: Louis Tomlinson\n",
            "Face recognition using deep-learning ...\n",
            "Niall_Horan\t0.00\t0.00\t0.00\t1.00\t0.00\n",
            "Niall_Horan\n",
            "Saved frame: 86 with face detected ...\n",
            "Possible match for detected face: Niall Horan\n",
            "Face recognition using deep-learning ...\n",
            "Liam_Payne\t0.21\t0.42\t0.04\t0.32\t0.01\n",
            "Liam_Payne\n",
            "Saved frame: 87 with face detected ...\n",
            "Possible match for detected face: Liam Payne\n",
            "Processed frame 59 / 4597\n",
            "Processed face encodings ...\n",
            "Processed face encodings ...\n",
            "Processed face encodings ...\n",
            "Face recognition using deep-learning ...\n",
            "Niall_Horan\t0.00\t0.00\t0.00\t1.00\t0.00\n",
            "Niall_Horan\n",
            "Saved frame: 88 with face detected ...\n",
            "Possible match for detected face: Niall Horan\n",
            "Face recognition using deep-learning ...\n",
            "Liam_Payne\t0.17\t0.58\t0.04\t0.20\t0.01\n",
            "Liam_Payne\n",
            "Saved frame: 89 with face detected ...\n",
            "Possible match for detected face: Liam Payne\n",
            "Face recognition using deep-learning ...\n",
            "Louis_Tomlinson\t0.05\t0.03\t0.79\t0.12\t0.01\n",
            "Louis_Tomlinson\n",
            "Saved frame: 90 with face detected ...\n",
            "Possible match for detected face: Louis Tomlinson\n",
            "Processed frame 60 / 4597\n",
            "Processed face encodings ...\n",
            "Processed face encodings ...\n",
            "Processed face encodings ...\n",
            "Face recognition using deep-learning ...\n",
            "Liam_Payne\t0.28\t0.34\t0.06\t0.32\t0.01\n",
            "Liam_Payne\n",
            "Saved frame: 91 with face detected ...\n",
            "Possible match for detected face: Liam Payne\n",
            "Face recognition using deep-learning ...\n",
            "Niall_Horan\t0.00\t0.00\t0.00\t1.00\t0.00\n",
            "Niall_Horan\n",
            "Saved frame: 92 with face detected ...\n",
            "Possible match for detected face: Niall Horan\n",
            "Face recognition using deep-learning ...\n",
            "Louis_Tomlinson\t0.01\t0.02\t0.89\t0.06\t0.01\n",
            "Louis_Tomlinson\n",
            "Saved frame: 93 with face detected ...\n",
            "Possible match for detected face: Louis Tomlinson\n",
            "Processed frame 61 / 4597\n",
            "Processed face encodings ...\n",
            "Processed face encodings ...\n",
            "Processed face encodings ...\n",
            "Face recognition using deep-learning ...\n",
            "Liam_Payne\t0.10\t0.70\t0.04\t0.15\t0.00\n",
            "Liam_Payne\n",
            "Saved frame: 94 with face detected ...\n",
            "Possible match for detected face: Liam Payne\n",
            "Face recognition using deep-learning ...\n",
            "Niall_Horan\t0.00\t0.00\t0.00\t1.00\t0.00\n",
            "Niall_Horan\n",
            "Saved frame: 95 with face detected ...\n",
            "Possible match for detected face: Niall Horan\n",
            "Face recognition using deep-learning ...\n",
            "Louis_Tomlinson\t0.10\t0.10\t0.65\t0.14\t0.02\n",
            "Louis_Tomlinson\n",
            "Saved frame: 96 with face detected ...\n",
            "Possible match for detected face: Louis Tomlinson\n",
            "Processed frame 62 / 4597\n",
            "Processed face encodings ...\n",
            "Processed face encodings ...\n",
            "Processed face encodings ...\n",
            "Face recognition using deep-learning ...\n",
            "Liam_Payne\t0.08\t0.69\t0.06\t0.17\t0.00\n",
            "Liam_Payne\n",
            "Saved frame: 97 with face detected ...\n",
            "Possible match for detected face: Liam Payne\n",
            "Face recognition using deep-learning ...\n",
            "Niall_Horan\t0.00\t0.00\t0.00\t1.00\t0.00\n",
            "Niall_Horan\n",
            "Saved frame: 98 with face detected ...\n",
            "Possible match for detected face: Niall Horan\n",
            "Face recognition using deep-learning ...\n",
            "Louis_Tomlinson\t0.04\t0.05\t0.79\t0.10\t0.01\n",
            "Louis_Tomlinson\n",
            "Saved frame: 99 with face detected ...\n",
            "Possible match for detected face: Louis Tomlinson\n",
            "Processed frame 63 / 4597\n",
            "Processed face encodings ...\n",
            "Processed face encodings ...\n",
            "Processed face encodings ...\n",
            "Processed face encodings ...\n",
            "Face recognition using deep-learning ...\n",
            "Liam_Payne\t0.09\t0.63\t0.08\t0.19\t0.01\n",
            "Liam_Payne\n",
            "Saved frame: 100 with face detected ...\n",
            "Possible match for detected face: Liam Payne\n",
            "Face recognition using deep-learning ...\n",
            "Niall_Horan\t0.00\t0.00\t0.00\t1.00\t0.00\n",
            "Niall_Horan\n",
            "Saved frame: 101 with face detected ...\n",
            "Possible match for detected face: Niall Horan\n",
            "Face recognition using deep-learning ...\n",
            "Louis_Tomlinson\t0.06\t0.03\t0.88\t0.02\t0.01\n",
            "Louis_Tomlinson\n",
            "Saved frame: 102 with face detected ...\n",
            "Possible match for detected face: Louis Tomlinson\n",
            "Face recognition using deep-learning ...\n",
            "Harry_Styles\t0.98\t0.01\t0.01\t0.00\t0.00\n"
          ],
          "name": "stdout"
        },
        {
          "output_type": "stream",
          "text": [
            "Harry_Styles\n",
            "Saved frame: 103 with face detected ...\n",
            "Possible match for detected face: Harry Styles\n",
            "Processed frame 64 / 4597\n",
            "Processed face encodings ...\n",
            "Processed face encodings ...\n",
            "Processed face encodings ...\n",
            "Face recognition using deep-learning ...\n",
            "Liam_Payne\t0.16\t0.70\t0.04\t0.09\t0.00\n",
            "Liam_Payne\n",
            "Saved frame: 104 with face detected ...\n",
            "Possible match for detected face: Liam Payne\n",
            "Face recognition using deep-learning ...\n",
            "Niall_Horan\t0.00\t0.00\t0.00\t0.99\t0.00\n",
            "Niall_Horan\n",
            "Saved frame: 105 with face detected ...\n",
            "Possible match for detected face: Niall Horan\n",
            "Face recognition using deep-learning ...\n",
            "Louis_Tomlinson\t0.13\t0.05\t0.67\t0.13\t0.02\n",
            "Louis_Tomlinson\n",
            "Saved frame: 106 with face detected ...\n",
            "Possible match for detected face: Louis Tomlinson\n",
            "Processed frame 65 / 4597\n",
            "Processed face encodings ...\n",
            "Processed face encodings ...\n",
            "Processed face encodings ...\n",
            "Face recognition using deep-learning ...\n",
            "Niall_Horan\t0.00\t0.00\t0.00\t1.00\t0.00\n",
            "Niall_Horan\n",
            "Saved frame: 107 with face detected ...\n",
            "Possible match for detected face: Niall Horan\n",
            "Face recognition using deep-learning ...\n",
            "Liam_Payne\t0.03\t0.88\t0.04\t0.04\t0.00\n",
            "Liam_Payne\n",
            "Saved frame: 108 with face detected ...\n",
            "Possible match for detected face: Liam Payne\n",
            "Face recognition using deep-learning ...\n",
            "Louis_Tomlinson\t0.02\t0.02\t0.92\t0.02\t0.02\n",
            "Louis_Tomlinson\n",
            "Saved frame: 109 with face detected ...\n",
            "Possible match for detected face: Louis Tomlinson\n",
            "Processed frame 66 / 4597\n"
          ],
          "name": "stdout"
        }
      ]
    },
    {
      "metadata": {
        "id": "taKMR4zUD7i6",
        "colab_type": "code",
        "colab": {
          "autoexec": {
            "startup": false,
            "wait_interval": 0
          }
        }
      },
      "cell_type": "code",
      "source": [
        ""
      ],
      "execution_count": 0,
      "outputs": []
    }
  ]
}