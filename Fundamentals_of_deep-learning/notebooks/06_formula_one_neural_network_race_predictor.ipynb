{
  "nbformat": 4,
  "nbformat_minor": 0,
  "metadata": {
    "colab": {
      "name": "formula-one--neural_network_race_predictor.ipynb",
      "version": "0.3.2",
      "provenance": [],
      "collapsed_sections": []
    },
    "kernelspec": {
      "display_name": "Python 3",
      "language": "python",
      "name": "python3"
    }
  },
  "cells": [
    {
      "metadata": {
        "id": "S0rO1H3050tw",
        "colab_type": "text"
      },
      "cell_type": "markdown",
      "source": [
        "# Formula One -- Neural network predictor for race finish positions\n",
        "\n"
      ]
    },
    {
      "metadata": {
        "id": "A2ppw-LCl71u",
        "colab_type": "code",
        "outputId": "91767b3e-64a9-4bb3-92d6-da7f8d0c111e",
        "colab": {
          "resources": {
            "http://localhost:8080/nbextensions/google.colab/files.js": {
              "data": "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",
              "ok": true,
              "headers": [
                [
                  "content-type",
                  "application/javascript"
                ]
              ],
              "status": 200,
              "status_text": ""
            }
          },
          "base_uri": "https://localhost:8080/",
          "height": 111
        }
      },
      "cell_type": "code",
      "source": [
        "from google.colab import files\n",
        "files.upload()"
      ],
      "execution_count": 0,
      "outputs": [
        {
          "output_type": "display_data",
          "data": {
            "text/html": [
              "\n",
              "     <input type=\"file\" id=\"files-5b49a146-4e4b-44cc-a96c-14c7f06a6afc\" name=\"files[]\" multiple disabled />\n",
              "     <output id=\"result-5b49a146-4e4b-44cc-a96c-14c7f06a6afc\">\n",
              "      Upload widget is only available when the cell has been executed in the\n",
              "      current browser session. Please rerun this cell to enable.\n",
              "      </output>\n",
              "      <script src=\"/nbextensions/google.colab/files.js\"></script> "
            ],
            "text/plain": [
              "<IPython.core.display.HTML object>"
            ]
          },
          "metadata": {
            "tags": []
          }
        },
        {
          "output_type": "stream",
          "text": [
            "Saving F1_race_outcome_dataset.csv to F1_race_outcome_dataset.csv\n"
          ],
          "name": "stdout"
        },
        {
          "output_type": "execute_result",
          "data": {
            "text/plain": [
              "{'F1_race_outcome_dataset.csv': b'year,name,driverRef,team,position,statusId,grid\\r\\n2017,Brazilian Grand Prix,alonso,Mclaren,8,1,7\\r\\n2017,Mexican Grand Prix,alonso,Mclaren,11,1,14\\r\\n2017,United States Grand Prix,alonso,Mclaren,11,0,9\\r\\n2017,Japanese Grand Prix,alonso,Mclaren,11,1,10\\r\\n2017,Malaysian Grand Prix,alonso,Mclaren,11,1,10\\r\\n2017,Singapore Grand Prix,alonso,Mclaren,11,0,8\\r\\n2017,Italian Grand Prix,alonso,Mclaren,11,0,13\\r\\n2017,Belgian Grand Prix,alonso,Mclaren,11,0,11\\r\\n2017,Hungarian Grand Prix,alonso,Mclaren,11,1,8\\r\\n2017,British Grand Prix,alonso,Mclaren,11,0,13\\r\\n2017,Austrian Grand Prix,alonso,Mclaren,11,0,12\\r\\n2017,Azerbaijan Grand Prix,alonso,Mclaren,11,1,16\\r\\n2017,Canadian Grand Prix,alonso,Mclaren,11,0,12\\r\\n2017,Spanish Grand Prix,alonso,Mclaren,11,1,7\\r\\n2017,Russian Grand Prix,alonso,Mclaren,11,0,15\\r\\n2017,Bahrain Grand Prix,alonso,Mclaren,11,0,15\\r\\n2017,Australian Grand Prix,alonso,Mclaren,11,0,13\\r\\n2017,Abu Dhabi Grand Prix,alonso,Mclaren,11,1,11\\r\\n2016,Brazilian Grand Prix,alonso,Mclaren,17,1,10\\r\\n2016,Mexican Grand Prix,alonso,Mclaren,17,1,11\\r\\n2016,United States Grand Prix,alonso,Mclaren,17,1,12\\r\\n2016,Japanese Grand Prix,alonso,Mclaren,17,1,15\\r\\n2016,Malaysian Grand Prix,alonso,Mclaren,17,1,22\\r\\n2016,Singapore Grand Prix,alonso,Mclaren,17,1,9\\r\\n2016,Italian Grand Prix,alonso,Mclaren,17,1,13\\r\\n2016,Belgian Grand Prix,alonso,Mclaren,17,1,22\\r\\n2016,Hungarian Grand Prix,alonso,Mclaren,17,1,7\\r\\n2016,British Grand Prix,alonso,Mclaren,17,1,10\\r\\n2016,Austrian Grand Prix,alonso,Mclaren,17,0,14\\r\\n2016,Azerbaijan Grand Prix,alonso,Mclaren,17,0,14\\r\\n2016,Canadian Grand Prix,alonso,Mclaren,17,1,10\\r\\n2016,Monaco Grand Prix,alonso,Mclaren,17,1,10\\r\\n2016,Spanish Grand Prix,alonso,Mclaren,15,0,10\\r\\n2016,Russian Grand Prix,alonso,Mclaren,15,1,14\\r\\n2016,Chinese Grand Prix,alonso,Mclaren,15,1,12\\r\\n2016,Australian Grand Prix,alonso,Mclaren,15,0,12\\r\\n2016,Abu Dhabi Grand Prix,alonso,Mclaren,17,1,9\\r\\n2017,Chinese Grand Prix,alonso,Mclaren,11,0,13\\r\\n2017,Brazilian Grand Prix,bottas,Mercedes,2,1,1\\r\\n2017,Mexican Grand Prix,bottas,Mercedes,2,1,4\\r\\n2017,United States Grand Prix,bottas,Mercedes,2,1,3\\r\\n2017,Japanese Grand Prix,bottas,Mercedes,2,1,2\\r\\n2017,Malaysian Grand Prix,bottas,Mercedes,2,1,5\\r\\n2017,Singapore Grand Prix,bottas,Mercedes,2,1,6\\r\\n2017,Italian Grand Prix,bottas,Mercedes,2,1,6\\r\\n2017,Belgian Grand Prix,bottas,Mercedes,2,1,3\\r\\n2017,Hungarian Grand Prix,bottas,Mercedes,2,1,3\\r\\n2017,British Grand Prix,bottas,Mercedes,2,1,4\\r\\n2017,Austrian Grand Prix,bottas,Mercedes,2,1,1\\r\\n2017,Azerbaijan Grand Prix,bottas,Mercedes,2,1,2\\r\\n2017,Canadian Grand Prix,bottas,Mercedes,2,1,3\\r\\n2017,Monaco Grand Prix,bottas,Mercedes,2,1,3\\r\\n2017,Spanish Grand Prix,bottas,Mercedes,2,0,3\\r\\n2017,Russian Grand Prix,bottas,Mercedes,2,1,3\\r\\n2017,Bahrain Grand Prix,bottas,Mercedes,2,1,1\\r\\n2017,Australian Grand Prix,bottas,Mercedes,2,1,3\\r\\n2017,Abu Dhabi Grand Prix,bottas,Mercedes,2,1,1\\r\\n2016,Brazilian Grand Prix,bottas,Williams,6,1,11\\r\\n2016,Mexican Grand Prix,bottas,Williams,6,1,8\\r\\n2016,United States Grand Prix,bottas,Williams,6,1,8\\r\\n2016,Japanese Grand Prix,bottas,Williams,6,1,11\\r\\n2016,Malaysian Grand Prix,bottas,Williams,6,1,11\\r\\n2016,Singapore Grand Prix,bottas,Williams,6,0,11\\r\\n2016,Italian Grand Prix,bottas,Williams,6,1,5\\r\\n2016,Belgian Grand Prix,bottas,Williams,6,1,8\\r\\n2016,Hungarian Grand Prix,bottas,Williams,6,1,10\\r\\n2016,British Grand Prix,bottas,Williams,6,1,7\\r\\n2016,Austrian Grand Prix,bottas,Williams,6,1,8\\r\\n2016,Azerbaijan Grand Prix,bottas,Williams,6,1,8\\r\\n2016,Canadian Grand Prix,bottas,Williams,6,1,7\\r\\n2016,Monaco Grand Prix,bottas,Williams,6,1,11\\r\\n2016,Spanish Grand Prix,bottas,Williams,6,1,7\\r\\n2016,Russian Grand Prix,bottas,Williams,5,1,3\\r\\n2016,Chinese Grand Prix,bottas,Williams,5,1,5\\r\\n2016,Bahrain Grand Prix,bottas,Williams,6,1,6\\r\\n2016,Australian Grand Prix,bottas,Williams,5,1,11\\r\\n2016,Abu Dhabi Grand Prix,bottas,Williams,6,0,11\\r\\n2017,Chinese Grand Prix,bottas,Mercedes,2,1,3\\r\\n2017,Monaco Grand Prix,button,Mclaren,11,0,9\\r\\n2016,Brazilian Grand Prix,button,Mclaren,18,1,17\\r\\n2016,Mexican Grand Prix,button,Mclaren,18,1,13\\r\\n2016,United States Grand Prix,button,Mclaren,18,1,19\\r\\n2016,Japanese Grand Prix,button,Mclaren,18,1,17\\r\\n2016,Malaysian Grand Prix,button,Mclaren,18,1,9\\r\\n2016,Singapore Grand Prix,button,Mclaren,18,0,13\\r\\n2016,Italian Grand Prix,button,Mclaren,18,1,15\\r\\n2016,Belgian Grand Prix,button,Mclaren,18,0,9\\r\\n2016,Hungarian Grand Prix,button,Mclaren,18,0,8\\r\\n2016,British Grand Prix,button,Mclaren,18,1,17\\r\\n2016,Austrian Grand Prix,button,Mclaren,18,1,5\\r\\n2016,Azerbaijan Grand Prix,button,Mclaren,18,1,19\\r\\n2016,Canadian Grand Prix,button,Mclaren,18,0,12\\r\\n2016,Monaco Grand Prix,button,Mclaren,18,1,13\\r\\n2016,Spanish Grand Prix,button,Mclaren,16,1,12\\r\\n2016,Russian Grand Prix,button,Mclaren,16,1,12\\r\\n2016,Chinese Grand Prix,button,Mclaren,16,1,13\\r\\n2016,Bahrain Grand Prix,button,Mclaren,18,0,14\\r\\n2016,Australian Grand Prix,button,Mclaren,16,1,13\\r\\n2016,Abu Dhabi Grand Prix,button,Mclaren,18,0,12\\r\\n2017,Hungarian Grand Prix,di resta,Williams,9,0,19\\r\\n2017,Brazilian Grand Prix,ericsson,Sauber,13,1,19\\r\\n2017,Mexican Grand Prix,ericsson,Sauber,20,0,16\\r\\n2017,United States Grand Prix,ericsson,Sauber,20,1,16\\r\\n2017,Japanese Grand Prix,ericsson,Sauber,20,0,19\\r\\n2017,Malaysian Grand Prix,ericsson,Sauber,20,1,19\\r\\n2017,Singapore Grand Prix,ericsson,Sauber,20,0,20\\r\\n2017,Italian Grand Prix,ericsson,Sauber,20,0,18\\r\\n2017,Belgian Grand Prix,ericsson,Sauber,20,1,19\\r\\n2017,Hungarian Grand Prix,ericsson,Sauber,20,1,20\\r\\n2017,British Grand Prix,ericsson,Sauber,20,1,19\\r\\n2017,Austrian Grand Prix,ericsson,Sauber,20,1,19\\r\\n2017,Azerbaijan Grand Prix,ericsson,Sauber,20,1,18\\r\\n2017,Canadian Grand Prix,ericsson,Sauber,20,1,19\\r\\n2017,Monaco Grand Prix,ericsson,Sauber,20,0,20\\r\\n2017,Spanish Grand Prix,ericsson,Sauber,20,1,16\\r\\n2017,Russian Grand Prix,ericsson,Sauber,20,1,19\\r\\n2017,Bahrain Grand Prix,ericsson,Sauber,20,0,19\\r\\n2017,Australian Grand Prix,ericsson,Sauber,20,0,15\\r\\n2017,Abu Dhabi Grand Prix,ericsson,Sauber,20,1,19\\r\\n2016,Brazilian Grand Prix,ericsson,Sauber,15,0,21\\r\\n2016,Mexican Grand Prix,ericsson,Sauber,15,1,15\\r\\n2016,United States Grand Prix,ericsson,Sauber,15,1,16\\r\\n2016,Japanese Grand Prix,ericsson,Sauber,15,1,19\\r\\n2016,Malaysian Grand Prix,ericsson,Sauber,15,1,17\\r\\n2016,Singapore Grand Prix,ericsson,Sauber,15,1,16\\r\\n2016,Italian Grand Prix,ericsson,Sauber,15,1,19\\r\\n2016,Belgian Grand Prix,ericsson,Sauber,15,0,20\\r\\n2016,Hungarian Grand Prix,ericsson,Sauber,15,1,20\\r\\n2016,British Grand Prix,ericsson,Sauber,15,0,22\\r\\n2016,Austrian Grand Prix,ericsson,Sauber,15,1,21\\r\\n2016,Azerbaijan Grand Prix,ericsson,Sauber,15,1,20\\r\\n2016,Canadian Grand Prix,ericsson,Sauber,15,1,19\\r\\n2016,Monaco Grand Prix,ericsson,Sauber,15,0,17\\r\\n2016,Spanish Grand Prix,ericsson,Sauber,17,1,19\\r\\n2016,Russian Grand Prix,ericsson,Sauber,17,1,22\\r\\n2016,Chinese Grand Prix,ericsson,Sauber,17,1,15\\r\\n2016,Bahrain Grand Prix,ericsson,Sauber,15,1,17\\r\\n2016,Australian Grand Prix,ericsson,Sauber,17,0,16\\r\\n2016,Abu Dhabi Grand Prix,ericsson,Sauber,15,1,22\\r\\n2017,Chinese Grand Prix,ericsson,Sauber,20,1,14\\r\\n2017,Brazilian Grand Prix,gasly,Toro Rosso,12,1,17\\r\\n2017,Mexican Grand Prix,gasly,Toro Rosso,14,1,22\\r\\n2017,Japanese Grand Prix,gasly,Toro Rosso,14,1,17\\r\\n2017,Malaysian Grand Prix,gasly,Toro Rosso,14,1,15\\r\\n2017,Abu Dhabi Grand Prix,gasly,Toro Rosso,14,1,17\\r\\n2017,Australian Grand Prix,giovinazzi,Sauber,19,1,16\\r\\n2017,Chinese Grand Prix,giovinazzi,Sauber,19,0,15\\r\\n2017,Brazilian Grand Prix,grosjean,Haas,15,1,12\\r\\n2017,Mexican Grand Prix,grosjean,Haas,15,1,19\\r\\n2017,United States Grand Prix,grosjean,Haas,15,1,14\\r\\n2017,Japanese Grand Prix,grosjean,Haas,15,1,16\\r\\n2017,Malaysian Grand Prix,grosjean,Haas,15,1,16\\r\\n2017,Singapore Grand Prix,grosjean,Haas,15,1,15\\r\\n2017,Italian Grand Prix,grosjean,Haas,15,1,20\\r\\n2017,Belgian Grand Prix,grosjean,Haas,15,1,12\\r\\n2017,Hungarian Grand Prix,grosjean,Haas,15,0,15\\r\\n2017,British Grand Prix,grosjean,Haas,15,1,10\\r\\n2017,Austrian Grand Prix,grosjean,Haas,15,1,7\\r\\n2017,Azerbaijan Grand Prix,grosjean,Haas,15,1,17\\r\\n2017,Canadian Grand Prix,grosjean,Haas,15,1,14\\r\\n2017,Monaco Grand Prix,grosjean,Haas,15,1,8\\r\\n2017,Spanish Grand Prix,grosjean,Haas,15,1,14\\r\\n2017,Russian Grand Prix,grosjean,Haas,15,0,20\\r\\n2017,Bahrain Grand Prix,grosjean,Haas,15,1,9\\r\\n2017,Australian Grand Prix,grosjean,Haas,15,0,6\\r\\n2017,Abu Dhabi Grand Prix,grosjean,Haas,15,1,16\\r\\n2016,Brazilian Grand Prix,grosjean,Haas,21,0,7\\r\\n2016,Mexican Grand Prix,grosjean,Haas,21,1,21\\r\\n2016,United States Grand Prix,grosjean,Haas,21,1,17\\r\\n2016,Japanese Grand Prix,grosjean,Haas,21,1,8\\r\\n2016,Malaysian Grand Prix,grosjean,Haas,21,0,12\\r\\n2016,Singapore Grand Prix,grosjean,Haas,21,0,15\\r\\n2016,Italian Grand Prix,grosjean,Haas,21,1,12\\r\\n2016,Belgian Grand Prix,grosjean,Haas,21,1,11\\r\\n2016,Hungarian Grand Prix,grosjean,Haas,21,1,11\\r\\n2016,British Grand Prix,grosjean,Haas,21,0,13\\r\\n2016,Austrian Grand Prix,grosjean,Haas,21,1,13\\r\\n2016,Azerbaijan Grand Prix,grosjean,Haas,21,1,11\\r\\n2016,Canadian Grand Prix,grosjean,Haas,21,1,15\\r\\n2016,Monaco Grand Prix,grosjean,Haas,21,1,15\\r\\n2016,Spanish Grand Prix,grosjean,Haas,21,0,14\\r\\n2016,Russian Grand Prix,grosjean,Haas,21,1,15\\r\\n2016,Chinese Grand Prix,grosjean,Haas,21,1,14\\r\\n2016,Bahrain Grand Prix,grosjean,Haas,21,1,9\\r\\n2016,Australian Grand Prix,grosjean,Haas,21,1,19\\r\\n2016,Abu Dhabi Grand Prix,grosjean,Haas,21,1,14\\r\\n2017,Chinese Grand Prix,grosjean,Haas,15,1,17\\r\\n2016,Brazilian Grand Prix,gutierrez,Haas,22,0,12\\r\\n2016,Mexican Grand Prix,gutierrez,Haas,22,1,17\\r\\n2016,United States Grand Prix,gutierrez,Haas,22,0,14\\r\\n2016,Japanese Grand Prix,gutierrez,Haas,22,1,10\\r\\n2016,Malaysian Grand Prix,gutierrez,Haas,22,0,13\\r\\n2016,Singapore Grand Prix,gutierrez,Haas,22,1,14\\r\\n2016,Italian Grand Prix,gutierrez,Haas,22,1,10\\r\\n2016,Belgian Grand Prix,gutierrez,Haas,22,1,13\\r\\n2016,Hungarian Grand Prix,gutierrez,Haas,22,1,15\\r\\n2016,British Grand Prix,gutierrez,Haas,22,1,14\\r\\n2016,Austrian Grand Prix,gutierrez,Haas,22,1,11\\r\\n2016,Azerbaijan Grand Prix,gutierrez,Haas,22,1,15\\r\\n2016,Canadian Grand Prix,gutierrez,Haas,22,1,14\\r\\n2016,Monaco Grand Prix,gutierrez,Haas,22,1,12\\r\\n2016,Spanish Grand Prix,gutierrez,Haas,22,1,16\\r\\n2016,Russian Grand Prix,gutierrez,Haas,22,1,16\\r\\n2016,Chinese Grand Prix,gutierrez,Haas,22,1,18\\r\\n2016,Bahrain Grand Prix,gutierrez,Haas,22,0,13\\r\\n2016,Australian Grand Prix,gutierrez,Haas,22,0,20\\r\\n2016,Abu Dhabi Grand Prix,gutierrez,Haas,22,1,13\\r\\n2017,Brazilian Grand Prix,hamilton,Mercedes,4,1,20\\r\\n2017,Mexican Grand Prix,hamilton,Mercedes,1,1,3\\r\\n2017,United States Grand Prix,hamilton,Mercedes,1,1,1\\r\\n2017,Japanese Grand Prix,hamilton,Mercedes,1,1,1\\r\\n2017,Malaysian Grand Prix,hamilton,Mercedes,1,1,1\\r\\n2017,Singapore Grand Prix,hamilton,Mercedes,1,1,5\\r\\n2017,Italian Grand Prix,hamilton,Mercedes,1,1,1\\r\\n2017,Belgian Grand Prix,hamilton,Mercedes,1,1,1\\r\\n2017,Hungarian Grand Prix,hamilton,Mercedes,1,1,4\\r\\n2017,British Grand Prix,hamilton,Mercedes,1,1,1\\r\\n2017,Austrian Grand Prix,hamilton,Mercedes,1,1,3\\r\\n2017,Azerbaijan Grand Prix,hamilton,Mercedes,1,1,1\\r\\n2017,Canadian Grand Prix,hamilton,Mercedes,1,1,1\\r\\n2017,Monaco Grand Prix,hamilton,Mercedes,1,1,14\\r\\n2017,Spanish Grand Prix,hamilton,Mercedes,1,1,1\\r\\n2017,Russian Grand Prix,hamilton,Mercedes,1,1,4\\r\\n2017,Bahrain Grand Prix,hamilton,Mercedes,1,1,2\\r\\n2017,Australian Grand Prix,hamilton,Mercedes,1,1,1\\r\\n2017,Abu Dhabi Grand Prix,hamilton,Mercedes,1,1,2\\r\\n2016,Brazilian Grand Prix,hamilton,Mercedes,1,1,1\\r\\n2016,Mexican Grand Prix,hamilton,Mercedes,1,1,1\\r\\n2016,United States Grand Prix,hamilton,Mercedes,1,1,1\\r\\n2016,Japanese Grand Prix,hamilton,Mercedes,1,1,2\\r\\n2016,Malaysian Grand Prix,hamilton,Mercedes,1,0,1\\r\\n2016,Singapore Grand Prix,hamilton,Mercedes,1,1,3\\r\\n2016,Italian Grand Prix,hamilton,Mercedes,1,1,1\\r\\n2016,Belgian Grand Prix,hamilton,Mercedes,1,1,21\\r\\n2016,Hungarian Grand Prix,hamilton,Mercedes,1,1,2\\r\\n2016,British Grand Prix,hamilton,Mercedes,1,1,1\\r\\n2016,Austrian Grand Prix,hamilton,Mercedes,1,1,1\\r\\n2016,Azerbaijan Grand Prix,hamilton,Mercedes,1,1,10\\r\\n2016,Canadian Grand Prix,hamilton,Mercedes,1,1,1\\r\\n2016,Monaco Grand Prix,hamilton,Mercedes,1,1,3\\r\\n2016,Spanish Grand Prix,hamilton,Mercedes,1,0,1\\r\\n2016,Russian Grand Prix,hamilton,Mercedes,1,1,10\\r\\n2016,Chinese Grand Prix,hamilton,Mercedes,1,1,22\\r\\n2016,Bahrain Grand Prix,hamilton,Mercedes,1,1,1\\r\\n2016,Australian Grand Prix,hamilton,Mercedes,1,1,1\\r\\n2016,Abu Dhabi Grand Prix,hamilton,Mercedes,1,1,1\\r\\n2017,Chinese Grand Prix,hamilton,Mercedes,1,1,1\\r\\n2017,Brazilian Grand Prix,hartley,Toro Rosso,17,0,22\\r\\n2017,Mexican Grand Prix,hartley,Toro Rosso,13,0,22\\r\\n2017,United States Grand Prix,hartley,Toro Rosso,13,1,22\\r\\n2017,Abu Dhabi Grand Prix,hartley,Toro Rosso,13,1,22\\r\\n2016,Hungarian Grand Prix,haryanto,Manor,20,1,22\\r\\n2016,British Grand Prix,haryanto,Manor,20,0,19\\r\\n2016,Austrian Grand Prix,haryanto,Manor,20,1,19\\r\\n2016,Azerbaijan Grand Prix,haryanto,Manor,20,1,17\\r\\n2016,Canadian Grand Prix,haryanto,Manor,20,1,21\\r\\n2016,Monaco Grand Prix,haryanto,Manor,20,1,19\\r\\n2016,Spanish Grand Prix,haryanto,Manor,20,1,22\\r\\n2016,Russian Grand Prix,haryanto,Manor,20,0,21\\r\\n2016,Chinese Grand Prix,haryanto,Manor,20,1,20\\r\\n2016,Bahrain Grand Prix,haryanto,Manor,20,1,21\\r\\n2016,Australian Grand Prix,haryanto,Manor,20,0,21\\r\\n2017,Brazilian Grand Prix,hulkenberg,Renault,10,1,8\\r\\n2017,Mexican Grand Prix,hulkenberg,Renault,17,0,8\\r\\n2017,United States Grand Prix,hulkenberg,Renault,17,0,15\\r\\n2017,Japanese Grand Prix,hulkenberg,Renault,17,0,12\\r\\n2017,Malaysian Grand Prix,hulkenberg,Renault,17,1,8\\r\\n2017,Singapore Grand Prix,hulkenberg,Renault,17,0,7\\r\\n2017,Italian Grand Prix,hulkenberg,Renault,17,1,12\\r\\n2017,Belgian Grand Prix,hulkenberg,Renault,17,1,7\\r\\n2017,Hungarian Grand Prix,hulkenberg,Renault,17,0,7\\r\\n2017,British Grand Prix,hulkenberg,Renault,17,1,6\\r\\n2017,Austrian Grand Prix,hulkenberg,Renault,17,1,11\\r\\n2017,Azerbaijan Grand Prix,hulkenberg,Renault,17,0,14\\r\\n2017,Canadian Grand Prix,hulkenberg,Renault,17,1,10\\r\\n2017,Monaco Grand Prix,hulkenberg,Renault,17,0,12\\r\\n2017,Spanish Grand Prix,hulkenberg,Renault,17,1,13\\r\\n2017,Russian Grand Prix,hulkenberg,Renault,17,1,8\\r\\n2017,Bahrain Grand Prix,hulkenberg,Renault,17,1,7\\r\\n2017,Australian Grand Prix,hulkenberg,Renault,17,1,12\\r\\n2017,Abu Dhabi Grand Prix,hulkenberg,Renault,17,1,7\\r\\n2016,Brazilian Grand Prix,hulkenberg,Force India,9,1,8\\r\\n2016,Mexican Grand Prix,hulkenberg,Force India,9,1,5\\r\\n2016,United States Grand Prix,hulkenberg,Force India,9,0,7\\r\\n2016,Japanese Grand Prix,hulkenberg,Force India,9,1,9\\r\\n2016,Malaysian Grand Prix,hulkenberg,Force India,9,1,8\\r\\n2016,Singapore Grand Prix,hulkenberg,Force India,9,0,8\\r\\n2016,Italian Grand Prix,hulkenberg,Force India,9,1,9\\r\\n2016,Belgian Grand Prix,hulkenberg,Force India,9,1,7\\r\\n2016,Hungarian Grand Prix,hulkenberg,Force India,9,1,9\\r\\n2016,British Grand Prix,hulkenberg,Force India,9,1,9\\r\\n2016,Austrian Grand Prix,hulkenberg,Force India,9,0,3\\r\\n2016,Azerbaijan Grand Prix,hulkenberg,Force India,9,1,12\\r\\n2016,Canadian Grand Prix,hulkenberg,Force India,9,1,9\\r\\n2016,Monaco Grand Prix,hulkenberg,Force India,9,1,5\\r\\n2016,Spanish Grand Prix,hulkenberg,Force India,9,0,11\\r\\n2016,Russian Grand Prix,hulkenberg,Force India,9,0,13\\r\\n2016,Chinese Grand Prix,hulkenberg,Force India,9,1,10\\r\\n2016,Bahrain Grand Prix,hulkenberg,Force India,9,1,8\\r\\n2016,Australian Grand Prix,hulkenberg,Force India,11,1,10\\r\\n2016,Abu Dhabi Grand Prix,hulkenberg,Force India,9,1,7\\r\\n2017,Chinese Grand Prix,hulkenberg,Renault,17,1,7\\r\\n2017,United States Grand Prix,kvyat,Toro Rosso,14,1,12\\r\\n2017,Singapore Grand Prix,kvyat,Toro Rosso,14,0,13\\r\\n2017,Italian Grand Prix,kvyat,Toro Rosso,14,1,14\\r\\n2017,Belgian Grand Prix,kvyat,Toro Rosso,14,1,17\\r\\n2017,Hungarian Grand Prix,kvyat,Toro Rosso,14,1,13\\r\\n2017,British Grand Prix,kvyat,Toro Rosso,14,1,12\\r\\n2017,Austrian Grand Prix,kvyat,Toro Rosso,14,1,14\\r\\n2017,Azerbaijan Grand Prix,kvyat,Toro Rosso,14,0,11\\r\\n2017,Canadian Grand Prix,kvyat,Toro Rosso,14,0,11\\r\\n2017,Monaco Grand Prix,kvyat,Toro Rosso,14,0,11\\r\\n2017,Spanish Grand Prix,kvyat,Toro Rosso,14,1,20\\r\\n2017,Russian Grand Prix,kvyat,Toro Rosso,14,1,13\\r\\n2017,Bahrain Grand Prix,kvyat,Toro Rosso,14,1,11\\r\\n2017,Australian Grand Prix,kvyat,Toro Rosso,14,1,9\\r\\n2016,Brazilian Grand Prix,kvyat,Toro Rosso,13,1,14\\r\\n2016,Mexican Grand Prix,kvyat,Toro Rosso,13,1,18\\r\\n2016,United States Grand Prix,kvyat,Toro Rosso,13,1,13\\r\\n2016,Japanese Grand Prix,kvyat,Toro Rosso,13,1,13\\r\\n2016,Malaysian Grand Prix,kvyat,Toro Rosso,13,1,15\\r\\n2016,Singapore Grand Prix,kvyat,Toro Rosso,13,1,7\\r\\n2016,Italian Grand Prix,kvyat,Toro Rosso,13,0,17\\r\\n2016,Belgian Grand Prix,kvyat,Toro Rosso,13,1,19\\r\\n2016,Hungarian Grand Prix,kvyat,Toro Rosso,13,1,12\\r\\n2016,British Grand Prix,kvyat,Toro Rosso,13,1,15\\r\\n2016,Austrian Grand Prix,kvyat,Toro Rosso,13,0,20\\r\\n2016,Azerbaijan Grand Prix,kvyat,Toro Rosso,13,0,7\\r\\n2016,Canadian Grand Prix,kvyat,Toro Rosso,13,1,13\\r\\n2016,Monaco Grand Prix,kvyat,Toro Rosso,13,0,9\\r\\n2016,Spanish Grand Prix,kvyat,Toro Rosso,13,1,13\\r\\n2016,Russian Grand Prix,kvyat,Red Bull,8,1,8\\r\\n2016,Chinese Grand Prix,kvyat,Red Bull,8,1,6\\r\\n2016,Bahrain Grand Prix,kvyat,Red Bull,13,1,15\\r\\n2016,Australian Grand Prix,kvyat,Red Bull,8,0,18\\r\\n2016,Abu Dhabi Grand Prix,kvyat,Toro Rosso,13,0,17\\r\\n2017,Chinese Grand Prix,kvyat,Toro Rosso,14,0,9\\r\\n2017,Brazilian Grand Prix,magnussen,Haas,20,0,14\\r\\n2017,Mexican Grand Prix,magnussen,Haas,16,1,18\\r\\n2017,United States Grand Prix,magnussen,Haas,16,1,20\\r\\n2017,Japanese Grand Prix,magnussen,Haas,16,1,13\\r\\n2017,Malaysian Grand Prix,magnussen,Haas,16,1,17\\r\\n2017,Singapore Grand Prix,magnussen,Haas,16,0,16\\r\\n2017,Italian Grand Prix,magnussen,Haas,16,1,16\\r\\n2017,Belgian Grand Prix,magnussen,Haas,16,1,13\\r\\n2017,Hungarian Grand Prix,magnussen,Haas,16,1,16\\r\\n2017,British Grand Prix,magnussen,Haas,16,1,17\\r\\n2017,Austrian Grand Prix,magnussen,Haas,16,0,15\\r\\n2017,Azerbaijan Grand Prix,magnussen,Haas,16,1,13\\r\\n2017,Canadian Grand Prix,magnussen,Haas,16,1,18\\r\\n2017,Monaco Grand Prix,magnussen,Haas,16,1,13\\r\\n2017,Spanish Grand Prix,magnussen,Haas,16,1,11\\r\\n2017,Russian Grand Prix,magnussen,Haas,16,1,14\\r\\n2017,Bahrain Grand Prix,magnussen,Haas,16,0,20\\r\\n2017,Australian Grand Prix,magnussen,Haas,16,0,17\\r\\n2017,Abu Dhabi Grand Prix,magnussen,Haas,16,1,14\\r\\n2016,Brazilian Grand Prix,magnussen,Renault,11,1,18\\r\\n2016,Mexican Grand Prix,magnussen,Renault,11,1,14\\r\\n2016,United States Grand Prix,magnussen,Renault,11,1,18\\r\\n2016,Japanese Grand Prix,magnussen,Renault,11,1,18\\r\\n2016,Malaysian Grand Prix,magnussen,Renault,11,0,14\\r\\n2016,Singapore Grand Prix,magnussen,Renault,11,1,17\\r\\n2016,Italian Grand Prix,magnussen,Renault,11,1,21\\r\\n2016,Belgian Grand Prix,magnussen,Renault,11,0,12\\r\\n2016,Hungarian Grand Prix,magnussen,Renault,11,1,19\\r\\n2016,British Grand Prix,magnussen,Renault,11,0,16\\r\\n2016,Austrian Grand Prix,magnussen,Renault,11,1,17\\r\\n2016,Azerbaijan Grand Prix,magnussen,Renault,11,1,21\\r\\n2016,Canadian Grand Prix,magnussen,Renault,11,1,22\\r\\n2016,Monaco Grand Prix,magnussen,Renault,11,0,16\\r\\n2016,Spanish Grand Prix,magnussen,Renault,11,1,15\\r\\n2016,Russian Grand Prix,magnussen,Renault,11,1,17\\r\\n2016,Chinese Grand Prix,magnussen,Renault,11,1,17\\r\\n2016,Bahrain Grand Prix,magnussen,Renault,11,1,19\\r\\n2016,Australian Grand Prix,magnussen,Renault,9,1,15\\r\\n2016,Abu Dhabi Grand Prix,magnussen,Renault,11,0,18\\r\\n2017,Chinese Grand Prix,magnussen,Haas,16,1,12\\r\\n2017,Brazilian Grand Prix,massa,Williams,7,1,10\\r\\n2017,Mexican Grand Prix,massa,Williams,9,1,11\\r\\n2017,United States Grand Prix,massa,Williams,9,1,11\\r\\n2017,Japanese Grand Prix,massa,Williams,9,1,9\\r\\n2017,Malaysian Grand Prix,massa,Williams,9,1,11\\r\\n2017,Singapore Grand Prix,massa,Williams,9,1,17\\r\\n2017,Italian Grand Prix,massa,Williams,9,1,9\\r\\n2017,Belgian Grand Prix,massa,Williams,9,1,16\\r\\n2017,British Grand Prix,massa,Williams,9,1,15\\r\\n2017,Austrian Grand Prix,massa,Williams,9,1,17\\r\\n2017,Azerbaijan Grand Prix,massa,Williams,9,0,9\\r\\n2017,Canadian Grand Prix,massa,Williams,9,0,7\\r\\n2017,Monaco Grand Prix,massa,Williams,9,1,15\\r\\n2017,Spanish Grand Prix,massa,Williams,9,1,9\\r\\n2017,Russian Grand Prix,massa,Williams,9,1,6\\r\\n2017,Bahrain Grand Prix,massa,Williams,9,1,8\\r\\n2017,Australian Grand Prix,massa,Williams,9,1,7\\r\\n2017,Abu Dhabi Grand Prix,massa,Williams,9,1,10\\r\\n2016,Brazilian Grand Prix,massa,Williams,5,0,13\\r\\n2016,Mexican Grand Prix,massa,Williams,5,1,9\\r\\n2016,United States Grand Prix,massa,Williams,5,1,9\\r\\n2016,Japanese Grand Prix,massa,Williams,5,1,12\\r\\n2016,Malaysian Grand Prix,massa,Williams,5,1,10\\r\\n2016,Singapore Grand Prix,massa,Williams,5,1,12\\r\\n2016,Italian Grand Prix,massa,Williams,5,1,11\\r\\n2016,Belgian Grand Prix,massa,Williams,5,1,10\\r\\n2016,Hungarian Grand Prix,massa,Williams,5,1,18\\r\\n2016,British Grand Prix,massa,Williams,5,1,12\\r\\n2016,Austrian Grand Prix,massa,Williams,5,0,10\\r\\n2016,Azerbaijan Grand Prix,massa,Williams,5,1,6\\r\\n2016,Canadian Grand Prix,massa,Williams,5,0,8\\r\\n2016,Monaco Grand Prix,massa,Williams,5,1,14\\r\\n2016,Spanish Grand Prix,massa,Williams,5,1,18\\r\\n2016,Russian Grand Prix,massa,Williams,6,1,5\\r\\n2016,Chinese Grand Prix,massa,Williams,6,1,11\\r\\n2016,Bahrain Grand Prix,massa,Williams,5,1,7\\r\\n2016,Australian Grand Prix,massa,Williams,6,1,6\\r\\n2016,Abu Dhabi Grand Prix,massa,Williams,5,1,10\\r\\n2017,Chinese Grand Prix,massa,Williams,9,1,6\\r\\n2016,Brazilian Grand Prix,nasr,Sauber,16,1,22\\r\\n2016,Mexican Grand Prix,nasr,Sauber,16,1,19\\r\\n2016,United States Grand Prix,nasr,Sauber,16,1,21\\r\\n2016,Japanese Grand Prix,nasr,Sauber,16,1,20\\r\\n2016,Malaysian Grand Prix,nasr,Sauber,16,0,18\\r\\n2016,Singapore Grand Prix,nasr,Sauber,16,1,18\\r\\n2016,Italian Grand Prix,nasr,Sauber,16,0,18\\r\\n2016,Belgian Grand Prix,nasr,Sauber,16,1,17\\r\\n2016,Hungarian Grand Prix,nasr,Sauber,16,1,16\\r\\n2016,British Grand Prix,nasr,Sauber,16,1,21\\r\\n2016,Austrian Grand Prix,nasr,Sauber,16,1,22\\r\\n2016,Azerbaijan Grand Prix,nasr,Sauber,16,1,16\\r\\n2016,Canadian Grand Prix,nasr,Sauber,16,1,20\\r\\n2016,Monaco Grand Prix,nasr,Sauber,16,0,22\\r\\n2016,Spanish Grand Prix,nasr,Sauber,18,1,20\\r\\n2016,Russian Grand Prix,nasr,Sauber,18,1,19\\r\\n2016,Chinese Grand Prix,nasr,Sauber,18,1,16\\r\\n2016,Bahrain Grand Prix,nasr,Sauber,16,1,22\\r\\n2016,Australian Grand Prix,nasr,Sauber,18,1,17\\r\\n2016,Abu Dhabi Grand Prix,nasr,Sauber,16,1,19\\r\\n2017,Brazilian Grand Prix,ocon,Force India,18,0,11\\r\\n2017,Mexican Grand Prix,ocon,Force India,8,1,6\\r\\n2017,United States Grand Prix,ocon,Force India,8,1,7\\r\\n2017,Japanese Grand Prix,ocon,Force India,8,1,7\\r\\n2017,Malaysian Grand Prix,ocon,Force India,8,1,6\\r\\n2017,Singapore Grand Prix,ocon,Force India,8,1,14\\r\\n2017,Italian Grand Prix,ocon,Force India,8,1,5\\r\\n2017,Belgian Grand Prix,ocon,Force India,8,1,9\\r\\n2017,Hungarian Grand Prix,ocon,Force India,8,1,12\\r\\n2017,British Grand Prix,ocon,Force India,8,1,8\\r\\n2017,Austrian Grand Prix,ocon,Force India,8,1,9\\r\\n2017,Azerbaijan Grand Prix,ocon,Force India,8,1,7\\r\\n2017,Canadian Grand Prix,ocon,Force India,8,1,9\\r\\n2017,Monaco Grand Prix,ocon,Force India,8,1,16\\r\\n2017,Spanish Grand Prix,ocon,Force India,8,1,10\\r\\n2017,Russian Grand Prix,ocon,Force India,8,1,10\\r\\n2017,Bahrain Grand Prix,ocon,Force India,8,1,14\\r\\n2017,Australian Grand Prix,ocon,Force India,8,1,14\\r\\n2017,Abu Dhabi Grand Prix,ocon,Force India,8,1,9\\r\\n2016,Brazilian Grand Prix,ocon,Manor,20,1,20\\r\\n2016,Mexican Grand Prix,ocon,Manor,20,1,20\\r\\n2016,United States Grand Prix,ocon,Manor,20,1,22\\r\\n2016,Japanese Grand Prix,ocon,Manor,20,1,21\\r\\n2016,Malaysian Grand Prix,ocon,Manor,20,1,20\\r\\n2016,Singapore Grand Prix,ocon,Manor,20,1,21\\r\\n2016,Italian Grand Prix,ocon,Manor,20,1,22\\r\\n2016,Belgian Grand Prix,ocon,Manor,20,1,18\\r\\n2016,Abu Dhabi Grand Prix,ocon,Manor,20,1,20\\r\\n2017,Chinese Grand Prix,ocon,Force India,8,1,20\\r\\n2017,Japanese Grand Prix,palmer,Renault,18,1,14\\r\\n2017,Malaysian Grand Prix,palmer,Renault,18,1,12\\r\\n2017,Singapore Grand Prix,palmer,Renault,18,1,11\\r\\n2017,Italian Grand Prix,palmer,Renault,18,0,17\\r\\n2017,Belgian Grand Prix,palmer,Renault,18,1,10\\r\\n2017,Hungarian Grand Prix,palmer,Renault,18,1,11\\r\\n2017,British Grand Prix,palmer,Renault,18,0,11\\r\\n2017,Austrian Grand Prix,palmer,Renault,18,1,16\\r\\n2017,Azerbaijan Grand Prix,palmer,Renault,18,0,22\\r\\n2017,Canadian Grand Prix,palmer,Renault,18,1,15\\r\\n2017,Monaco Grand Prix,palmer,Renault,18,1,17\\r\\n2017,Spanish Grand Prix,palmer,Renault,18,1,17\\r\\n2017,Russian Grand Prix,palmer,Renault,18,0,16\\r\\n2017,Bahrain Grand Prix,palmer,Renault,18,1,10\\r\\n2017,Australian Grand Prix,palmer,Renault,18,0,20\\r\\n2016,Brazilian Grand Prix,palmer,Renault,12,0,16\\r\\n2016,Mexican Grand Prix,palmer,Renault,12,1,22\\r\\n2016,United States Grand Prix,palmer,Renault,12,1,15\\r\\n2016,Japanese Grand Prix,palmer,Renault,12,1,16\\r\\n2016,Malaysian Grand Prix,palmer,Renault,12,1,19\\r\\n2016,Singapore Grand Prix,palmer,Renault,12,1,19\\r\\n2016,Italian Grand Prix,palmer,Renault,12,0,20\\r\\n2016,Belgian Grand Prix,palmer,Renault,12,1,14\\r\\n2016,Hungarian Grand Prix,palmer,Renault,12,1,17\\r\\n2016,British Grand Prix,palmer,Renault,12,0,18\\r\\n2016,Austrian Grand Prix,palmer,Renault,12,1,18\\r\\n2016,Azerbaijan Grand Prix,palmer,Renault,12,1,22\\r\\n2016,Canadian Grand Prix,palmer,Renault,12,0,17\\r\\n2016,Monaco Grand Prix,palmer,Renault,12,0,18\\r\\n2016,Spanish Grand Prix,palmer,Renault,12,1,17\\r\\n2016,Russian Grand Prix,palmer,Renault,12,1,18\\r\\n2016,Chinese Grand Prix,palmer,Renault,12,1,19\\r\\n2016,Bahrain Grand Prix,palmer,Renault,12,0,20\\r\\n2016,Australian Grand Prix,palmer,Renault,10,1,14\\r\\n2016,Abu Dhabi Grand Prix,palmer,Renault,12,1,15\\r\\n2017,Chinese Grand Prix,palmer,Renault,18,1,18\\r\\n2017,Brazilian Grand Prix,perez,Force India,9,1,6\\r\\n2017,Mexican Grand Prix,perez,Force India,7,1,10\\r\\n2017,United States Grand Prix,perez,Force India,7,1,10\\r\\n2017,Japanese Grand Prix,perez,Force India,7,1,8\\r\\n2017,Malaysian Grand Prix,perez,Force India,7,1,9\\r\\n2017,Singapore Grand Prix,perez,Force India,7,1,12\\r\\n2017,Italian Grand Prix,perez,Force India,7,1,11\\r\\n2017,Belgian Grand Prix,perez,Force India,7,0,8\\r\\n2017,Hungarian Grand Prix,perez,Force India,7,1,14\\r\\n2017,British Grand Prix,perez,Force India,7,1,7\\r\\n2017,Austrian Grand Prix,perez,Force India,7,1,8\\r\\n2017,Azerbaijan Grand Prix,perez,Force India,7,0,6\\r\\n2017,Canadian Grand Prix,perez,Force India,7,1,8\\r\\n2017,Monaco Grand Prix,perez,Force India,7,1,7\\r\\n2017,Spanish Grand Prix,perez,Force India,7,1,8\\r\\n2017,Russian Grand Prix,perez,Force India,7,1,9\\r\\n2017,Bahrain Grand Prix,perez,Force India,7,1,18\\r\\n2017,Australian Grand Prix,perez,Force India,7,1,11\\r\\n2017,Abu Dhabi Grand Prix,perez,Force India,7,1,8\\r\\n2016,Brazilian Grand Prix,perez,Force India,10,1,9\\r\\n2016,Mexican Grand Prix,perez,Force India,10,1,12\\r\\n2016,United States Grand Prix,perez,Force India,10,1,11\\r\\n2016,Japanese Grand Prix,perez,Force India,10,1,7\\r\\n2016,Malaysian Grand Prix,perez,Force India,10,1,7\\r\\n2016,Singapore Grand Prix,perez,Force India,10,1,10\\r\\n2016,Italian Grand Prix,perez,Force India,10,1,8\\r\\n2016,Belgian Grand Prix,perez,Force India,10,1,6\\r\\n2016,Hungarian Grand Prix,perez,Force India,10,1,13\\r\\n2016,British Grand Prix,perez,Force India,10,1,11\\r\\n2016,Austrian Grand Prix,perez,Force India,10,0,16\\r\\n2016,Azerbaijan Grand Prix,perez,Force India,10,1,2\\r\\n2016,Canadian Grand Prix,perez,Force India,10,1,11\\r\\n2016,Monaco Grand Prix,perez,Force India,10,1,8\\r\\n2016,Spanish Grand Prix,perez,Force India,10,1,9\\r\\n2016,Russian Grand Prix,perez,Force India,10,1,7\\r\\n2016,Chinese Grand Prix,perez,Force India,10,1,7\\r\\n2016,Bahrain Grand Prix,perez,Force India,10,1,18\\r\\n2016,Australian Grand Prix,perez,Force India,12,1,9\\r\\n2016,Abu Dhabi Grand Prix,perez,Force India,10,1,8\\r\\n2017,Chinese Grand Prix,perez,Force India,7,1,8\\r\\n2017,Brazilian Grand Prix,raikkonen,Ferrari,3,1,3\\r\\n2017,Mexican Grand Prix,raikkonen,Ferrari,6,1,5\\r\\n2017,United States Grand Prix,raikkonen,Ferrari,6,1,5\\r\\n2017,Japanese Grand Prix,raikkonen,Ferrari,6,1,6\\r\\n2017,Malaysian Grand Prix,raikkonen,Ferrari,6,0,2\\r\\n2017,Singapore Grand Prix,raikkonen,Ferrari,6,0,4\\r\\n2017,Italian Grand Prix,raikkonen,Ferrari,6,1,7\\r\\n2017,Belgian Grand Prix,raikkonen,Ferrari,6,1,4\\r\\n2017,Hungarian Grand Prix,raikkonen,Ferrari,6,1,2\\r\\n2017,British Grand Prix,raikkonen,Ferrari,6,1,2\\r\\n2017,Austrian Grand Prix,raikkonen,Ferrari,6,1,4\\r\\n2017,Azerbaijan Grand Prix,raikkonen,Ferrari,6,0,3\\r\\n2017,Canadian Grand Prix,raikkonen,Ferrari,6,1,4\\r\\n2017,Monaco Grand Prix,raikkonen,Ferrari,6,1,1\\r\\n2017,Spanish Grand Prix,raikkonen,Ferrari,6,0,4\\r\\n2017,Russian Grand Prix,raikkonen,Ferrari,6,1,2\\r\\n2017,Bahrain Grand Prix,raikkonen,Ferrari,6,1,5\\r\\n2017,Australian Grand Prix,raikkonen,Ferrari,6,1,4\\r\\n2017,Abu Dhabi Grand Prix,raikkonen,Ferrari,6,1,5\\r\\n2016,Brazilian Grand Prix,raikkonen,Ferrari,4,0,3\\r\\n2016,Mexican Grand Prix,raikkonen,Ferrari,4,1,6\\r\\n2016,United States Grand Prix,raikkonen,Ferrari,4,0,5\\r\\n2016,Japanese Grand Prix,raikkonen,Ferrari,4,1,3\\r\\n2016,Malaysian Grand Prix,raikkonen,Ferrari,4,1,6\\r\\n2016,Singapore Grand Prix,raikkonen,Ferrari,4,1,5\\r\\n2016,Italian Grand Prix,raikkonen,Ferrari,4,1,4\\r\\n2016,Belgian Grand Prix,raikkonen,Ferrari,4,1,3\\r\\n2016,Hungarian Grand Prix,raikkonen,Ferrari,4,1,14\\r\\n2016,British Grand Prix,raikkonen,Ferrari,4,1,5\\r\\n2016,Austrian Grand Prix,raikkonen,Ferrari,4,1,6\\r\\n2016,Azerbaijan Grand Prix,raikkonen,Ferrari,4,1,5\\r\\n2016,Canadian Grand Prix,raikkonen,Ferrari,4,1,6\\r\\n2016,Monaco Grand Prix,raikkonen,Ferrari,4,0,6\\r\\n2016,Spanish Grand Prix,raikkonen,Ferrari,4,1,5\\r\\n2016,Russian Grand Prix,raikkonen,Ferrari,4,1,4\\r\\n2016,Chinese Grand Prix,raikkonen,Ferrari,4,1,3\\r\\n2016,Bahrain Grand Prix,raikkonen,Ferrari,4,1,4\\r\\n2016,Australian Grand Prix,raikkonen,Ferrari,4,0,4\\r\\n2016,Abu Dhabi Grand Prix,raikkonen,Ferrari,4,1,4\\r\\n2017,Chinese Grand Prix,raikkonen,Ferrari,6,1,4\\r\\n2017,Brazilian Grand Prix,ricciardo,Red Bull,6,1,5\\r\\n2017,Mexican Grand Prix,ricciardo,Red Bull,3,0,7\\r\\n2017,United States Grand Prix,ricciardo,Red Bull,3,0,4\\r\\n2017,Japanese Grand Prix,ricciardo,Red Bull,3,1,4\\r\\n2017,Malaysian Grand Prix,ricciardo,Red Bull,3,1,4\\r\\n2017,Singapore Grand Prix,ricciardo,Red Bull,3,1,3\\r\\n2017,Italian Grand Prix,ricciardo,Red Bull,3,1,3\\r\\n2017,Belgian Grand Prix,ricciardo,Red Bull,3,1,6\\r\\n2017,Hungarian Grand Prix,ricciardo,Red Bull,3,0,6\\r\\n2017,British Grand Prix,ricciardo,Red Bull,3,1,20\\r\\n2017,Austrian Grand Prix,ricciardo,Red Bull,3,1,5\\r\\n2017,Azerbaijan Grand Prix,ricciardo,Red Bull,3,1,10\\r\\n2017,Canadian Grand Prix,ricciardo,Red Bull,3,1,6\\r\\n2017,Monaco Grand Prix,ricciardo,Red Bull,3,1,5\\r\\n2017,Spanish Grand Prix,ricciardo,Red Bull,3,1,6\\r\\n2017,Russian Grand Prix,ricciardo,Red Bull,3,0,5\\r\\n2017,Bahrain Grand Prix,ricciardo,Red Bull,3,1,4\\r\\n2017,Australian Grand Prix,ricciardo,Red Bull,3,0,10\\r\\n2017,Abu Dhabi Grand Prix,ricciardo,Red Bull,3,0,4\\r\\n2016,Brazilian Grand Prix,ricciardo,Red Bull,7,1,6\\r\\n2016,Mexican Grand Prix,ricciardo,Red Bull,7,1,4\\r\\n2016,United States Grand Prix,ricciardo,Red Bull,7,1,3\\r\\n2016,Japanese Grand Prix,ricciardo,Red Bull,7,1,6\\r\\n2016,Malaysian Grand Prix,ricciardo,Red Bull,7,1,4\\r\\n2016,Singapore Grand Prix,ricciardo,Red Bull,7,1,2\\r\\n2016,Italian Grand Prix,ricciardo,Red Bull,7,1,6\\r\\n2016,Belgian Grand Prix,ricciardo,Red Bull,7,1,5\\r\\n2016,Hungarian Grand Prix,ricciardo,Red Bull,7,1,3\\r\\n2016,British Grand Prix,ricciardo,Red Bull,7,1,4\\r\\n2016,Austrian Grand Prix,ricciardo,Red Bull,7,1,7\\r\\n2016,Azerbaijan Grand Prix,ricciardo,Red Bull,7,1,3\\r\\n2016,Canadian Grand Prix,ricciardo,Red Bull,7,1,4\\r\\n2016,Monaco Grand Prix,ricciardo,Red Bull,7,1,1\\r\\n2016,Spanish Grand Prix,ricciardo,Red Bull,7,1,3\\r\\n2016,Russian Grand Prix,ricciardo,Red Bull,7,1,6\\r\\n2016,Chinese Grand Prix,ricciardo,Red Bull,7,1,2\\r\\n2016,Bahrain Grand Prix,ricciardo,Red Bull,7,1,5\\r\\n2016,Australian Grand Prix,ricciardo,Red Bull,7,1,8\\r\\n2016,Abu Dhabi Grand Prix,ricciardo,Red Bull,7,1,3\\r\\n2017,Chinese Grand Prix,ricciardo,Red Bull,3,1,5\\r\\n2016,Brazilian Grand Prix,rosberg,Mercedes,2,1,2\\r\\n2016,Mexican Grand Prix,rosberg,Mercedes,2,1,2\\r\\n2016,United States Grand Prix,rosberg,Mercedes,2,1,2\\r\\n2016,Japanese Grand Prix,rosberg,Mercedes,2,1,1\\r\\n2016,Malaysian Grand Prix,rosberg,Mercedes,2,1,2\\r\\n2016,Singapore Grand Prix,rosberg,Mercedes,2,1,1\\r\\n2016,Italian Grand Prix,rosberg,Mercedes,2,1,2\\r\\n2016,Belgian Grand Prix,rosberg,Mercedes,2,1,1\\r\\n2016,Hungarian Grand Prix,rosberg,Mercedes,2,1,1\\r\\n2016,British Grand Prix,rosberg,Mercedes,2,1,2\\r\\n2016,Austrian Grand Prix,rosberg,Mercedes,2,1,2\\r\\n2016,Azerbaijan Grand Prix,rosberg,Mercedes,2,1,1\\r\\n2016,Canadian Grand Prix,rosberg,Mercedes,2,1,2\\r\\n2016,Monaco Grand Prix,rosberg,Mercedes,2,1,2\\r\\n2016,Spanish Grand Prix,rosberg,Mercedes,2,0,2\\r\\n2016,Russian Grand Prix,rosberg,Mercedes,2,1,1\\r\\n2016,Chinese Grand Prix,rosberg,Mercedes,2,1,1\\r\\n2016,Bahrain Grand Prix,rosberg,Mercedes,2,1,2\\r\\n2016,Australian Grand Prix,rosberg,Mercedes,2,1,2\\r\\n2016,Abu Dhabi Grand Prix,rosberg,Mercedes,2,1,2\\r\\n2017,Brazilian Grand Prix,sainz,Toro Rosso,11,1,9\\r\\n2017,Mexican Grand Prix,sainz,Toro Rosso,18,0,9\\r\\n2017,United States Grand Prix,sainz,Toro Rosso,18,1,8\\r\\n2017,Japanese Grand Prix,sainz,Toro Rosso,13,0,15\\r\\n2017,Malaysian Grand Prix,sainz,Toro Rosso,13,0,14\\r\\n2017,Singapore Grand Prix,sainz,Toro Rosso,13,1,10\\r\\n2017,Italian Grand Prix,sainz,Toro Rosso,13,1,15\\r\\n2017,Belgian Grand Prix,sainz,Toro Rosso,13,1,14\\r\\n2017,Hungarian Grand Prix,sainz,Toro Rosso,13,1,10\\r\\n2017,British Grand Prix,sainz,Toro Rosso,13,0,14\\r\\n2017,Austrian Grand Prix,sainz,Toro Rosso,13,0,10\\r\\n2017,Azerbaijan Grand Prix,sainz,Toro Rosso,13,1,12\\r\\n2017,Canadian Grand Prix,sainz,Toro Rosso,13,0,13\\r\\n2017,Monaco Grand Prix,sainz,Toro Rosso,13,1,6\\r\\n2017,Spanish Grand Prix,sainz,Toro Rosso,13,1,12\\r\\n2017,Russian Grand Prix,sainz,Toro Rosso,13,1,11\\r\\n2017,Bahrain Grand Prix,sainz,Toro Rosso,13,0,16\\r\\n2017,Australian Grand Prix,sainz,Toro Rosso,13,1,8\\r\\n2017,Abu Dhabi Grand Prix,sainz,Toro Rosso,18,0,12\\r\\n2016,Brazilian Grand Prix,sainz,Toro Rosso,14,1,15\\r\\n2016,Mexican Grand Prix,sainz,Toro Rosso,14,1,10\\r\\n2016,United States Grand Prix,sainz,Toro Rosso,14,1,10\\r\\n2016,Japanese Grand Prix,sainz,Toro Rosso,14,1,14\\r\\n2016,Malaysian Grand Prix,sainz,Toro Rosso,14,1,16\\r\\n2016,Singapore Grand Prix,sainz,Toro Rosso,14,1,6\\r\\n2016,Italian Grand Prix,sainz,Toro Rosso,14,1,16\\r\\n2016,Belgian Grand Prix,sainz,Toro Rosso,14,0,15\\r\\n2016,Hungarian Grand Prix,sainz,Toro Rosso,14,1,6\\r\\n2016,British Grand Prix,sainz,Toro Rosso,14,1,8\\r\\n2016,Austrian Grand Prix,sainz,Toro Rosso,14,1,15\\r\\n2016,Azerbaijan Grand Prix,sainz,Toro Rosso,14,0,13\\r\\n2016,Canadian Grand Prix,sainz,Toro Rosso,14,1,16\\r\\n2016,Monaco Grand Prix,sainz,Toro Rosso,14,1,7\\r\\n2016,Spanish Grand Prix,sainz,Toro Rosso,14,1,8\\r\\n2016,Russian Grand Prix,sainz,Toro Rosso,14,1,11\\r\\n2016,Chinese Grand Prix,sainz,Toro Rosso,14,1,8\\r\\n2016,Bahrain Grand Prix,sainz,Toro Rosso,14,0,11\\r\\n2016,Australian Grand Prix,sainz,Toro Rosso,14,1,7\\r\\n2016,Abu Dhabi Grand Prix,sainz,Toro Rosso,14,0,21\\r\\n2017,Chinese Grand Prix,sainz,Toro Rosso,13,1,11\\r\\n2017,Brazilian Grand Prix,stroll,Williams,16,1,18\\r\\n2017,Mexican Grand Prix,stroll,Williams,10,1,12\\r\\n2017,United States Grand Prix,stroll,Williams,10,1,17\\r\\n2017,Japanese Grand Prix,stroll,Williams,10,0,18\\r\\n2017,Malaysian Grand Prix,stroll,Williams,10,1,13\\r\\n2017,Singapore Grand Prix,stroll,Williams,10,1,18\\r\\n2017,Italian Grand Prix,stroll,Williams,10,1,4\\r\\n2017,Belgian Grand Prix,stroll,Williams,10,1,18\\r\\n2017,Hungarian Grand Prix,stroll,Williams,10,1,17\\r\\n2017,British Grand Prix,stroll,Williams,10,1,16\\r\\n2017,Austrian Grand Prix,stroll,Williams,10,1,18\\r\\n2017,Azerbaijan Grand Prix,stroll,Williams,10,1,8\\r\\n2017,Canadian Grand Prix,stroll,Williams,10,1,17\\r\\n2017,Monaco Grand Prix,stroll,Williams,10,0,18\\r\\n2017,Spanish Grand Prix,stroll,Williams,10,1,18\\r\\n2017,Russian Grand Prix,stroll,Williams,10,1,12\\r\\n2017,Bahrain Grand Prix,stroll,Williams,10,0,12\\r\\n2017,Australian Grand Prix,stroll,Williams,10,0,19\\r\\n2017,Abu Dhabi Grand Prix,stroll,Williams,10,1,15\\r\\n2017,Chinese Grand Prix,stroll,Williams,10,0,10\\r\\n2017,Brazilian Grand Prix,vandoorne,Mclaren,19,0,13\\r\\n2017,Mexican Grand Prix,vandoorne,Mclaren,12,1,15\\r\\n2017,United States Grand Prix,vandoorne,Mclaren,12,1,13\\r\\n2017,Japanese Grand Prix,vandoorne,Mclaren,12,1,11\\r\\n2017,Malaysian Grand Prix,vandoorne,Mclaren,12,1,7\\r\\n2017,Singapore Grand Prix,vandoorne,Mclaren,12,1,9\\r\\n2017,Italian Grand Prix,vandoorne,Mclaren,12,0,10\\r\\n2017,Belgian Grand Prix,vandoorne,Mclaren,12,1,15\\r\\n2017,Hungarian Grand Prix,vandoorne,Mclaren,12,1,9\\r\\n2017,British Grand Prix,vandoorne,Mclaren,12,1,9\\r\\n2017,Austrian Grand Prix,vandoorne,Mclaren,12,1,13\\r\\n2017,Azerbaijan Grand Prix,vandoorne,Mclaren,12,1,19\\r\\n2017,Canadian Grand Prix,vandoorne,Mclaren,12,1,16\\r\\n2017,Monaco Grand Prix,vandoorne,Mclaren,12,0,10\\r\\n2017,Spanish Grand Prix,vandoorne,Mclaren,12,0,19\\r\\n2017,Russian Grand Prix,vandoorne,Mclaren,12,1,17\\r\\n2017,Bahrain Grand Prix,vandoorne,Mclaren,12,0,17\\r\\n2017,Australian Grand Prix,vandoorne,Mclaren,12,1,18\\r\\n2017,Abu Dhabi Grand Prix,vandoorne,Mclaren,12,1,13\\r\\n2016,Bahrain Grand Prix,vandoorne,Mclaren,17,1,12\\r\\n2017,Chinese Grand Prix,vandoorne,Mclaren,12,0,16\\r\\n2017,Brazilian Grand Prix,verstappen,Red Bull,5,1,4\\r\\n2017,Mexican Grand Prix,verstappen,Red Bull,4,1,2\\r\\n2017,United States Grand Prix,verstappen,Red Bull,4,1,6\\r\\n2017,Japanese Grand Prix,verstappen,Red Bull,4,1,5\\r\\n2017,Malaysian Grand Prix,verstappen,Red Bull,4,1,3\\r\\n2017,Singapore Grand Prix,verstappen,Red Bull,4,0,2\\r\\n2017,Italian Grand Prix,verstappen,Red Bull,4,1,2\\r\\n2017,Belgian Grand Prix,verstappen,Red Bull,4,0,5\\r\\n2017,Hungarian Grand Prix,verstappen,Red Bull,4,1,5\\r\\n2017,British Grand Prix,verstappen,Red Bull,4,1,5\\r\\n2017,Austrian Grand Prix,verstappen,Red Bull,4,0,6\\r\\n2017,Azerbaijan Grand Prix,verstappen,Red Bull,4,0,5\\r\\n2017,Canadian Grand Prix,verstappen,Red Bull,4,0,5\\r\\n2017,Monaco Grand Prix,verstappen,Red Bull,4,1,4\\r\\n2017,Spanish Grand Prix,verstappen,Red Bull,4,0,5\\r\\n2017,Russian Grand Prix,verstappen,Red Bull,4,1,7\\r\\n2017,Bahrain Grand Prix,verstappen,Red Bull,4,0,6\\r\\n2017,Australian Grand Prix,verstappen,Red Bull,4,1,5\\r\\n2017,Abu Dhabi Grand Prix,verstappen,Red Bull,4,1,6\\r\\n2016,Brazilian Grand Prix,verstappen,Red Bull,8,1,4\\r\\n2016,Mexican Grand Prix,verstappen,Red Bull,8,1,3\\r\\n2016,United States Grand Prix,verstappen,Red Bull,8,0,4\\r\\n2016,Japanese Grand Prix,verstappen,Red Bull,8,1,5\\r\\n2016,Malaysian Grand Prix,verstappen,Red Bull,8,1,3\\r\\n2016,Singapore Grand Prix,verstappen,Red Bull,8,1,4\\r\\n2016,Italian Grand Prix,verstappen,Red Bull,8,1,7\\r\\n2016,Belgian Grand Prix,verstappen,Red Bull,8,1,2\\r\\n2016,Hungarian Grand Prix,verstappen,Red Bull,8,1,4\\r\\n2016,British Grand Prix,verstappen,Red Bull,8,1,3\\r\\n2016,Austrian Grand Prix,verstappen,Red Bull,8,1,9\\r\\n2016,Azerbaijan Grand Prix,verstappen,Red Bull,8,1,9\\r\\n2016,Canadian Grand Prix,verstappen,Red Bull,8,1,5\\r\\n2016,Monaco Grand Prix,verstappen,Red Bull,8,0,21\\r\\n2016,Spanish Grand Prix,verstappen,Red Bull,8,1,4\\r\\n2016,Russian Grand Prix,verstappen,Toro Rosso,13,0,9\\r\\n2016,Chinese Grand Prix,verstappen,Toro Rosso,13,1,9\\r\\n2016,Bahrain Grand Prix,verstappen,Toro Rosso,8,1,10\\r\\n2016,Australian Grand Prix,verstappen,Toro Rosso,13,1,5\\r\\n2016,Abu Dhabi Grand Prix,verstappen,Red Bull,8,1,6\\r\\n2017,Chinese Grand Prix,verstappen,Red Bull,4,1,19\\r\\n2017,Brazilian Grand Prix,vettel,Ferrari,1,1,2\\r\\n2017,Mexican Grand Prix,vettel,Ferrari,5,1,1\\r\\n2017,United States Grand Prix,vettel,Ferrari,5,1,2\\r\\n2017,Japanese Grand Prix,vettel,Ferrari,5,0,3\\r\\n2017,Malaysian Grand Prix,vettel,Ferrari,5,1,20\\r\\n2017,Singapore Grand Prix,vettel,Ferrari,5,0,1\\r\\n2017,Italian Grand Prix,vettel,Ferrari,5,1,8\\r\\n2017,Belgian Grand Prix,vettel,Ferrari,5,1,2\\r\\n2017,Hungarian Grand Prix,vettel,Ferrari,5,1,1\\r\\n2017,British Grand Prix,vettel,Ferrari,5,1,3\\r\\n2017,Austrian Grand Prix,vettel,Ferrari,5,1,2\\r\\n2017,Azerbaijan Grand Prix,vettel,Ferrari,5,1,4\\r\\n2017,Canadian Grand Prix,vettel,Ferrari,5,1,2\\r\\n2017,Monaco Grand Prix,vettel,Ferrari,5,1,2\\r\\n2017,Spanish Grand Prix,vettel,Ferrari,5,1,2\\r\\n2017,Russian Grand Prix,vettel,Ferrari,5,1,1\\r\\n2017,Bahrain Grand Prix,vettel,Ferrari,5,1,3\\r\\n2017,Australian Grand Prix,vettel,Ferrari,5,1,2\\r\\n2017,Abu Dhabi Grand Prix,vettel,Ferrari,5,1,3\\r\\n2016,Brazilian Grand Prix,vettel,Ferrari,3,1,5\\r\\n2016,Mexican Grand Prix,vettel,Ferrari,3,1,7\\r\\n2016,United States Grand Prix,vettel,Ferrari,3,1,6\\r\\n2016,Japanese Grand Prix,vettel,Ferrari,3,1,4\\r\\n2016,Malaysian Grand Prix,vettel,Ferrari,3,0,5\\r\\n2016,Singapore Grand Prix,vettel,Ferrari,3,1,22\\r\\n2016,Italian Grand Prix,vettel,Ferrari,3,1,3\\r\\n2016,Belgian Grand Prix,vettel,Ferrari,3,1,4\\r\\n2016,Hungarian Grand Prix,vettel,Ferrari,3,1,5\\r\\n2016,British Grand Prix,vettel,Ferrari,3,1,6\\r\\n2016,Austrian Grand Prix,vettel,Ferrari,3,0,4\\r\\n2016,Azerbaijan Grand Prix,vettel,Ferrari,3,1,4\\r\\n2016,Canadian Grand Prix,vettel,Ferrari,3,1,3\\r\\n2016,Monaco Grand Prix,vettel,Ferrari,3,1,4\\r\\n2016,Spanish Grand Prix,vettel,Ferrari,3,1,6\\r\\n2016,Russian Grand Prix,vettel,Ferrari,3,0,2\\r\\n2016,Chinese Grand Prix,vettel,Ferrari,3,1,4\\r\\n2016,Bahrain Grand Prix,vettel,Ferrari,3,0,3\\r\\n2016,Australian Grand Prix,vettel,Ferrari,3,1,3\\r\\n2016,Abu Dhabi Grand Prix,vettel,Ferrari,3,1,5\\r\\n2017,Chinese Grand Prix,vettel,Ferrari,5,1,2\\r\\n2017,Brazilian Grand Prix,wehrlein,Sauber,14,1,16\\r\\n2017,Mexican Grand Prix,wehrlein,Sauber,19,1,17\\r\\n2017,United States Grand Prix,wehrlein,Sauber,19,0,19\\r\\n2017,Japanese Grand Prix,wehrlein,Sauber,19,1,20\\r\\n2017,Malaysian Grand Prix,wehrlein,Sauber,19,1,18\\r\\n2017,Singapore Grand Prix,wehrlein,Sauber,19,1,19\\r\\n2017,Italian Grand Prix,wehrlein,Sauber,19,1,19\\r\\n2017,Belgian Grand Prix,wehrlein,Sauber,19,0,20\\r\\n2017,Hungarian Grand Prix,wehrlein,Sauber,19,1,18\\r\\n2017,British Grand Prix,wehrlein,Sauber,19,1,18\\r\\n2017,Austrian Grand Prix,wehrlein,Sauber,19,1,20\\r\\n2017,Azerbaijan Grand Prix,wehrlein,Sauber,19,1,15\\r\\n2017,Canadian Grand Prix,wehrlein,Sauber,19,1,20\\r\\n2017,Monaco Grand Prix,wehrlein,Sauber,19,0,19\\r\\n2017,Spanish Grand Prix,wehrlein,Sauber,19,1,15\\r\\n2017,Russian Grand Prix,wehrlein,Sauber,19,1,18\\r\\n2017,Bahrain Grand Prix,wehrlein,Sauber,19,1,13\\r\\n2017,Abu Dhabi Grand Prix,wehrlein,Sauber,19,1,18\\r\\n2016,Brazilian Grand Prix,wehrlein,Manor,19,1,19\\r\\n2016,Mexican Grand Prix,wehrlein,Manor,19,0,16\\r\\n2016,United States Grand Prix,wehrlein,Manor,19,1,20\\r\\n2016,Japanese Grand Prix,wehrlein,Manor,19,1,22\\r\\n2016,Malaysian Grand Prix,wehrlein,Manor,19,1,21\\r\\n2016,Singapore Grand Prix,wehrlein,Manor,19,1,20\\r\\n2016,Italian Grand Prix,wehrlein,Manor,19,0,14\\r\\n2016,Belgian Grand Prix,wehrlein,Manor,19,0,16\\r\\n2016,Hungarian Grand Prix,wehrlein,Manor,19,1,21\\r\\n2016,British Grand Prix,wehrlein,Manor,19,0,20\\r\\n2016,Austrian Grand Prix,wehrlein,Manor,19,1,12\\r\\n2016,Azerbaijan Grand Prix,wehrlein,Manor,19,0,18\\r\\n2016,Canadian Grand Prix,wehrlein,Manor,19,1,18\\r\\n2016,Monaco Grand Prix,wehrlein,Manor,19,1,20\\r\\n2016,Spanish Grand Prix,wehrlein,Manor,19,1,21\\r\\n2016,Russian Grand Prix,wehrlein,Manor,19,1,20\\r\\n2016,Chinese Grand Prix,wehrlein,Manor,19,1,21\\r\\n2016,Bahrain Grand Prix,wehrlein,Manor,19,1,16\\r\\n2016,Australian Grand Prix,wehrlein,Manor,19,1,22\\r\\n2016,Abu Dhabi Grand Prix,wehrlein,Manor,19,1,16\\r\\n'}"
            ]
          },
          "metadata": {
            "tags": []
          },
          "execution_count": 70
        }
      ]
    },
    {
      "metadata": {
        "trusted": true,
        "_uuid": "aafc9cbf2dd32762e89575080afd84013110ee63",
        "id": "renGaOndtu_t",
        "colab_type": "code",
        "colab": {}
      },
      "cell_type": "code",
      "source": [
        "import numpy\n",
        "import pandas\n",
        "import os\n",
        "from keras.models import Sequential\n",
        "from keras.layers import Dense, Dropout\n",
        "from keras.wrappers.scikit_learn import KerasRegressor\n",
        "from sklearn.model_selection import cross_val_score\n",
        "from sklearn.model_selection import KFold\n",
        "from sklearn.preprocessing import StandardScaler\n",
        "from sklearn.pipeline import Pipeline"
      ],
      "execution_count": 0,
      "outputs": []
    },
    {
      "metadata": {
        "id": "vSu_u_be5_q5",
        "colab_type": "code",
        "colab": {}
      },
      "cell_type": "code",
      "source": [
        "dataframe = pandas.read_csv(\"./F1_race_outcome_dataset.csv\")"
      ],
      "execution_count": 0,
      "outputs": []
    },
    {
      "metadata": {
        "id": "vq0xuSLM0SCe",
        "colab_type": "code",
        "outputId": "e94e025c-d46d-4787-de2f-b6670155e0cc",
        "colab": {
          "base_uri": "https://localhost:8080/",
          "height": 190
        }
      },
      "cell_type": "code",
      "source": [
        "dataframe.head(4)"
      ],
      "execution_count": 0,
      "outputs": [
        {
          "output_type": "execute_result",
          "data": {
            "text/html": [
              "<div>\n",
              "<style scoped>\n",
              "    .dataframe tbody tr th:only-of-type {\n",
              "        vertical-align: middle;\n",
              "    }\n",
              "\n",
              "    .dataframe tbody tr th {\n",
              "        vertical-align: top;\n",
              "    }\n",
              "\n",
              "    .dataframe thead th {\n",
              "        text-align: right;\n",
              "    }\n",
              "</style>\n",
              "<table border=\"1\" class=\"dataframe\">\n",
              "  <thead>\n",
              "    <tr style=\"text-align: right;\">\n",
              "      <th></th>\n",
              "      <th>year</th>\n",
              "      <th>name</th>\n",
              "      <th>driverRef</th>\n",
              "      <th>team</th>\n",
              "      <th>position</th>\n",
              "      <th>statusId</th>\n",
              "      <th>grid</th>\n",
              "    </tr>\n",
              "  </thead>\n",
              "  <tbody>\n",
              "    <tr>\n",
              "      <th>0</th>\n",
              "      <td>2017</td>\n",
              "      <td>Brazilian Grand Prix</td>\n",
              "      <td>alonso</td>\n",
              "      <td>Mclaren</td>\n",
              "      <td>8</td>\n",
              "      <td>1</td>\n",
              "      <td>7</td>\n",
              "    </tr>\n",
              "    <tr>\n",
              "      <th>1</th>\n",
              "      <td>2017</td>\n",
              "      <td>Mexican Grand Prix</td>\n",
              "      <td>alonso</td>\n",
              "      <td>Mclaren</td>\n",
              "      <td>11</td>\n",
              "      <td>1</td>\n",
              "      <td>14</td>\n",
              "    </tr>\n",
              "    <tr>\n",
              "      <th>2</th>\n",
              "      <td>2017</td>\n",
              "      <td>United States Grand Prix</td>\n",
              "      <td>alonso</td>\n",
              "      <td>Mclaren</td>\n",
              "      <td>11</td>\n",
              "      <td>0</td>\n",
              "      <td>9</td>\n",
              "    </tr>\n",
              "    <tr>\n",
              "      <th>3</th>\n",
              "      <td>2017</td>\n",
              "      <td>Japanese Grand Prix</td>\n",
              "      <td>alonso</td>\n",
              "      <td>Mclaren</td>\n",
              "      <td>11</td>\n",
              "      <td>1</td>\n",
              "      <td>10</td>\n",
              "    </tr>\n",
              "  </tbody>\n",
              "</table>\n",
              "</div>"
            ],
            "text/plain": [
              "   year                      name driverRef     team  position  statusId  grid\n",
              "0  2017      Brazilian Grand Prix    alonso  Mclaren         8         1     7\n",
              "1  2017        Mexican Grand Prix    alonso  Mclaren        11         1    14\n",
              "2  2017  United States Grand Prix    alonso  Mclaren        11         0     9\n",
              "3  2017       Japanese Grand Prix    alonso  Mclaren        11         1    10"
            ]
          },
          "metadata": {
            "tags": []
          },
          "execution_count": 74
        }
      ]
    },
    {
      "metadata": {
        "id": "Pf1IrHkyVncR",
        "colab_type": "code",
        "colab": {}
      },
      "cell_type": "code",
      "source": [
        "def string_to_number(input_dataframe):\n",
        "  dataframeDecoder={}\n",
        "  n=1\n",
        "  for name in list(set(input_dataframe)):\n",
        "    #print (name)\n",
        "    input_dataframe[input_dataframe == str(name)]=n\n",
        "    decode_val={n:str(name)}\n",
        "    dataframeDecoder.update(decode_val)\n",
        "    n+=1\n",
        "  return dataframeDecoder"
      ],
      "execution_count": 0,
      "outputs": []
    },
    {
      "metadata": {
        "id": "eUQXhGAMB5q7",
        "colab_type": "code",
        "outputId": "132b5862-2630-4c06-ae5a-ac99cee24a01",
        "colab": {
          "base_uri": "https://localhost:8080/",
          "height": 122
        }
      },
      "cell_type": "code",
      "source": [
        "racer_nameDecoder=string_to_number(dataframe.driverRef)"
      ],
      "execution_count": 0,
      "outputs": [
        {
          "output_type": "stream",
          "text": [
            "/usr/local/lib/python3.6/dist-packages/ipykernel_launcher.py:6: SettingWithCopyWarning: \n",
            "A value is trying to be set on a copy of a slice from a DataFrame\n",
            "\n",
            "See the caveats in the documentation: http://pandas.pydata.org/pandas-docs/stable/indexing.html#indexing-view-versus-copy\n",
            "  \n"
          ],
          "name": "stderr"
        }
      ]
    },
    {
      "metadata": {
        "id": "l5901IRQg_m8",
        "colab_type": "code",
        "outputId": "828809b8-f2d6-405e-ad94-d37a2e99539a",
        "colab": {
          "base_uri": "https://localhost:8080/",
          "height": 122
        }
      },
      "cell_type": "code",
      "source": [
        "track_nameDecoder=string_to_number(dataframe.name)"
      ],
      "execution_count": 0,
      "outputs": [
        {
          "output_type": "stream",
          "text": [
            "/usr/local/lib/python3.6/dist-packages/ipykernel_launcher.py:6: SettingWithCopyWarning: \n",
            "A value is trying to be set on a copy of a slice from a DataFrame\n",
            "\n",
            "See the caveats in the documentation: http://pandas.pydata.org/pandas-docs/stable/indexing.html#indexing-view-versus-copy\n",
            "  \n"
          ],
          "name": "stderr"
        }
      ]
    },
    {
      "metadata": {
        "id": "6tk0aRoQsBM3",
        "colab_type": "code",
        "outputId": "8b647d78-1d98-4411-86a9-90ecd42c6b48",
        "colab": {
          "base_uri": "https://localhost:8080/",
          "height": 122
        }
      },
      "cell_type": "code",
      "source": [
        "team_nameDecoder=string_to_number(dataframe.team)"
      ],
      "execution_count": 0,
      "outputs": [
        {
          "output_type": "stream",
          "text": [
            "/usr/local/lib/python3.6/dist-packages/ipykernel_launcher.py:6: SettingWithCopyWarning: \n",
            "A value is trying to be set on a copy of a slice from a DataFrame\n",
            "\n",
            "See the caveats in the documentation: http://pandas.pydata.org/pandas-docs/stable/indexing.html#indexing-view-versus-copy\n",
            "  \n"
          ],
          "name": "stderr"
        }
      ]
    },
    {
      "metadata": {
        "id": "1rur8A6T6oJX",
        "colab_type": "code",
        "colab": {}
      },
      "cell_type": "code",
      "source": [
        "test = dataframe[dataframe['year'] == 2017]"
      ],
      "execution_count": 0,
      "outputs": []
    },
    {
      "metadata": {
        "id": "AoJsd6O562So",
        "colab_type": "code",
        "colab": {}
      },
      "cell_type": "code",
      "source": [
        "train = dataframe[dataframe['year'] == 2016]"
      ],
      "execution_count": 0,
      "outputs": []
    },
    {
      "metadata": {
        "id": "K747HlZ76-X9",
        "colab_type": "code",
        "colab": {}
      },
      "cell_type": "code",
      "source": [
        "X_df_train = train.drop(['position'], axis=1)"
      ],
      "execution_count": 0,
      "outputs": []
    },
    {
      "metadata": {
        "id": "LHY8fF3EEqHU",
        "colab_type": "code",
        "colab": {}
      },
      "cell_type": "code",
      "source": [
        "X_df_test = test.drop(['position'], axis=1)"
      ],
      "execution_count": 0,
      "outputs": []
    },
    {
      "metadata": {
        "id": "TtD8FxNz-5su",
        "colab_type": "code",
        "outputId": "3a7ba0a2-ea54-40b5-ed0f-912644f40d4c",
        "colab": {
          "base_uri": "https://localhost:8080/",
          "height": 34
        }
      },
      "cell_type": "code",
      "source": [
        "X_df_train.shape"
      ],
      "execution_count": 0,
      "outputs": [
        {
          "output_type": "execute_result",
          "data": {
            "text/plain": [
              "(440, 6)"
            ]
          },
          "metadata": {
            "tags": []
          },
          "execution_count": 83
        }
      ]
    },
    {
      "metadata": {
        "id": "OasPfCWy6W7q",
        "colab_type": "code",
        "colab": {}
      },
      "cell_type": "code",
      "source": [
        "# split into input (X) and output (Y) variables\n",
        "X_train = X_df_train.values[:,0:6]\n",
        "Y_train = train.values[:,4]"
      ],
      "execution_count": 0,
      "outputs": []
    },
    {
      "metadata": {
        "id": "ZlDNv8hdEuUI",
        "colab_type": "code",
        "colab": {}
      },
      "cell_type": "code",
      "source": [
        "# split into input (X) and output (Y) variables\n",
        "X_test = X_df_test.values[:,0:6]\n",
        "Y_test = test.values[:,4]"
      ],
      "execution_count": 0,
      "outputs": []
    },
    {
      "metadata": {
        "id": "CwEK5C4X7-pS",
        "colab_type": "code",
        "colab": {}
      },
      "cell_type": "code",
      "source": [
        "def baseline_model():\n",
        "  # create model\n",
        "  model = Sequential()\n",
        "  model.add(Dense(10, input_dim=6, kernel_initializer='normal', activation='relu'))\n",
        "  model.add(Dropout(0.1))\n",
        "  model.add(Dense(10, kernel_initializer='normal', activation='relu'))\n",
        "  model.add(Dropout(0.25))\n",
        "  model.add(Dense(1, kernel_initializer='normal', activation='relu'))\n",
        "  # Compile model\n",
        "  model.compile(loss='mean_squared_error', optimizer='adam')\n",
        "  return model"
      ],
      "execution_count": 0,
      "outputs": []
    },
    {
      "metadata": {
        "id": "0aq840PN8Kh_",
        "colab_type": "code",
        "colab": {}
      },
      "cell_type": "code",
      "source": [
        "seed = 7\n",
        "numpy.random.seed(seed)\n",
        "# evaluate model with standardized dataset\n",
        "estimator = KerasRegressor(build_fn=baseline_model, epochs=100, batch_size=5, verbose=0)"
      ],
      "execution_count": 0,
      "outputs": []
    },
    {
      "metadata": {
        "id": "YvGcCWHlFTF4",
        "colab_type": "code",
        "colab": {}
      },
      "cell_type": "code",
      "source": [
        "model=baseline_model()"
      ],
      "execution_count": 0,
      "outputs": []
    },
    {
      "metadata": {
        "id": "S2RpOrvEFfvt",
        "colab_type": "code",
        "colab": {}
      },
      "cell_type": "code",
      "source": [
        "MODEL_PATH = './F1GP_predictor.h5'"
      ],
      "execution_count": 0,
      "outputs": []
    },
    {
      "metadata": {
        "id": "5RqNrN1MFuNh",
        "colab_type": "code",
        "colab": {}
      },
      "cell_type": "code",
      "source": [
        "if os.path.exists(MODEL_PATH):\n",
        "  model.load_weights(MODEL_PATH)"
      ],
      "execution_count": 0,
      "outputs": []
    },
    {
      "metadata": {
        "id": "qdhHV9v1FYy0",
        "colab_type": "code",
        "outputId": "d8210d02-8533-44c5-88b2-3c763a764429",
        "colab": {
          "base_uri": "https://localhost:8080/",
          "height": 34
        }
      },
      "cell_type": "code",
      "source": [
        "model.fit(X_train,Y_train, epochs=2000, verbose=0)"
      ],
      "execution_count": 0,
      "outputs": [
        {
          "output_type": "execute_result",
          "data": {
            "text/plain": [
              "<keras.callbacks.History at 0x7f88093a3358>"
            ]
          },
          "metadata": {
            "tags": []
          },
          "execution_count": 93
        }
      ]
    },
    {
      "metadata": {
        "id": "SLNSV_KcPlUT",
        "colab_type": "code",
        "outputId": "c417ba4b-d67d-471f-a3d6-2b3bb0abc509",
        "colab": {
          "base_uri": "https://localhost:8080/",
          "height": 6834
        }
      },
      "cell_type": "code",
      "source": [
        "model.fit(X_train,Y_train, epochs=200, verbose=1)"
      ],
      "execution_count": 0,
      "outputs": [
        {
          "output_type": "stream",
          "text": [
            "Epoch 1/200\n",
            "440/440 [==============================] - 0s 52us/step - loss: 20.5752\n",
            "Epoch 2/200\n",
            "440/440 [==============================] - 0s 44us/step - loss: 21.0412\n",
            "Epoch 3/200\n",
            "440/440 [==============================] - 0s 44us/step - loss: 20.2176\n",
            "Epoch 4/200\n",
            "440/440 [==============================] - 0s 44us/step - loss: 20.6205\n",
            "Epoch 5/200\n",
            "440/440 [==============================] - 0s 44us/step - loss: 19.6938\n",
            "Epoch 6/200\n",
            "440/440 [==============================] - 0s 47us/step - loss: 20.5253\n",
            "Epoch 7/200\n",
            "440/440 [==============================] - 0s 42us/step - loss: 19.4582\n",
            "Epoch 8/200\n",
            "440/440 [==============================] - 0s 47us/step - loss: 19.2833\n",
            "Epoch 9/200\n",
            "440/440 [==============================] - 0s 43us/step - loss: 21.3627\n",
            "Epoch 10/200\n",
            "440/440 [==============================] - 0s 44us/step - loss: 20.1620\n",
            "Epoch 11/200\n",
            "440/440 [==============================] - 0s 50us/step - loss: 20.1440\n",
            "Epoch 12/200\n",
            "440/440 [==============================] - 0s 44us/step - loss: 20.6389\n",
            "Epoch 13/200\n",
            "440/440 [==============================] - 0s 44us/step - loss: 18.9169\n",
            "Epoch 14/200\n",
            "440/440 [==============================] - 0s 45us/step - loss: 19.5340\n",
            "Epoch 15/200\n",
            "440/440 [==============================] - 0s 40us/step - loss: 20.2708\n",
            "Epoch 16/200\n",
            "440/440 [==============================] - 0s 47us/step - loss: 20.5067\n",
            "Epoch 17/200\n",
            "440/440 [==============================] - 0s 45us/step - loss: 20.6854\n",
            "Epoch 18/200\n",
            "440/440 [==============================] - 0s 47us/step - loss: 20.5824\n",
            "Epoch 19/200\n",
            "440/440 [==============================] - 0s 46us/step - loss: 20.5373\n",
            "Epoch 20/200\n",
            "440/440 [==============================] - 0s 46us/step - loss: 20.4493\n",
            "Epoch 21/200\n",
            "440/440 [==============================] - 0s 56us/step - loss: 20.3602\n",
            "Epoch 22/200\n",
            "440/440 [==============================] - 0s 52us/step - loss: 21.5171\n",
            "Epoch 23/200\n",
            "440/440 [==============================] - 0s 54us/step - loss: 19.4865\n",
            "Epoch 24/200\n",
            "440/440 [==============================] - 0s 43us/step - loss: 19.8347\n",
            "Epoch 25/200\n",
            "440/440 [==============================] - 0s 45us/step - loss: 19.6448\n",
            "Epoch 26/200\n",
            "440/440 [==============================] - 0s 46us/step - loss: 21.2564\n",
            "Epoch 27/200\n",
            "440/440 [==============================] - 0s 42us/step - loss: 20.7943\n",
            "Epoch 28/200\n",
            "440/440 [==============================] - 0s 49us/step - loss: 19.1832\n",
            "Epoch 29/200\n",
            "440/440 [==============================] - 0s 46us/step - loss: 20.9211\n",
            "Epoch 30/200\n",
            "440/440 [==============================] - 0s 43us/step - loss: 20.3699\n",
            "Epoch 31/200\n",
            "440/440 [==============================] - 0s 44us/step - loss: 20.7604\n",
            "Epoch 32/200\n",
            "440/440 [==============================] - 0s 46us/step - loss: 19.9828\n",
            "Epoch 33/200\n",
            "440/440 [==============================] - 0s 44us/step - loss: 19.7817\n",
            "Epoch 34/200\n",
            "440/440 [==============================] - 0s 44us/step - loss: 20.3515\n",
            "Epoch 35/200\n",
            "440/440 [==============================] - 0s 41us/step - loss: 19.7991\n",
            "Epoch 36/200\n",
            "440/440 [==============================] - 0s 41us/step - loss: 19.9866\n",
            "Epoch 37/200\n",
            "440/440 [==============================] - 0s 39us/step - loss: 20.6161\n",
            "Epoch 38/200\n",
            "440/440 [==============================] - 0s 43us/step - loss: 19.1857\n",
            "Epoch 39/200\n",
            "440/440 [==============================] - 0s 43us/step - loss: 19.9973\n",
            "Epoch 40/200\n",
            "440/440 [==============================] - 0s 45us/step - loss: 20.5523\n",
            "Epoch 41/200\n",
            "440/440 [==============================] - 0s 45us/step - loss: 21.3372\n",
            "Epoch 42/200\n",
            "440/440 [==============================] - 0s 46us/step - loss: 19.1390\n",
            "Epoch 43/200\n",
            "440/440 [==============================] - 0s 49us/step - loss: 20.6465\n",
            "Epoch 44/200\n",
            "440/440 [==============================] - 0s 45us/step - loss: 20.4213\n",
            "Epoch 45/200\n",
            "440/440 [==============================] - 0s 42us/step - loss: 21.0088\n",
            "Epoch 46/200\n",
            "440/440 [==============================] - 0s 43us/step - loss: 19.9248\n",
            "Epoch 47/200\n",
            "440/440 [==============================] - 0s 41us/step - loss: 20.0406\n",
            "Epoch 48/200\n",
            "440/440 [==============================] - 0s 41us/step - loss: 20.0360\n",
            "Epoch 49/200\n",
            "440/440 [==============================] - 0s 41us/step - loss: 20.9486\n",
            "Epoch 50/200\n",
            "440/440 [==============================] - 0s 44us/step - loss: 20.3658\n",
            "Epoch 51/200\n",
            "440/440 [==============================] - 0s 42us/step - loss: 20.0822\n",
            "Epoch 52/200\n",
            "440/440 [==============================] - 0s 40us/step - loss: 19.9633\n",
            "Epoch 53/200\n",
            "440/440 [==============================] - 0s 53us/step - loss: 19.6175\n",
            "Epoch 54/200\n",
            "440/440 [==============================] - 0s 44us/step - loss: 19.2816\n",
            "Epoch 55/200\n",
            "440/440 [==============================] - 0s 44us/step - loss: 20.1361\n",
            "Epoch 56/200\n",
            "440/440 [==============================] - 0s 43us/step - loss: 21.0645\n",
            "Epoch 57/200\n",
            "440/440 [==============================] - 0s 45us/step - loss: 20.3717\n",
            "Epoch 58/200\n",
            "440/440 [==============================] - 0s 47us/step - loss: 19.5967\n",
            "Epoch 59/200\n",
            "440/440 [==============================] - 0s 43us/step - loss: 21.5761\n",
            "Epoch 60/200\n",
            "440/440 [==============================] - 0s 42us/step - loss: 19.8761\n",
            "Epoch 61/200\n",
            "440/440 [==============================] - 0s 46us/step - loss: 20.0592\n",
            "Epoch 62/200\n",
            "440/440 [==============================] - 0s 44us/step - loss: 20.4437\n",
            "Epoch 63/200\n",
            "440/440 [==============================] - 0s 39us/step - loss: 20.1912\n",
            "Epoch 64/200\n",
            "440/440 [==============================] - 0s 45us/step - loss: 20.7014\n",
            "Epoch 65/200\n",
            "440/440 [==============================] - 0s 48us/step - loss: 20.4906\n",
            "Epoch 66/200\n",
            "440/440 [==============================] - 0s 43us/step - loss: 19.5259\n",
            "Epoch 67/200\n",
            "440/440 [==============================] - 0s 46us/step - loss: 20.3211\n",
            "Epoch 68/200\n",
            "440/440 [==============================] - 0s 43us/step - loss: 19.4172\n",
            "Epoch 69/200\n",
            "440/440 [==============================] - 0s 44us/step - loss: 20.2898\n",
            "Epoch 70/200\n",
            "440/440 [==============================] - 0s 50us/step - loss: 20.0010\n",
            "Epoch 71/200\n",
            "440/440 [==============================] - 0s 42us/step - loss: 20.0014\n",
            "Epoch 72/200\n",
            "440/440 [==============================] - 0s 44us/step - loss: 19.4694\n",
            "Epoch 73/200\n",
            "440/440 [==============================] - 0s 41us/step - loss: 20.6580\n",
            "Epoch 74/200\n",
            "440/440 [==============================] - 0s 42us/step - loss: 20.7769\n",
            "Epoch 75/200\n",
            "440/440 [==============================] - 0s 42us/step - loss: 20.2018\n",
            "Epoch 76/200\n",
            "440/440 [==============================] - 0s 42us/step - loss: 20.4004\n",
            "Epoch 77/200\n",
            "440/440 [==============================] - 0s 49us/step - loss: 19.9932\n",
            "Epoch 78/200\n",
            "440/440 [==============================] - 0s 43us/step - loss: 20.4968\n",
            "Epoch 79/200\n",
            "440/440 [==============================] - 0s 43us/step - loss: 20.8164\n",
            "Epoch 80/200\n",
            "440/440 [==============================] - 0s 41us/step - loss: 20.4276\n",
            "Epoch 81/200\n",
            "440/440 [==============================] - 0s 44us/step - loss: 19.4018\n",
            "Epoch 82/200\n",
            "440/440 [==============================] - 0s 43us/step - loss: 20.0089\n",
            "Epoch 83/200\n",
            "440/440 [==============================] - 0s 44us/step - loss: 19.9034\n",
            "Epoch 84/200\n",
            "440/440 [==============================] - 0s 44us/step - loss: 19.9664\n",
            "Epoch 85/200\n",
            "440/440 [==============================] - 0s 50us/step - loss: 19.8877\n",
            "Epoch 86/200\n",
            "440/440 [==============================] - 0s 44us/step - loss: 20.2161\n",
            "Epoch 87/200\n",
            "440/440 [==============================] - 0s 44us/step - loss: 19.8882\n",
            "Epoch 88/200\n",
            "440/440 [==============================] - 0s 46us/step - loss: 21.2918\n",
            "Epoch 89/200\n",
            "440/440 [==============================] - 0s 43us/step - loss: 19.9690\n",
            "Epoch 90/200\n",
            "440/440 [==============================] - 0s 42us/step - loss: 19.7147\n",
            "Epoch 91/200\n",
            "440/440 [==============================] - 0s 42us/step - loss: 20.6498\n",
            "Epoch 92/200\n",
            "440/440 [==============================] - 0s 43us/step - loss: 20.6189\n",
            "Epoch 93/200\n",
            "440/440 [==============================] - 0s 42us/step - loss: 20.1082\n",
            "Epoch 94/200\n",
            "440/440 [==============================] - 0s 45us/step - loss: 20.9466\n",
            "Epoch 95/200\n",
            "440/440 [==============================] - 0s 47us/step - loss: 20.7442\n",
            "Epoch 96/200\n",
            "440/440 [==============================] - 0s 44us/step - loss: 19.3352\n",
            "Epoch 97/200\n",
            "440/440 [==============================] - 0s 40us/step - loss: 19.7518\n",
            "Epoch 98/200\n",
            "440/440 [==============================] - 0s 43us/step - loss: 19.7650\n",
            "Epoch 99/200\n",
            "440/440 [==============================] - 0s 44us/step - loss: 20.4797\n",
            "Epoch 100/200\n",
            "440/440 [==============================] - 0s 41us/step - loss: 20.7565\n",
            "Epoch 101/200\n",
            "440/440 [==============================] - 0s 50us/step - loss: 20.4310\n",
            "Epoch 102/200\n",
            "440/440 [==============================] - 0s 43us/step - loss: 19.0032\n",
            "Epoch 103/200\n",
            "440/440 [==============================] - 0s 51us/step - loss: 20.9732\n",
            "Epoch 104/200\n",
            "440/440 [==============================] - 0s 45us/step - loss: 21.2449\n",
            "Epoch 105/200\n",
            "440/440 [==============================] - 0s 45us/step - loss: 20.9586\n",
            "Epoch 106/200\n",
            "440/440 [==============================] - 0s 48us/step - loss: 20.6264\n",
            "Epoch 107/200\n",
            "440/440 [==============================] - 0s 43us/step - loss: 20.5354\n",
            "Epoch 108/200\n",
            "440/440 [==============================] - 0s 44us/step - loss: 19.6841\n",
            "Epoch 109/200\n",
            "440/440 [==============================] - 0s 41us/step - loss: 19.3048\n",
            "Epoch 110/200\n",
            "440/440 [==============================] - 0s 41us/step - loss: 20.0617\n",
            "Epoch 111/200\n",
            "440/440 [==============================] - 0s 44us/step - loss: 20.9952\n",
            "Epoch 112/200\n",
            "440/440 [==============================] - 0s 45us/step - loss: 19.7693\n",
            "Epoch 113/200\n",
            "440/440 [==============================] - 0s 45us/step - loss: 20.0444\n",
            "Epoch 114/200\n",
            "440/440 [==============================] - 0s 45us/step - loss: 21.9085\n",
            "Epoch 115/200\n",
            "440/440 [==============================] - 0s 43us/step - loss: 19.8900\n",
            "Epoch 116/200\n",
            "440/440 [==============================] - 0s 38us/step - loss: 20.3903\n",
            "Epoch 117/200\n",
            "440/440 [==============================] - 0s 40us/step - loss: 19.0712\n",
            "Epoch 118/200\n",
            "440/440 [==============================] - 0s 46us/step - loss: 20.7488\n",
            "Epoch 119/200\n",
            "440/440 [==============================] - 0s 44us/step - loss: 19.8128\n",
            "Epoch 120/200\n",
            "440/440 [==============================] - 0s 47us/step - loss: 18.9311\n",
            "Epoch 121/200\n",
            "440/440 [==============================] - 0s 45us/step - loss: 21.1490\n",
            "Epoch 122/200\n",
            "440/440 [==============================] - 0s 45us/step - loss: 19.9413\n",
            "Epoch 123/200\n",
            "440/440 [==============================] - 0s 41us/step - loss: 19.2644\n",
            "Epoch 124/200\n",
            "440/440 [==============================] - 0s 41us/step - loss: 19.7687\n",
            "Epoch 125/200\n",
            "440/440 [==============================] - 0s 41us/step - loss: 20.5017\n",
            "Epoch 126/200\n",
            "440/440 [==============================] - 0s 42us/step - loss: 20.8627\n",
            "Epoch 127/200\n",
            "440/440 [==============================] - 0s 47us/step - loss: 19.5988\n",
            "Epoch 128/200\n",
            "440/440 [==============================] - 0s 47us/step - loss: 19.5885\n",
            "Epoch 129/200\n",
            "440/440 [==============================] - 0s 52us/step - loss: 19.4711\n",
            "Epoch 130/200\n",
            "440/440 [==============================] - 0s 47us/step - loss: 20.6049\n",
            "Epoch 131/200\n",
            "440/440 [==============================] - 0s 45us/step - loss: 20.1531\n",
            "Epoch 132/200\n",
            "440/440 [==============================] - 0s 43us/step - loss: 20.3051\n",
            "Epoch 133/200\n",
            "440/440 [==============================] - 0s 43us/step - loss: 21.0902\n",
            "Epoch 134/200\n",
            "440/440 [==============================] - 0s 42us/step - loss: 19.9478\n",
            "Epoch 135/200\n",
            "440/440 [==============================] - 0s 40us/step - loss: 19.7680\n",
            "Epoch 136/200\n",
            "440/440 [==============================] - 0s 46us/step - loss: 19.5228\n",
            "Epoch 137/200\n",
            "440/440 [==============================] - 0s 42us/step - loss: 20.5940\n",
            "Epoch 138/200\n",
            "440/440 [==============================] - 0s 42us/step - loss: 20.2270\n",
            "Epoch 139/200\n",
            "440/440 [==============================] - 0s 41us/step - loss: 19.9382\n",
            "Epoch 140/200\n",
            "440/440 [==============================] - 0s 43us/step - loss: 20.9138\n",
            "Epoch 141/200\n",
            "440/440 [==============================] - 0s 43us/step - loss: 20.4065\n",
            "Epoch 142/200\n",
            "440/440 [==============================] - 0s 62us/step - loss: 19.5353\n",
            "Epoch 143/200\n",
            "440/440 [==============================] - 0s 43us/step - loss: 19.2260\n",
            "Epoch 144/200\n",
            "440/440 [==============================] - 0s 44us/step - loss: 20.2962\n",
            "Epoch 145/200\n",
            "440/440 [==============================] - 0s 44us/step - loss: 21.1769\n",
            "Epoch 146/200\n",
            "440/440 [==============================] - 0s 42us/step - loss: 19.9358\n",
            "Epoch 147/200\n",
            "440/440 [==============================] - 0s 43us/step - loss: 20.3920\n",
            "Epoch 148/200\n",
            "440/440 [==============================] - 0s 41us/step - loss: 19.8596\n",
            "Epoch 149/200\n",
            "440/440 [==============================] - 0s 42us/step - loss: 19.3254\n",
            "Epoch 150/200\n",
            "440/440 [==============================] - 0s 40us/step - loss: 20.6218\n",
            "Epoch 151/200\n",
            "440/440 [==============================] - 0s 41us/step - loss: 20.4186\n",
            "Epoch 152/200\n",
            "440/440 [==============================] - 0s 39us/step - loss: 19.7664\n",
            "Epoch 153/200\n",
            "440/440 [==============================] - 0s 47us/step - loss: 20.1531\n",
            "Epoch 154/200\n",
            "440/440 [==============================] - 0s 55us/step - loss: 19.7094\n",
            "Epoch 155/200\n",
            "440/440 [==============================] - 0s 41us/step - loss: 18.9546\n",
            "Epoch 156/200\n",
            "440/440 [==============================] - 0s 41us/step - loss: 20.4253\n",
            "Epoch 157/200\n",
            "440/440 [==============================] - 0s 44us/step - loss: 21.0981\n",
            "Epoch 158/200\n",
            "440/440 [==============================] - 0s 40us/step - loss: 19.4537\n",
            "Epoch 159/200\n",
            "440/440 [==============================] - 0s 44us/step - loss: 18.2690\n",
            "Epoch 160/200\n",
            "440/440 [==============================] - 0s 42us/step - loss: 19.2333\n",
            "Epoch 161/200\n",
            "440/440 [==============================] - 0s 42us/step - loss: 20.6951\n",
            "Epoch 162/200\n",
            "440/440 [==============================] - 0s 42us/step - loss: 20.0698\n",
            "Epoch 163/200\n",
            "440/440 [==============================] - 0s 42us/step - loss: 20.7931\n",
            "Epoch 164/200\n",
            "440/440 [==============================] - 0s 53us/step - loss: 19.6812\n",
            "Epoch 165/200\n",
            "440/440 [==============================] - 0s 41us/step - loss: 20.1532\n",
            "Epoch 166/200\n",
            "440/440 [==============================] - 0s 48us/step - loss: 20.2398\n",
            "Epoch 167/200\n",
            "440/440 [==============================] - 0s 45us/step - loss: 20.4515\n",
            "Epoch 168/200\n",
            "440/440 [==============================] - 0s 40us/step - loss: 19.8781\n",
            "Epoch 169/200\n",
            "440/440 [==============================] - 0s 42us/step - loss: 19.0521\n",
            "Epoch 170/200\n",
            "440/440 [==============================] - 0s 44us/step - loss: 21.2276\n",
            "Epoch 171/200\n",
            "440/440 [==============================] - 0s 46us/step - loss: 21.6255\n",
            "Epoch 172/200\n",
            "440/440 [==============================] - 0s 44us/step - loss: 18.9736\n",
            "Epoch 173/200\n",
            "440/440 [==============================] - 0s 45us/step - loss: 19.7769\n",
            "Epoch 174/200\n",
            "440/440 [==============================] - 0s 47us/step - loss: 19.8051\n",
            "Epoch 175/200\n",
            "440/440 [==============================] - 0s 42us/step - loss: 20.1814\n",
            "Epoch 176/200\n",
            "440/440 [==============================] - 0s 43us/step - loss: 20.8868\n",
            "Epoch 177/200\n",
            "440/440 [==============================] - 0s 43us/step - loss: 20.1335\n",
            "Epoch 178/200\n",
            "440/440 [==============================] - 0s 41us/step - loss: 20.1632\n",
            "Epoch 179/200\n",
            "440/440 [==============================] - 0s 41us/step - loss: 19.9068\n",
            "Epoch 180/200\n",
            "440/440 [==============================] - 0s 41us/step - loss: 20.2694\n",
            "Epoch 181/200\n",
            "440/440 [==============================] - 0s 43us/step - loss: 21.4176\n",
            "Epoch 182/200\n",
            "440/440 [==============================] - 0s 47us/step - loss: 21.3588\n",
            "Epoch 183/200\n",
            "440/440 [==============================] - 0s 46us/step - loss: 20.0623\n",
            "Epoch 184/200\n",
            "440/440 [==============================] - 0s 46us/step - loss: 18.1075\n",
            "Epoch 185/200\n",
            "440/440 [==============================] - 0s 41us/step - loss: 19.6233\n",
            "Epoch 186/200\n",
            "440/440 [==============================] - 0s 43us/step - loss: 20.0879\n",
            "Epoch 187/200\n",
            "440/440 [==============================] - 0s 43us/step - loss: 20.9532\n",
            "Epoch 188/200\n",
            "440/440 [==============================] - 0s 40us/step - loss: 20.5424\n",
            "Epoch 189/200\n",
            "440/440 [==============================] - 0s 43us/step - loss: 19.7752\n",
            "Epoch 190/200\n",
            "440/440 [==============================] - 0s 43us/step - loss: 20.3993\n",
            "Epoch 191/200\n",
            "440/440 [==============================] - 0s 40us/step - loss: 20.4339\n",
            "Epoch 192/200\n",
            "440/440 [==============================] - 0s 43us/step - loss: 19.9151\n",
            "Epoch 193/200\n",
            "440/440 [==============================] - 0s 44us/step - loss: 20.1614\n",
            "Epoch 194/200\n",
            "440/440 [==============================] - 0s 43us/step - loss: 20.2541\n",
            "Epoch 195/200\n",
            "440/440 [==============================] - 0s 50us/step - loss: 20.0580\n",
            "Epoch 196/200\n",
            "440/440 [==============================] - 0s 44us/step - loss: 20.6533\n",
            "Epoch 197/200\n",
            "440/440 [==============================] - 0s 42us/step - loss: 20.2777\n",
            "Epoch 198/200\n",
            "440/440 [==============================] - 0s 46us/step - loss: 21.0374\n",
            "Epoch 199/200\n",
            "440/440 [==============================] - 0s 43us/step - loss: 19.6386\n",
            "Epoch 200/200\n",
            "440/440 [==============================] - 0s 43us/step - loss: 19.7754\n"
          ],
          "name": "stdout"
        },
        {
          "output_type": "execute_result",
          "data": {
            "text/plain": [
              "<keras.callbacks.History at 0x7f8808fd7400>"
            ]
          },
          "metadata": {
            "tags": []
          },
          "execution_count": 94
        }
      ]
    },
    {
      "metadata": {
        "id": "UBb-RyckFb81",
        "colab_type": "code",
        "colab": {}
      },
      "cell_type": "code",
      "source": [
        "model.save_weights(MODEL_PATH)"
      ],
      "execution_count": 0,
      "outputs": []
    },
    {
      "metadata": {
        "id": "rHDl02akGlFG",
        "colab_type": "code",
        "colab": {}
      },
      "cell_type": "code",
      "source": [
        "from google.colab import files\n",
        "files.download(MODEL_PATH)"
      ],
      "execution_count": 0,
      "outputs": []
    },
    {
      "metadata": {
        "id": "MJnbHXZCFEEc",
        "colab_type": "code",
        "colab": {}
      },
      "cell_type": "code",
      "source": [
        "results = model.predict(X_test).flatten()"
      ],
      "execution_count": 0,
      "outputs": []
    },
    {
      "metadata": {
        "id": "7V3OD5QTw1eT",
        "colab_type": "code",
        "colab": {}
      },
      "cell_type": "code",
      "source": [
        "GrandPrix_results = []\n",
        "for i in range(len(X_test)):\n",
        "  for track_code in track_nameDecoder : \n",
        "    if X_test[i][1] == track_code:\n",
        "      position = results[i]\n",
        "      driver = X_test[i][2]\n",
        "      predicted_result = [track_nameDecoder[track_code], track_code, {driver: position}]\n",
        "      GrandPrix_results.append(predicted_result)"
      ],
      "execution_count": 0,
      "outputs": []
    },
    {
      "metadata": {
        "id": "Gw3tk68i2_B4",
        "colab_type": "code",
        "colab": {}
      },
      "cell_type": "code",
      "source": [
        "import operator\n",
        "def raceResult_decoder(raw_predictions, racer_nameDecoder):\n",
        "  sorted_x = sorted(raw_predictions.items(), key=operator.itemgetter(1))\n",
        "  F1GP_outcome = []\n",
        "  for item in sorted_x:\n",
        "    F1GP_outcome.append(racer_nameDecoder[item[0]])\n",
        "  return F1GP_outcome"
      ],
      "execution_count": 0,
      "outputs": []
    },
    {
      "metadata": {
        "id": "AqqGVgug1_Rt",
        "colab_type": "code",
        "outputId": "8b9ece4d-ee78-43df-b108-281d47bbbd62",
        "colab": {
          "base_uri": "https://localhost:8080/",
          "height": 357
        }
      },
      "cell_type": "code",
      "source": [
        "for i in track_nameDecoder : \n",
        "    print(i, track_nameDecoder[i]) "
      ],
      "execution_count": 0,
      "outputs": [
        {
          "output_type": "stream",
          "text": [
            "1 Brazilian Grand Prix\n",
            "2 Singapore Grand Prix\n",
            "3 Russian Grand Prix\n",
            "4 Japanese Grand Prix\n",
            "5 Hungarian Grand Prix\n",
            "6 Mexican Grand Prix\n",
            "7 United States Grand Prix\n",
            "8 Italian Grand Prix\n",
            "9 Austrian Grand Prix\n",
            "10 Azerbaijan Grand Prix\n",
            "11 Canadian Grand Prix\n",
            "12 Australian Grand Prix\n",
            "13 Spanish Grand Prix\n",
            "14 Abu Dhabi Grand Prix\n",
            "15 Belgian Grand Prix\n",
            "16 Monaco Grand Prix\n",
            "17 Chinese Grand Prix\n",
            "18 British Grand Prix\n",
            "19 Bahrain Grand Prix\n",
            "20 Malaysian Grand Prix\n"
          ],
          "name": "stdout"
        }
      ]
    },
    {
      "metadata": {
        "id": "4VD2jyTJ2ocL",
        "colab_type": "code",
        "outputId": "3419354f-6603-4ae9-aa69-5c4681ea0541",
        "colab": {
          "base_uri": "https://localhost:8080/",
          "height": 2077
        }
      },
      "cell_type": "code",
      "source": [
        "for n in track_nameDecoder:  \n",
        "  rawGP_results = {}\n",
        "  for i in GrandPrix_results:\n",
        "    if i[1] == n:\n",
        "      rawGP_results.update(i[2])\n",
        "  GP_predictions = raceResult_decoder(rawGP_results, racer_nameDecoder)\n",
        "  print ('\\nName of the F1 Grand Prix: {}'.format(track_nameDecoder[n]))\n",
        "  print ('\\nPredicted race outcome: {}'.format(GP_predictions))\n",
        "  print ('\\n------------------------------------------------------')"
      ],
      "execution_count": 0,
      "outputs": [
        {
          "output_type": "stream",
          "text": [
            "\n",
            "Name of the F1 Grand Prix: Brazilian Grand Prix\n",
            "\n",
            "Predicted race outcome: ['bottas', 'vettel', 'raikkonen', 'verstappen', 'alonso', 'ricciardo', 'perez', 'hulkenberg', 'sainz', 'massa', 'vandoorne', 'grosjean', 'magnussen', 'hamilton', 'stroll', 'wehrlein', 'hartley', 'ericsson', 'ocon', 'gasly']\n",
            "\n",
            "------------------------------------------------------\n",
            "\n",
            "Name of the F1 Grand Prix: Singapore Grand Prix\n",
            "\n",
            "Predicted race outcome: ['vettel', 'hamilton', 'raikkonen', 'bottas', 'verstappen', 'ricciardo', 'vandoorne', 'hulkenberg', 'alonso', 'palmer', 'sainz', 'perez', 'kvyat', 'grosjean', 'stroll', 'magnussen', 'massa', 'wehrlein', 'ocon', 'ericsson']\n",
            "\n",
            "------------------------------------------------------\n",
            "\n",
            "Name of the F1 Grand Prix: Russian Grand Prix\n",
            "\n",
            "Predicted race outcome: ['bottas', 'hamilton', 'vettel', 'raikkonen', 'massa', 'verstappen', 'ricciardo', 'hulkenberg', 'perez', 'sainz', 'stroll', 'kvyat', 'magnussen', 'alonso', 'palmer', 'vandoorne', 'grosjean', 'ocon', 'wehrlein', 'ericsson']\n",
            "\n",
            "------------------------------------------------------\n",
            "\n",
            "Name of the F1 Grand Prix: Japanese Grand Prix\n",
            "\n",
            "Predicted race outcome: ['bottas', 'hamilton', 'vettel', 'raikkonen', 'ricciardo', 'verstappen', 'vandoorne', 'alonso', 'perez', 'massa', 'hulkenberg', 'magnussen', 'palmer', 'sainz', 'grosjean', 'ocon', 'stroll', 'ericsson', 'wehrlein', 'gasly']\n",
            "\n",
            "------------------------------------------------------\n",
            "\n",
            "Name of the F1 Grand Prix: Hungarian Grand Prix\n",
            "\n",
            "Predicted race outcome: ['bottas', 'hamilton', 'vettel', 'raikkonen', 'verstappen', 'vandoorne', 'alonso', 'hulkenberg', 'ricciardo', 'palmer', 'sainz', 'kvyat', 'perez', 'stroll', 'grosjean', 'magnussen', 'wehrlein', 'ocon', 'ericsson', 'di resta']\n",
            "\n",
            "------------------------------------------------------\n",
            "\n",
            "Name of the F1 Grand Prix: Mexican Grand Prix\n",
            "\n",
            "Predicted race outcome: ['bottas', 'hamilton', 'vettel', 'raikkonen', 'verstappen', 'hulkenberg', 'ricciardo', 'sainz', 'perez', 'stroll', 'alonso', 'vandoorne', 'massa', 'ocon', 'grosjean', 'magnussen', 'ericsson', 'hartley', 'wehrlein', 'gasly']\n",
            "\n",
            "------------------------------------------------------\n",
            "\n",
            "Name of the F1 Grand Prix: United States Grand Prix\n",
            "\n",
            "Predicted race outcome: ['bottas', 'hamilton', 'vettel', 'raikkonen', 'verstappen', 'ricciardo', 'sainz', 'alonso', 'vandoorne', 'perez', 'kvyat', 'massa', 'grosjean', 'hulkenberg', 'stroll', 'ocon', 'ericsson', 'hartley', 'magnussen', 'wehrlein']\n",
            "\n",
            "------------------------------------------------------\n",
            "\n",
            "Name of the F1 Grand Prix: Italian Grand Prix\n",
            "\n",
            "Predicted race outcome: ['hamilton', 'bottas', 'raikkonen', 'vettel', 'stroll', 'verstappen', 'ricciardo', 'vandoorne', 'massa', 'hulkenberg', 'perez', 'alonso', 'kvyat', 'sainz', 'ocon', 'palmer', 'magnussen', 'grosjean', 'ericsson', 'wehrlein']\n",
            "\n",
            "------------------------------------------------------\n",
            "\n",
            "Name of the F1 Grand Prix: Austrian Grand Prix\n",
            "\n",
            "Predicted race outcome: ['bottas', 'hamilton', 'vettel', 'raikkonen', 'ricciardo', 'grosjean', 'verstappen', 'perez', 'hulkenberg', 'vandoorne', 'sainz', 'alonso', 'kvyat', 'palmer', 'stroll', 'magnussen', 'ocon', 'massa', 'ericsson', 'wehrlein']\n",
            "\n",
            "------------------------------------------------------\n",
            "\n",
            "Name of the F1 Grand Prix: Azerbaijan Grand Prix\n",
            "\n",
            "Predicted race outcome: ['bottas', 'hamilton', 'vettel', 'raikkonen', 'verstappen', 'stroll', 'perez', 'ricciardo', 'kvyat', 'sainz', 'magnussen', 'massa', 'alonso', 'hulkenberg', 'grosjean', 'ocon', 'vandoorne', 'wehrlein', 'palmer', 'ericsson']\n",
            "\n",
            "------------------------------------------------------\n",
            "\n",
            "Name of the F1 Grand Prix: Canadian Grand Prix\n",
            "\n",
            "Predicted race outcome: ['bottas', 'hamilton', 'vettel', 'raikkonen', 'verstappen', 'ricciardo', 'perez', 'hulkenberg', 'massa', 'alonso', 'kvyat', 'palmer', 'sainz', 'grosjean', 'vandoorne', 'stroll', 'magnussen', 'ocon', 'ericsson', 'wehrlein']\n",
            "\n",
            "------------------------------------------------------\n",
            "\n",
            "Name of the F1 Grand Prix: Australian Grand Prix\n",
            "\n",
            "Predicted race outcome: ['bottas', 'hamilton', 'vettel', 'raikkonen', 'verstappen', 'grosjean', 'massa', 'sainz', 'kvyat', 'hulkenberg', 'perez', 'ricciardo', 'alonso', 'giovinazzi', 'vandoorne', 'palmer', 'magnussen', 'stroll', 'ericsson', 'ocon']\n",
            "\n",
            "------------------------------------------------------\n",
            "\n",
            "Name of the F1 Grand Prix: Spanish Grand Prix\n",
            "\n",
            "Predicted race outcome: ['bottas', 'hamilton', 'vettel', 'raikkonen', 'alonso', 'verstappen', 'ricciardo', 'perez', 'magnussen', 'massa', 'sainz', 'hulkenberg', 'grosjean', 'palmer', 'stroll', 'kvyat', 'wehrlein', 'ericsson', 'vandoorne', 'ocon']\n",
            "\n",
            "------------------------------------------------------\n",
            "\n",
            "Name of the F1 Grand Prix: Abu Dhabi Grand Prix\n",
            "\n",
            "Predicted race outcome: ['bottas', 'hamilton', 'vettel', 'raikkonen', 'verstappen', 'ricciardo', 'hulkenberg', 'perez', 'alonso', 'vandoorne', 'massa', 'sainz', 'magnussen', 'stroll', 'grosjean', 'ocon', 'hartley', 'wehrlein', 'ericsson', 'gasly']\n",
            "\n",
            "------------------------------------------------------\n",
            "\n",
            "Name of the F1 Grand Prix: Belgian Grand Prix\n",
            "\n",
            "Predicted race outcome: ['bottas', 'hamilton', 'vettel', 'raikkonen', 'hulkenberg', 'verstappen', 'ricciardo', 'palmer', 'perez', 'alonso', 'grosjean', 'magnussen', 'vandoorne', 'sainz', 'kvyat', 'stroll', 'ocon', 'massa', 'ericsson', 'wehrlein']\n",
            "\n",
            "------------------------------------------------------\n",
            "\n",
            "Name of the F1 Grand Prix: Monaco Grand Prix\n",
            "\n",
            "Predicted race outcome: ['bottas', 'vettel', 'raikkonen', 'verstappen', 'ricciardo', 'sainz', 'perez', 'vandoorne', 'grosjean', 'hamilton', 'kvyat', 'button', 'hulkenberg', 'magnussen', 'palmer', 'stroll', 'massa', 'wehrlein', 'ericsson', 'ocon']\n",
            "\n",
            "------------------------------------------------------\n",
            "\n",
            "Name of the F1 Grand Prix: Chinese Grand Prix\n",
            "\n",
            "Predicted race outcome: ['bottas', 'hamilton', 'vettel', 'raikkonen', 'ricciardo', 'hulkenberg', 'massa', 'perez', 'kvyat', 'stroll', 'sainz', 'magnussen', 'alonso', 'giovinazzi', 'palmer', 'vandoorne', 'grosjean', 'ericsson', 'verstappen', 'ocon']\n",
            "\n",
            "------------------------------------------------------\n",
            "\n",
            "Name of the F1 Grand Prix: British Grand Prix\n",
            "\n",
            "Predicted race outcome: ['bottas', 'hamilton', 'vettel', 'raikkonen', 'hulkenberg', 'verstappen', 'vandoorne', 'perez', 'grosjean', 'palmer', 'kvyat', 'alonso', 'sainz', 'stroll', 'magnussen', 'ocon', 'massa', 'ricciardo', 'wehrlein', 'ericsson']\n",
            "\n",
            "------------------------------------------------------\n",
            "\n",
            "Name of the F1 Grand Prix: Bahrain Grand Prix\n",
            "\n",
            "Predicted race outcome: ['bottas', 'hamilton', 'vettel', 'raikkonen', 'ricciardo', 'hulkenberg', 'verstappen', 'palmer', 'grosjean', 'massa', 'kvyat', 'stroll', 'alonso', 'wehrlein', 'sainz', 'vandoorne', 'perez', 'magnussen', 'ericsson', 'ocon']\n",
            "\n",
            "------------------------------------------------------\n",
            "\n",
            "Name of the F1 Grand Prix: Malaysian Grand Prix\n",
            "\n",
            "Predicted race outcome: ['hamilton', 'bottas', 'raikkonen', 'vandoorne', 'verstappen', 'ricciardo', 'hulkenberg', 'alonso', 'perez', 'palmer', 'stroll', 'massa', 'sainz', 'grosjean', 'vettel', 'ocon', 'magnussen', 'wehrlein', 'gasly', 'ericsson']\n",
            "\n",
            "------------------------------------------------------\n"
          ],
          "name": "stdout"
        }
      ]
    },
    {
      "metadata": {
        "id": "ccUxdOgb8xbY",
        "colab_type": "code",
        "colab": {}
      },
      "cell_type": "code",
      "source": [
        ""
      ],
      "execution_count": 0,
      "outputs": []
    }
  ]
}