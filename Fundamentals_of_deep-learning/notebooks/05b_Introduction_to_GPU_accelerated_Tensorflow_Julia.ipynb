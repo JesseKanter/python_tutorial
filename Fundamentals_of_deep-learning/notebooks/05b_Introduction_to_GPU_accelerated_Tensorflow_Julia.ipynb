{
 "cells": [
  {
   "cell_type": "code",
   "execution_count": 1,
   "metadata": {},
   "outputs": [
    {
     "data": {
      "text/plain": [
       "\"/etc/tensorflow/libtensorflow.so\""
      ]
     },
     "execution_count": 1,
     "metadata": {},
     "output_type": "execute_result"
    }
   ],
   "source": [
    "ENV[\"LIBTENSORFLOW\"] = \"/etc/tensorflow/libtensorflow.so\""
   ]
  },
  {
   "cell_type": "code",
   "execution_count": 2,
   "metadata": {},
   "outputs": [],
   "source": [
    "using TensorFlow\n",
    "using Test"
   ]
  },
  {
   "cell_type": "code",
   "execution_count": 3,
   "metadata": {},
   "outputs": [
    {
     "name": "stderr",
     "output_type": "stream",
     "text": [
      "2018-09-14 21:16:36.189806: I tensorflow/core/platform/cpu_feature_guard.cc:141] Your CPU supports instructions that this TensorFlow binary was not compiled to use: SSE4.1 SSE4.2 AVX AVX2 FMA\n",
      "2018-09-14 21:16:36.807269: I tensorflow/stream_executor/cuda/cuda_gpu_executor.cc:964] successful NUMA node read from SysFS had negative value (-1), but there must be at least one NUMA node, so returning NUMA node zero\n",
      "2018-09-14 21:16:36.807565: I tensorflow/core/common_runtime/gpu/gpu_device.cc:1411] Found device 0 with properties: \n",
      "name: Tesla P4 major: 6 minor: 1 memoryClockRate(GHz): 1.1135\n",
      "pciBusID: 0000:00:04.0\n",
      "totalMemory: 7.43GiB freeMemory: 7.31GiB\n",
      "2018-09-14 21:16:36.807584: I tensorflow/core/common_runtime/gpu/gpu_device.cc:1490] Adding visible gpu devices: 0\n",
      "2018-09-14 21:16:37.259822: I tensorflow/core/common_runtime/gpu/gpu_device.cc:971] Device interconnect StreamExecutor with strength 1 edge matrix:\n",
      "2018-09-14 21:16:37.259869: I tensorflow/core/common_runtime/gpu/gpu_device.cc:977]      0 \n",
      "2018-09-14 21:16:37.259875: I tensorflow/core/common_runtime/gpu/gpu_device.cc:990] 0:   N \n",
      "2018-09-14 21:16:37.260035: I tensorflow/core/common_runtime/gpu/gpu_device.cc:1103] Created TensorFlow device (/job:localhost/replica:0/task:0/device:GPU:0 with 7055 MB memory) -> physical GPU (device: 0, name: Tesla P4, pci bus id: 0000:00:04.0, compute capability: 6.1)\n"
     ]
    },
    {
     "data": {
      "text/plain": [
       "\u001b[32m\u001b[1mTest Passed\u001b[22m\u001b[39m"
      ]
     },
     "execution_count": 3,
     "metadata": {},
     "output_type": "execute_result"
    }
   ],
   "source": [
    "sess = TensorFlow.Session()\n",
    "\n",
    "x = TensorFlow.constant(Float64[1,2])\n",
    "y = TensorFlow.Variable(Float64[3,4])\n",
    "z = TensorFlow.placeholder(Float64)\n",
    "\n",
    "w = exp(x + z + -y)\n",
    "\n",
    "run(sess, TensorFlow.global_variables_initializer())\n",
    "res = run(sess, w, Dict(z=>Float64[1,2]))\n",
    "Test.@test res[1] ≈ exp(-1)"
   ]
  },
  {
   "cell_type": "code",
   "execution_count": 4,
   "metadata": {},
   "outputs": [],
   "source": [
    "using TensorFlow\n",
    "using Distributions\n",
    "using Printf"
   ]
  },
  {
   "cell_type": "code",
   "execution_count": 5,
   "metadata": {},
   "outputs": [
    {
     "name": "stderr",
     "output_type": "stream",
     "text": [
      "2018-09-14 21:16:43.478016: I tensorflow/core/common_runtime/gpu/gpu_device.cc:1490] Adding visible gpu devices: 0\n",
      "2018-09-14 21:16:43.478078: I tensorflow/core/common_runtime/gpu/gpu_device.cc:971] Device interconnect StreamExecutor with strength 1 edge matrix:\n",
      "2018-09-14 21:16:43.478083: I tensorflow/core/common_runtime/gpu/gpu_device.cc:977]      0 \n",
      "2018-09-14 21:16:43.478088: I tensorflow/core/common_runtime/gpu/gpu_device.cc:990] 0:   N \n",
      "2018-09-14 21:16:43.478196: I tensorflow/core/common_runtime/gpu/gpu_device.cc:1103] Created TensorFlow device (/job:localhost/replica:0/task:0/device:GPU:0 with 7055 MB memory) -> physical GPU (device: 0, name: Tesla P4, pci bus id: 0000:00:04.0, compute capability: 6.1)\n",
      "┌ Info: Checkpoint files saved in /tmp/tmpBPkO44\n",
      "└ @ Main In[5]:39\n"
     ]
    },
    {
     "name": "stdout",
     "output_type": "stream",
     "text": [
      "Current loss is 230.30.\n",
      "Current loss is 228.83.\n",
      "Current loss is 227.38.\n",
      "Current loss is 225.93.\n",
      "Current loss is 224.49.\n",
      "Current loss is 223.05.\n",
      "Current loss is 221.63.\n",
      "Current loss is 220.21.\n",
      "Current loss is 218.80.\n",
      "Current loss is 217.40.\n",
      "Current loss is 216.01.\n",
      "Current loss is 214.62.\n",
      "Current loss is 213.24.\n",
      "Current loss is 211.88.\n",
      "Current loss is 210.52.\n",
      "Current loss is 209.17.\n",
      "Current loss is 207.83.\n",
      "Current loss is 206.49.\n",
      "Current loss is 205.17.\n",
      "Current loss is 203.85.\n",
      "Current loss is 202.55.\n",
      "Current loss is 201.25.\n",
      "Current loss is 199.96.\n",
      "Current loss is 198.68.\n",
      "Current loss is 197.41.\n",
      "Current loss is 196.14.\n",
      "Current loss is 194.89.\n",
      "Current loss is 193.65.\n",
      "Current loss is 192.41.\n",
      "Current loss is 191.18.\n",
      "Current loss is 189.96.\n",
      "Current loss is 188.76.\n",
      "Current loss is 187.56.\n",
      "Current loss is 186.36.\n",
      "Current loss is 185.18.\n",
      "Current loss is 184.01.\n",
      "Current loss is 182.84.\n",
      "Current loss is 181.69.\n",
      "Current loss is 180.54.\n",
      "Current loss is 179.40.\n",
      "Current loss is 178.27.\n",
      "Current loss is 177.15.\n",
      "Current loss is 176.04.\n",
      "Current loss is 174.93.\n",
      "Current loss is 173.84.\n",
      "Current loss is 172.75.\n",
      "Current loss is 171.67.\n",
      "Current loss is 170.60.\n",
      "Current loss is 169.54.\n",
      "Current loss is 168.49.\n",
      "Current loss is 167.44.\n",
      "Current loss is 166.40.\n",
      "Current loss is 165.37.\n",
      "Current loss is 164.35.\n",
      "Current loss is 163.34.\n",
      "Current loss is 162.33.\n",
      "Current loss is 161.34.\n",
      "Current loss is 160.35.\n",
      "Current loss is 159.37.\n",
      "Current loss is 158.39.\n",
      "Current loss is 157.42.\n",
      "Current loss is 156.47.\n",
      "Current loss is 155.51.\n",
      "Current loss is 154.57.\n",
      "Current loss is 153.63.\n",
      "Current loss is 152.70.\n",
      "Current loss is 151.78.\n",
      "Current loss is 150.87.\n",
      "Current loss is 149.96.\n",
      "Current loss is 149.06.\n",
      "Current loss is 148.16.\n",
      "Current loss is 147.28.\n",
      "Current loss is 146.40.\n",
      "Current loss is 145.52.\n",
      "Current loss is 144.66.\n",
      "Current loss is 143.80.\n",
      "Current loss is 142.94.\n",
      "Current loss is 142.10.\n",
      "Current loss is 141.26.\n",
      "Current loss is 140.42.\n",
      "Current loss is 139.60.\n",
      "Current loss is 138.78.\n",
      "Current loss is 137.96.\n",
      "Current loss is 137.15.\n",
      "Current loss is 136.35.\n",
      "Current loss is 135.56.\n",
      "Current loss is 134.77.\n",
      "Current loss is 133.98.\n",
      "Current loss is 133.21.\n",
      "Current loss is 132.43.\n",
      "Current loss is 131.67.\n",
      "Current loss is 130.91.\n",
      "Current loss is 130.16.\n",
      "Current loss is 129.41.\n",
      "Current loss is 128.66.\n",
      "Current loss is 127.93.\n",
      "Current loss is 127.20.\n",
      "Current loss is 126.47.\n",
      "Current loss is 125.75.\n",
      "Current loss is 125.03.\n"
     ]
    }
   ],
   "source": [
    "# Generate some synthetic data\n",
    "x = randn(100, 50)\n",
    "w = randn(50, 10)\n",
    "y_prob = exp.(x*w)\n",
    "y_prob ./= sum(y_prob,dims=2)\n",
    "\n",
    "function draw(probs)\n",
    "    y = zeros(size(probs))\n",
    "    for i in 1:size(probs, 1)\n",
    "        idx = rand(Categorical(probs[i, :]))\n",
    "        y[i, idx] = 1\n",
    "    end\n",
    "    return y\n",
    "end\n",
    "\n",
    "y = draw(y_prob)\n",
    "\n",
    "# Build the model\n",
    "sess = Session(Graph())\n",
    "\n",
    "X = placeholder(Float64, shape=[-1, 50])\n",
    "Y_obs = placeholder(Float64, shape=[-1, 10])\n",
    "\n",
    "variable_scope(\"logisitic_model\"; initializer=Normal(0, .001)) do\n",
    "    global W = get_variable(\"W\", [50, 10], Float64)\n",
    "    global B = get_variable(\"B\", [10], Float64)\n",
    "end\n",
    "\n",
    "Y=nn.softmax(X*W + B)\n",
    "\n",
    "Loss = -reduce_sum(log(Y).*Y_obs)\n",
    "optimizer = train.AdamOptimizer()\n",
    "minimize_op = train.minimize(optimizer, Loss)\n",
    "saver = train.Saver()\n",
    "\n",
    "# Run training\n",
    "run(sess, global_variables_initializer())\n",
    "checkpoint_path = mktempdir()\n",
    "@info(\"Checkpoint files saved in $checkpoint_path\")\n",
    "for epoch in 1:100\n",
    "    cur_loss, _ = run(sess, [Loss, minimize_op], Dict(X=>x, Y_obs=>y))\n",
    "    println(@sprintf(\"Current loss is %.2f.\", cur_loss))\n",
    "    train.save(saver, sess, joinpath(checkpoint_path, \"logistic\"), global_step=epoch)\n",
    "end"
   ]
  },
  {
   "cell_type": "code",
   "execution_count": null,
   "metadata": {},
   "outputs": [],
   "source": []
  }
 ],
 "metadata": {
  "kernelspec": {
   "display_name": "Julia 1.0.0",
   "language": "julia",
   "name": "julia-1.0"
  },
  "language_info": {
   "file_extension": ".jl",
   "mimetype": "application/julia",
   "name": "julia",
   "version": "1.1.0"
  }
 },
 "nbformat": 4,
 "nbformat_minor": 2
}
