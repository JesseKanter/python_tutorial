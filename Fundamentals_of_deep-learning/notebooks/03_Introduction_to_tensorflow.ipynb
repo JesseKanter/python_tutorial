{
  "nbformat": 4,
  "nbformat_minor": 0,
  "metadata": {
    "colab": {
      "name": "03_Introduction_to_tensorflow.ipynb",
      "version": "0.3.2",
      "views": {},
      "default_view": {},
      "provenance": []
    },
    "kernelspec": {
      "display_name": "Python 3",
      "language": "python",
      "name": "python3"
    }
  },
  "cells": [
    {
      "metadata": {
        "id": "mGjjDq1SKHfp",
        "colab_type": "text"
      },
      "cell_type": "markdown",
      "source": [
        "# Introduction to [tensorflow](https://tensorflow.org)\n",
        "\n",
        "## Author: [Dr. Rahul Remanan](https://github.com/rahulremanan/python_tutorial)\n",
        "### CEO and Chief Imagination Officer, [Moad Computer](https://www.moad.computer)\n",
        "\n",
        "This notebook is an introduction to tensorflow, a popular deep-learning framework. Tensorflow has brilliant integration with Python. This notebook uses the tensorflow python3 APIs. This notebook is a modified fork of [tensorflow examples repository](https://github.com/aymericdamien/TensorFlow-Examples/)."
      ]
    },
    {
      "metadata": {
        "id": "H6soDGWAKHfu",
        "colab_type": "text"
      },
      "cell_type": "markdown",
      "source": [
        "## Part 01 -- Hello world in tensorflow:"
      ]
    },
    {
      "metadata": {
        "id": "3e4tJtsmKHfx",
        "colab_type": "text"
      },
      "cell_type": "markdown",
      "source": [
        "This is a simple hello world example using tensorflow.\n",
        "\n",
        "In this example, a tensorflow constant op is created. This op is added as a node to the default graph. The value returned by the constructor represents the output of this constant op."
      ]
    },
    {
      "metadata": {
        "id": "89lSfI9rKHf0",
        "colab_type": "code",
        "colab": {
          "autoexec": {
            "startup": false,
            "wait_interval": 0
          }
        }
      },
      "cell_type": "code",
      "source": [
        "import tensorflow as tf"
      ],
      "execution_count": 0,
      "outputs": []
    },
    {
      "metadata": {
        "id": "ieb95lIhKHgB",
        "colab_type": "text"
      },
      "cell_type": "markdown",
      "source": [
        "### Create a tensorflow constant op"
      ]
    },
    {
      "metadata": {
        "id": "IQKqSB5FKHgF",
        "colab_type": "code",
        "colab": {
          "autoexec": {
            "startup": false,
            "wait_interval": 0
          }
        }
      },
      "cell_type": "code",
      "source": [
        "hello = tf.constant('Hello, TensorFlow!')"
      ],
      "execution_count": 0,
      "outputs": []
    },
    {
      "metadata": {
        "id": "Om0S2s1kKHgP",
        "colab_type": "text"
      },
      "cell_type": "markdown",
      "source": [
        "### Initialize the tf session"
      ]
    },
    {
      "metadata": {
        "id": "KeJV1f7ZKHgS",
        "colab_type": "code",
        "colab": {
          "autoexec": {
            "startup": false,
            "wait_interval": 0
          }
        }
      },
      "cell_type": "code",
      "source": [
        "sess = tf.Session()"
      ],
      "execution_count": 0,
      "outputs": []
    },
    {
      "metadata": {
        "id": "wlnW9x1rKHgc",
        "colab_type": "text"
      },
      "cell_type": "markdown",
      "source": [
        "### Run the tensorflow graph"
      ]
    },
    {
      "metadata": {
        "id": "uEJZJe-AKHgf",
        "colab_type": "code",
        "colab": {
          "autoexec": {
            "startup": false,
            "wait_interval": 0
          },
          "base_uri": "https://localhost:8080/",
          "height": 35
        },
        "outputId": "dc3abd18-05dc-4df0-9bd5-5f4f04e05ed9",
        "executionInfo": {
          "status": "ok",
          "timestamp": 1530995135356,
          "user_tz": 240,
          "elapsed": 394,
          "user": {
            "displayName": "Rahul Remanan",
            "photoUrl": "//lh6.googleusercontent.com/-JV7tr1e65Qo/AAAAAAAAAAI/AAAAAAAAAAw/bjlFLKJeoJw/s50-c-k-no/photo.jpg",
            "userId": "117023126961214813918"
          }
        }
      },
      "cell_type": "code",
      "source": [
        "print(sess.run(hello))"
      ],
      "execution_count": 4,
      "outputs": [
        {
          "output_type": "stream",
          "text": [
            "b'Hello, TensorFlow!'\n"
          ],
          "name": "stdout"
        }
      ]
    },
    {
      "metadata": {
        "id": "7-kT4vfmKHgq",
        "colab_type": "text"
      },
      "cell_type": "markdown",
      "source": [
        "## Part 02 -- Basic operations in tensorflow:\n",
        "\n",
        "In part 02 of this notebook, implementation of some of basic constant operations in tensorflow is discussed. The value returned by the constructor represents the output of the tensorflow constant op."
      ]
    },
    {
      "metadata": {
        "id": "RghYYWjsKHgs",
        "colab_type": "text"
      },
      "cell_type": "markdown",
      "source": [
        "### Initialize constant op in tensorflow"
      ]
    },
    {
      "metadata": {
        "id": "Cg9e8VkdKHgv",
        "colab_type": "code",
        "colab": {
          "autoexec": {
            "startup": false,
            "wait_interval": 0
          }
        }
      },
      "cell_type": "code",
      "source": [
        "a = tf.constant(2)\n",
        "b = tf.constant(3)"
      ],
      "execution_count": 0,
      "outputs": []
    },
    {
      "metadata": {
        "id": "1064-0HwLNXK",
        "colab_type": "code",
        "colab": {
          "autoexec": {
            "startup": false,
            "wait_interval": 0
          },
          "base_uri": "https://localhost:8080/",
          "height": 35
        },
        "outputId": "b7e60b59-5aa4-4dbc-b276-45cd727e8e1e",
        "executionInfo": {
          "status": "ok",
          "timestamp": 1530995136650,
          "user_tz": 240,
          "elapsed": 415,
          "user": {
            "displayName": "Rahul Remanan",
            "photoUrl": "//lh6.googleusercontent.com/-JV7tr1e65Qo/AAAAAAAAAAI/AAAAAAAAAAw/bjlFLKJeoJw/s50-c-k-no/photo.jpg",
            "userId": "117023126961214813918"
          }
        }
      },
      "cell_type": "code",
      "source": [
        "print (a)"
      ],
      "execution_count": 6,
      "outputs": [
        {
          "output_type": "stream",
          "text": [
            "Tensor(\"Const_1:0\", shape=(), dtype=int32)\n"
          ],
          "name": "stdout"
        }
      ]
    },
    {
      "metadata": {
        "id": "9TEAiKMfKHg6",
        "colab_type": "text"
      },
      "cell_type": "markdown",
      "source": [
        "### Launching the default graph and perform some basic functions\n",
        "\n",
        "- Launch tensorflow graph\n",
        "- Return the values of constant op\n",
        "- Return the sum and product of the graph input"
      ]
    },
    {
      "metadata": {
        "id": "CXxSJkkRKHg9",
        "colab_type": "code",
        "colab": {
          "autoexec": {
            "startup": false,
            "wait_interval": 0
          },
          "base_uri": "https://localhost:8080/",
          "height": 71
        },
        "outputId": "88d00da0-1b86-4759-f48d-e97f03ca77ce",
        "executionInfo": {
          "status": "ok",
          "timestamp": 1530995137675,
          "user_tz": 240,
          "elapsed": 719,
          "user": {
            "displayName": "Rahul Remanan",
            "photoUrl": "//lh6.googleusercontent.com/-JV7tr1e65Qo/AAAAAAAAAAI/AAAAAAAAAAw/bjlFLKJeoJw/s50-c-k-no/photo.jpg",
            "userId": "117023126961214813918"
          }
        }
      },
      "cell_type": "code",
      "source": [
        "with tf.Session() as sess:\n",
        "    print (\"a: %i\" % sess.run(a), \"b: %i\" % sess.run(b))\n",
        "    print (\"Addition with constants using tensorflow: %i\" % sess.run(a+b))\n",
        "    print (\"Multiplication with constants using tensorflow: %i\" % sess.run(a*b))"
      ],
      "execution_count": 7,
      "outputs": [
        {
          "output_type": "stream",
          "text": [
            "a: 2 b: 3\n",
            "Addition with constants using tensorflow: 5\n",
            "Multiplication with constants using tensorflow: 6\n"
          ],
          "name": "stdout"
        }
      ]
    },
    {
      "metadata": {
        "id": "hjUjLaibKHhN",
        "colab_type": "text"
      },
      "cell_type": "markdown",
      "source": [
        "### Passing a variable as the tensorflow graph input\n",
        "\n",
        "In this portion of the notebook, basic operations with variable as graph input is discussed. The value returned by the constructor represents the output of the Variable op. It is defined as an input when running session."
      ]
    },
    {
      "metadata": {
        "id": "wj79yKF4KHhR",
        "colab_type": "text"
      },
      "cell_type": "markdown",
      "source": [
        "### Initialize a tensorflow placeholder"
      ]
    },
    {
      "metadata": {
        "id": "ZZNjcdOZKHhU",
        "colab_type": "code",
        "colab": {
          "autoexec": {
            "startup": false,
            "wait_interval": 0
          }
        }
      },
      "cell_type": "code",
      "source": [
        "a = tf.placeholder(tf.int16)\n",
        "b = tf.placeholder(tf.int16)"
      ],
      "execution_count": 0,
      "outputs": []
    },
    {
      "metadata": {
        "id": "qa3_MJYJKHhg",
        "colab_type": "text"
      },
      "cell_type": "markdown",
      "source": [
        "### Create functions for adding and multiplying"
      ]
    },
    {
      "metadata": {
        "id": "VLYEeZupKHhi",
        "colab_type": "code",
        "colab": {
          "autoexec": {
            "startup": false,
            "wait_interval": 0
          }
        }
      },
      "cell_type": "code",
      "source": [
        "add = tf.add(a, b)\n",
        "mul = tf.multiply(a, b)"
      ],
      "execution_count": 0,
      "outputs": []
    },
    {
      "metadata": {
        "id": "zw_5pbYWKHhv",
        "colab_type": "text"
      },
      "cell_type": "markdown",
      "source": [
        "### Launch the default graph\n",
        "\n",
        "- Launch default graph\n",
        "- Run the addition and multiplication functions"
      ]
    },
    {
      "metadata": {
        "id": "wSH90i9NKHhy",
        "colab_type": "code",
        "colab": {
          "autoexec": {
            "startup": false,
            "wait_interval": 0
          },
          "base_uri": "https://localhost:8080/",
          "height": 71
        },
        "outputId": "ae97dffb-5fd4-4af8-e88f-354ae2373a52",
        "executionInfo": {
          "status": "ok",
          "timestamp": 1530995140551,
          "user_tz": 240,
          "elapsed": 827,
          "user": {
            "displayName": "Rahul Remanan",
            "photoUrl": "//lh6.googleusercontent.com/-JV7tr1e65Qo/AAAAAAAAAAI/AAAAAAAAAAw/bjlFLKJeoJw/s50-c-k-no/photo.jpg",
            "userId": "117023126961214813918"
          }
        }
      },
      "cell_type": "code",
      "source": [
        "with tf.Session() as sess:\n",
        "    input_dict = {a: 2, b: 3}\n",
        "    print (\"a: %i\" % sess.run(a, feed_dict=input_dict), \"b: %i\" % sess.run(b, feed_dict=input_dict))\n",
        "    print (\"Addition with variables using tensorflow: %i\" % sess.run(add, feed_dict=input_dict))\n",
        "    print (\"Multiplication with variables using tensorflow: %i\" % sess.run(mul, feed_dict=input_dict))"
      ],
      "execution_count": 10,
      "outputs": [
        {
          "output_type": "stream",
          "text": [
            "a: 2 b: 3\n",
            "Addition with variables using tensorflow: 5\n",
            "Multiplication with variables using tensorflow: 6\n"
          ],
          "name": "stdout"
        }
      ]
    },
    {
      "metadata": {
        "id": "wPjSWn-QKHiA",
        "colab_type": "text"
      },
      "cell_type": "markdown",
      "source": [
        "### Matrix multiplication example\n",
        "This portion of the tutorial uses the matrix multiplication example from TensorFlow official tutorial.\n",
        "Create a Constant op that produces a 1x2 matrix.  The op is added as a node to the default graph. The value returned by the constructor represents the output of the Constant op."
      ]
    },
    {
      "metadata": {
        "id": "8fOwPmDAKHiC",
        "colab_type": "code",
        "colab": {
          "autoexec": {
            "startup": false,
            "wait_interval": 0
          }
        }
      },
      "cell_type": "code",
      "source": [
        "matrix1 = tf.constant([[3., 3.]])"
      ],
      "execution_count": 0,
      "outputs": []
    },
    {
      "metadata": {
        "id": "WRwyYYhuKHiQ",
        "colab_type": "text"
      },
      "cell_type": "markdown",
      "source": [
        "### Create another Constant that produces a 2x1 matrix"
      ]
    },
    {
      "metadata": {
        "id": "mDujPyCvKHiT",
        "colab_type": "code",
        "colab": {
          "autoexec": {
            "startup": false,
            "wait_interval": 0
          }
        }
      },
      "cell_type": "code",
      "source": [
        "matrix2 = tf.constant([[2.],[2.]])"
      ],
      "execution_count": 0,
      "outputs": []
    },
    {
      "metadata": {
        "id": "olRx1gFmacvf",
        "colab_type": "text"
      },
      "cell_type": "markdown",
      "source": [
        "Create a Matmul op that takes 'matrix1' and 'matrix2' as inputs. The returned value, 'product', represents the result of the matrix multiplication."
      ]
    },
    {
      "metadata": {
        "id": "iw4xDLiZKHie",
        "colab_type": "code",
        "colab": {
          "autoexec": {
            "startup": false,
            "wait_interval": 0
          }
        }
      },
      "cell_type": "code",
      "source": [
        "mat_mul = tf.matmul(matrix1, matrix2)"
      ],
      "execution_count": 0,
      "outputs": []
    },
    {
      "metadata": {
        "id": "kg8wZXU0aUfg",
        "colab_type": "text"
      },
      "cell_type": "markdown",
      "source": [
        "Running the matmul op we call the session 'run()' method, passing 'product' which represents the output of the matmul op.  This indicates to the call that we want to get the output of the matmul op back. All inputs needed by the op are run automatically by the session.  They typically are run in parallel. The call 'run(product)' thus causes the execution of threes ops in the graph: the two constants and matmul. The output of the op is returned in 'result' as a numpy `ndarray` object."
      ]
    },
    {
      "metadata": {
        "id": "csB5hoY9KHin",
        "colab_type": "code",
        "colab": {
          "autoexec": {
            "startup": false,
            "wait_interval": 0
          },
          "base_uri": "https://localhost:8080/",
          "height": 35
        },
        "outputId": "457e51c9-6d64-4782-e6b6-b68f9e4da7a1",
        "executionInfo": {
          "status": "ok",
          "timestamp": 1530995143845,
          "user_tz": 240,
          "elapsed": 437,
          "user": {
            "displayName": "Rahul Remanan",
            "photoUrl": "//lh6.googleusercontent.com/-JV7tr1e65Qo/AAAAAAAAAAI/AAAAAAAAAAw/bjlFLKJeoJw/s50-c-k-no/photo.jpg",
            "userId": "117023126961214813918"
          }
        }
      },
      "cell_type": "code",
      "source": [
        "with tf.Session() as sess:\n",
        "    result = sess.run(mat_mul)\n",
        "    print (result)"
      ],
      "execution_count": 14,
      "outputs": [
        {
          "output_type": "stream",
          "text": [
            "[[12.]]\n"
          ],
          "name": "stdout"
        }
      ]
    },
    {
      "metadata": {
        "id": "vfPVAy9xauSl",
        "colab_type": "text"
      },
      "cell_type": "markdown",
      "source": [
        "## Part 03 -- Object Oriented Programming Using Tensorflow:"
      ]
    },
    {
      "metadata": {
        "id": "Kzpx0xCZUGzh",
        "colab_type": "text"
      },
      "cell_type": "markdown",
      "source": [
        "### Object oriented example of tensorflow addition and multiplication:"
      ]
    },
    {
      "metadata": {
        "id": "_ID2supUNqwH",
        "colab_type": "code",
        "colab": {
          "autoexec": {
            "startup": false,
            "wait_interval": 0
          }
        }
      },
      "cell_type": "code",
      "source": [
        "import tensorflow as tf\n",
        "class tf_basic_ops:\n",
        "  \n",
        "  def __init__(self, a = None, b = None):\n",
        "    \n",
        "    self.a = a\n",
        "    self.b = b\n",
        "    \n",
        "    a = tf.placeholder(tf.int16)\n",
        "    b = tf.placeholder(tf.int16)\n",
        "    \n",
        "    self.input_dict = {a: self.a, b: self.b}\n",
        "  \n",
        "  def tf_add(self):\n",
        "    add = tf.add(self.a, self.b)\n",
        "    with tf.Session() as sess:\n",
        "      return sess.run(add, feed_dict=self.input_dict)\n",
        "  def tf_mul(self):\n",
        "    mul = tf.multiply(self.a , self.b)\n",
        "    with tf.Session() as sess:\n",
        "      return sess.run(mul, feed_dict=self.input_dict)\n",
        "  def tf_mat_mul(self):\n",
        "    mat_mul = tf.matmul(self.a , self.b)\n",
        "    with tf.Session() as sess:\n",
        "      return sess.run(mat_mul, feed_dict=self.input_dict)"
      ],
      "execution_count": 0,
      "outputs": []
    },
    {
      "metadata": {
        "id": "4NZmNywdO9Vm",
        "colab_type": "code",
        "colab": {
          "autoexec": {
            "startup": false,
            "wait_interval": 0
          }
        }
      },
      "cell_type": "code",
      "source": [
        "tf_ops = tf_basic_ops(a=2, b = 3)"
      ],
      "execution_count": 0,
      "outputs": []
    },
    {
      "metadata": {
        "id": "YYgpPAyFPu2s",
        "colab_type": "code",
        "colab": {
          "autoexec": {
            "startup": false,
            "wait_interval": 0
          },
          "base_uri": "https://localhost:8080/",
          "height": 35
        },
        "outputId": "1d3010ad-1ff5-41a2-e918-2c0bf3446790",
        "executionInfo": {
          "status": "ok",
          "timestamp": 1530995145275,
          "user_tz": 240,
          "elapsed": 321,
          "user": {
            "displayName": "Rahul Remanan",
            "photoUrl": "//lh6.googleusercontent.com/-JV7tr1e65Qo/AAAAAAAAAAI/AAAAAAAAAAw/bjlFLKJeoJw/s50-c-k-no/photo.jpg",
            "userId": "117023126961214813918"
          }
        }
      },
      "cell_type": "code",
      "source": [
        "tf_ops.tf_add()"
      ],
      "execution_count": 17,
      "outputs": [
        {
          "output_type": "execute_result",
          "data": {
            "text/plain": [
              "5"
            ]
          },
          "metadata": {
            "tags": []
          },
          "execution_count": 17
        }
      ]
    },
    {
      "metadata": {
        "id": "ACgFcDO8Q1Dp",
        "colab_type": "code",
        "colab": {
          "autoexec": {
            "startup": false,
            "wait_interval": 0
          },
          "base_uri": "https://localhost:8080/",
          "height": 35
        },
        "outputId": "f7beb0e6-412d-496b-b96c-76937c9a85c9",
        "executionInfo": {
          "status": "ok",
          "timestamp": 1530995146037,
          "user_tz": 240,
          "elapsed": 493,
          "user": {
            "displayName": "Rahul Remanan",
            "photoUrl": "//lh6.googleusercontent.com/-JV7tr1e65Qo/AAAAAAAAAAI/AAAAAAAAAAw/bjlFLKJeoJw/s50-c-k-no/photo.jpg",
            "userId": "117023126961214813918"
          }
        }
      },
      "cell_type": "code",
      "source": [
        "tf_ops.tf_mul()"
      ],
      "execution_count": 18,
      "outputs": [
        {
          "output_type": "execute_result",
          "data": {
            "text/plain": [
              "6"
            ]
          },
          "metadata": {
            "tags": []
          },
          "execution_count": 18
        }
      ]
    },
    {
      "metadata": {
        "id": "NE7MOvkFU05_",
        "colab_type": "code",
        "colab": {
          "autoexec": {
            "startup": false,
            "wait_interval": 0
          }
        }
      },
      "cell_type": "code",
      "source": [
        "tf_matrix_ops = tf_basic_ops(a=[[3., 3.]], b = [[2.],[2.]])"
      ],
      "execution_count": 0,
      "outputs": []
    },
    {
      "metadata": {
        "id": "qXDuzURIU_jt",
        "colab_type": "code",
        "colab": {
          "autoexec": {
            "startup": false,
            "wait_interval": 0
          },
          "base_uri": "https://localhost:8080/",
          "height": 35
        },
        "outputId": "cf67f8ac-a15d-4bc4-dd55-10ab98cb84d2",
        "executionInfo": {
          "status": "ok",
          "timestamp": 1530995147078,
          "user_tz": 240,
          "elapsed": 356,
          "user": {
            "displayName": "Rahul Remanan",
            "photoUrl": "//lh6.googleusercontent.com/-JV7tr1e65Qo/AAAAAAAAAAI/AAAAAAAAAAw/bjlFLKJeoJw/s50-c-k-no/photo.jpg",
            "userId": "117023126961214813918"
          }
        }
      },
      "cell_type": "code",
      "source": [
        "tf_matrix_ops.tf_mat_mul()"
      ],
      "execution_count": 20,
      "outputs": [
        {
          "output_type": "execute_result",
          "data": {
            "text/plain": [
              "array([[12.]], dtype=float32)"
            ]
          },
          "metadata": {
            "tags": []
          },
          "execution_count": 20
        }
      ]
    },
    {
      "metadata": {
        "id": "VE5WLFWXVKpp",
        "colab_type": "code",
        "colab": {
          "autoexec": {
            "startup": false,
            "wait_interval": 0
          }
        }
      },
      "cell_type": "code",
      "source": [
        ""
      ],
      "execution_count": 0,
      "outputs": []
    }
  ]
}