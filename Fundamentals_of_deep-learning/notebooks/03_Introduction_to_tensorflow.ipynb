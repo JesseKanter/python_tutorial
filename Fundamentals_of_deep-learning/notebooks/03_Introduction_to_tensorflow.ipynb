{
  "nbformat": 4,
  "nbformat_minor": 0,
  "metadata": {
    "colab": {
      "name": "03_Introduction_to_tensorflow.ipynb",
      "version": "0.3.2",
      "views": {},
      "default_view": {},
      "provenance": []
    },
    "kernelspec": {
      "display_name": "Python 3",
      "language": "python",
      "name": "python3"
    }
  },
  "cells": [
    {
      "metadata": {
        "id": "mGjjDq1SKHfp",
        "colab_type": "text"
      },
      "cell_type": "markdown",
      "source": [
        "# Introduction to [tensorflow](https://tensorflow.org)\n",
        "\n",
        "## Author: [Dr. Rahul Remanan](https://github.com/rahulremanan/python_tutorial)\n",
        "### CEO and Chief Imagination Officer, [Moad Computer](https://www.moad.computer)\n",
        "\n",
        "This notebook is an introduction to tensorflow, a popular deep-learning framework. Tensorflow has brilliant integration with Python. This notebook uses the tensorflow python3 APIs. This notebook is a modified fork of [tensorflow examples repository](https://github.com/aymericdamien/TensorFlow-Examples/)."
      ]
    },
    {
      "metadata": {
        "id": "H6soDGWAKHfu",
        "colab_type": "text"
      },
      "cell_type": "markdown",
      "source": [
        "## Part 01 -- Hello world in tensorflow"
      ]
    },
    {
      "metadata": {
        "id": "3e4tJtsmKHfx",
        "colab_type": "text"
      },
      "cell_type": "markdown",
      "source": [
        "This is a simple hello world example using tensorflow.\n",
        "\n",
        "In this example, a tensorflow constant op is created. This op is added as a node to the default graph. The value returned by the constructor represents the output of this constant op."
      ]
    },
    {
      "metadata": {
        "id": "89lSfI9rKHf0",
        "colab_type": "code",
        "colab": {
          "autoexec": {
            "startup": false,
            "wait_interval": 0
          }
        }
      },
      "cell_type": "code",
      "source": [
        "import tensorflow as tf"
      ],
      "execution_count": 0,
      "outputs": []
    },
    {
      "metadata": {
        "id": "ieb95lIhKHgB",
        "colab_type": "text"
      },
      "cell_type": "markdown",
      "source": [
        "### Create a tensorflow constant op"
      ]
    },
    {
      "metadata": {
        "id": "IQKqSB5FKHgF",
        "colab_type": "code",
        "colab": {
          "autoexec": {
            "startup": false,
            "wait_interval": 0
          }
        }
      },
      "cell_type": "code",
      "source": [
        "hello = tf.constant('Hello, TensorFlow!')"
      ],
      "execution_count": 0,
      "outputs": []
    },
    {
      "metadata": {
        "id": "Om0S2s1kKHgP",
        "colab_type": "text"
      },
      "cell_type": "markdown",
      "source": [
        "### Initialize the tf session"
      ]
    },
    {
      "metadata": {
        "id": "KeJV1f7ZKHgS",
        "colab_type": "code",
        "colab": {
          "autoexec": {
            "startup": false,
            "wait_interval": 0
          }
        }
      },
      "cell_type": "code",
      "source": [
        "sess = tf.Session()"
      ],
      "execution_count": 0,
      "outputs": []
    },
    {
      "metadata": {
        "id": "wlnW9x1rKHgc",
        "colab_type": "text"
      },
      "cell_type": "markdown",
      "source": [
        "### Run the tensorflow graph"
      ]
    },
    {
      "metadata": {
        "id": "uEJZJe-AKHgf",
        "colab_type": "code",
        "colab": {
          "autoexec": {
            "startup": false,
            "wait_interval": 0
          },
          "base_uri": "https://localhost:8080/",
          "height": 35
        },
        "outputId": "b119b5d2-4fe4-4317-872c-2bf2935b99fc",
        "executionInfo": {
          "status": "ok",
          "timestamp": 1530997160375,
          "user_tz": 240,
          "elapsed": 298,
          "user": {
            "displayName": "Rahul Remanan",
            "photoUrl": "//lh6.googleusercontent.com/-JV7tr1e65Qo/AAAAAAAAAAI/AAAAAAAAAAw/bjlFLKJeoJw/s50-c-k-no/photo.jpg",
            "userId": "117023126961214813918"
          }
        }
      },
      "cell_type": "code",
      "source": [
        "print(sess.run(hello))"
      ],
      "execution_count": 4,
      "outputs": [
        {
          "output_type": "stream",
          "text": [
            "b'Hello, TensorFlow!'\n"
          ],
          "name": "stdout"
        }
      ]
    },
    {
      "metadata": {
        "id": "7-kT4vfmKHgq",
        "colab_type": "text"
      },
      "cell_type": "markdown",
      "source": [
        "## Part 02 -- Basic operations in tensorflow\n",
        "\n",
        "In part 02 of this notebook, implementation of some of basic constant operations in tensorflow is discussed. The value returned by the constructor represents the output of the tensorflow constant op."
      ]
    },
    {
      "metadata": {
        "id": "RghYYWjsKHgs",
        "colab_type": "text"
      },
      "cell_type": "markdown",
      "source": [
        "### Initialize constant op in tensorflow"
      ]
    },
    {
      "metadata": {
        "id": "Cg9e8VkdKHgv",
        "colab_type": "code",
        "colab": {
          "autoexec": {
            "startup": false,
            "wait_interval": 0
          }
        }
      },
      "cell_type": "code",
      "source": [
        "a = tf.constant(2)\n",
        "b = tf.constant(3)"
      ],
      "execution_count": 0,
      "outputs": []
    },
    {
      "metadata": {
        "id": "1064-0HwLNXK",
        "colab_type": "code",
        "colab": {
          "autoexec": {
            "startup": false,
            "wait_interval": 0
          },
          "base_uri": "https://localhost:8080/",
          "height": 35
        },
        "outputId": "6e1e06e6-1876-427f-ee64-3a3e60ac4849",
        "executionInfo": {
          "status": "ok",
          "timestamp": 1530997161774,
          "user_tz": 240,
          "elapsed": 616,
          "user": {
            "displayName": "Rahul Remanan",
            "photoUrl": "//lh6.googleusercontent.com/-JV7tr1e65Qo/AAAAAAAAAAI/AAAAAAAAAAw/bjlFLKJeoJw/s50-c-k-no/photo.jpg",
            "userId": "117023126961214813918"
          }
        }
      },
      "cell_type": "code",
      "source": [
        "print (a)"
      ],
      "execution_count": 6,
      "outputs": [
        {
          "output_type": "stream",
          "text": [
            "Tensor(\"Const_1:0\", shape=(), dtype=int32)\n"
          ],
          "name": "stdout"
        }
      ]
    },
    {
      "metadata": {
        "id": "9TEAiKMfKHg6",
        "colab_type": "text"
      },
      "cell_type": "markdown",
      "source": [
        "### Launching the default graph and perform some basic functions\n",
        "\n",
        "- Launch tensorflow graph\n",
        "- Return the values of constant op\n",
        "- Return the sum and product of the graph input"
      ]
    },
    {
      "metadata": {
        "id": "CXxSJkkRKHg9",
        "colab_type": "code",
        "colab": {
          "autoexec": {
            "startup": false,
            "wait_interval": 0
          },
          "base_uri": "https://localhost:8080/",
          "height": 71
        },
        "outputId": "247572a8-7a90-4440-dfe8-32a9fb79591a",
        "executionInfo": {
          "status": "ok",
          "timestamp": 1530997162575,
          "user_tz": 240,
          "elapsed": 522,
          "user": {
            "displayName": "Rahul Remanan",
            "photoUrl": "//lh6.googleusercontent.com/-JV7tr1e65Qo/AAAAAAAAAAI/AAAAAAAAAAw/bjlFLKJeoJw/s50-c-k-no/photo.jpg",
            "userId": "117023126961214813918"
          }
        }
      },
      "cell_type": "code",
      "source": [
        "with tf.Session() as sess:\n",
        "    print (\"a: %i\" % sess.run(a), \"b: %i\" % sess.run(b))\n",
        "    print (\"Addition with constants using tensorflow: %i\" % sess.run(a+b))\n",
        "    print (\"Multiplication with constants using tensorflow: %i\" % sess.run(a*b))"
      ],
      "execution_count": 7,
      "outputs": [
        {
          "output_type": "stream",
          "text": [
            "a: 2 b: 3\n",
            "Addition with constants using tensorflow: 5\n",
            "Multiplication with constants using tensorflow: 6\n"
          ],
          "name": "stdout"
        }
      ]
    },
    {
      "metadata": {
        "id": "hjUjLaibKHhN",
        "colab_type": "text"
      },
      "cell_type": "markdown",
      "source": [
        "### Passing a variable as the tensorflow graph input\n",
        "\n",
        "In this portion of the notebook, basic operations with variable as graph input is discussed. The value returned by the constructor represents the output of the Variable op. It is defined as an input when running session."
      ]
    },
    {
      "metadata": {
        "id": "wj79yKF4KHhR",
        "colab_type": "text"
      },
      "cell_type": "markdown",
      "source": [
        "### Initialize a tensorflow placeholder"
      ]
    },
    {
      "metadata": {
        "id": "ZZNjcdOZKHhU",
        "colab_type": "code",
        "colab": {
          "autoexec": {
            "startup": false,
            "wait_interval": 0
          }
        }
      },
      "cell_type": "code",
      "source": [
        "a = tf.placeholder(tf.int16)\n",
        "b = tf.placeholder(tf.int16)"
      ],
      "execution_count": 0,
      "outputs": []
    },
    {
      "metadata": {
        "id": "qa3_MJYJKHhg",
        "colab_type": "text"
      },
      "cell_type": "markdown",
      "source": [
        "### Create functions for adding and multiplying"
      ]
    },
    {
      "metadata": {
        "id": "VLYEeZupKHhi",
        "colab_type": "code",
        "colab": {
          "autoexec": {
            "startup": false,
            "wait_interval": 0
          }
        }
      },
      "cell_type": "code",
      "source": [
        "add = tf.add(a, b)\n",
        "mul = tf.multiply(a, b)"
      ],
      "execution_count": 0,
      "outputs": []
    },
    {
      "metadata": {
        "id": "zw_5pbYWKHhv",
        "colab_type": "text"
      },
      "cell_type": "markdown",
      "source": [
        "### Launch the default graph\n",
        "\n",
        "- Launch default graph\n",
        "- Run the addition and multiplication functions"
      ]
    },
    {
      "metadata": {
        "id": "wSH90i9NKHhy",
        "colab_type": "code",
        "colab": {
          "autoexec": {
            "startup": false,
            "wait_interval": 0
          },
          "base_uri": "https://localhost:8080/",
          "height": 71
        },
        "outputId": "68f9e1bc-c2e9-408d-c4b7-7d549158aa50",
        "executionInfo": {
          "status": "ok",
          "timestamp": 1530997164080,
          "user_tz": 240,
          "elapsed": 297,
          "user": {
            "displayName": "Rahul Remanan",
            "photoUrl": "//lh6.googleusercontent.com/-JV7tr1e65Qo/AAAAAAAAAAI/AAAAAAAAAAw/bjlFLKJeoJw/s50-c-k-no/photo.jpg",
            "userId": "117023126961214813918"
          }
        }
      },
      "cell_type": "code",
      "source": [
        "with tf.Session() as sess:\n",
        "    input_dict = {a: 2, b: 3}\n",
        "    print (\"a: %i\" % sess.run(a, feed_dict=input_dict), \"b: %i\" % sess.run(b, feed_dict=input_dict))\n",
        "    print (\"Addition with variables using tensorflow: %i\" % sess.run(add, feed_dict=input_dict))\n",
        "    print (\"Multiplication with variables using tensorflow: %i\" % sess.run(mul, feed_dict=input_dict))"
      ],
      "execution_count": 10,
      "outputs": [
        {
          "output_type": "stream",
          "text": [
            "a: 2 b: 3\n",
            "Addition with variables using tensorflow: 5\n",
            "Multiplication with variables using tensorflow: 6\n"
          ],
          "name": "stdout"
        }
      ]
    },
    {
      "metadata": {
        "id": "wPjSWn-QKHiA",
        "colab_type": "text"
      },
      "cell_type": "markdown",
      "source": [
        "### Matrix multiplication example\n",
        "This portion of the tutorial uses the matrix multiplication example from TensorFlow official tutorial.\n",
        "Create a Constant op that produces a 1x2 matrix.  The op is added as a node to the default graph. The value returned by the constructor represents the output of the Constant op."
      ]
    },
    {
      "metadata": {
        "id": "8fOwPmDAKHiC",
        "colab_type": "code",
        "colab": {
          "autoexec": {
            "startup": false,
            "wait_interval": 0
          }
        }
      },
      "cell_type": "code",
      "source": [
        "matrix1 = tf.constant([[3., 3.]])"
      ],
      "execution_count": 0,
      "outputs": []
    },
    {
      "metadata": {
        "id": "WRwyYYhuKHiQ",
        "colab_type": "text"
      },
      "cell_type": "markdown",
      "source": [
        "### Create another Constant that produces a 2x1 matrix"
      ]
    },
    {
      "metadata": {
        "id": "mDujPyCvKHiT",
        "colab_type": "code",
        "colab": {
          "autoexec": {
            "startup": false,
            "wait_interval": 0
          }
        }
      },
      "cell_type": "code",
      "source": [
        "matrix2 = tf.constant([[2.],[2.]])"
      ],
      "execution_count": 0,
      "outputs": []
    },
    {
      "metadata": {
        "id": "olRx1gFmacvf",
        "colab_type": "text"
      },
      "cell_type": "markdown",
      "source": [
        "Create a Matmul op that takes 'matrix1' and 'matrix2' as inputs. The returned value, 'product', represents the result of the matrix multiplication."
      ]
    },
    {
      "metadata": {
        "id": "iw4xDLiZKHie",
        "colab_type": "code",
        "colab": {
          "autoexec": {
            "startup": false,
            "wait_interval": 0
          }
        }
      },
      "cell_type": "code",
      "source": [
        "mat_mul = tf.matmul(matrix1, matrix2)"
      ],
      "execution_count": 0,
      "outputs": []
    },
    {
      "metadata": {
        "id": "kg8wZXU0aUfg",
        "colab_type": "text"
      },
      "cell_type": "markdown",
      "source": [
        "Running the matmul op we call the session 'run()' method, passing 'product' which represents the output of the matmul op.  This indicates to the call that we want to get the output of the matmul op back. All inputs needed by the op are run automatically by the session.  They typically are run in parallel. The call 'run(product)' thus causes the execution of threes ops in the graph: the two constants and matmul. The output of the op is returned in 'result' as a numpy `ndarray` object."
      ]
    },
    {
      "metadata": {
        "id": "csB5hoY9KHin",
        "colab_type": "code",
        "colab": {
          "autoexec": {
            "startup": false,
            "wait_interval": 0
          },
          "base_uri": "https://localhost:8080/",
          "height": 35
        },
        "outputId": "b0a06796-a481-4970-a5e4-345bc89837b0",
        "executionInfo": {
          "status": "ok",
          "timestamp": 1530997165985,
          "user_tz": 240,
          "elapsed": 267,
          "user": {
            "displayName": "Rahul Remanan",
            "photoUrl": "//lh6.googleusercontent.com/-JV7tr1e65Qo/AAAAAAAAAAI/AAAAAAAAAAw/bjlFLKJeoJw/s50-c-k-no/photo.jpg",
            "userId": "117023126961214813918"
          }
        }
      },
      "cell_type": "code",
      "source": [
        "with tf.Session() as sess:\n",
        "    result = sess.run(mat_mul)\n",
        "    print (result)"
      ],
      "execution_count": 14,
      "outputs": [
        {
          "output_type": "stream",
          "text": [
            "[[12.]]\n"
          ],
          "name": "stdout"
        }
      ]
    },
    {
      "metadata": {
        "id": "fVZJ6gTFfF1u",
        "colab_type": "text"
      },
      "cell_type": "markdown",
      "source": [
        "## Part 03 -- Tensorflow Eager API\n",
        "\n",
        "Eager execution is an imperative, define-by-run interface where operations are executed immediately as they are called from Python. This makes it easier to get started with TensorFlow, and can make research and development more intuitive. A vast majority of the TensorFlow API remains the same whether eager execution is enabled or not. As a result, the exact same code that constructs TensorFlow graphs (e.g. using the layers API) can be executed imperatively by using eager execution. Conversely, most models written with Eager enabled can be converted to a graph that can be further optimized and/or extracted for deployment in production without changing code. - Rajat Monga\n",
        "\n",
        "[Read more about tensorflow eager API](https://research.googleblog.com/2017/10/eager-execution-imperative-define-by.html)."
      ]
    },
    {
      "metadata": {
        "id": "k7mptXlMfu3_",
        "colab_type": "code",
        "colab": {
          "autoexec": {
            "startup": false,
            "wait_interval": 0
          }
        }
      },
      "cell_type": "code",
      "source": [
        "from __future__ import absolute_import, division, print_function\n",
        "\n",
        "import numpy as np\n",
        "import tensorflow as tf\n",
        "import tensorflow.contrib.eager as tfe"
      ],
      "execution_count": 0,
      "outputs": []
    },
    {
      "metadata": {
        "id": "D_oDqcZgf3C9",
        "colab_type": "text"
      },
      "cell_type": "markdown",
      "source": [
        "### Setting Eager API"
      ]
    },
    {
      "metadata": {
        "id": "IGmz7blVfzEe",
        "colab_type": "code",
        "colab": {
          "autoexec": {
            "startup": false,
            "wait_interval": 0
          },
          "base_uri": "https://localhost:8080/",
          "height": 35
        },
        "outputId": "512b000c-294e-4c67-a74a-ac75941ebb25",
        "executionInfo": {
          "status": "ok",
          "timestamp": 1530997222857,
          "user_tz": 240,
          "elapsed": 461,
          "user": {
            "displayName": "Rahul Remanan",
            "photoUrl": "//lh6.googleusercontent.com/-JV7tr1e65Qo/AAAAAAAAAAI/AAAAAAAAAAw/bjlFLKJeoJw/s50-c-k-no/photo.jpg",
            "userId": "117023126961214813918"
          }
        }
      },
      "cell_type": "code",
      "source": [
        "print(\"Enabling Eager mode ...\")\n",
        "tfe.enable_eager_execution()"
      ],
      "execution_count": 2,
      "outputs": [
        {
          "output_type": "stream",
          "text": [
            "Enabling Eager mode ...\n"
          ],
          "name": "stdout"
        }
      ]
    },
    {
      "metadata": {
        "id": "NF9auy5FgmVj",
        "colab_type": "text"
      },
      "cell_type": "markdown",
      "source": [
        "### Define constant tensors"
      ]
    },
    {
      "metadata": {
        "id": "dpaZMNaxgdN6",
        "colab_type": "code",
        "colab": {
          "autoexec": {
            "startup": false,
            "wait_interval": 0
          },
          "base_uri": "https://localhost:8080/",
          "height": 71
        },
        "outputId": "1f3af6f6-2acb-46f8-be9c-379b8b407b90",
        "executionInfo": {
          "status": "ok",
          "timestamp": 1530997225857,
          "user_tz": 240,
          "elapsed": 260,
          "user": {
            "displayName": "Rahul Remanan",
            "photoUrl": "//lh6.googleusercontent.com/-JV7tr1e65Qo/AAAAAAAAAAI/AAAAAAAAAAw/bjlFLKJeoJw/s50-c-k-no/photo.jpg",
            "userId": "117023126961214813918"
          }
        }
      },
      "cell_type": "code",
      "source": [
        "print(\"Initialize constant tensors ...\")\n",
        "a = tf.constant(2)\n",
        "print(\"a = %i\" % a)\n",
        "b = tf.constant(3)\n",
        "print(\"b = %i\" % b)"
      ],
      "execution_count": 3,
      "outputs": [
        {
          "output_type": "stream",
          "text": [
            "Initialize constant tensors ...\n",
            "a = 2\n",
            "b = 3\n"
          ],
          "name": "stdout"
        }
      ]
    },
    {
      "metadata": {
        "id": "a7z7TJvTg-bb",
        "colab_type": "text"
      },
      "cell_type": "markdown",
      "source": [
        "### Running the tensorflow operations without calling the tf.Session explicitly"
      ]
    },
    {
      "metadata": {
        "id": "opq8K6mkg84C",
        "colab_type": "code",
        "colab": {
          "autoexec": {
            "startup": false,
            "wait_interval": 0
          },
          "base_uri": "https://localhost:8080/",
          "height": 71
        },
        "outputId": "35aa1d2a-c6d1-42f5-f117-b22a5cfb3d3a",
        "executionInfo": {
          "status": "ok",
          "timestamp": 1530997227579,
          "user_tz": 240,
          "elapsed": 260,
          "user": {
            "displayName": "Rahul Remanan",
            "photoUrl": "//lh6.googleusercontent.com/-JV7tr1e65Qo/AAAAAAAAAAI/AAAAAAAAAAw/bjlFLKJeoJw/s50-c-k-no/photo.jpg",
            "userId": "117023126961214813918"
          }
        }
      },
      "cell_type": "code",
      "source": [
        "print(\"Running operations, without tf.Session\")\n",
        "c = a + b\n",
        "print(\"a + b = %i\" % c)\n",
        "d = a * b\n",
        "print(\"a * b = %i\" % d)"
      ],
      "execution_count": 4,
      "outputs": [
        {
          "output_type": "stream",
          "text": [
            "Running operations, without tf.Session\n",
            "a + b = 5\n",
            "a * b = 6\n"
          ],
          "name": "stdout"
        }
      ]
    },
    {
      "metadata": {
        "id": "fKd6ORf1hYGM",
        "colab_type": "text"
      },
      "cell_type": "markdown",
      "source": [
        "### Compatibility with Numpy\n",
        "\n",
        "- Define constant tensors\n",
        "- Mixed operations with both tensors and numpy arrays"
      ]
    },
    {
      "metadata": {
        "id": "PfYM0WoShL3k",
        "colab_type": "code",
        "colab": {
          "autoexec": {
            "startup": false,
            "wait_interval": 0
          },
          "base_uri": "https://localhost:8080/",
          "height": 161
        },
        "outputId": "0e0e38fb-6256-4494-b7bf-7defe17dc918",
        "executionInfo": {
          "status": "ok",
          "timestamp": 1530997229527,
          "user_tz": 240,
          "elapsed": 484,
          "user": {
            "displayName": "Rahul Remanan",
            "photoUrl": "//lh6.googleusercontent.com/-JV7tr1e65Qo/AAAAAAAAAAI/AAAAAAAAAAw/bjlFLKJeoJw/s50-c-k-no/photo.jpg",
            "userId": "117023126961214813918"
          }
        }
      },
      "cell_type": "code",
      "source": [
        "print(\"Mixed operations with tensors and numpy arrays ...\")\n",
        "\n",
        "a = tf.constant([[2., 1.],\n",
        "                 [1., 0.]], dtype=tf.float32)\n",
        "print(\"Tensor:\\n a = %s\" % a)\n",
        "b = np.array([[3., 0.],\n",
        "              [5., 1.]], dtype=np.float32)\n",
        "print(\"NumpyArray:\\n b = %s\" % b)"
      ],
      "execution_count": 5,
      "outputs": [
        {
          "output_type": "stream",
          "text": [
            "Mixed operations with tensors and numpy arrays ...\n",
            "Tensor:\n",
            " a = tf.Tensor(\n",
            "[[2. 1.]\n",
            " [1. 0.]], shape=(2, 2), dtype=float32)\n",
            "NumpyArray:\n",
            " b = [[3. 0.]\n",
            " [5. 1.]]\n"
          ],
          "name": "stdout"
        }
      ]
    },
    {
      "metadata": {
        "id": "TgcnxCcYh0TN",
        "colab_type": "text"
      },
      "cell_type": "markdown",
      "source": [
        "### Matrix operations using tensorflow eager API\n",
        "\n",
        "- Run matrix operations without explicitly calling tf.Session"
      ]
    },
    {
      "metadata": {
        "id": "0So649sNhtiK",
        "colab_type": "code",
        "colab": {
          "autoexec": {
            "startup": false,
            "wait_interval": 0
          },
          "base_uri": "https://localhost:8080/",
          "height": 143
        },
        "outputId": "a93abfdb-8252-44b6-c257-48572b547ff3",
        "executionInfo": {
          "status": "ok",
          "timestamp": 1530997231550,
          "user_tz": 240,
          "elapsed": 396,
          "user": {
            "displayName": "Rahul Remanan",
            "photoUrl": "//lh6.googleusercontent.com/-JV7tr1e65Qo/AAAAAAAAAAI/AAAAAAAAAAw/bjlFLKJeoJw/s50-c-k-no/photo.jpg",
            "userId": "117023126961214813918"
          }
        }
      },
      "cell_type": "code",
      "source": [
        "print(\"Running matrix operations without tf.Session ...\")\n",
        "\n",
        "c = a + b\n",
        "print(\"a + b = %s\" % c)\n",
        "\n",
        "d = tf.matmul(a, b)\n",
        "print(\"a * b = %s\" % d)"
      ],
      "execution_count": 6,
      "outputs": [
        {
          "output_type": "stream",
          "text": [
            "Running matrix operations without tf.Session ...\n",
            "a + b = tf.Tensor(\n",
            "[[5. 1.]\n",
            " [6. 1.]], shape=(2, 2), dtype=float32)\n",
            "a * b = tf.Tensor(\n",
            "[[11.  1.]\n",
            " [ 3.  0.]], shape=(2, 2), dtype=float32)\n"
          ],
          "name": "stdout"
        }
      ]
    },
    {
      "metadata": {
        "id": "J7_vjDV0iHS-",
        "colab_type": "text"
      },
      "cell_type": "markdown",
      "source": [
        "### Iteration operations through a tensor"
      ]
    },
    {
      "metadata": {
        "id": "jeMZCWJjiLJF",
        "colab_type": "code",
        "colab": {
          "autoexec": {
            "startup": false,
            "wait_interval": 0
          },
          "base_uri": "https://localhost:8080/",
          "height": 107
        },
        "outputId": "fa85b7a2-a625-442c-ab1d-dfd47b50af59",
        "executionInfo": {
          "status": "ok",
          "timestamp": 1530997234659,
          "user_tz": 240,
          "elapsed": 265,
          "user": {
            "displayName": "Rahul Remanan",
            "photoUrl": "//lh6.googleusercontent.com/-JV7tr1e65Qo/AAAAAAAAAAI/AAAAAAAAAAw/bjlFLKJeoJw/s50-c-k-no/photo.jpg",
            "userId": "117023126961214813918"
          }
        }
      },
      "cell_type": "code",
      "source": [
        "print(\"Iterating through Tensor 'a': ...\")\n",
        "for i in range(a.shape[0]):\n",
        "    for j in range(a.shape[1]):\n",
        "        print(a[i][j])"
      ],
      "execution_count": 7,
      "outputs": [
        {
          "output_type": "stream",
          "text": [
            "Iterating through Tensor 'a': ...\n",
            "tf.Tensor(2.0, shape=(), dtype=float32)\n",
            "tf.Tensor(1.0, shape=(), dtype=float32)\n",
            "tf.Tensor(1.0, shape=(), dtype=float32)\n",
            "tf.Tensor(0.0, shape=(), dtype=float32)\n"
          ],
          "name": "stdout"
        }
      ]
    },
    {
      "metadata": {
        "id": "vfPVAy9xauSl",
        "colab_type": "text"
      },
      "cell_type": "markdown",
      "source": [
        "## Part 04 -- Object Oriented Programming Using Tensorflow"
      ]
    },
    {
      "metadata": {
        "id": "Kzpx0xCZUGzh",
        "colab_type": "text"
      },
      "cell_type": "markdown",
      "source": [
        "### Object oriented example of tensorflow addition and multiplication:"
      ]
    },
    {
      "metadata": {
        "id": "_ID2supUNqwH",
        "colab_type": "code",
        "colab": {
          "autoexec": {
            "startup": false,
            "wait_interval": 0
          }
        }
      },
      "cell_type": "code",
      "source": [
        "import tensorflow as tf\n",
        "class tf_basic_ops:  \n",
        "  def __init__(self, a = None, b = None):    \n",
        "    self.a = a\n",
        "    self.b = b    \n",
        "    a = tf.placeholder(tf.int16)\n",
        "    b = tf.placeholder(tf.int16)    \n",
        "    self.input_dict = {a: self.a, b: self.b}  \n",
        "  def tf_add(self):\n",
        "    add = tf.add(self.a, self.b)\n",
        "    with tf.Session() as sess:\n",
        "      return sess.run(add, feed_dict=self.input_dict)\n",
        "  def tf_mul(self):\n",
        "    mul = tf.multiply(self.a , self.b)\n",
        "    with tf.Session() as sess:\n",
        "      return sess.run(mul, feed_dict=self.input_dict)\n",
        "  def tf_mat_mul(self):\n",
        "    mat_mul = tf.matmul(self.a , self.b)\n",
        "    with tf.Session() as sess:\n",
        "      return sess.run(mat_mul, feed_dict=self.input_dict)"
      ],
      "execution_count": 0,
      "outputs": []
    },
    {
      "metadata": {
        "id": "4NZmNywdO9Vm",
        "colab_type": "code",
        "colab": {
          "autoexec": {
            "startup": false,
            "wait_interval": 0
          }
        }
      },
      "cell_type": "code",
      "source": [
        "tf_ops = tf_basic_ops(a=2, b = 3)"
      ],
      "execution_count": 0,
      "outputs": []
    },
    {
      "metadata": {
        "id": "YYgpPAyFPu2s",
        "colab_type": "code",
        "colab": {
          "autoexec": {
            "startup": false,
            "wait_interval": 0
          },
          "base_uri": "https://localhost:8080/",
          "height": 35
        },
        "outputId": "3ef4bc79-d04c-42ff-9555-2b08874ca826",
        "executionInfo": {
          "status": "ok",
          "timestamp": 1530997187638,
          "user_tz": 240,
          "elapsed": 328,
          "user": {
            "displayName": "Rahul Remanan",
            "photoUrl": "//lh6.googleusercontent.com/-JV7tr1e65Qo/AAAAAAAAAAI/AAAAAAAAAAw/bjlFLKJeoJw/s50-c-k-no/photo.jpg",
            "userId": "117023126961214813918"
          }
        }
      },
      "cell_type": "code",
      "source": [
        "tf_ops.tf_add()"
      ],
      "execution_count": 19,
      "outputs": [
        {
          "output_type": "execute_result",
          "data": {
            "text/plain": [
              "5"
            ]
          },
          "metadata": {
            "tags": []
          },
          "execution_count": 19
        }
      ]
    },
    {
      "metadata": {
        "id": "ACgFcDO8Q1Dp",
        "colab_type": "code",
        "colab": {
          "autoexec": {
            "startup": false,
            "wait_interval": 0
          },
          "base_uri": "https://localhost:8080/",
          "height": 35
        },
        "outputId": "0132989a-5f40-4cc0-de4b-b372c0eb01ae",
        "executionInfo": {
          "status": "ok",
          "timestamp": 1530997188908,
          "user_tz": 240,
          "elapsed": 382,
          "user": {
            "displayName": "Rahul Remanan",
            "photoUrl": "//lh6.googleusercontent.com/-JV7tr1e65Qo/AAAAAAAAAAI/AAAAAAAAAAw/bjlFLKJeoJw/s50-c-k-no/photo.jpg",
            "userId": "117023126961214813918"
          }
        }
      },
      "cell_type": "code",
      "source": [
        "tf_ops.tf_mul()"
      ],
      "execution_count": 20,
      "outputs": [
        {
          "output_type": "execute_result",
          "data": {
            "text/plain": [
              "6"
            ]
          },
          "metadata": {
            "tags": []
          },
          "execution_count": 20
        }
      ]
    },
    {
      "metadata": {
        "id": "NE7MOvkFU05_",
        "colab_type": "code",
        "colab": {
          "autoexec": {
            "startup": false,
            "wait_interval": 0
          }
        }
      },
      "cell_type": "code",
      "source": [
        "tf_matrix_ops = tf_basic_ops(a=[[3., 3.]], b = [[2.],[2.]])"
      ],
      "execution_count": 0,
      "outputs": []
    },
    {
      "metadata": {
        "id": "qXDuzURIU_jt",
        "colab_type": "code",
        "colab": {
          "autoexec": {
            "startup": false,
            "wait_interval": 0
          },
          "base_uri": "https://localhost:8080/",
          "height": 35
        },
        "outputId": "07684ecd-fa9c-496c-9769-673fd30fdbf5",
        "executionInfo": {
          "status": "ok",
          "timestamp": 1530997191039,
          "user_tz": 240,
          "elapsed": 387,
          "user": {
            "displayName": "Rahul Remanan",
            "photoUrl": "//lh6.googleusercontent.com/-JV7tr1e65Qo/AAAAAAAAAAI/AAAAAAAAAAw/bjlFLKJeoJw/s50-c-k-no/photo.jpg",
            "userId": "117023126961214813918"
          }
        }
      },
      "cell_type": "code",
      "source": [
        "tf_matrix_ops.tf_mat_mul()"
      ],
      "execution_count": 22,
      "outputs": [
        {
          "output_type": "execute_result",
          "data": {
            "text/plain": [
              "array([[12.]], dtype=float32)"
            ]
          },
          "metadata": {
            "tags": []
          },
          "execution_count": 22
        }
      ]
    },
    {
      "metadata": {
        "id": "VE5WLFWXVKpp",
        "colab_type": "code",
        "colab": {
          "autoexec": {
            "startup": false,
            "wait_interval": 0
          }
        }
      },
      "cell_type": "code",
      "source": [
        ""
      ],
      "execution_count": 0,
      "outputs": []
    }
  ]
}